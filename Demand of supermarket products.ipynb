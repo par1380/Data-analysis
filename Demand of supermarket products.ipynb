{
 "cells": [
  {
   "cell_type": "code",
   "execution_count": 2,
   "metadata": {},
   "outputs": [],
   "source": [
    "import pandas as pd\n",
    "import numpy as np"
   ]
  },
  {
   "cell_type": "code",
   "execution_count": 3,
   "metadata": {},
   "outputs": [
    {
     "name": "stdout",
     "output_type": "stream",
     "text": [
      "             Sales     Discount       Profit\n",
      "count  9994.000000  9994.000000  9994.000000\n",
      "mean   1496.596158     0.226817   374.937082\n",
      "std     577.559036     0.074636   239.932881\n",
      "min     500.000000     0.100000    25.250000\n",
      "25%    1000.000000     0.160000   180.022500\n",
      "50%    1498.000000     0.230000   320.780000\n",
      "75%    1994.750000     0.290000   525.627500\n",
      "max    2500.000000     0.350000  1120.950000\n"
     ]
    }
   ],
   "source": [
    "supermarket_data = pd.read_csv(\"E:\\Parsa\\project of data analytics\\project 2 (تحلیل و پیش بینی تقاضا برای یک محصول)\\Supermart Grocery Sales - Retail Analytics Dataset.csv\")\n",
    "print(supermarket_data.describe())\n"
   ]
  },
  {
   "cell_type": "code",
   "execution_count": 4,
   "metadata": {},
   "outputs": [
    {
     "name": "stdout",
     "output_type": "stream",
     "text": [
      "  Order ID Customer Name          Category      Sub Category         City  \\\n",
      "0      OD1        Harish      Oil & Masala           Masalas      Vellore   \n",
      "1      OD2         Sudha         Beverages     Health Drinks  Krishnagiri   \n",
      "2      OD3       Hussain       Food Grains      Atta & Flour   Perambalur   \n",
      "3      OD4       Jackson  Fruits & Veggies  Fresh Vegetables   Dharmapuri   \n",
      "4      OD5       Ridhesh       Food Grains   Organic Staples         Ooty   \n",
      "\n",
      "   Order Date Region  Sales  Discount  Profit       State  \n",
      "0  11-08-2017  North   1254      0.12  401.28  Tamil Nadu  \n",
      "1  11-08-2017  South    749      0.18  149.80  Tamil Nadu  \n",
      "2  06-12-2017   West   2360      0.21  165.20  Tamil Nadu  \n",
      "3  10-11-2016  South    896      0.25   89.60  Tamil Nadu  \n",
      "4  10-11-2016  South   2355      0.26  918.45  Tamil Nadu  \n"
     ]
    }
   ],
   "source": [
    "print(supermarket_data.head())"
   ]
  },
  {
   "cell_type": "code",
   "execution_count": 5,
   "metadata": {},
   "outputs": [
    {
     "name": "stdout",
     "output_type": "stream",
     "text": [
      "             Category   Region   Sales\n",
      "0              Bakery  Central  448343\n",
      "1              Bakery     East  588241\n",
      "2              Bakery    South  361385\n",
      "3              Bakery     West  714312\n",
      "4           Beverages  Central  501194\n",
      "5           Beverages     East  577206\n",
      "6           Beverages    South  344666\n",
      "7           Beverages     West  662247\n",
      "8   Eggs, Meat & Fish  Central  516642\n",
      "9   Eggs, Meat & Fish     East  677830\n",
      "10  Eggs, Meat & Fish    South  360963\n",
      "11  Eggs, Meat & Fish     West  711966\n",
      "12        Food Grains  Central  463683\n",
      "13        Food Grains     East  598868\n",
      "14        Food Grains    South  353069\n",
      "15        Food Grains     West  699652\n",
      "16   Fruits & Veggies  Central  526507\n",
      "17   Fruits & Veggies     East  564237\n",
      "18   Fruits & Veggies    South  352162\n",
      "19   Fruits & Veggies     West  657821\n",
      "20       Oil & Masala  Central  453293\n",
      "21       Oil & Masala     East  622071\n",
      "22       Oil & Masala    North    1254\n",
      "23       Oil & Masala    South  298859\n",
      "24       Oil & Masala     West  662965\n",
      "25             Snacks  Central  558494\n",
      "26             Snacks     East  619915\n",
      "27             Snacks    South  369357\n",
      "28             Snacks     West  689780\n"
     ]
    }
   ],
   "source": [
    "df = pd.DataFrame(supermarket_data)\n",
    "sales = df.groupby([\"Category\",\"Region\"])[\"Sales\"].sum().reset_index()\n",
    "print(sales)"
   ]
  },
  {
   "cell_type": "code",
   "execution_count": 6,
   "metadata": {},
   "outputs": [
    {
     "data": {
      "text/html": [
       "<div>\n",
       "<style scoped>\n",
       "    .dataframe tbody tr th:only-of-type {\n",
       "        vertical-align: middle;\n",
       "    }\n",
       "\n",
       "    .dataframe tbody tr th {\n",
       "        vertical-align: top;\n",
       "    }\n",
       "\n",
       "    .dataframe thead th {\n",
       "        text-align: right;\n",
       "    }\n",
       "</style>\n",
       "<table border=\"1\" class=\"dataframe\">\n",
       "  <thead>\n",
       "    <tr style=\"text-align: right;\">\n",
       "      <th></th>\n",
       "      <th>Customer Name</th>\n",
       "      <th>Category</th>\n",
       "      <th>Sub Category</th>\n",
       "      <th>City</th>\n",
       "      <th>Order Date</th>\n",
       "      <th>Region</th>\n",
       "      <th>Sales</th>\n",
       "      <th>Discount</th>\n",
       "      <th>Profit</th>\n",
       "    </tr>\n",
       "  </thead>\n",
       "  <tbody>\n",
       "    <tr>\n",
       "      <th>1</th>\n",
       "      <td>Sudha</td>\n",
       "      <td>Beverages</td>\n",
       "      <td>Health Drinks</td>\n",
       "      <td>Krishnagiri</td>\n",
       "      <td>11-08-2017</td>\n",
       "      <td>South</td>\n",
       "      <td>749</td>\n",
       "      <td>0.18</td>\n",
       "      <td>149.80</td>\n",
       "    </tr>\n",
       "    <tr>\n",
       "      <th>2</th>\n",
       "      <td>Hussain</td>\n",
       "      <td>Food Grains</td>\n",
       "      <td>Atta &amp; Flour</td>\n",
       "      <td>Perambalur</td>\n",
       "      <td>06-12-2017</td>\n",
       "      <td>West</td>\n",
       "      <td>2360</td>\n",
       "      <td>0.21</td>\n",
       "      <td>165.20</td>\n",
       "    </tr>\n",
       "    <tr>\n",
       "      <th>3</th>\n",
       "      <td>Jackson</td>\n",
       "      <td>Fruits &amp; Veggies</td>\n",
       "      <td>Fresh Vegetables</td>\n",
       "      <td>Dharmapuri</td>\n",
       "      <td>10-11-2016</td>\n",
       "      <td>South</td>\n",
       "      <td>896</td>\n",
       "      <td>0.25</td>\n",
       "      <td>89.60</td>\n",
       "    </tr>\n",
       "    <tr>\n",
       "      <th>4</th>\n",
       "      <td>Ridhesh</td>\n",
       "      <td>Food Grains</td>\n",
       "      <td>Organic Staples</td>\n",
       "      <td>Ooty</td>\n",
       "      <td>10-11-2016</td>\n",
       "      <td>South</td>\n",
       "      <td>2355</td>\n",
       "      <td>0.26</td>\n",
       "      <td>918.45</td>\n",
       "    </tr>\n",
       "    <tr>\n",
       "      <th>5</th>\n",
       "      <td>Adavan</td>\n",
       "      <td>Food Grains</td>\n",
       "      <td>Organic Staples</td>\n",
       "      <td>Dharmapuri</td>\n",
       "      <td>06-09-2015</td>\n",
       "      <td>West</td>\n",
       "      <td>2305</td>\n",
       "      <td>0.26</td>\n",
       "      <td>322.70</td>\n",
       "    </tr>\n",
       "    <tr>\n",
       "      <th>...</th>\n",
       "      <td>...</td>\n",
       "      <td>...</td>\n",
       "      <td>...</td>\n",
       "      <td>...</td>\n",
       "      <td>...</td>\n",
       "      <td>...</td>\n",
       "      <td>...</td>\n",
       "      <td>...</td>\n",
       "      <td>...</td>\n",
       "    </tr>\n",
       "    <tr>\n",
       "      <th>9989</th>\n",
       "      <td>Sudeep</td>\n",
       "      <td>Eggs, Meat &amp; Fish</td>\n",
       "      <td>Eggs</td>\n",
       "      <td>Madurai</td>\n",
       "      <td>12/24/2015</td>\n",
       "      <td>West</td>\n",
       "      <td>945</td>\n",
       "      <td>0.16</td>\n",
       "      <td>359.10</td>\n",
       "    </tr>\n",
       "    <tr>\n",
       "      <th>9990</th>\n",
       "      <td>Alan</td>\n",
       "      <td>Bakery</td>\n",
       "      <td>Biscuits</td>\n",
       "      <td>Kanyakumari</td>\n",
       "      <td>07-12-2015</td>\n",
       "      <td>West</td>\n",
       "      <td>1195</td>\n",
       "      <td>0.26</td>\n",
       "      <td>71.70</td>\n",
       "    </tr>\n",
       "    <tr>\n",
       "      <th>9991</th>\n",
       "      <td>Ravi</td>\n",
       "      <td>Food Grains</td>\n",
       "      <td>Rice</td>\n",
       "      <td>Bodi</td>\n",
       "      <td>06-06-2017</td>\n",
       "      <td>West</td>\n",
       "      <td>1567</td>\n",
       "      <td>0.16</td>\n",
       "      <td>501.44</td>\n",
       "    </tr>\n",
       "    <tr>\n",
       "      <th>9992</th>\n",
       "      <td>Peer</td>\n",
       "      <td>Oil &amp; Masala</td>\n",
       "      <td>Spices</td>\n",
       "      <td>Pudukottai</td>\n",
       "      <td>10/16/2018</td>\n",
       "      <td>West</td>\n",
       "      <td>1659</td>\n",
       "      <td>0.15</td>\n",
       "      <td>597.24</td>\n",
       "    </tr>\n",
       "    <tr>\n",
       "      <th>9993</th>\n",
       "      <td>Ganesh</td>\n",
       "      <td>Food Grains</td>\n",
       "      <td>Atta &amp; Flour</td>\n",
       "      <td>Tirunelveli</td>\n",
       "      <td>4/17/2018</td>\n",
       "      <td>West</td>\n",
       "      <td>1034</td>\n",
       "      <td>0.28</td>\n",
       "      <td>165.44</td>\n",
       "    </tr>\n",
       "  </tbody>\n",
       "</table>\n",
       "<p>9993 rows × 9 columns</p>\n",
       "</div>"
      ],
      "text/plain": [
       "     Customer Name           Category      Sub Category         City  \\\n",
       "1            Sudha          Beverages     Health Drinks  Krishnagiri   \n",
       "2          Hussain        Food Grains      Atta & Flour   Perambalur   \n",
       "3          Jackson   Fruits & Veggies  Fresh Vegetables   Dharmapuri   \n",
       "4          Ridhesh        Food Grains   Organic Staples         Ooty   \n",
       "5           Adavan        Food Grains   Organic Staples   Dharmapuri   \n",
       "...            ...                ...               ...          ...   \n",
       "9989        Sudeep  Eggs, Meat & Fish              Eggs      Madurai   \n",
       "9990          Alan             Bakery          Biscuits  Kanyakumari   \n",
       "9991          Ravi        Food Grains              Rice         Bodi   \n",
       "9992          Peer       Oil & Masala            Spices   Pudukottai   \n",
       "9993        Ganesh        Food Grains      Atta & Flour  Tirunelveli   \n",
       "\n",
       "      Order Date Region  Sales  Discount  Profit  \n",
       "1     11-08-2017  South    749      0.18  149.80  \n",
       "2     06-12-2017   West   2360      0.21  165.20  \n",
       "3     10-11-2016  South    896      0.25   89.60  \n",
       "4     10-11-2016  South   2355      0.26  918.45  \n",
       "5     06-09-2015   West   2305      0.26  322.70  \n",
       "...          ...    ...    ...       ...     ...  \n",
       "9989  12/24/2015   West    945      0.16  359.10  \n",
       "9990  07-12-2015   West   1195      0.26   71.70  \n",
       "9991  06-06-2017   West   1567      0.16  501.44  \n",
       "9992  10/16/2018   West   1659      0.15  597.24  \n",
       "9993   4/17/2018   West   1034      0.28  165.44  \n",
       "\n",
       "[9993 rows x 9 columns]"
      ]
     },
     "execution_count": 6,
     "metadata": {},
     "output_type": "execute_result"
    }
   ],
   "source": [
    "df = df[df[\"Region\"]!=\"North\"]\n",
    "df.drop([\"State\",\"Order ID\"], axis=1)"
   ]
  },
  {
   "cell_type": "code",
   "execution_count": 7,
   "metadata": {},
   "outputs": [
    {
     "name": "stdout",
     "output_type": "stream",
     "text": [
      "     Order ID Customer Name           Category      Sub Category         City  \\\n",
      "1         OD2         Sudha          Beverages     Health Drinks  Krishnagiri   \n",
      "2         OD3       Hussain        Food Grains      Atta & Flour   Perambalur   \n",
      "3         OD4       Jackson   Fruits & Veggies  Fresh Vegetables   Dharmapuri   \n",
      "4         OD5       Ridhesh        Food Grains   Organic Staples         Ooty   \n",
      "5         OD6        Adavan        Food Grains   Organic Staples   Dharmapuri   \n",
      "...       ...           ...                ...               ...          ...   \n",
      "9989   OD9990        Sudeep  Eggs, Meat & Fish              Eggs      Madurai   \n",
      "9990   OD9991          Alan             Bakery          Biscuits  Kanyakumari   \n",
      "9991   OD9992          Ravi        Food Grains              Rice         Bodi   \n",
      "9992   OD9993          Peer       Oil & Masala            Spices   Pudukottai   \n",
      "9993   OD9994        Ganesh        Food Grains      Atta & Flour  Tirunelveli   \n",
      "\n",
      "      Order Date Region  Sales  Discount  Profit       State       date  \\\n",
      "1     11-08-2017  South    749      0.18  149.80  Tamil Nadu 2017-11-08   \n",
      "2     06-12-2017   West   2360      0.21  165.20  Tamil Nadu 2017-06-12   \n",
      "3     10-11-2016  South    896      0.25   89.60  Tamil Nadu 2016-10-11   \n",
      "4     10-11-2016  South   2355      0.26  918.45  Tamil Nadu 2016-10-11   \n",
      "5     06-09-2015   West   2305      0.26  322.70  Tamil Nadu 2015-06-09   \n",
      "...          ...    ...    ...       ...     ...         ...        ...   \n",
      "9989  12/24/2015   West    945      0.16  359.10  Tamil Nadu 2015-12-24   \n",
      "9990  07-12-2015   West   1195      0.26   71.70  Tamil Nadu 2015-07-12   \n",
      "9991  06-06-2017   West   1567      0.16  501.44  Tamil Nadu 2017-06-06   \n",
      "9992  10/16/2018   West   1659      0.15  597.24  Tamil Nadu 2018-10-16   \n",
      "9993   4/17/2018   West   1034      0.28  165.44  Tamil Nadu 2018-04-17   \n",
      "\n",
      "      month of date  Year  \n",
      "1                11  2017  \n",
      "2                 6  2017  \n",
      "3                10  2016  \n",
      "4                10  2016  \n",
      "5                 6  2015  \n",
      "...             ...   ...  \n",
      "9989             12  2015  \n",
      "9990              7  2015  \n",
      "9991              6  2017  \n",
      "9992             10  2018  \n",
      "9993              4  2018  \n",
      "\n",
      "[9993 rows x 14 columns]\n"
     ]
    }
   ],
   "source": [
    "from datetime import datetime\n",
    "\n",
    "\n",
    "df_new = df.copy()\n",
    "df_new[\"date\"] = df_new[\"Order Date\"].str.replace(\"/\",\"-\")\n",
    "\n",
    "df_new[\"date\"] = pd.to_datetime(df_new[\"date\"])\n",
    "\n",
    "\n",
    "df_new[\"month of date\"] = df_new[\"date\"].dt.month\n",
    "df_new[\"Year\"] = df_new[\"date\"].dt.year\n",
    "print(df_new)\n",
    "\n",
    "\n",
    "\n",
    "\n",
    "\n",
    "\n",
    "\n",
    "\n",
    "\n",
    "\n",
    "\n",
    "\n"
   ]
  },
  {
   "cell_type": "code",
   "execution_count": 8,
   "metadata": {},
   "outputs": [
    {
     "name": "stdout",
     "output_type": "stream",
     "text": [
      "1       11\n",
      "2        6\n",
      "3       10\n",
      "4       10\n",
      "5        6\n",
      "        ..\n",
      "9989    12\n",
      "9990     7\n",
      "9991     6\n",
      "9992    10\n",
      "9993     4\n",
      "Name: month of date, Length: 9993, dtype: int32\n"
     ]
    }
   ],
   "source": [
    "\n",
    "print(df_new[\"month of date\"])"
   ]
  },
  {
   "cell_type": "code",
   "execution_count": 9,
   "metadata": {},
   "outputs": [
    {
     "name": "stdout",
     "output_type": "stream",
     "text": [
      "741      1\n",
      "6149     1\n",
      "6145     1\n",
      "3164     1\n",
      "8623     1\n",
      "        ..\n",
      "1472    12\n",
      "7533    12\n",
      "3688    12\n",
      "1479    12\n",
      "9003    12\n",
      "Name: month of date, Length: 9993, dtype: int32\n"
     ]
    }
   ],
   "source": [
    "print(df_new[\"month of date\"].sort_values())\n"
   ]
  },
  {
   "cell_type": "code",
   "execution_count": 10,
   "metadata": {},
   "outputs": [],
   "source": [
    "season_map = {1:\"winter\",2:\"winter\",3:\"winter\",4:\"spring\",5:\"spring\",6:\"spring\",7:\"summer\",8:\"summer\",9:\"summer\",10:\"fall\",11:\"fall\",12:\"fall\"}\n",
    "df_new[\"season\"] = df_new[\"month of date\"].map(season_map)\n"
   ]
  },
  {
   "cell_type": "code",
   "execution_count": 11,
   "metadata": {},
   "outputs": [
    {
     "data": {
      "application/vnd.plotly.v1+json": {
       "config": {
        "plotlyServerURL": "https://plot.ly"
       },
       "data": [
        {
         "alignmentgroup": "True",
         "customdata": [
          [
           0.24578947368421053
          ],
          [
           0.24428571428571427
          ],
          [
           0.23
          ],
          [
           0.22478260869565217
          ],
          [
           0.24628571428571427
          ],
          [
           0.23473684210526316
          ],
          [
           0.22121212121212122
          ]
         ],
         "hovertemplate": "season=fall<br>Year=2015<br>Region=Central<br>Category=%{x}<br>Sales=%{y}<br>Discount=%{customdata[0]}<extra></extra>",
         "legendgroup": "fall",
         "marker": {
          "color": "#636efa",
          "pattern": {
           "shape": ""
          }
         },
         "name": "fall",
         "offsetgroup": "fall",
         "orientation": "v",
         "showlegend": true,
         "textposition": "auto",
         "type": "bar",
         "x": [
          "Bakery",
          "Beverages",
          "Eggs, Meat & Fish",
          "Food Grains",
          "Fruits & Veggies",
          "Oil & Masala",
          "Snacks"
         ],
         "xaxis": "x13",
         "y": [
          28591,
          40979,
          39975,
          31644,
          53925,
          26427,
          48982
         ],
         "yaxis": "y13"
        },
        {
         "alignmentgroup": "True",
         "customdata": [
          [
           0.2265625
          ],
          [
           0.21291666666666667
          ],
          [
           0.2555263157894737
          ],
          [
           0.23285714285714285
          ],
          [
           0.23478260869565218
          ],
          [
           0.24517241379310345
          ],
          [
           0.24482758620689654
          ]
         ],
         "hovertemplate": "season=fall<br>Year=2015<br>Region=East<br>Category=%{x}<br>Sales=%{y}<br>Discount=%{customdata[0]}<extra></extra>",
         "legendgroup": "fall",
         "marker": {
          "color": "#636efa",
          "pattern": {
           "shape": ""
          }
         },
         "name": "fall",
         "offsetgroup": "fall",
         "orientation": "v",
         "showlegend": false,
         "textposition": "auto",
         "type": "bar",
         "x": [
          "Bakery",
          "Beverages",
          "Eggs, Meat & Fish",
          "Food Grains",
          "Fruits & Veggies",
          "Oil & Masala",
          "Snacks"
         ],
         "xaxis": "x14",
         "y": [
          49032,
          38247,
          58727,
          29804,
          31940,
          44035,
          40082
         ],
         "yaxis": "y14"
        },
        {
         "alignmentgroup": "True",
         "customdata": [
          [
           0.21529411764705883
          ],
          [
           0.245
          ],
          [
           0.21
          ],
          [
           0.24411764705882355
          ],
          [
           0.2316666666666667
          ],
          [
           0.22636363636363638
          ],
          [
           0.19
          ]
         ],
         "hovertemplate": "season=fall<br>Year=2015<br>Region=South<br>Category=%{x}<br>Sales=%{y}<br>Discount=%{customdata[0]}<extra></extra>",
         "legendgroup": "fall",
         "marker": {
          "color": "#636efa",
          "pattern": {
           "shape": ""
          }
         },
         "name": "fall",
         "offsetgroup": "fall",
         "orientation": "v",
         "showlegend": false,
         "textposition": "auto",
         "type": "bar",
         "x": [
          "Bakery",
          "Beverages",
          "Eggs, Meat & Fish",
          "Food Grains",
          "Fruits & Veggies",
          "Oil & Masala",
          "Snacks"
         ],
         "xaxis": "x15",
         "y": [
          26651,
          15101,
          27116,
          23924,
          14624,
          20298,
          28993
         ],
         "yaxis": "y15"
        },
        {
         "alignmentgroup": "True",
         "customdata": [
          [
           0.20829787234042554
          ],
          [
           0.22216216216216217
          ],
          [
           0.21761904761904763
          ],
          [
           0.235609756097561
          ],
          [
           0.2287878787878788
          ],
          [
           0.20774193548387096
          ],
          [
           0.22525
          ]
         ],
         "hovertemplate": "season=fall<br>Year=2015<br>Region=West<br>Category=%{x}<br>Sales=%{y}<br>Discount=%{customdata[0]}<extra></extra>",
         "legendgroup": "fall",
         "marker": {
          "color": "#636efa",
          "pattern": {
           "shape": ""
          }
         },
         "name": "fall",
         "offsetgroup": "fall",
         "orientation": "v",
         "showlegend": false,
         "textposition": "auto",
         "type": "bar",
         "x": [
          "Bakery",
          "Beverages",
          "Eggs, Meat & Fish",
          "Food Grains",
          "Fruits & Veggies",
          "Oil & Masala",
          "Snacks"
         ],
         "xaxis": "x16",
         "y": [
          65662,
          62641,
          63345,
          59794,
          49255,
          47197,
          65993
         ],
         "yaxis": "y16"
        },
        {
         "alignmentgroup": "True",
         "customdata": [
          [
           0.22730769230769232
          ],
          [
           0.23722222222222225
          ],
          [
           0.22535714285714287
          ],
          [
           0.2412
          ],
          [
           0.22097560975609756
          ],
          [
           0.20961538461538462
          ],
          [
           0.23249999999999998
          ]
         ],
         "hovertemplate": "season=fall<br>Year=2016<br>Region=Central<br>Category=%{x}<br>Sales=%{y}<br>Discount=%{customdata[0]}<extra></extra>",
         "legendgroup": "fall",
         "marker": {
          "color": "#636efa",
          "pattern": {
           "shape": ""
          }
         },
         "name": "fall",
         "offsetgroup": "fall",
         "orientation": "v",
         "showlegend": false,
         "textposition": "auto",
         "type": "bar",
         "x": [
          "Bakery",
          "Beverages",
          "Eggs, Meat & Fish",
          "Food Grains",
          "Fruits & Veggies",
          "Oil & Masala",
          "Snacks"
         ],
         "xaxis": "x9",
         "y": [
          38534,
          26881,
          44363,
          35602,
          60979,
          32894,
          40053
         ],
         "yaxis": "y9"
        },
        {
         "alignmentgroup": "True",
         "customdata": [
          [
           0.23838709677419354
          ],
          [
           0.23303030303030303
          ],
          [
           0.20804347826086958
          ],
          [
           0.2412
          ],
          [
           0.21575757575757576
          ],
          [
           0.23607142857142857
          ],
          [
           0.21423076923076925
          ]
         ],
         "hovertemplate": "season=fall<br>Year=2016<br>Region=East<br>Category=%{x}<br>Sales=%{y}<br>Discount=%{customdata[0]}<extra></extra>",
         "legendgroup": "fall",
         "marker": {
          "color": "#636efa",
          "pattern": {
           "shape": ""
          }
         },
         "name": "fall",
         "offsetgroup": "fall",
         "orientation": "v",
         "showlegend": false,
         "textposition": "auto",
         "type": "bar",
         "x": [
          "Bakery",
          "Beverages",
          "Eggs, Meat & Fish",
          "Food Grains",
          "Fruits & Veggies",
          "Oil & Masala",
          "Snacks"
         ],
         "xaxis": "x10",
         "y": [
          46980,
          53068,
          72334,
          37787,
          50483,
          41298,
          39043
         ],
         "yaxis": "y10"
        },
        {
         "alignmentgroup": "True",
         "customdata": [
          [
           0.2423529411764706
          ],
          [
           0.2507692307692308
          ],
          [
           0.26
          ],
          [
           0.22400000000000003
          ],
          [
           0.231875
          ],
          [
           0.22866666666666668
          ],
          [
           0.20550000000000002
          ]
         ],
         "hovertemplate": "season=fall<br>Year=2016<br>Region=South<br>Category=%{x}<br>Sales=%{y}<br>Discount=%{customdata[0]}<extra></extra>",
         "legendgroup": "fall",
         "marker": {
          "color": "#636efa",
          "pattern": {
           "shape": ""
          }
         },
         "name": "fall",
         "offsetgroup": "fall",
         "orientation": "v",
         "showlegend": false,
         "textposition": "auto",
         "type": "bar",
         "x": [
          "Bakery",
          "Beverages",
          "Eggs, Meat & Fish",
          "Food Grains",
          "Fruits & Veggies",
          "Oil & Masala",
          "Snacks"
         ],
         "xaxis": "x11",
         "y": [
          28535,
          20143,
          18740,
          33155,
          22578,
          20919,
          26328
         ],
         "yaxis": "y11"
        },
        {
         "alignmentgroup": "True",
         "customdata": [
          [
           0.21883720930232559
          ],
          [
           0.23714285714285713
          ],
          [
           0.21386363636363637
          ],
          [
           0.23418604651162792
          ],
          [
           0.22297872340425534
          ],
          [
           0.23709677419354838
          ],
          [
           0.2051219512195122
          ]
         ],
         "hovertemplate": "season=fall<br>Year=2016<br>Region=West<br>Category=%{x}<br>Sales=%{y}<br>Discount=%{customdata[0]}<extra></extra>",
         "legendgroup": "fall",
         "marker": {
          "color": "#636efa",
          "pattern": {
           "shape": ""
          }
         },
         "name": "fall",
         "offsetgroup": "fall",
         "orientation": "v",
         "showlegend": false,
         "textposition": "auto",
         "type": "bar",
         "x": [
          "Bakery",
          "Beverages",
          "Eggs, Meat & Fish",
          "Food Grains",
          "Fruits & Veggies",
          "Oil & Masala",
          "Snacks"
         ],
         "xaxis": "x12",
         "y": [
          64197,
          41314,
          62416,
          62838,
          72042,
          43310,
          62790
         ],
         "yaxis": "y12"
        },
        {
         "alignmentgroup": "True",
         "customdata": [
          [
           0.22333333333333336
          ],
          [
           0.20925925925925928
          ],
          [
           0.23142857142857146
          ],
          [
           0.21114285714285713
          ],
          [
           0.2596551724137931
          ],
          [
           0.2394285714285714
          ],
          [
           0.20866666666666667
          ]
         ],
         "hovertemplate": "season=fall<br>Year=2017<br>Region=Central<br>Category=%{x}<br>Sales=%{y}<br>Discount=%{customdata[0]}<extra></extra>",
         "legendgroup": "fall",
         "marker": {
          "color": "#636efa",
          "pattern": {
           "shape": ""
          }
         },
         "name": "fall",
         "offsetgroup": "fall",
         "orientation": "v",
         "showlegend": false,
         "textposition": "auto",
         "type": "bar",
         "x": [
          "Bakery",
          "Beverages",
          "Eggs, Meat & Fish",
          "Food Grains",
          "Fruits & Veggies",
          "Oil & Masala",
          "Snacks"
         ],
         "xaxis": "x5",
         "y": [
          36994,
          38209,
          48731,
          52218,
          40550,
          55818,
          43138
         ],
         "yaxis": "y5"
        },
        {
         "alignmentgroup": "True",
         "customdata": [
          [
           0.23105263157894734
          ],
          [
           0.24656250000000002
          ],
          [
           0.22972222222222222
          ],
          [
           0.21921052631578947
          ],
          [
           0.25117647058823533
          ],
          [
           0.22096774193548388
          ],
          [
           0.20795918367346938
          ]
         ],
         "hovertemplate": "season=fall<br>Year=2017<br>Region=East<br>Category=%{x}<br>Sales=%{y}<br>Discount=%{customdata[0]}<extra></extra>",
         "legendgroup": "fall",
         "marker": {
          "color": "#636efa",
          "pattern": {
           "shape": ""
          }
         },
         "name": "fall",
         "offsetgroup": "fall",
         "orientation": "v",
         "showlegend": false,
         "textposition": "auto",
         "type": "bar",
         "x": [
          "Bakery",
          "Beverages",
          "Eggs, Meat & Fish",
          "Food Grains",
          "Fruits & Veggies",
          "Oil & Masala",
          "Snacks"
         ],
         "xaxis": "x6",
         "y": [
          55040,
          46865,
          54398,
          58827,
          47303,
          53117,
          68417
         ],
         "yaxis": "y6"
        },
        {
         "alignmentgroup": "True",
         "customdata": [
          [
           0.24428571428571427
          ],
          [
           0.2378947368421053
          ],
          [
           0.23500000000000001
          ],
          [
           0.2322727272727273
          ],
          [
           0.19133333333333333
          ],
          [
           0.19941176470588237
          ],
          [
           0.22428571428571428
          ]
         ],
         "hovertemplate": "season=fall<br>Year=2017<br>Region=South<br>Category=%{x}<br>Sales=%{y}<br>Discount=%{customdata[0]}<extra></extra>",
         "legendgroup": "fall",
         "marker": {
          "color": "#636efa",
          "pattern": {
           "shape": ""
          }
         },
         "name": "fall",
         "offsetgroup": "fall",
         "orientation": "v",
         "showlegend": false,
         "textposition": "auto",
         "type": "bar",
         "x": [
          "Bakery",
          "Beverages",
          "Eggs, Meat & Fish",
          "Food Grains",
          "Fruits & Veggies",
          "Oil & Masala",
          "Snacks"
         ],
         "xaxis": "x7",
         "y": [
          29903,
          30041,
          20392,
          30234,
          24502,
          29242,
          32529
         ],
         "yaxis": "y7"
        },
        {
         "alignmentgroup": "True",
         "customdata": [
          [
           0.2113953488372093
          ],
          [
           0.235
          ],
          [
           0.248
          ],
          [
           0.22127272727272726
          ],
          [
           0.23969696969696971
          ],
          [
           0.21981818181818183
          ],
          [
           0.2344736842105263
          ]
         ],
         "hovertemplate": "season=fall<br>Year=2017<br>Region=West<br>Category=%{x}<br>Sales=%{y}<br>Discount=%{customdata[0]}<extra></extra>",
         "legendgroup": "fall",
         "marker": {
          "color": "#636efa",
          "pattern": {
           "shape": ""
          }
         },
         "name": "fall",
         "offsetgroup": "fall",
         "orientation": "v",
         "showlegend": false,
         "textposition": "auto",
         "type": "bar",
         "x": [
          "Bakery",
          "Beverages",
          "Eggs, Meat & Fish",
          "Food Grains",
          "Fruits & Veggies",
          "Oil & Masala",
          "Snacks"
         ],
         "xaxis": "x8",
         "y": [
          62904,
          78000,
          69717,
          81819,
          45779,
          85932,
          56275
         ],
         "yaxis": "y8"
        },
        {
         "alignmentgroup": "True",
         "customdata": [
          [
           0.228125
          ],
          [
           0.2375
          ],
          [
           0.2346666666666667
          ],
          [
           0.21923076923076926
          ],
          [
           0.2174468085106383
          ],
          [
           0.19333333333333333
          ],
          [
           0.222
          ]
         ],
         "hovertemplate": "season=fall<br>Year=2018<br>Region=Central<br>Category=%{x}<br>Sales=%{y}<br>Discount=%{customdata[0]}<extra></extra>",
         "legendgroup": "fall",
         "marker": {
          "color": "#636efa",
          "pattern": {
           "shape": ""
          }
         },
         "name": "fall",
         "offsetgroup": "fall",
         "orientation": "v",
         "showlegend": false,
         "textposition": "auto",
         "type": "bar",
         "x": [
          "Bakery",
          "Beverages",
          "Eggs, Meat & Fish",
          "Food Grains",
          "Fruits & Veggies",
          "Oil & Masala",
          "Snacks"
         ],
         "xaxis": "x",
         "y": [
          42138,
          68719,
          69665,
          58695,
          68659,
          33543,
          63904
         ],
         "yaxis": "y"
        },
        {
         "alignmentgroup": "True",
         "customdata": [
          [
           0.2284
          ],
          [
           0.22250000000000003
          ],
          [
           0.23522727272727273
          ],
          [
           0.23055555555555554
          ],
          [
           0.23019607843137255
          ],
          [
           0.22
          ],
          [
           0.23
          ]
         ],
         "hovertemplate": "season=fall<br>Year=2018<br>Region=East<br>Category=%{x}<br>Sales=%{y}<br>Discount=%{customdata[0]}<extra></extra>",
         "legendgroup": "fall",
         "marker": {
          "color": "#636efa",
          "pattern": {
           "shape": ""
          }
         },
         "name": "fall",
         "offsetgroup": "fall",
         "orientation": "v",
         "showlegend": false,
         "textposition": "auto",
         "type": "bar",
         "x": [
          "Bakery",
          "Beverages",
          "Eggs, Meat & Fish",
          "Food Grains",
          "Fruits & Veggies",
          "Oil & Masala",
          "Snacks"
         ],
         "xaxis": "x2",
         "y": [
          75165,
          70165,
          66378,
          75925,
          70974,
          73270,
          79367
         ],
         "yaxis": "y2"
        },
        {
         "alignmentgroup": "True",
         "customdata": [
          [
           0.22137931034482758
          ],
          [
           0.25633333333333336
          ],
          [
           0.2144
          ],
          [
           0.23966666666666667
          ],
          [
           0.23766666666666666
          ],
          [
           0.21517241379310345
          ],
          [
           0.227
          ]
         ],
         "hovertemplate": "season=fall<br>Year=2018<br>Region=South<br>Category=%{x}<br>Sales=%{y}<br>Discount=%{customdata[0]}<extra></extra>",
         "legendgroup": "fall",
         "marker": {
          "color": "#636efa",
          "pattern": {
           "shape": ""
          }
         },
         "name": "fall",
         "offsetgroup": "fall",
         "orientation": "v",
         "showlegend": false,
         "textposition": "auto",
         "type": "bar",
         "x": [
          "Bakery",
          "Beverages",
          "Eggs, Meat & Fish",
          "Food Grains",
          "Fruits & Veggies",
          "Oil & Masala",
          "Snacks"
         ],
         "xaxis": "x3",
         "y": [
          38820,
          44715,
          39259,
          47221,
          48552,
          41292,
          45688
         ],
         "yaxis": "y3"
        },
        {
         "alignmentgroup": "True",
         "customdata": [
          [
           0.2147619047619048
          ],
          [
           0.2326666666666667
          ],
          [
           0.21327868852459017
          ],
          [
           0.2384
          ],
          [
           0.21301886792452832
          ],
          [
           0.2120689655172414
          ],
          [
           0.22081632653061226
          ]
         ],
         "hovertemplate": "season=fall<br>Year=2018<br>Region=West<br>Category=%{x}<br>Sales=%{y}<br>Discount=%{customdata[0]}<extra></extra>",
         "legendgroup": "fall",
         "marker": {
          "color": "#636efa",
          "pattern": {
           "shape": ""
          }
         },
         "name": "fall",
         "offsetgroup": "fall",
         "orientation": "v",
         "showlegend": false,
         "textposition": "auto",
         "type": "bar",
         "x": [
          "Bakery",
          "Beverages",
          "Eggs, Meat & Fish",
          "Food Grains",
          "Fruits & Veggies",
          "Oil & Masala",
          "Snacks"
         ],
         "xaxis": "x4",
         "y": [
          101279,
          93482,
          94841,
          70880,
          75250,
          83222,
          73485
         ],
         "yaxis": "y4"
        },
        {
         "alignmentgroup": "True",
         "customdata": [
          [
           0.24375
          ],
          [
           0.23083333333333333
          ],
          [
           0.2141666666666667
          ],
          [
           0.22363636363636363
          ],
          [
           0.22
          ],
          [
           0.24
          ],
          [
           0.21000000000000002
          ]
         ],
         "hovertemplate": "season=spring<br>Year=2015<br>Region=Central<br>Category=%{x}<br>Sales=%{y}<br>Discount=%{customdata[0]}<extra></extra>",
         "legendgroup": "spring",
         "marker": {
          "color": "#EF553B",
          "pattern": {
           "shape": ""
          }
         },
         "name": "spring",
         "offsetgroup": "spring",
         "orientation": "v",
         "showlegend": true,
         "textposition": "auto",
         "type": "bar",
         "x": [
          "Bakery",
          "Beverages",
          "Eggs, Meat & Fish",
          "Food Grains",
          "Fruits & Veggies",
          "Oil & Masala",
          "Snacks"
         ],
         "xaxis": "x13",
         "y": [
          23817,
          15932,
          21261,
          14097,
          18138,
          18405,
          33367
         ],
         "yaxis": "y13"
        },
        {
         "alignmentgroup": "True",
         "customdata": [
          [
           0.21538461538461537
          ],
          [
           0.251875
          ],
          [
           0.23578947368421055
          ],
          [
           0.21181818181818182
          ],
          [
           0.26916666666666667
          ],
          [
           0.1895238095238095
          ],
          [
           0.23705882352941177
          ]
         ],
         "hovertemplate": "season=spring<br>Year=2015<br>Region=East<br>Category=%{x}<br>Sales=%{y}<br>Discount=%{customdata[0]}<extra></extra>",
         "legendgroup": "spring",
         "marker": {
          "color": "#EF553B",
          "pattern": {
           "shape": ""
          }
         },
         "name": "spring",
         "offsetgroup": "spring",
         "orientation": "v",
         "showlegend": false,
         "textposition": "auto",
         "type": "bar",
         "x": [
          "Bakery",
          "Beverages",
          "Eggs, Meat & Fish",
          "Food Grains",
          "Fruits & Veggies",
          "Oil & Masala",
          "Snacks"
         ],
         "xaxis": "x14",
         "y": [
          20738,
          20057,
          24775,
          15562,
          19173,
          34783,
          24449
         ],
         "yaxis": "y14"
        },
        {
         "alignmentgroup": "True",
         "customdata": [
          [
           0.22428571428571428
          ],
          [
           0.23199999999999998
          ],
          [
           0.2681818181818182
          ],
          [
           0.25625000000000003
          ],
          [
           0.23166666666666666
          ],
          [
           0.24055555555555555
          ],
          [
           0.20777777777777778
          ]
         ],
         "hovertemplate": "season=spring<br>Year=2015<br>Region=South<br>Category=%{x}<br>Sales=%{y}<br>Discount=%{customdata[0]}<extra></extra>",
         "legendgroup": "spring",
         "marker": {
          "color": "#EF553B",
          "pattern": {
           "shape": ""
          }
         },
         "name": "spring",
         "offsetgroup": "spring",
         "orientation": "v",
         "showlegend": false,
         "textposition": "auto",
         "type": "bar",
         "x": [
          "Bakery",
          "Beverages",
          "Eggs, Meat & Fish",
          "Food Grains",
          "Fruits & Veggies",
          "Oil & Masala",
          "Snacks"
         ],
         "xaxis": "x15",
         "y": [
          11302,
          13288,
          16295,
          12877,
          15961,
          26633,
          14450
         ],
         "yaxis": "y15"
        },
        {
         "alignmentgroup": "True",
         "customdata": [
          [
           0.24461538461538462
          ],
          [
           0.26875
          ],
          [
           0.19192307692307692
          ],
          [
           0.23857142857142857
          ],
          [
           0.22055555555555553
          ],
          [
           0.2327777777777778
          ],
          [
           0.21857142857142858
          ]
         ],
         "hovertemplate": "season=spring<br>Year=2015<br>Region=West<br>Category=%{x}<br>Sales=%{y}<br>Discount=%{customdata[0]}<extra></extra>",
         "legendgroup": "spring",
         "marker": {
          "color": "#EF553B",
          "pattern": {
           "shape": ""
          }
         },
         "name": "spring",
         "offsetgroup": "spring",
         "orientation": "v",
         "showlegend": false,
         "textposition": "auto",
         "type": "bar",
         "x": [
          "Bakery",
          "Beverages",
          "Eggs, Meat & Fish",
          "Food Grains",
          "Fruits & Veggies",
          "Oil & Masala",
          "Snacks"
         ],
         "xaxis": "x16",
         "y": [
          16525,
          23414,
          37934,
          10844,
          29555,
          25025,
          14928
         ],
         "yaxis": "y16"
        },
        {
         "alignmentgroup": "True",
         "customdata": [
          [
           0.22066666666666668
          ],
          [
           0.22884615384615387
          ],
          [
           0.2683333333333333
          ],
          [
           0.21466666666666667
          ],
          [
           0.23583333333333334
          ],
          [
           0.2608333333333333
          ],
          [
           0.2375
          ]
         ],
         "hovertemplate": "season=spring<br>Year=2016<br>Region=Central<br>Category=%{x}<br>Sales=%{y}<br>Discount=%{customdata[0]}<extra></extra>",
         "legendgroup": "spring",
         "marker": {
          "color": "#EF553B",
          "pattern": {
           "shape": ""
          }
         },
         "name": "spring",
         "offsetgroup": "spring",
         "orientation": "v",
         "showlegend": false,
         "textposition": "auto",
         "type": "bar",
         "x": [
          "Bakery",
          "Beverages",
          "Eggs, Meat & Fish",
          "Food Grains",
          "Fruits & Veggies",
          "Oil & Masala",
          "Snacks"
         ],
         "xaxis": "x9",
         "y": [
          24546,
          39138,
          22045,
          21177,
          16966,
          17951,
          25623
         ],
         "yaxis": "y9"
        },
        {
         "alignmentgroup": "True",
         "customdata": [
          [
           0.2325
          ],
          [
           0.21105263157894735
          ],
          [
           0.24555555555555555
          ],
          [
           0.23583333333333334
          ],
          [
           0.24333333333333332
          ],
          [
           0.2082608695652174
          ],
          [
           0.20600000000000002
          ]
         ],
         "hovertemplate": "season=spring<br>Year=2016<br>Region=East<br>Category=%{x}<br>Sales=%{y}<br>Discount=%{customdata[0]}<extra></extra>",
         "legendgroup": "spring",
         "marker": {
          "color": "#EF553B",
          "pattern": {
           "shape": ""
          }
         },
         "name": "spring",
         "offsetgroup": "spring",
         "orientation": "v",
         "showlegend": false,
         "textposition": "auto",
         "type": "bar",
         "x": [
          "Bakery",
          "Beverages",
          "Eggs, Meat & Fish",
          "Food Grains",
          "Fruits & Veggies",
          "Oil & Masala",
          "Snacks"
         ],
         "xaxis": "x10",
         "y": [
          26308,
          24547,
          24903,
          20262,
          22193,
          38716,
          28580
         ],
         "yaxis": "y10"
        },
        {
         "alignmentgroup": "True",
         "customdata": [
          [
           0.2288888888888889
          ],
          [
           0.23466666666666666
          ],
          [
           0.2253846153846154
          ],
          [
           0.20600000000000002
          ],
          [
           0.2525
          ],
          [
           0.23571428571428574
          ],
          [
           0.22307692307692306
          ]
         ],
         "hovertemplate": "season=spring<br>Year=2016<br>Region=South<br>Category=%{x}<br>Sales=%{y}<br>Discount=%{customdata[0]}<extra></extra>",
         "legendgroup": "spring",
         "marker": {
          "color": "#EF553B",
          "pattern": {
           "shape": ""
          }
         },
         "name": "spring",
         "offsetgroup": "spring",
         "orientation": "v",
         "showlegend": false,
         "textposition": "auto",
         "type": "bar",
         "x": [
          "Bakery",
          "Beverages",
          "Eggs, Meat & Fish",
          "Food Grains",
          "Fruits & Veggies",
          "Oil & Masala",
          "Snacks"
         ],
         "xaxis": "x11",
         "y": [
          28866,
          23624,
          23361,
          13422,
          18345,
          10180,
          16565
         ],
         "yaxis": "y11"
        },
        {
         "alignmentgroup": "True",
         "customdata": [
          [
           0.210625
          ],
          [
           0.22125
          ],
          [
           0.23833333333333334
          ],
          [
           0.2331578947368421
          ],
          [
           0.240625
          ],
          [
           0.22478260869565217
          ],
          [
           0.25846153846153846
          ]
         ],
         "hovertemplate": "season=spring<br>Year=2016<br>Region=West<br>Category=%{x}<br>Sales=%{y}<br>Discount=%{customdata[0]}<extra></extra>",
         "legendgroup": "spring",
         "marker": {
          "color": "#EF553B",
          "pattern": {
           "shape": ""
          }
         },
         "name": "spring",
         "offsetgroup": "spring",
         "orientation": "v",
         "showlegend": false,
         "textposition": "auto",
         "type": "bar",
         "x": [
          "Bakery",
          "Beverages",
          "Eggs, Meat & Fish",
          "Food Grains",
          "Fruits & Veggies",
          "Oil & Masala",
          "Snacks"
         ],
         "xaxis": "x12",
         "y": [
          27739,
          22732,
          24458,
          32859,
          21595,
          34016,
          14665
         ],
         "yaxis": "y12"
        },
        {
         "alignmentgroup": "True",
         "customdata": [
          [
           0.23176470588235293
          ],
          [
           0.24285714285714283
          ],
          [
           0.22785714285714284
          ],
          [
           0.23636363636363636
          ],
          [
           0.23055555555555557
          ],
          [
           0.24625
          ],
          [
           0.2240909090909091
          ]
         ],
         "hovertemplate": "season=spring<br>Year=2017<br>Region=Central<br>Category=%{x}<br>Sales=%{y}<br>Discount=%{customdata[0]}<extra></extra>",
         "legendgroup": "spring",
         "marker": {
          "color": "#EF553B",
          "pattern": {
           "shape": ""
          }
         },
         "name": "spring",
         "offsetgroup": "spring",
         "orientation": "v",
         "showlegend": false,
         "textposition": "auto",
         "type": "bar",
         "x": [
          "Bakery",
          "Beverages",
          "Eggs, Meat & Fish",
          "Food Grains",
          "Fruits & Veggies",
          "Oil & Masala",
          "Snacks"
         ],
         "xaxis": "x5",
         "y": [
          24841,
          30171,
          22684,
          13390,
          27128,
          38714,
          31643
         ],
         "yaxis": "y5"
        },
        {
         "alignmentgroup": "True",
         "customdata": [
          [
           0.2412
          ],
          [
           0.22424242424242424
          ],
          [
           0.22
          ],
          [
           0.255
          ],
          [
           0.24884615384615383
          ],
          [
           0.22416666666666665
          ],
          [
           0.22933333333333333
          ]
         ],
         "hovertemplate": "season=spring<br>Year=2017<br>Region=East<br>Category=%{x}<br>Sales=%{y}<br>Discount=%{customdata[0]}<extra></extra>",
         "legendgroup": "spring",
         "marker": {
          "color": "#EF553B",
          "pattern": {
           "shape": ""
          }
         },
         "name": "spring",
         "offsetgroup": "spring",
         "orientation": "v",
         "showlegend": false,
         "textposition": "auto",
         "type": "bar",
         "x": [
          "Bakery",
          "Beverages",
          "Eggs, Meat & Fish",
          "Food Grains",
          "Fruits & Veggies",
          "Oil & Masala",
          "Snacks"
         ],
         "xaxis": "x6",
         "y": [
          30624,
          49257,
          54564,
          40080,
          34207,
          32825,
          40580
         ],
         "yaxis": "y6"
        },
        {
         "alignmentgroup": "True",
         "customdata": [
          [
           0.179
          ],
          [
           0.23857142857142857
          ],
          [
           0.2122222222222222
          ],
          [
           0.23555555555555557
          ],
          [
           0.24071428571428571
          ],
          [
           0.1875
          ],
          [
           0.20692307692307693
          ]
         ],
         "hovertemplate": "season=spring<br>Year=2017<br>Region=South<br>Category=%{x}<br>Sales=%{y}<br>Discount=%{customdata[0]}<extra></extra>",
         "legendgroup": "spring",
         "marker": {
          "color": "#EF553B",
          "pattern": {
           "shape": ""
          }
         },
         "name": "spring",
         "offsetgroup": "spring",
         "orientation": "v",
         "showlegend": false,
         "textposition": "auto",
         "type": "bar",
         "x": [
          "Bakery",
          "Beverages",
          "Eggs, Meat & Fish",
          "Food Grains",
          "Fruits & Veggies",
          "Oil & Masala",
          "Snacks"
         ],
         "xaxis": "x7",
         "y": [
          15572,
          22886,
          31545,
          24769,
          17523,
          17584,
          16384
         ],
         "yaxis": "y7"
        },
        {
         "alignmentgroup": "True",
         "customdata": [
          [
           0.21666666666666665
          ],
          [
           0.2348148148148148
          ],
          [
           0.22
          ],
          [
           0.21954545454545454
          ],
          [
           0.21384615384615385
          ],
          [
           0.22947368421052633
          ],
          [
           0.19769230769230772
          ]
         ],
         "hovertemplate": "season=spring<br>Year=2017<br>Region=West<br>Category=%{x}<br>Sales=%{y}<br>Discount=%{customdata[0]}<extra></extra>",
         "legendgroup": "spring",
         "marker": {
          "color": "#EF553B",
          "pattern": {
           "shape": ""
          }
         },
         "name": "spring",
         "offsetgroup": "spring",
         "orientation": "v",
         "showlegend": false,
         "textposition": "auto",
         "type": "bar",
         "x": [
          "Bakery",
          "Beverages",
          "Eggs, Meat & Fish",
          "Food Grains",
          "Fruits & Veggies",
          "Oil & Masala",
          "Snacks"
         ],
         "xaxis": "x8",
         "y": [
          28815,
          39688,
          42774,
          36380,
          37930,
          29433,
          39760
         ],
         "yaxis": "y8"
        },
        {
         "alignmentgroup": "True",
         "customdata": [
          [
           0.22272727272727275
          ],
          [
           0.23450000000000001
          ],
          [
           0.1990909090909091
          ],
          [
           0.21428571428571427
          ],
          [
           0.2359375
          ],
          [
           0.23909090909090908
          ],
          [
           0.20791666666666667
          ]
         ],
         "hovertemplate": "season=spring<br>Year=2018<br>Region=Central<br>Category=%{x}<br>Sales=%{y}<br>Discount=%{customdata[0]}<extra></extra>",
         "legendgroup": "spring",
         "marker": {
          "color": "#EF553B",
          "pattern": {
           "shape": ""
          }
         },
         "name": "spring",
         "offsetgroup": "spring",
         "orientation": "v",
         "showlegend": false,
         "textposition": "auto",
         "type": "bar",
         "x": [
          "Bakery",
          "Beverages",
          "Eggs, Meat & Fish",
          "Food Grains",
          "Fruits & Veggies",
          "Oil & Masala",
          "Snacks"
         ],
         "xaxis": "x",
         "y": [
          30912,
          30041,
          31480,
          33316,
          44167,
          29943,
          33828
         ],
         "yaxis": "y"
        },
        {
         "alignmentgroup": "True",
         "customdata": [
          [
           0.21875
          ],
          [
           0.24263157894736845
          ],
          [
           0.23413793103448277
          ],
          [
           0.2404
          ],
          [
           0.22125000000000003
          ],
          [
           0.21
          ],
          [
           0.23060606060606062
          ]
         ],
         "hovertemplate": "season=spring<br>Year=2018<br>Region=East<br>Category=%{x}<br>Sales=%{y}<br>Discount=%{customdata[0]}<extra></extra>",
         "legendgroup": "spring",
         "marker": {
          "color": "#EF553B",
          "pattern": {
           "shape": ""
          }
         },
         "name": "spring",
         "offsetgroup": "spring",
         "orientation": "v",
         "showlegend": false,
         "textposition": "auto",
         "type": "bar",
         "x": [
          "Bakery",
          "Beverages",
          "Eggs, Meat & Fish",
          "Food Grains",
          "Fruits & Veggies",
          "Oil & Masala",
          "Snacks"
         ],
         "xaxis": "x2",
         "y": [
          34502,
          25311,
          47570,
          43736,
          39730,
          39690,
          51347
         ],
         "yaxis": "y2"
        },
        {
         "alignmentgroup": "True",
         "customdata": [
          [
           0.21052631578947367
          ],
          [
           0.20458333333333334
          ],
          [
           0.24625
          ],
          [
           0.25
          ],
          [
           0.21363636363636365
          ],
          [
           0.2323529411764706
          ],
          [
           0.20058823529411765
          ]
         ],
         "hovertemplate": "season=spring<br>Year=2018<br>Region=South<br>Category=%{x}<br>Sales=%{y}<br>Discount=%{customdata[0]}<extra></extra>",
         "legendgroup": "spring",
         "marker": {
          "color": "#EF553B",
          "pattern": {
           "shape": ""
          }
         },
         "name": "spring",
         "offsetgroup": "spring",
         "orientation": "v",
         "showlegend": false,
         "textposition": "auto",
         "type": "bar",
         "x": [
          "Bakery",
          "Beverages",
          "Eggs, Meat & Fish",
          "Food Grains",
          "Fruits & Veggies",
          "Oil & Masala",
          "Snacks"
         ],
         "xaxis": "x3",
         "y": [
          30051,
          35818,
          32795,
          21759,
          32909,
          27012,
          24885
         ],
         "yaxis": "y3"
        },
        {
         "alignmentgroup": "True",
         "customdata": [
          [
           0.22964285714285712
          ],
          [
           0.22275862068965518
          ],
          [
           0.2030769230769231
          ],
          [
           0.20935483870967742
          ],
          [
           0.256
          ],
          [
           0.23133333333333334
          ],
          [
           0.21911764705882353
          ]
         ],
         "hovertemplate": "season=spring<br>Year=2018<br>Region=West<br>Category=%{x}<br>Sales=%{y}<br>Discount=%{customdata[0]}<extra></extra>",
         "legendgroup": "spring",
         "marker": {
          "color": "#EF553B",
          "pattern": {
           "shape": ""
          }
         },
         "name": "spring",
         "offsetgroup": "spring",
         "orientation": "v",
         "showlegend": false,
         "textposition": "auto",
         "type": "bar",
         "x": [
          "Bakery",
          "Beverages",
          "Eggs, Meat & Fish",
          "Food Grains",
          "Fruits & Veggies",
          "Oil & Masala",
          "Snacks"
         ],
         "xaxis": "x4",
         "y": [
          37533,
          39967,
          39864,
          45781,
          48486,
          48264,
          51766
         ],
         "yaxis": "y4"
        },
        {
         "alignmentgroup": "True",
         "customdata": [
          [
           0.25933333333333336
          ],
          [
           0.22555555555555554
          ],
          [
           0.249375
          ],
          [
           0.24666666666666667
          ],
          [
           0.25882352941176473
          ],
          [
           0.22200000000000003
          ],
          [
           0.22666666666666668
          ]
         ],
         "hovertemplate": "season=summer<br>Year=2015<br>Region=Central<br>Category=%{x}<br>Sales=%{y}<br>Discount=%{customdata[0]}<extra></extra>",
         "legendgroup": "summer",
         "marker": {
          "color": "#00cc96",
          "pattern": {
           "shape": ""
          }
         },
         "name": "summer",
         "offsetgroup": "summer",
         "orientation": "v",
         "showlegend": true,
         "textposition": "auto",
         "type": "bar",
         "x": [
          "Bakery",
          "Beverages",
          "Eggs, Meat & Fish",
          "Food Grains",
          "Fruits & Veggies",
          "Oil & Masala",
          "Snacks"
         ],
         "xaxis": "x13",
         "y": [
          18141,
          26494,
          21516,
          16358,
          25072,
          31272,
          27314
         ],
         "yaxis": "y13"
        },
        {
         "alignmentgroup": "True",
         "customdata": [
          [
           0.24000000000000002
          ],
          [
           0.2225
          ],
          [
           0.2329032258064516
          ],
          [
           0.2440909090909091
          ],
          [
           0.2127777777777778
          ],
          [
           0.23333333333333336
          ],
          [
           0.2186206896551724
          ]
         ],
         "hovertemplate": "season=summer<br>Year=2015<br>Region=East<br>Category=%{x}<br>Sales=%{y}<br>Discount=%{customdata[0]}<extra></extra>",
         "legendgroup": "summer",
         "marker": {
          "color": "#00cc96",
          "pattern": {
           "shape": ""
          }
         },
         "name": "summer",
         "offsetgroup": "summer",
         "orientation": "v",
         "showlegend": false,
         "textposition": "auto",
         "type": "bar",
         "x": [
          "Bakery",
          "Beverages",
          "Eggs, Meat & Fish",
          "Food Grains",
          "Fruits & Veggies",
          "Oil & Masala",
          "Snacks"
         ],
         "xaxis": "x14",
         "y": [
          32136,
          33222,
          49375,
          31952,
          26250,
          37361,
          41118
         ],
         "yaxis": "y14"
        },
        {
         "alignmentgroup": "True",
         "customdata": [
          [
           0.23533333333333334
          ],
          [
           0.22571428571428573
          ],
          [
           0.263
          ],
          [
           0.25166666666666665
          ],
          [
           0.25857142857142856
          ],
          [
           0.27
          ],
          [
           0.2023076923076923
          ]
         ],
         "hovertemplate": "season=summer<br>Year=2015<br>Region=South<br>Category=%{x}<br>Sales=%{y}<br>Discount=%{customdata[0]}<extra></extra>",
         "legendgroup": "summer",
         "marker": {
          "color": "#00cc96",
          "pattern": {
           "shape": ""
          }
         },
         "name": "summer",
         "offsetgroup": "summer",
         "orientation": "v",
         "showlegend": false,
         "textposition": "auto",
         "type": "bar",
         "x": [
          "Bakery",
          "Beverages",
          "Eggs, Meat & Fish",
          "Food Grains",
          "Fruits & Veggies",
          "Oil & Masala",
          "Snacks"
         ],
         "xaxis": "x15",
         "y": [
          19282,
          11217,
          14940,
          15779,
          23491,
          12810,
          16994
         ],
         "yaxis": "y15"
        },
        {
         "alignmentgroup": "True",
         "customdata": [
          [
           0.218974358974359
          ],
          [
           0.2082142857142857
          ],
          [
           0.23736842105263156
          ],
          [
           0.24393939393939396
          ],
          [
           0.22903225806451613
          ],
          [
           0.2173076923076923
          ],
          [
           0.21230769230769234
          ]
         ],
         "hovertemplate": "season=summer<br>Year=2015<br>Region=West<br>Category=%{x}<br>Sales=%{y}<br>Discount=%{customdata[0]}<extra></extra>",
         "legendgroup": "summer",
         "marker": {
          "color": "#00cc96",
          "pattern": {
           "shape": ""
          }
         },
         "name": "summer",
         "offsetgroup": "summer",
         "orientation": "v",
         "showlegend": false,
         "textposition": "auto",
         "type": "bar",
         "x": [
          "Bakery",
          "Beverages",
          "Eggs, Meat & Fish",
          "Food Grains",
          "Fruits & Veggies",
          "Oil & Masala",
          "Snacks"
         ],
         "xaxis": "x16",
         "y": [
          62360,
          37032,
          32750,
          45199,
          45212,
          35502,
          43198
         ],
         "yaxis": "y16"
        },
        {
         "alignmentgroup": "True",
         "customdata": [
          [
           0.26875
          ],
          [
           0.23842105263157895
          ],
          [
           0.21263157894736842
          ],
          [
           0.20764705882352943
          ],
          [
           0.2290909090909091
          ],
          [
           0.27454545454545454
          ],
          [
           0.25
          ]
         ],
         "hovertemplate": "season=summer<br>Year=2016<br>Region=Central<br>Category=%{x}<br>Sales=%{y}<br>Discount=%{customdata[0]}<extra></extra>",
         "legendgroup": "summer",
         "marker": {
          "color": "#00cc96",
          "pattern": {
           "shape": ""
          }
         },
         "name": "summer",
         "offsetgroup": "summer",
         "orientation": "v",
         "showlegend": false,
         "textposition": "auto",
         "type": "bar",
         "x": [
          "Bakery",
          "Beverages",
          "Eggs, Meat & Fish",
          "Food Grains",
          "Fruits & Veggies",
          "Oil & Masala",
          "Snacks"
         ],
         "xaxis": "x9",
         "y": [
          25709,
          21067,
          27389,
          26310,
          18223,
          16199,
          15801
         ],
         "yaxis": "y9"
        },
        {
         "alignmentgroup": "True",
         "customdata": [
          [
           0.21025641025641023
          ],
          [
           0.23212121212121212
          ],
          [
           0.22608695652173913
          ],
          [
           0.21709677419354836
          ],
          [
           0.22064516129032258
          ],
          [
           0.21606060606060606
          ],
          [
           0.23724137931034484
          ]
         ],
         "hovertemplate": "season=summer<br>Year=2016<br>Region=East<br>Category=%{x}<br>Sales=%{y}<br>Discount=%{customdata[0]}<extra></extra>",
         "legendgroup": "summer",
         "marker": {
          "color": "#00cc96",
          "pattern": {
           "shape": ""
          }
         },
         "name": "summer",
         "offsetgroup": "summer",
         "orientation": "v",
         "showlegend": false,
         "textposition": "auto",
         "type": "bar",
         "x": [
          "Bakery",
          "Beverages",
          "Eggs, Meat & Fish",
          "Food Grains",
          "Fruits & Veggies",
          "Oil & Masala",
          "Snacks"
         ],
         "xaxis": "x10",
         "y": [
          63761,
          48646,
          32408,
          48496,
          44820,
          46571,
          41692
         ],
         "yaxis": "y10"
        },
        {
         "alignmentgroup": "True",
         "customdata": [
          [
           0.21615384615384617
          ],
          [
           0.22500000000000003
          ],
          [
           0.2288888888888889
          ],
          [
           0.23444444444444448
          ],
          [
           0.2235294117647059
          ],
          [
           0.2725
          ],
          [
           0.23
          ]
         ],
         "hovertemplate": "season=summer<br>Year=2016<br>Region=South<br>Category=%{x}<br>Sales=%{y}<br>Discount=%{customdata[0]}<extra></extra>",
         "legendgroup": "summer",
         "marker": {
          "color": "#00cc96",
          "pattern": {
           "shape": ""
          }
         },
         "name": "summer",
         "offsetgroup": "summer",
         "orientation": "v",
         "showlegend": false,
         "textposition": "auto",
         "type": "bar",
         "x": [
          "Bakery",
          "Beverages",
          "Eggs, Meat & Fish",
          "Food Grains",
          "Fruits & Veggies",
          "Oil & Masala",
          "Snacks"
         ],
         "xaxis": "x11",
         "y": [
          18757,
          18912,
          27316,
          13955,
          25356,
          9505,
          23230
         ],
         "yaxis": "y11"
        },
        {
         "alignmentgroup": "True",
         "customdata": [
          [
           0.23787878787878788
          ],
          [
           0.219
          ],
          [
           0.22545454545454546
          ],
          [
           0.22384615384615386
          ],
          [
           0.23800000000000002
          ],
          [
           0.22714285714285717
          ],
          [
           0.23285714285714287
          ]
         ],
         "hovertemplate": "season=summer<br>Year=2016<br>Region=West<br>Category=%{x}<br>Sales=%{y}<br>Discount=%{customdata[0]}<extra></extra>",
         "legendgroup": "summer",
         "marker": {
          "color": "#00cc96",
          "pattern": {
           "shape": ""
          }
         },
         "name": "summer",
         "offsetgroup": "summer",
         "orientation": "v",
         "showlegend": false,
         "textposition": "auto",
         "type": "bar",
         "x": [
          "Bakery",
          "Beverages",
          "Eggs, Meat & Fish",
          "Food Grains",
          "Fruits & Veggies",
          "Oil & Masala",
          "Snacks"
         ],
         "xaxis": "x12",
         "y": [
          46123,
          29727,
          34633,
          39873,
          45699,
          32325,
          32474
         ],
         "yaxis": "y12"
        },
        {
         "alignmentgroup": "True",
         "customdata": [
          [
           0.2267741935483871
          ],
          [
           0.22620689655172416
          ],
          [
           0.23911764705882355
          ],
          [
           0.22296296296296297
          ],
          [
           0.2285714285714286
          ],
          [
           0.2080952380952381
          ],
          [
           0.23535714285714285
          ]
         ],
         "hovertemplate": "season=summer<br>Year=2017<br>Region=Central<br>Category=%{x}<br>Sales=%{y}<br>Discount=%{customdata[0]}<extra></extra>",
         "legendgroup": "summer",
         "marker": {
          "color": "#00cc96",
          "pattern": {
           "shape": ""
          }
         },
         "name": "summer",
         "offsetgroup": "summer",
         "orientation": "v",
         "showlegend": false,
         "textposition": "auto",
         "type": "bar",
         "x": [
          "Bakery",
          "Beverages",
          "Eggs, Meat & Fish",
          "Food Grains",
          "Fruits & Veggies",
          "Oil & Masala",
          "Snacks"
         ],
         "xaxis": "x5",
         "y": [
          42292,
          39719,
          49083,
          42710,
          39126,
          32965,
          45308
         ],
         "yaxis": "y5"
        },
        {
         "alignmentgroup": "True",
         "customdata": [
          [
           0.21666666666666665
          ],
          [
           0.24115384615384616
          ],
          [
           0.22964285714285712
          ],
          [
           0.2231034482758621
          ],
          [
           0.230625
          ],
          [
           0.20739130434782607
          ],
          [
           0.23130434782608697
          ]
         ],
         "hovertemplate": "season=summer<br>Year=2017<br>Region=East<br>Category=%{x}<br>Sales=%{y}<br>Discount=%{customdata[0]}<extra></extra>",
         "legendgroup": "summer",
         "marker": {
          "color": "#00cc96",
          "pattern": {
           "shape": ""
          }
         },
         "name": "summer",
         "offsetgroup": "summer",
         "orientation": "v",
         "showlegend": false,
         "textposition": "auto",
         "type": "bar",
         "x": [
          "Bakery",
          "Beverages",
          "Eggs, Meat & Fish",
          "Food Grains",
          "Fruits & Veggies",
          "Oil & Masala",
          "Snacks"
         ],
         "xaxis": "x6",
         "y": [
          42719,
          41159,
          39139,
          47639,
          48188,
          39276,
          32977
         ],
         "yaxis": "y6"
        },
        {
         "alignmentgroup": "True",
         "customdata": [
          [
           0.20578947368421052
          ],
          [
           0.2323076923076923
          ],
          [
           0.20058823529411765
          ],
          [
           0.23095238095238094
          ],
          [
           0.2252380952380952
          ],
          [
           0.22333333333333336
          ],
          [
           0.23823529411764705
          ]
         ],
         "hovertemplate": "season=summer<br>Year=2017<br>Region=South<br>Category=%{x}<br>Sales=%{y}<br>Discount=%{customdata[0]}<extra></extra>",
         "legendgroup": "summer",
         "marker": {
          "color": "#00cc96",
          "pattern": {
           "shape": ""
          }
         },
         "name": "summer",
         "offsetgroup": "summer",
         "orientation": "v",
         "showlegend": false,
         "textposition": "auto",
         "type": "bar",
         "x": [
          "Bakery",
          "Beverages",
          "Eggs, Meat & Fish",
          "Food Grains",
          "Fruits & Veggies",
          "Oil & Masala",
          "Snacks"
         ],
         "xaxis": "x7",
         "y": [
          28958,
          18445,
          26889,
          33025,
          31525,
          17710,
          27120
         ],
         "yaxis": "y7"
        },
        {
         "alignmentgroup": "True",
         "customdata": [
          [
           0.20772727272727273
          ],
          [
           0.2273529411764706
          ],
          [
           0.222
          ],
          [
           0.21625
          ],
          [
           0.22741935483870968
          ],
          [
           0.25
          ],
          [
           0.23342105263157897
          ]
         ],
         "hovertemplate": "season=summer<br>Year=2017<br>Region=West<br>Category=%{x}<br>Sales=%{y}<br>Discount=%{customdata[0]}<extra></extra>",
         "legendgroup": "summer",
         "marker": {
          "color": "#00cc96",
          "pattern": {
           "shape": ""
          }
         },
         "name": "summer",
         "offsetgroup": "summer",
         "orientation": "v",
         "showlegend": false,
         "textposition": "auto",
         "type": "bar",
         "x": [
          "Bakery",
          "Beverages",
          "Eggs, Meat & Fish",
          "Food Grains",
          "Fruits & Veggies",
          "Oil & Masala",
          "Snacks"
         ],
         "xaxis": "x8",
         "y": [
          37784,
          46939,
          46034,
          68629,
          46527,
          52024,
          54439
         ],
         "yaxis": "y8"
        },
        {
         "alignmentgroup": "True",
         "customdata": [
          [
           0.2106896551724138
          ],
          [
           0.23214285714285715
          ],
          [
           0.2326315789473684
          ],
          [
           0.21586206896551724
          ],
          [
           0.21333333333333335
          ],
          [
           0.2275
          ],
          [
           0.21777777777777776
          ]
         ],
         "hovertemplate": "season=summer<br>Year=2018<br>Region=Central<br>Category=%{x}<br>Sales=%{y}<br>Discount=%{customdata[0]}<extra></extra>",
         "legendgroup": "summer",
         "marker": {
          "color": "#00cc96",
          "pattern": {
           "shape": ""
          }
         },
         "name": "summer",
         "offsetgroup": "summer",
         "orientation": "v",
         "showlegend": false,
         "textposition": "auto",
         "type": "bar",
         "x": [
          "Bakery",
          "Beverages",
          "Eggs, Meat & Fish",
          "Food Grains",
          "Fruits & Veggies",
          "Oil & Masala",
          "Snacks"
         ],
         "xaxis": "x",
         "y": [
          44160,
          47845,
          29831,
          47194,
          37221,
          31792,
          57168
         ],
         "yaxis": "y"
        },
        {
         "alignmentgroup": "True",
         "customdata": [
          [
           0.2373529411764706
          ],
          [
           0.22925
          ],
          [
           0.22113207547169814
          ],
          [
           0.21146341463414633
          ],
          [
           0.2141025641025641
          ],
          [
           0.2302857142857143
          ],
          [
           0.2273529411764706
          ]
         ],
         "hovertemplate": "season=summer<br>Year=2018<br>Region=East<br>Category=%{x}<br>Sales=%{y}<br>Discount=%{customdata[0]}<extra></extra>",
         "legendgroup": "summer",
         "marker": {
          "color": "#00cc96",
          "pattern": {
           "shape": ""
          }
         },
         "name": "summer",
         "offsetgroup": "summer",
         "orientation": "v",
         "showlegend": false,
         "textposition": "auto",
         "type": "bar",
         "x": [
          "Bakery",
          "Beverages",
          "Eggs, Meat & Fish",
          "Food Grains",
          "Fruits & Veggies",
          "Oil & Masala",
          "Snacks"
         ],
         "xaxis": "x2",
         "y": [
          51375,
          55514,
          77919,
          60918,
          58490,
          46668,
          50453
         ],
         "yaxis": "y2"
        },
        {
         "alignmentgroup": "True",
         "customdata": [
          [
           0.24214285714285716
          ],
          [
           0.23058823529411765
          ],
          [
           0.24045454545454545
          ],
          [
           0.22695652173913042
          ],
          [
           0.22999999999999998
          ],
          [
           0.22499999999999998
          ],
          [
           0.25176470588235295
          ]
         ],
         "hovertemplate": "season=summer<br>Year=2018<br>Region=South<br>Category=%{x}<br>Sales=%{y}<br>Discount=%{customdata[0]}<extra></extra>",
         "legendgroup": "summer",
         "marker": {
          "color": "#00cc96",
          "pattern": {
           "shape": ""
          }
         },
         "name": "summer",
         "offsetgroup": "summer",
         "orientation": "v",
         "showlegend": false,
         "textposition": "auto",
         "type": "bar",
         "x": [
          "Bakery",
          "Beverages",
          "Eggs, Meat & Fish",
          "Food Grains",
          "Fruits & Veggies",
          "Oil & Masala",
          "Snacks"
         ],
         "xaxis": "x3",
         "y": [
          19648,
          32877,
          32436,
          38330,
          20759,
          22614,
          26658
         ],
         "yaxis": "y3"
        },
        {
         "alignmentgroup": "True",
         "customdata": [
          [
           0.22816326530612244
          ],
          [
           0.2414285714285714
          ],
          [
           0.2242
          ],
          [
           0.225
          ],
          [
           0.22795454545454544
          ],
          [
           0.2288888888888889
          ],
          [
           0.21826086956521737
          ]
         ],
         "hovertemplate": "season=summer<br>Year=2018<br>Region=West<br>Category=%{x}<br>Sales=%{y}<br>Discount=%{customdata[0]}<extra></extra>",
         "legendgroup": "summer",
         "marker": {
          "color": "#00cc96",
          "pattern": {
           "shape": ""
          }
         },
         "name": "summer",
         "offsetgroup": "summer",
         "orientation": "v",
         "showlegend": false,
         "textposition": "auto",
         "type": "bar",
         "x": [
          "Bakery",
          "Beverages",
          "Eggs, Meat & Fish",
          "Food Grains",
          "Fruits & Veggies",
          "Oil & Masala",
          "Snacks"
         ],
         "xaxis": "x4",
         "y": [
          77867,
          56519,
          78572,
          65544,
          61597,
          71601,
          72216
         ],
         "yaxis": "y4"
        },
        {
         "alignmentgroup": "True",
         "customdata": [
          [
           0.24222222222222223
          ],
          [
           0.256
          ],
          [
           0.23909090909090908
          ],
          [
           0.219
          ],
          [
           0.20866666666666667
          ],
          [
           0.2025
          ],
          [
           0.22142857142857145
          ]
         ],
         "hovertemplate": "season=winter<br>Year=2015<br>Region=Central<br>Category=%{x}<br>Sales=%{y}<br>Discount=%{customdata[0]}<extra></extra>",
         "legendgroup": "winter",
         "marker": {
          "color": "#ab63fa",
          "pattern": {
           "shape": ""
          }
         },
         "name": "winter",
         "offsetgroup": "winter",
         "orientation": "v",
         "showlegend": true,
         "textposition": "auto",
         "type": "bar",
         "x": [
          "Bakery",
          "Beverages",
          "Eggs, Meat & Fish",
          "Food Grains",
          "Fruits & Veggies",
          "Oil & Masala",
          "Snacks"
         ],
         "xaxis": "x13",
         "y": [
          13519,
          12927,
          19216,
          14034,
          23514,
          14884,
          9909
         ],
         "yaxis": "y13"
        },
        {
         "alignmentgroup": "True",
         "customdata": [
          [
           0.235
          ],
          [
           0.176
          ],
          [
           0.233
          ],
          [
           0.22599999999999998
          ],
          [
           0.18666666666666668
          ],
          [
           0.21636363636363634
          ],
          [
           0.26833333333333337
          ]
         ],
         "hovertemplate": "season=winter<br>Year=2015<br>Region=East<br>Category=%{x}<br>Sales=%{y}<br>Discount=%{customdata[0]}<extra></extra>",
         "legendgroup": "winter",
         "marker": {
          "color": "#ab63fa",
          "pattern": {
           "shape": ""
          }
         },
         "name": "winter",
         "offsetgroup": "winter",
         "orientation": "v",
         "showlegend": false,
         "textposition": "auto",
         "type": "bar",
         "x": [
          "Bakery",
          "Beverages",
          "Eggs, Meat & Fish",
          "Food Grains",
          "Fruits & Veggies",
          "Oil & Masala",
          "Snacks"
         ],
         "xaxis": "x14",
         "y": [
          7617,
          8272,
          16154,
          8738,
          4152,
          15686,
          9851
         ],
         "yaxis": "y14"
        },
        {
         "alignmentgroup": "True",
         "customdata": [
          [
           0.19583333333333333
          ],
          [
           0.21000000000000002
          ],
          [
           0.22153846153846152
          ],
          [
           0.23444444444444443
          ],
          [
           0.21833333333333335
          ],
          [
           0.24300000000000002
          ],
          [
           0.1864705882352941
          ]
         ],
         "hovertemplate": "season=winter<br>Year=2015<br>Region=South<br>Category=%{x}<br>Sales=%{y}<br>Discount=%{customdata[0]}<extra></extra>",
         "legendgroup": "winter",
         "marker": {
          "color": "#ab63fa",
          "pattern": {
           "shape": ""
          }
         },
         "name": "winter",
         "offsetgroup": "winter",
         "orientation": "v",
         "showlegend": false,
         "textposition": "auto",
         "type": "bar",
         "x": [
          "Bakery",
          "Beverages",
          "Eggs, Meat & Fish",
          "Food Grains",
          "Fruits & Veggies",
          "Oil & Masala",
          "Snacks"
         ],
         "xaxis": "x15",
         "y": [
          20818,
          30003,
          18961,
          16575,
          16581,
          13887,
          26181
         ],
         "yaxis": "y15"
        },
        {
         "alignmentgroup": "True",
         "customdata": [
          [
           0.23090909090909092
          ],
          [
           0.21071428571428572
          ],
          [
           0.22923076923076924
          ],
          [
           0.30833333333333335
          ],
          [
           0.2488888888888889
          ],
          [
           0.24076923076923076
          ],
          [
           0.21400000000000002
          ]
         ],
         "hovertemplate": "season=winter<br>Year=2015<br>Region=West<br>Category=%{x}<br>Sales=%{y}<br>Discount=%{customdata[0]}<extra></extra>",
         "legendgroup": "winter",
         "marker": {
          "color": "#ab63fa",
          "pattern": {
           "shape": ""
          }
         },
         "name": "winter",
         "offsetgroup": "winter",
         "orientation": "v",
         "showlegend": false,
         "textposition": "auto",
         "type": "bar",
         "x": [
          "Bakery",
          "Beverages",
          "Eggs, Meat & Fish",
          "Food Grains",
          "Fruits & Veggies",
          "Oil & Masala",
          "Snacks"
         ],
         "xaxis": "x16",
         "y": [
          17788,
          20265,
          20642,
          9523,
          12369,
          19713,
          13904
         ],
         "yaxis": "y16"
        },
        {
         "alignmentgroup": "True",
         "customdata": [
          [
           0.22454545454545458
          ],
          [
           0.20600000000000002
          ],
          [
           0.2830769230769231
          ],
          [
           0.23714285714285716
          ],
          [
           0.29500000000000004
          ],
          [
           0.21666666666666667
          ],
          [
           0.2588888888888889
          ]
         ],
         "hovertemplate": "season=winter<br>Year=2016<br>Region=Central<br>Category=%{x}<br>Sales=%{y}<br>Discount=%{customdata[0]}<extra></extra>",
         "legendgroup": "winter",
         "marker": {
          "color": "#ab63fa",
          "pattern": {
           "shape": ""
          }
         },
         "name": "winter",
         "offsetgroup": "winter",
         "orientation": "v",
         "showlegend": false,
         "textposition": "auto",
         "type": "bar",
         "x": [
          "Bakery",
          "Beverages",
          "Eggs, Meat & Fish",
          "Food Grains",
          "Fruits & Veggies",
          "Oil & Masala",
          "Snacks"
         ],
         "xaxis": "x9",
         "y": [
          14654,
          14475,
          21816,
          10816,
          4590,
          22483,
          14835
         ],
         "yaxis": "y9"
        },
        {
         "alignmentgroup": "True",
         "customdata": [
          [
           0.24
          ],
          [
           0.2290909090909091
          ],
          [
           0.23555555555555557
          ],
          [
           0.22266666666666665
          ],
          [
           0.19545454545454544
          ],
          [
           0.21933333333333332
          ],
          [
           0.18666666666666668
          ]
         ],
         "hovertemplate": "season=winter<br>Year=2016<br>Region=East<br>Category=%{x}<br>Sales=%{y}<br>Discount=%{customdata[0]}<extra></extra>",
         "legendgroup": "winter",
         "marker": {
          "color": "#ab63fa",
          "pattern": {
           "shape": ""
          }
         },
         "name": "winter",
         "offsetgroup": "winter",
         "orientation": "v",
         "showlegend": false,
         "textposition": "auto",
         "type": "bar",
         "x": [
          "Bakery",
          "Beverages",
          "Eggs, Meat & Fish",
          "Food Grains",
          "Fruits & Veggies",
          "Oil & Masala",
          "Snacks"
         ],
         "xaxis": "x10",
         "y": [
          10229,
          17606,
          11622,
          23768,
          19062,
          18209,
          17591
         ],
         "yaxis": "y10"
        },
        {
         "alignmentgroup": "True",
         "customdata": [
          [
           0.22800000000000004
          ],
          [
           0.25
          ],
          [
           0.21800000000000003
          ],
          [
           0.23666666666666666
          ],
          [
           0.20750000000000002
          ],
          [
           0.264
          ],
          [
           0.201
          ]
         ],
         "hovertemplate": "season=winter<br>Year=2016<br>Region=South<br>Category=%{x}<br>Sales=%{y}<br>Discount=%{customdata[0]}<extra></extra>",
         "legendgroup": "winter",
         "marker": {
          "color": "#ab63fa",
          "pattern": {
           "shape": ""
          }
         },
         "name": "winter",
         "offsetgroup": "winter",
         "orientation": "v",
         "showlegend": false,
         "textposition": "auto",
         "type": "bar",
         "x": [
          "Bakery",
          "Beverages",
          "Eggs, Meat & Fish",
          "Food Grains",
          "Fruits & Veggies",
          "Oil & Masala",
          "Snacks"
         ],
         "xaxis": "x11",
         "y": [
          7026,
          11408,
          9081,
          9745,
          6747,
          7894,
          15468
         ],
         "yaxis": "y11"
        },
        {
         "alignmentgroup": "True",
         "customdata": [
          [
           0.23399999999999999
          ],
          [
           0.23500000000000001
          ],
          [
           0.165
          ],
          [
           0.22400000000000003
          ],
          [
           0.22384615384615386
          ],
          [
           0.18833333333333332
          ],
          [
           0.21333333333333335
          ]
         ],
         "hovertemplate": "season=winter<br>Year=2016<br>Region=West<br>Category=%{x}<br>Sales=%{y}<br>Discount=%{customdata[0]}<extra></extra>",
         "legendgroup": "winter",
         "marker": {
          "color": "#ab63fa",
          "pattern": {
           "shape": ""
          }
         },
         "name": "winter",
         "offsetgroup": "winter",
         "orientation": "v",
         "showlegend": false,
         "textposition": "auto",
         "type": "bar",
         "x": [
          "Bakery",
          "Beverages",
          "Eggs, Meat & Fish",
          "Food Grains",
          "Fruits & Veggies",
          "Oil & Masala",
          "Snacks"
         ],
         "xaxis": "x12",
         "y": [
          16001,
          12431,
          5170,
          8671,
          18763,
          20255,
          21580
         ],
         "yaxis": "y12"
        },
        {
         "alignmentgroup": "True",
         "customdata": [
          [
           0.21727272727272728
          ],
          [
           0.254
          ],
          [
           0.256
          ],
          [
           0.308
          ],
          [
           0.23
          ],
          [
           0.17846153846153848
          ],
          [
           0.2122222222222222
          ]
         ],
         "hovertemplate": "season=winter<br>Year=2017<br>Region=Central<br>Category=%{x}<br>Sales=%{y}<br>Discount=%{customdata[0]}<extra></extra>",
         "legendgroup": "winter",
         "marker": {
          "color": "#ab63fa",
          "pattern": {
           "shape": ""
          }
         },
         "name": "winter",
         "offsetgroup": "winter",
         "orientation": "v",
         "showlegend": false,
         "textposition": "auto",
         "type": "bar",
         "x": [
          "Bakery",
          "Beverages",
          "Eggs, Meat & Fish",
          "Food Grains",
          "Fruits & Veggies",
          "Oil & Masala",
          "Snacks"
         ],
         "xaxis": "x5",
         "y": [
          15661,
          14181,
          8093,
          8562,
          14692,
          20908,
          26933
         ],
         "yaxis": "y5"
        },
        {
         "alignmentgroup": "True",
         "customdata": [
          [
           0.23533333333333334
          ],
          [
           0.23941176470588238
          ],
          [
           0.26
          ],
          [
           0.215
          ],
          [
           0.21722222222222223
          ],
          [
           0.2452173913043478
          ],
          [
           0.238125
          ]
         ],
         "hovertemplate": "season=winter<br>Year=2017<br>Region=East<br>Category=%{x}<br>Sales=%{y}<br>Discount=%{customdata[0]}<extra></extra>",
         "legendgroup": "winter",
         "marker": {
          "color": "#ab63fa",
          "pattern": {
           "shape": ""
          }
         },
         "name": "winter",
         "offsetgroup": "winter",
         "orientation": "v",
         "showlegend": false,
         "textposition": "auto",
         "type": "bar",
         "x": [
          "Bakery",
          "Beverages",
          "Eggs, Meat & Fish",
          "Food Grains",
          "Fruits & Veggies",
          "Oil & Masala",
          "Snacks"
         ],
         "xaxis": "x6",
         "y": [
          25251,
          24702,
          17521,
          31781,
          24343,
          32868,
          18810
         ],
         "yaxis": "y6"
        },
        {
         "alignmentgroup": "True",
         "customdata": [
          [
           0.20909090909090908
          ],
          [
           0.21200000000000002
          ],
          [
           0.266
          ],
          [
           0.21375
          ],
          [
           0.23700000000000002
          ],
          [
           0.23384615384615384
          ],
          [
           0.20222222222222222
          ]
         ],
         "hovertemplate": "season=winter<br>Year=2017<br>Region=South<br>Category=%{x}<br>Sales=%{y}<br>Discount=%{customdata[0]}<extra></extra>",
         "legendgroup": "winter",
         "marker": {
          "color": "#ab63fa",
          "pattern": {
           "shape": ""
          }
         },
         "name": "winter",
         "offsetgroup": "winter",
         "orientation": "v",
         "showlegend": false,
         "textposition": "auto",
         "type": "bar",
         "x": [
          "Bakery",
          "Beverages",
          "Eggs, Meat & Fish",
          "Food Grains",
          "Fruits & Veggies",
          "Oil & Masala",
          "Snacks"
         ],
         "xaxis": "x7",
         "y": [
          15988,
          12735,
          6679,
          12828,
          18015,
          18929,
          14886
         ],
         "yaxis": "y7"
        },
        {
         "alignmentgroup": "True",
         "customdata": [
          [
           0.23166666666666666
          ],
          [
           0.1757142857142857
          ],
          [
           0.2385
          ],
          [
           0.26187499999999997
          ],
          [
           0.23416666666666666
          ],
          [
           0.178
          ],
          [
           0.24266666666666667
          ]
         ],
         "hovertemplate": "season=winter<br>Year=2017<br>Region=West<br>Category=%{x}<br>Sales=%{y}<br>Discount=%{customdata[0]}<extra></extra>",
         "legendgroup": "winter",
         "marker": {
          "color": "#ab63fa",
          "pattern": {
           "shape": ""
          }
         },
         "name": "winter",
         "offsetgroup": "winter",
         "orientation": "v",
         "showlegend": false,
         "textposition": "auto",
         "type": "bar",
         "x": [
          "Bakery",
          "Beverages",
          "Eggs, Meat & Fish",
          "Food Grains",
          "Fruits & Veggies",
          "Oil & Masala",
          "Snacks"
         ],
         "xaxis": "x8",
         "y": [
          10917,
          10578,
          26858,
          26447,
          19062,
          5597,
          19840
         ],
         "yaxis": "y8"
        },
        {
         "alignmentgroup": "True",
         "customdata": [
          [
           0.238125
          ],
          [
           0.21565217391304348
          ],
          [
           0.22384615384615386
          ],
          [
           0.22782608695652176
          ],
          [
           0.24714285714285716
          ],
          [
           0.2076470588235294
          ],
          [
           0.23666666666666666
          ]
         ],
         "hovertemplate": "season=winter<br>Year=2018<br>Region=Central<br>Category=%{x}<br>Sales=%{y}<br>Discount=%{customdata[0]}<extra></extra>",
         "legendgroup": "winter",
         "marker": {
          "color": "#ab63fa",
          "pattern": {
           "shape": ""
          }
         },
         "name": "winter",
         "offsetgroup": "winter",
         "orientation": "v",
         "showlegend": false,
         "textposition": "auto",
         "type": "bar",
         "x": [
          "Bakery",
          "Beverages",
          "Eggs, Meat & Fish",
          "Food Grains",
          "Fruits & Veggies",
          "Oil & Masala",
          "Snacks"
         ],
         "xaxis": "x",
         "y": [
          23834,
          34416,
          39494,
          37560,
          33557,
          29095,
          40688
         ],
         "yaxis": "y"
        },
        {
         "alignmentgroup": "True",
         "customdata": [
          [
           0.20615384615384616
          ],
          [
           0.23076923076923078
          ],
          [
           0.2425
          ],
          [
           0.241875
          ],
          [
           0.1942857142857143
          ],
          [
           0.23058823529411765
          ],
          [
           0.2308
          ]
         ],
         "hovertemplate": "season=winter<br>Year=2018<br>Region=East<br>Category=%{x}<br>Sales=%{y}<br>Discount=%{customdata[0]}<extra></extra>",
         "legendgroup": "winter",
         "marker": {
          "color": "#ab63fa",
          "pattern": {
           "shape": ""
          }
         },
         "name": "winter",
         "offsetgroup": "winter",
         "orientation": "v",
         "showlegend": false,
         "textposition": "auto",
         "type": "bar",
         "x": [
          "Bakery",
          "Beverages",
          "Eggs, Meat & Fish",
          "Food Grains",
          "Fruits & Veggies",
          "Oil & Masala",
          "Snacks"
         ],
         "xaxis": "x2",
         "y": [
          16764,
          20568,
          30043,
          23593,
          22929,
          27698,
          35558
         ],
         "yaxis": "y2"
        },
        {
         "alignmentgroup": "True",
         "customdata": [
          [
           0.25846153846153846
          ],
          [
           0.1975
          ],
          [
           0.211
          ],
          [
           0.19
          ],
          [
           0.2127272727272727
          ],
          [
           0.24
          ],
          [
           0.1781818181818182
          ]
         ],
         "hovertemplate": "season=winter<br>Year=2018<br>Region=South<br>Category=%{x}<br>Sales=%{y}<br>Discount=%{customdata[0]}<extra></extra>",
         "legendgroup": "winter",
         "marker": {
          "color": "#ab63fa",
          "pattern": {
           "shape": ""
          }
         },
         "name": "winter",
         "offsetgroup": "winter",
         "orientation": "v",
         "showlegend": false,
         "textposition": "auto",
         "type": "bar",
         "x": [
          "Bakery",
          "Beverages",
          "Eggs, Meat & Fish",
          "Food Grains",
          "Fruits & Veggies",
          "Oil & Masala",
          "Snacks"
         ],
         "xaxis": "x3",
         "y": [
          21208,
          3453,
          15158,
          5471,
          14694,
          2350,
          12998
         ],
         "yaxis": "y3"
        },
        {
         "alignmentgroup": "True",
         "customdata": [
          [
           0.22714285714285715
          ],
          [
           0.2240625
          ],
          [
           0.18954545454545454
          ],
          [
           0.20521739130434782
          ],
          [
           0.22789473684210526
          ],
          [
           0.23476190476190475
          ],
          [
           0.2193939393939394
          ]
         ],
         "hovertemplate": "season=winter<br>Year=2018<br>Region=West<br>Category=%{x}<br>Sales=%{y}<br>Discount=%{customdata[0]}<extra></extra>",
         "legendgroup": "winter",
         "marker": {
          "color": "#ab63fa",
          "pattern": {
           "shape": ""
          }
         },
         "name": "winter",
         "offsetgroup": "winter",
         "orientation": "v",
         "showlegend": false,
         "textposition": "auto",
         "type": "bar",
         "x": [
          "Bakery",
          "Beverages",
          "Eggs, Meat & Fish",
          "Food Grains",
          "Fruits & Veggies",
          "Oil & Masala",
          "Snacks"
         ],
         "xaxis": "x4",
         "y": [
          40818,
          47518,
          31958,
          34571,
          28700,
          29549,
          52467
         ],
         "yaxis": "y4"
        }
       ],
       "layout": {
        "annotations": [
         {
          "font": {},
          "showarrow": false,
          "text": "Region=Central",
          "x": 0.11499999999999999,
          "xanchor": "center",
          "xref": "paper",
          "y": 1,
          "yanchor": "bottom",
          "yref": "paper"
         },
         {
          "font": {},
          "showarrow": false,
          "text": "Region=East",
          "x": 0.365,
          "xanchor": "center",
          "xref": "paper",
          "y": 1,
          "yanchor": "bottom",
          "yref": "paper"
         },
         {
          "font": {},
          "showarrow": false,
          "text": "Region=South",
          "x": 0.615,
          "xanchor": "center",
          "xref": "paper",
          "y": 1,
          "yanchor": "bottom",
          "yref": "paper"
         },
         {
          "font": {},
          "showarrow": false,
          "text": "Region=West",
          "x": 0.865,
          "xanchor": "center",
          "xref": "paper",
          "y": 1,
          "yanchor": "bottom",
          "yref": "paper"
         },
         {
          "font": {},
          "showarrow": false,
          "text": "Year=2018",
          "textangle": 90,
          "x": 0.98,
          "xanchor": "left",
          "xref": "paper",
          "y": 0.11375,
          "yanchor": "middle",
          "yref": "paper"
         },
         {
          "font": {},
          "showarrow": false,
          "text": "Year=2017",
          "textangle": 90,
          "x": 0.98,
          "xanchor": "left",
          "xref": "paper",
          "y": 0.37124999999999997,
          "yanchor": "middle",
          "yref": "paper"
         },
         {
          "font": {},
          "showarrow": false,
          "text": "Year=2016",
          "textangle": 90,
          "x": 0.98,
          "xanchor": "left",
          "xref": "paper",
          "y": 0.62875,
          "yanchor": "middle",
          "yref": "paper"
         },
         {
          "font": {},
          "showarrow": false,
          "text": "Year=2015",
          "textangle": 90,
          "x": 0.98,
          "xanchor": "left",
          "xref": "paper",
          "y": 0.88625,
          "yanchor": "middle",
          "yref": "paper"
         }
        ],
        "barmode": "group",
        "height": 800,
        "legend": {
         "title": {
          "text": "season"
         },
         "tracegroupgap": 0
        },
        "template": {
         "data": {
          "bar": [
           {
            "error_x": {
             "color": "#2a3f5f"
            },
            "error_y": {
             "color": "#2a3f5f"
            },
            "marker": {
             "line": {
              "color": "#E5ECF6",
              "width": 0.5
             },
             "pattern": {
              "fillmode": "overlay",
              "size": 10,
              "solidity": 0.2
             }
            },
            "type": "bar"
           }
          ],
          "barpolar": [
           {
            "marker": {
             "line": {
              "color": "#E5ECF6",
              "width": 0.5
             },
             "pattern": {
              "fillmode": "overlay",
              "size": 10,
              "solidity": 0.2
             }
            },
            "type": "barpolar"
           }
          ],
          "carpet": [
           {
            "aaxis": {
             "endlinecolor": "#2a3f5f",
             "gridcolor": "white",
             "linecolor": "white",
             "minorgridcolor": "white",
             "startlinecolor": "#2a3f5f"
            },
            "baxis": {
             "endlinecolor": "#2a3f5f",
             "gridcolor": "white",
             "linecolor": "white",
             "minorgridcolor": "white",
             "startlinecolor": "#2a3f5f"
            },
            "type": "carpet"
           }
          ],
          "choropleth": [
           {
            "colorbar": {
             "outlinewidth": 0,
             "ticks": ""
            },
            "type": "choropleth"
           }
          ],
          "contour": [
           {
            "colorbar": {
             "outlinewidth": 0,
             "ticks": ""
            },
            "colorscale": [
             [
              0,
              "#0d0887"
             ],
             [
              0.1111111111111111,
              "#46039f"
             ],
             [
              0.2222222222222222,
              "#7201a8"
             ],
             [
              0.3333333333333333,
              "#9c179e"
             ],
             [
              0.4444444444444444,
              "#bd3786"
             ],
             [
              0.5555555555555556,
              "#d8576b"
             ],
             [
              0.6666666666666666,
              "#ed7953"
             ],
             [
              0.7777777777777778,
              "#fb9f3a"
             ],
             [
              0.8888888888888888,
              "#fdca26"
             ],
             [
              1,
              "#f0f921"
             ]
            ],
            "type": "contour"
           }
          ],
          "contourcarpet": [
           {
            "colorbar": {
             "outlinewidth": 0,
             "ticks": ""
            },
            "type": "contourcarpet"
           }
          ],
          "heatmap": [
           {
            "colorbar": {
             "outlinewidth": 0,
             "ticks": ""
            },
            "colorscale": [
             [
              0,
              "#0d0887"
             ],
             [
              0.1111111111111111,
              "#46039f"
             ],
             [
              0.2222222222222222,
              "#7201a8"
             ],
             [
              0.3333333333333333,
              "#9c179e"
             ],
             [
              0.4444444444444444,
              "#bd3786"
             ],
             [
              0.5555555555555556,
              "#d8576b"
             ],
             [
              0.6666666666666666,
              "#ed7953"
             ],
             [
              0.7777777777777778,
              "#fb9f3a"
             ],
             [
              0.8888888888888888,
              "#fdca26"
             ],
             [
              1,
              "#f0f921"
             ]
            ],
            "type": "heatmap"
           }
          ],
          "heatmapgl": [
           {
            "colorbar": {
             "outlinewidth": 0,
             "ticks": ""
            },
            "colorscale": [
             [
              0,
              "#0d0887"
             ],
             [
              0.1111111111111111,
              "#46039f"
             ],
             [
              0.2222222222222222,
              "#7201a8"
             ],
             [
              0.3333333333333333,
              "#9c179e"
             ],
             [
              0.4444444444444444,
              "#bd3786"
             ],
             [
              0.5555555555555556,
              "#d8576b"
             ],
             [
              0.6666666666666666,
              "#ed7953"
             ],
             [
              0.7777777777777778,
              "#fb9f3a"
             ],
             [
              0.8888888888888888,
              "#fdca26"
             ],
             [
              1,
              "#f0f921"
             ]
            ],
            "type": "heatmapgl"
           }
          ],
          "histogram": [
           {
            "marker": {
             "pattern": {
              "fillmode": "overlay",
              "size": 10,
              "solidity": 0.2
             }
            },
            "type": "histogram"
           }
          ],
          "histogram2d": [
           {
            "colorbar": {
             "outlinewidth": 0,
             "ticks": ""
            },
            "colorscale": [
             [
              0,
              "#0d0887"
             ],
             [
              0.1111111111111111,
              "#46039f"
             ],
             [
              0.2222222222222222,
              "#7201a8"
             ],
             [
              0.3333333333333333,
              "#9c179e"
             ],
             [
              0.4444444444444444,
              "#bd3786"
             ],
             [
              0.5555555555555556,
              "#d8576b"
             ],
             [
              0.6666666666666666,
              "#ed7953"
             ],
             [
              0.7777777777777778,
              "#fb9f3a"
             ],
             [
              0.8888888888888888,
              "#fdca26"
             ],
             [
              1,
              "#f0f921"
             ]
            ],
            "type": "histogram2d"
           }
          ],
          "histogram2dcontour": [
           {
            "colorbar": {
             "outlinewidth": 0,
             "ticks": ""
            },
            "colorscale": [
             [
              0,
              "#0d0887"
             ],
             [
              0.1111111111111111,
              "#46039f"
             ],
             [
              0.2222222222222222,
              "#7201a8"
             ],
             [
              0.3333333333333333,
              "#9c179e"
             ],
             [
              0.4444444444444444,
              "#bd3786"
             ],
             [
              0.5555555555555556,
              "#d8576b"
             ],
             [
              0.6666666666666666,
              "#ed7953"
             ],
             [
              0.7777777777777778,
              "#fb9f3a"
             ],
             [
              0.8888888888888888,
              "#fdca26"
             ],
             [
              1,
              "#f0f921"
             ]
            ],
            "type": "histogram2dcontour"
           }
          ],
          "mesh3d": [
           {
            "colorbar": {
             "outlinewidth": 0,
             "ticks": ""
            },
            "type": "mesh3d"
           }
          ],
          "parcoords": [
           {
            "line": {
             "colorbar": {
              "outlinewidth": 0,
              "ticks": ""
             }
            },
            "type": "parcoords"
           }
          ],
          "pie": [
           {
            "automargin": true,
            "type": "pie"
           }
          ],
          "scatter": [
           {
            "fillpattern": {
             "fillmode": "overlay",
             "size": 10,
             "solidity": 0.2
            },
            "type": "scatter"
           }
          ],
          "scatter3d": [
           {
            "line": {
             "colorbar": {
              "outlinewidth": 0,
              "ticks": ""
             }
            },
            "marker": {
             "colorbar": {
              "outlinewidth": 0,
              "ticks": ""
             }
            },
            "type": "scatter3d"
           }
          ],
          "scattercarpet": [
           {
            "marker": {
             "colorbar": {
              "outlinewidth": 0,
              "ticks": ""
             }
            },
            "type": "scattercarpet"
           }
          ],
          "scattergeo": [
           {
            "marker": {
             "colorbar": {
              "outlinewidth": 0,
              "ticks": ""
             }
            },
            "type": "scattergeo"
           }
          ],
          "scattergl": [
           {
            "marker": {
             "colorbar": {
              "outlinewidth": 0,
              "ticks": ""
             }
            },
            "type": "scattergl"
           }
          ],
          "scattermapbox": [
           {
            "marker": {
             "colorbar": {
              "outlinewidth": 0,
              "ticks": ""
             }
            },
            "type": "scattermapbox"
           }
          ],
          "scatterpolar": [
           {
            "marker": {
             "colorbar": {
              "outlinewidth": 0,
              "ticks": ""
             }
            },
            "type": "scatterpolar"
           }
          ],
          "scatterpolargl": [
           {
            "marker": {
             "colorbar": {
              "outlinewidth": 0,
              "ticks": ""
             }
            },
            "type": "scatterpolargl"
           }
          ],
          "scatterternary": [
           {
            "marker": {
             "colorbar": {
              "outlinewidth": 0,
              "ticks": ""
             }
            },
            "type": "scatterternary"
           }
          ],
          "surface": [
           {
            "colorbar": {
             "outlinewidth": 0,
             "ticks": ""
            },
            "colorscale": [
             [
              0,
              "#0d0887"
             ],
             [
              0.1111111111111111,
              "#46039f"
             ],
             [
              0.2222222222222222,
              "#7201a8"
             ],
             [
              0.3333333333333333,
              "#9c179e"
             ],
             [
              0.4444444444444444,
              "#bd3786"
             ],
             [
              0.5555555555555556,
              "#d8576b"
             ],
             [
              0.6666666666666666,
              "#ed7953"
             ],
             [
              0.7777777777777778,
              "#fb9f3a"
             ],
             [
              0.8888888888888888,
              "#fdca26"
             ],
             [
              1,
              "#f0f921"
             ]
            ],
            "type": "surface"
           }
          ],
          "table": [
           {
            "cells": {
             "fill": {
              "color": "#EBF0F8"
             },
             "line": {
              "color": "white"
             }
            },
            "header": {
             "fill": {
              "color": "#C8D4E3"
             },
             "line": {
              "color": "white"
             }
            },
            "type": "table"
           }
          ]
         },
         "layout": {
          "annotationdefaults": {
           "arrowcolor": "#2a3f5f",
           "arrowhead": 0,
           "arrowwidth": 1
          },
          "autotypenumbers": "strict",
          "coloraxis": {
           "colorbar": {
            "outlinewidth": 0,
            "ticks": ""
           }
          },
          "colorscale": {
           "diverging": [
            [
             0,
             "#8e0152"
            ],
            [
             0.1,
             "#c51b7d"
            ],
            [
             0.2,
             "#de77ae"
            ],
            [
             0.3,
             "#f1b6da"
            ],
            [
             0.4,
             "#fde0ef"
            ],
            [
             0.5,
             "#f7f7f7"
            ],
            [
             0.6,
             "#e6f5d0"
            ],
            [
             0.7,
             "#b8e186"
            ],
            [
             0.8,
             "#7fbc41"
            ],
            [
             0.9,
             "#4d9221"
            ],
            [
             1,
             "#276419"
            ]
           ],
           "sequential": [
            [
             0,
             "#0d0887"
            ],
            [
             0.1111111111111111,
             "#46039f"
            ],
            [
             0.2222222222222222,
             "#7201a8"
            ],
            [
             0.3333333333333333,
             "#9c179e"
            ],
            [
             0.4444444444444444,
             "#bd3786"
            ],
            [
             0.5555555555555556,
             "#d8576b"
            ],
            [
             0.6666666666666666,
             "#ed7953"
            ],
            [
             0.7777777777777778,
             "#fb9f3a"
            ],
            [
             0.8888888888888888,
             "#fdca26"
            ],
            [
             1,
             "#f0f921"
            ]
           ],
           "sequentialminus": [
            [
             0,
             "#0d0887"
            ],
            [
             0.1111111111111111,
             "#46039f"
            ],
            [
             0.2222222222222222,
             "#7201a8"
            ],
            [
             0.3333333333333333,
             "#9c179e"
            ],
            [
             0.4444444444444444,
             "#bd3786"
            ],
            [
             0.5555555555555556,
             "#d8576b"
            ],
            [
             0.6666666666666666,
             "#ed7953"
            ],
            [
             0.7777777777777778,
             "#fb9f3a"
            ],
            [
             0.8888888888888888,
             "#fdca26"
            ],
            [
             1,
             "#f0f921"
            ]
           ]
          },
          "colorway": [
           "#636efa",
           "#EF553B",
           "#00cc96",
           "#ab63fa",
           "#FFA15A",
           "#19d3f3",
           "#FF6692",
           "#B6E880",
           "#FF97FF",
           "#FECB52"
          ],
          "font": {
           "color": "#2a3f5f"
          },
          "geo": {
           "bgcolor": "white",
           "lakecolor": "white",
           "landcolor": "#E5ECF6",
           "showlakes": true,
           "showland": true,
           "subunitcolor": "white"
          },
          "hoverlabel": {
           "align": "left"
          },
          "hovermode": "closest",
          "mapbox": {
           "style": "light"
          },
          "paper_bgcolor": "white",
          "plot_bgcolor": "#E5ECF6",
          "polar": {
           "angularaxis": {
            "gridcolor": "white",
            "linecolor": "white",
            "ticks": ""
           },
           "bgcolor": "#E5ECF6",
           "radialaxis": {
            "gridcolor": "white",
            "linecolor": "white",
            "ticks": ""
           }
          },
          "scene": {
           "xaxis": {
            "backgroundcolor": "#E5ECF6",
            "gridcolor": "white",
            "gridwidth": 2,
            "linecolor": "white",
            "showbackground": true,
            "ticks": "",
            "zerolinecolor": "white"
           },
           "yaxis": {
            "backgroundcolor": "#E5ECF6",
            "gridcolor": "white",
            "gridwidth": 2,
            "linecolor": "white",
            "showbackground": true,
            "ticks": "",
            "zerolinecolor": "white"
           },
           "zaxis": {
            "backgroundcolor": "#E5ECF6",
            "gridcolor": "white",
            "gridwidth": 2,
            "linecolor": "white",
            "showbackground": true,
            "ticks": "",
            "zerolinecolor": "white"
           }
          },
          "shapedefaults": {
           "line": {
            "color": "#2a3f5f"
           }
          },
          "ternary": {
           "aaxis": {
            "gridcolor": "white",
            "linecolor": "white",
            "ticks": ""
           },
           "baxis": {
            "gridcolor": "white",
            "linecolor": "white",
            "ticks": ""
           },
           "bgcolor": "#E5ECF6",
           "caxis": {
            "gridcolor": "white",
            "linecolor": "white",
            "ticks": ""
           }
          },
          "title": {
           "x": 0.05
          },
          "xaxis": {
           "automargin": true,
           "gridcolor": "white",
           "linecolor": "white",
           "ticks": "",
           "title": {
            "standoff": 15
           },
           "zerolinecolor": "white",
           "zerolinewidth": 2
          },
          "yaxis": {
           "automargin": true,
           "gridcolor": "white",
           "linecolor": "white",
           "ticks": "",
           "title": {
            "standoff": 15
           },
           "zerolinecolor": "white",
           "zerolinewidth": 2
          }
         }
        },
        "title": {
         "text": "Total sales by category and season"
        },
        "xaxis": {
         "anchor": "y",
         "domain": [
          0,
          0.22999999999999998
         ],
         "title": {
          "text": "Category"
         }
        },
        "xaxis10": {
         "anchor": "y10",
         "domain": [
          0.24999999999999997,
          0.48
         ],
         "matches": "x",
         "showticklabels": false
        },
        "xaxis11": {
         "anchor": "y11",
         "domain": [
          0.49999999999999994,
          0.73
         ],
         "matches": "x",
         "showticklabels": false
        },
        "xaxis12": {
         "anchor": "y12",
         "domain": [
          0.75,
          0.98
         ],
         "matches": "x",
         "showticklabels": false
        },
        "xaxis13": {
         "anchor": "y13",
         "domain": [
          0,
          0.22999999999999998
         ],
         "matches": "x",
         "showticklabels": false
        },
        "xaxis14": {
         "anchor": "y14",
         "domain": [
          0.24999999999999997,
          0.48
         ],
         "matches": "x",
         "showticklabels": false
        },
        "xaxis15": {
         "anchor": "y15",
         "domain": [
          0.49999999999999994,
          0.73
         ],
         "matches": "x",
         "showticklabels": false
        },
        "xaxis16": {
         "anchor": "y16",
         "domain": [
          0.75,
          0.98
         ],
         "matches": "x",
         "showticklabels": false
        },
        "xaxis2": {
         "anchor": "y2",
         "domain": [
          0.24999999999999997,
          0.48
         ],
         "matches": "x",
         "title": {
          "text": "Category"
         }
        },
        "xaxis3": {
         "anchor": "y3",
         "domain": [
          0.49999999999999994,
          0.73
         ],
         "matches": "x",
         "title": {
          "text": "Category"
         }
        },
        "xaxis4": {
         "anchor": "y4",
         "domain": [
          0.75,
          0.98
         ],
         "matches": "x",
         "title": {
          "text": "Category"
         }
        },
        "xaxis5": {
         "anchor": "y5",
         "domain": [
          0,
          0.22999999999999998
         ],
         "matches": "x",
         "showticklabels": false
        },
        "xaxis6": {
         "anchor": "y6",
         "domain": [
          0.24999999999999997,
          0.48
         ],
         "matches": "x",
         "showticklabels": false
        },
        "xaxis7": {
         "anchor": "y7",
         "domain": [
          0.49999999999999994,
          0.73
         ],
         "matches": "x",
         "showticklabels": false
        },
        "xaxis8": {
         "anchor": "y8",
         "domain": [
          0.75,
          0.98
         ],
         "matches": "x",
         "showticklabels": false
        },
        "xaxis9": {
         "anchor": "y9",
         "domain": [
          0,
          0.22999999999999998
         ],
         "matches": "x",
         "showticklabels": false
        },
        "yaxis": {
         "anchor": "x",
         "domain": [
          0,
          0.2275
         ],
         "title": {
          "text": "Sales"
         }
        },
        "yaxis10": {
         "anchor": "x10",
         "domain": [
          0.515,
          0.7425
         ],
         "matches": "y",
         "showticklabels": false
        },
        "yaxis11": {
         "anchor": "x11",
         "domain": [
          0.515,
          0.7425
         ],
         "matches": "y",
         "showticklabels": false
        },
        "yaxis12": {
         "anchor": "x12",
         "domain": [
          0.515,
          0.7425
         ],
         "matches": "y",
         "showticklabels": false
        },
        "yaxis13": {
         "anchor": "x13",
         "domain": [
          0.7725,
          1
         ],
         "matches": "y",
         "title": {
          "text": "Sales"
         }
        },
        "yaxis14": {
         "anchor": "x14",
         "domain": [
          0.7725,
          1
         ],
         "matches": "y",
         "showticklabels": false
        },
        "yaxis15": {
         "anchor": "x15",
         "domain": [
          0.7725,
          1
         ],
         "matches": "y",
         "showticklabels": false
        },
        "yaxis16": {
         "anchor": "x16",
         "domain": [
          0.7725,
          1
         ],
         "matches": "y",
         "showticklabels": false
        },
        "yaxis2": {
         "anchor": "x2",
         "domain": [
          0,
          0.2275
         ],
         "matches": "y",
         "showticklabels": false
        },
        "yaxis3": {
         "anchor": "x3",
         "domain": [
          0,
          0.2275
         ],
         "matches": "y",
         "showticklabels": false
        },
        "yaxis4": {
         "anchor": "x4",
         "domain": [
          0,
          0.2275
         ],
         "matches": "y",
         "showticklabels": false
        },
        "yaxis5": {
         "anchor": "x5",
         "domain": [
          0.2575,
          0.485
         ],
         "matches": "y",
         "title": {
          "text": "Sales"
         }
        },
        "yaxis6": {
         "anchor": "x6",
         "domain": [
          0.2575,
          0.485
         ],
         "matches": "y",
         "showticklabels": false
        },
        "yaxis7": {
         "anchor": "x7",
         "domain": [
          0.2575,
          0.485
         ],
         "matches": "y",
         "showticklabels": false
        },
        "yaxis8": {
         "anchor": "x8",
         "domain": [
          0.2575,
          0.485
         ],
         "matches": "y",
         "showticklabels": false
        },
        "yaxis9": {
         "anchor": "x9",
         "domain": [
          0.515,
          0.7425
         ],
         "matches": "y",
         "title": {
          "text": "Sales"
         }
        }
       }
      }
     },
     "metadata": {},
     "output_type": "display_data"
    }
   ],
   "source": [
    "import plotly.express as px\n",
    "category_deman_sales = df_new.groupby([\"Category\",\"season\",\"Region\",\"Year\"])[[\"Sales\",\"Discount\"]].agg({\"Sales\":\"sum\",\"Discount\":\"mean\"}).reset_index()\n",
    "\n",
    "fig = px.bar(category_deman_sales, x = \"Category\" , y = \"Sales\" , color=\"season\" , facet_row=\"Year\", facet_col=\"Region\" , hover_data={\"Discount\"} , title=\"Total sales by category and season\",\n",
    "             height=800 , barmode=\"group\")\n",
    "fig.show()"
   ]
  },
  {
   "cell_type": "code",
   "execution_count": 12,
   "metadata": {},
   "outputs": [
    {
     "name": "stdout",
     "output_type": "stream",
     "text": [
      "             Category  season   Sales\n",
      "0              Bakery    fall  790425\n",
      "1              Bakery  spring  412691\n",
      "2              Bakery  summer  631072\n",
      "3              Bakery  winter  278093\n",
      "4           Beverages    fall  768570\n",
      "5           Beverages  spring  455871\n",
      "6           Beverages  summer  565334\n",
      "7           Beverages  winter  295538\n",
      "8   Eggs, Meat & Fish    fall  850397\n",
      "9   Eggs, Meat & Fish  spring  498308\n",
      "10  Eggs, Meat & Fish  summer  620230\n",
      "11  Eggs, Meat & Fish  winter  298466\n",
      "12        Food Grains    fall  790367\n",
      "13        Food Grains  spring  400311\n",
      "14        Food Grains  summer  641911\n",
      "15        Food Grains  winter  282683\n",
      "16   Fruits & Veggies    fall  777395\n",
      "17   Fruits & Veggies  spring  444006\n",
      "18   Fruits & Veggies  summer  597556\n",
      "19   Fruits & Veggies  winter  281770\n",
      "20       Oil & Masala    fall  731814\n",
      "21       Oil & Masala  spring  469174\n",
      "22       Oil & Masala  summer  536195\n",
      "23       Oil & Masala  winter  300005\n",
      "24             Snacks    fall  815067\n",
      "25             Snacks  spring  462820\n",
      "26             Snacks  summer  608160\n",
      "27             Snacks  winter  351499\n"
     ]
    }
   ],
   "source": [
    "sales_quantity = df_new.groupby([\"Category\",\"season\"])[\"Sales\"].sum().reset_index()\n",
    "print(sales_quantity)\n"
   ]
  },
  {
   "cell_type": "code",
   "execution_count": 13,
   "metadata": {},
   "outputs": [
    {
     "data": {
      "text/plain": [
       "array(['Beverages', 'Food Grains', 'Fruits & Veggies', 'Bakery', 'Snacks',\n",
       "       'Eggs, Meat & Fish', 'Oil & Masala'], dtype=object)"
      ]
     },
     "execution_count": 13,
     "metadata": {},
     "output_type": "execute_result"
    }
   ],
   "source": [
    "df_new[\"Category\"].unique()"
   ]
  },
  {
   "cell_type": "code",
   "execution_count": 14,
   "metadata": {},
   "outputs": [
    {
     "data": {
      "image/png": "[encoded data removed]",
      "text/plain": [
       "<Figure size 640x480 with 1 Axes>"
      ]
     },
     "metadata": {},
     "output_type": "display_data"
    }
   ],
   "source": [
    "import matplotlib.pyplot as plt\n",
    "\n",
    "uniqe_season = df_new[\"season\"].unique()\n",
    "bakery_sales = sales_quantity[sales_quantity[\"Category\"]==\"Bakery\"]\n",
    "\n",
    "plt.plot(uniqe_season , bakery_sales[\"Sales\"])\n",
    "plt.xlabel(\"season\")\n",
    "plt.ylabel(\"sales_quantity\")\n",
    "plt.title(\"Bakery sales\")\n",
    "plt.show()"
   ]
  },
  {
   "cell_type": "code",
   "execution_count": 15,
   "metadata": {},
   "outputs": [
    {
     "data": {
      "image/png": "[encoded data removed]",
      "text/plain": [
       "<Figure size 640x480 with 1 Axes>"
      ]
     },
     "metadata": {},
     "output_type": "display_data"
    }
   ],
   "source": [
    "Beverages_sales = sales_quantity[sales_quantity[\"Category\"]==\"Beverages\"]\n",
    "\n",
    "\n",
    "plt.plot(uniqe_season , Beverages_sales[\"Sales\"])\n",
    "plt.xlabel(\"season\")\n",
    "plt.ylabel(\"sales_quantity\")\n",
    "plt.title(\"Beverages sales\")\n",
    "plt.show()"
   ]
  },
  {
   "cell_type": "code",
   "execution_count": 16,
   "metadata": {},
   "outputs": [
    {
     "data": {
      "image/png": "[encoded data removed]",
      "text/plain": [
       "<Figure size 640x480 with 1 Axes>"
      ]
     },
     "metadata": {},
     "output_type": "display_data"
    }
   ],
   "source": [
    "things_sales = sales_quantity[sales_quantity[\"Category\"]==\"Eggs, Meat & Fish\"]\n",
    "\n",
    "\n",
    "plt.plot(uniqe_season , things_sales[\"Sales\"])\n",
    "plt.xlabel(\"season\")\n",
    "plt.ylabel(\"sales_quantity\")\n",
    "plt.title(\"Eggs, Meat & Fish sales\")\n",
    "plt.show()"
   ]
  },
  {
   "cell_type": "code",
   "execution_count": 17,
   "metadata": {},
   "outputs": [
    {
     "data": {
      "image/png": "[encoded data removed]",
      "text/plain": [
       "<Figure size 640x480 with 1 Axes>"
      ]
     },
     "metadata": {},
     "output_type": "display_data"
    }
   ],
   "source": [
    "Grains_sales = sales_quantity[sales_quantity[\"Category\"]==\"Food Grains\"]\n",
    "\n",
    "\n",
    "plt.plot(uniqe_season , Grains_sales[\"Sales\"])\n",
    "plt.xlabel(\"season\")\n",
    "plt.ylabel(\"sales_quantity\")\n",
    "plt.title(\"Food Grains sales\")\n",
    "plt.show()"
   ]
  },
  {
   "cell_type": "code",
   "execution_count": 18,
   "metadata": {},
   "outputs": [
    {
     "data": {
      "image/png": "[encoded data removed]",
      "text/plain": [
       "<Figure size 640x480 with 1 Axes>"
      ]
     },
     "metadata": {},
     "output_type": "display_data"
    }
   ],
   "source": [
    "Fruits_sales = sales_quantity[sales_quantity[\"Category\"]==\"Fruits & Veggies\"]\n",
    "\n",
    "\n",
    "\n",
    "plt.plot(uniqe_season , Fruits_sales[\"Sales\"])\n",
    "plt.xlabel(\"season\")\n",
    "plt.ylabel(\"sales_quantity\")\n",
    "plt.title(\"Fruits & Veggies sales\")\n",
    "plt.show()"
   ]
  },
  {
   "cell_type": "code",
   "execution_count": 19,
   "metadata": {},
   "outputs": [
    {
     "data": {
      "image/png": "[encoded data removed]",
      "text/plain": [
       "<Figure size 640x480 with 1 Axes>"
      ]
     },
     "metadata": {},
     "output_type": "display_data"
    }
   ],
   "source": [
    "oil_sales = sales_quantity[sales_quantity[\"Category\"]==\"Oil & Masala\"]\n",
    "\n",
    "\n",
    "\n",
    "plt.plot(uniqe_season , oil_sales[\"Sales\"])\n",
    "plt.xlabel(\"season\")\n",
    "plt.ylabel(\"sales_quantity\")\n",
    "plt.title(\"Oil & Masala sales\")\n",
    "plt.show()"
   ]
  },
  {
   "cell_type": "code",
   "execution_count": 20,
   "metadata": {},
   "outputs": [
    {
     "data": {
      "image/png": "[encoded data removed]",
      "text/plain": [
       "<Figure size 640x480 with 1 Axes>"
      ]
     },
     "metadata": {},
     "output_type": "display_data"
    }
   ],
   "source": [
    "Snacks_sales = sales_quantity[sales_quantity[\"Category\"]==\"Snacks\"]\n",
    "\n",
    "\n",
    "plt.plot(uniqe_season , Snacks_sales[\"Sales\"])\n",
    "plt.xlabel(\"season\")\n",
    "plt.ylabel(\"sales_quantity\")\n",
    "plt.title(\"Snacks sales\")\n",
    "plt.show()"
   ]
  }
 ],
 "metadata": {
  "kernelspec": {
   "display_name": "Python 3",
   "language": "python",
   "name": "python3"
  },
  "language_info": {
   "codemirror_mode": {
    "name": "ipython",
    "version": 3
   },
   "file_extension": ".py",
   "mimetype": "text/x-python",
   "name": "python",
   "nbconvert_exporter": "python",
   "pygments_lexer": "ipython3",
   "version": "3.11.7"
  }
 },
 "nbformat": 4,
 "nbformat_minor": 2
}
