{
 "cells": [
  {
   "cell_type": "markdown",
   "metadata": {},
   "source": [
    "# Tomato Demand"
   ]
  },
  {
   "cell_type": "code",
   "execution_count": 2,
   "metadata": {},
   "outputs": [],
   "source": [
    "import pandas as pd\n",
    "import numpy as np\n",
    "import matplotlib.pyplot as plt"
   ]
  },
  {
   "cell_type": "code",
   "execution_count": 3,
   "metadata": {},
   "outputs": [
    {
     "data": {
      "text/plain": [
       "'Date: Date of each sale entry.\\nQuantity Sold (kg): Volume of tomatoes sold.\\nUnit Price (₦/kg): Retail price per kilogram.\\nTotal Sales Value (₦): Calculated as Quantity Sold x Unit Price.\\nOpening Stock (kg): Stock quantity at the start of the day.\\nClosing Stock (kg): Stock quantity at the end of the day.\\nRestocked Quantity (kg): Amount added to stock within the day.\\nSupplier Name: Name of the supplier.\\nSupplier Cost (₦/kg): Cost per kilogram paid to the supplier.\\nTransport Cost (₦): Cost of transportation.\\nStore Location: Physical location of the store.\\nSeason: Season identifier, which influences pricing and demand.'"
      ]
     },
     "execution_count": 3,
     "metadata": {},
     "output_type": "execute_result"
    }
   ],
   "source": [
    "data = pd.read_csv(\"E:\\\\Parsa\\\\project of data analytics\\\\project1(tomato Demand)\\\\tomato_retail_sales_daily_2009_2022 (1).csv\")\n",
    "df = pd.DataFrame(data)\n",
    "\n",
    "\n",
    "df.head()\n",
    "\n",
    "\n",
    "\"\"\"Date: Date of each sale entry.\n",
    "Quantity Sold (kg): Volume of tomatoes sold.\n",
    "Unit Price (₦/kg): Retail price per kilogram.\n",
    "Total Sales Value (₦): Calculated as Quantity Sold x Unit Price.\n",
    "Opening Stock (kg): Stock quantity at the start of the day.\n",
    "Closing Stock (kg): Stock quantity at the end of the day.\n",
    "Restocked Quantity (kg): Amount added to stock within the day.\n",
    "Supplier Name: Name of the supplier.\n",
    "Supplier Cost (₦/kg): Cost per kilogram paid to the supplier.\n",
    "Transport Cost (₦): Cost of transportation.\n",
    "Store Location: Physical location of the store.\n",
    "Season: Season identifier, which influences pricing and demand.\"\"\"\n",
    "\n",
    "\n"
   ]
  },
  {
   "cell_type": "code",
   "execution_count": 4,
   "metadata": {},
   "outputs": [
    {
     "data": {
      "text/html": [
       "<div>\n",
       "<style scoped>\n",
       "    .dataframe tbody tr th:only-of-type {\n",
       "        vertical-align: middle;\n",
       "    }\n",
       "\n",
       "    .dataframe tbody tr th {\n",
       "        vertical-align: top;\n",
       "    }\n",
       "\n",
       "    .dataframe thead th {\n",
       "        text-align: right;\n",
       "    }\n",
       "</style>\n",
       "<table border=\"1\" class=\"dataframe\">\n",
       "  <thead>\n",
       "    <tr style=\"text-align: right;\">\n",
       "      <th></th>\n",
       "      <th>Quantity Sold (kg)</th>\n",
       "      <th>Unit Price (NGN)</th>\n",
       "      <th>Total Sales Value (NGN)</th>\n",
       "      <th>Opening Stock (kg)</th>\n",
       "      <th>Closing Stock (kg)</th>\n",
       "      <th>Restocked Quantity (kg)</th>\n",
       "      <th>Supplier Cost (NGN)</th>\n",
       "      <th>Transport Cost (NGN)</th>\n",
       "    </tr>\n",
       "  </thead>\n",
       "  <tbody>\n",
       "    <tr>\n",
       "      <th>count</th>\n",
       "      <td>5052.000000</td>\n",
       "      <td>5052.000000</td>\n",
       "      <td>5052.000000</td>\n",
       "      <td>5052.000000</td>\n",
       "      <td>5052.000000</td>\n",
       "      <td>5052.000000</td>\n",
       "      <td>5052.000000</td>\n",
       "      <td>5052.000000</td>\n",
       "    </tr>\n",
       "    <tr>\n",
       "      <th>mean</th>\n",
       "      <td>174.524347</td>\n",
       "      <td>239.357878</td>\n",
       "      <td>40463.985154</td>\n",
       "      <td>200.080958</td>\n",
       "      <td>74.958828</td>\n",
       "      <td>125.541172</td>\n",
       "      <td>191.567894</td>\n",
       "      <td>6482.184086</td>\n",
       "    </tr>\n",
       "    <tr>\n",
       "      <th>std</th>\n",
       "      <td>64.448890</td>\n",
       "      <td>62.233921</td>\n",
       "      <td>15717.410041</td>\n",
       "      <td>57.339248</td>\n",
       "      <td>89.820772</td>\n",
       "      <td>69.498758</td>\n",
       "      <td>52.385025</td>\n",
       "      <td>2018.278625</td>\n",
       "    </tr>\n",
       "    <tr>\n",
       "      <th>min</th>\n",
       "      <td>50.000000</td>\n",
       "      <td>120.000000</td>\n",
       "      <td>9298.000000</td>\n",
       "      <td>100.000000</td>\n",
       "      <td>-178.000000</td>\n",
       "      <td>0.000000</td>\n",
       "      <td>85.000000</td>\n",
       "      <td>3000.000000</td>\n",
       "    </tr>\n",
       "    <tr>\n",
       "      <th>25%</th>\n",
       "      <td>124.000000</td>\n",
       "      <td>192.000000</td>\n",
       "      <td>28174.750000</td>\n",
       "      <td>151.000000</td>\n",
       "      <td>13.000000</td>\n",
       "      <td>72.000000</td>\n",
       "      <td>153.000000</td>\n",
       "      <td>4759.750000</td>\n",
       "    </tr>\n",
       "    <tr>\n",
       "      <th>50%</th>\n",
       "      <td>169.000000</td>\n",
       "      <td>232.000000</td>\n",
       "      <td>38675.000000</td>\n",
       "      <td>200.000000</td>\n",
       "      <td>76.000000</td>\n",
       "      <td>120.000000</td>\n",
       "      <td>185.000000</td>\n",
       "      <td>6497.000000</td>\n",
       "    </tr>\n",
       "    <tr>\n",
       "      <th>75%</th>\n",
       "      <td>225.000000</td>\n",
       "      <td>279.000000</td>\n",
       "      <td>50770.250000</td>\n",
       "      <td>249.000000</td>\n",
       "      <td>139.000000</td>\n",
       "      <td>177.000000</td>\n",
       "      <td>225.000000</td>\n",
       "      <td>8254.000000</td>\n",
       "    </tr>\n",
       "    <tr>\n",
       "      <th>max</th>\n",
       "      <td>299.000000</td>\n",
       "      <td>420.000000</td>\n",
       "      <td>95627.000000</td>\n",
       "      <td>299.000000</td>\n",
       "      <td>332.000000</td>\n",
       "      <td>296.000000</td>\n",
       "      <td>372.000000</td>\n",
       "      <td>9996.000000</td>\n",
       "    </tr>\n",
       "  </tbody>\n",
       "</table>\n",
       "</div>"
      ],
      "text/plain": [
       "       Quantity Sold (kg)  Unit Price (NGN)  Total Sales Value (NGN)  \\\n",
       "count         5052.000000       5052.000000              5052.000000   \n",
       "mean           174.524347        239.357878             40463.985154   \n",
       "std             64.448890         62.233921             15717.410041   \n",
       "min             50.000000        120.000000              9298.000000   \n",
       "25%            124.000000        192.000000             28174.750000   \n",
       "50%            169.000000        232.000000             38675.000000   \n",
       "75%            225.000000        279.000000             50770.250000   \n",
       "max            299.000000        420.000000             95627.000000   \n",
       "\n",
       "       Opening Stock (kg)  Closing Stock (kg)  Restocked Quantity (kg)  \\\n",
       "count         5052.000000         5052.000000              5052.000000   \n",
       "mean           200.080958           74.958828               125.541172   \n",
       "std             57.339248           89.820772                69.498758   \n",
       "min            100.000000         -178.000000                 0.000000   \n",
       "25%            151.000000           13.000000                72.000000   \n",
       "50%            200.000000           76.000000               120.000000   \n",
       "75%            249.000000          139.000000               177.000000   \n",
       "max            299.000000          332.000000               296.000000   \n",
       "\n",
       "       Supplier Cost (NGN)  Transport Cost (NGN)  \n",
       "count          5052.000000           5052.000000  \n",
       "mean            191.567894           6482.184086  \n",
       "std              52.385025           2018.278625  \n",
       "min              85.000000           3000.000000  \n",
       "25%             153.000000           4759.750000  \n",
       "50%             185.000000           6497.000000  \n",
       "75%             225.000000           8254.000000  \n",
       "max             372.000000           9996.000000  "
      ]
     },
     "execution_count": 4,
     "metadata": {},
     "output_type": "execute_result"
    }
   ],
   "source": [
    "df.describe()\n"
   ]
  },
  {
   "cell_type": "code",
   "execution_count": 5,
   "metadata": {},
   "outputs": [],
   "source": [
    "df = df.drop([\"Supplier Name\",\"Store Location\"], axis=1)"
   ]
  },
  {
   "cell_type": "code",
   "execution_count": 6,
   "metadata": {},
   "outputs": [
    {
     "data": {
      "text/plain": [
       "{'mean': 174.52434679334917,\n",
       " 'median': 169.0,\n",
       " 'Standard deviation': 64.44889040495333,\n",
       " 'variance': 4153.659474429686}"
      ]
     },
     "execution_count": 6,
     "metadata": {},
     "output_type": "execute_result"
    }
   ],
   "source": [
    "checking_Quantity_Sold = {\n",
    "    \"mean\": df[\"Quantity Sold (kg)\"].mean() ,\n",
    "    \"median\" : df[\"Quantity Sold (kg)\"].median() ,\n",
    "    \"Standard deviation\" :df[\"Quantity Sold (kg)\"].std() ,\n",
    "    \"variance\"  : df[\"Quantity Sold (kg)\"].var()  }\t\n",
    "\n",
    "checking_Quantity_Sold"
   ]
  },
  {
   "cell_type": "markdown",
   "metadata": {},
   "source": [
    "### Examining the effect of seasons on sales volume"
   ]
  },
  {
   "cell_type": "code",
   "execution_count": 7,
   "metadata": {},
   "outputs": [],
   "source": [
    "\n",
    "df[\"Date\"] = df[\"Date\"].astype(str)\n",
    "\n",
    "df[\"Date\"] = df[\"Date\"].str.replace(\"/\", \"-\")\n",
    "\n",
    "df[\"Date\"] = pd.to_datetime(df[\"Date\"], errors='coerce')  \n",
    "\n"
   ]
  },
  {
   "cell_type": "code",
   "execution_count": 8,
   "metadata": {},
   "outputs": [
    {
     "name": "stdout",
     "output_type": "stream",
     "text": [
      "int32\n",
      "0        1\n",
      "1        1\n",
      "2        1\n",
      "3        1\n",
      "4        1\n",
      "        ..\n",
      "5047    10\n",
      "5048    10\n",
      "5049    10\n",
      "5050    10\n",
      "5051    10\n",
      "Name: month, Length: 5052, dtype: int32\n"
     ]
    }
   ],
   "source": [
    "\n",
    "df[\"month\"] = df[\"Date\"].dt.month\n",
    "df[\"year\"] = df[\"Date\"].dt.year\n",
    "df[\"day of week\"] = df[\"Date\"].dt.dayofweek\n",
    "print(df[\"month\"].dtype)\n",
    "print(df[\"month\"])"
   ]
  },
  {
   "cell_type": "code",
   "execution_count": 10,
   "metadata": {},
   "outputs": [
    {
     "name": "stdout",
     "output_type": "stream",
     "text": [
      "      month month_of_season\n",
      "0         1          winter\n",
      "1         1          winter\n",
      "2         1          winter\n",
      "3         1          winter\n",
      "4         1          winter\n",
      "...     ...             ...\n",
      "5047     10            fall\n",
      "5048     10            fall\n",
      "5049     10            fall\n",
      "5050     10            fall\n",
      "5051     10            fall\n",
      "\n",
      "[5052 rows x 2 columns]\n"
     ]
    }
   ],
   "source": [
    "season_map = {1:\"winter\",2:\"winter\",3:\"winter\",4:\"spring\",5:\"spring\",6:\"spring\",7:\"summer\",8:\"summer\",9:\"summer\",10:\"fall\",11:\"fall\",12:\"fall\"}\n",
    "df[\"month_of_season\"] = df[\"month\"].map(season_map)\n",
    "print(df[[\"month\",\"month_of_season\"]])\n"
   ]
  },
  {
   "cell_type": "code",
   "execution_count": 23,
   "metadata": {},
   "outputs": [
    {
     "data": {
      "text/html": [
       "<div>\n",
       "<style scoped>\n",
       "    .dataframe tbody tr th:only-of-type {\n",
       "        vertical-align: middle;\n",
       "    }\n",
       "\n",
       "    .dataframe tbody tr th {\n",
       "        vertical-align: top;\n",
       "    }\n",
       "\n",
       "    .dataframe thead th {\n",
       "        text-align: right;\n",
       "    }\n",
       "</style>\n",
       "<table border=\"1\" class=\"dataframe\">\n",
       "  <thead>\n",
       "    <tr style=\"text-align: right;\">\n",
       "      <th></th>\n",
       "      <th>Date</th>\n",
       "      <th>Quantity Sold (kg)</th>\n",
       "      <th>Unit Price (NGN)</th>\n",
       "      <th>Total Sales Value (NGN)</th>\n",
       "      <th>Opening Stock (kg)</th>\n",
       "      <th>Closing Stock (kg)</th>\n",
       "      <th>Restocked Quantity (kg)</th>\n",
       "      <th>Supplier Cost (NGN)</th>\n",
       "      <th>Transport Cost (NGN)</th>\n",
       "      <th>Season</th>\n",
       "      <th>month</th>\n",
       "      <th>year</th>\n",
       "      <th>day of week</th>\n",
       "      <th>month_of_season</th>\n",
       "    </tr>\n",
       "  </thead>\n",
       "  <tbody>\n",
       "    <tr>\n",
       "      <th>0</th>\n",
       "      <td>2009-01-01</td>\n",
       "      <td>139</td>\n",
       "      <td>168</td>\n",
       "      <td>23421</td>\n",
       "      <td>263</td>\n",
       "      <td>163</td>\n",
       "      <td>100</td>\n",
       "      <td>127</td>\n",
       "      <td>4690</td>\n",
       "      <td>Dry Season</td>\n",
       "      <td>1</td>\n",
       "      <td>2009</td>\n",
       "      <td>3</td>\n",
       "      <td>winter</td>\n",
       "    </tr>\n",
       "    <tr>\n",
       "      <th>1</th>\n",
       "      <td>2009-01-02</td>\n",
       "      <td>208</td>\n",
       "      <td>155</td>\n",
       "      <td>32261</td>\n",
       "      <td>179</td>\n",
       "      <td>57</td>\n",
       "      <td>122</td>\n",
       "      <td>122</td>\n",
       "      <td>5485</td>\n",
       "      <td>Dry Season</td>\n",
       "      <td>1</td>\n",
       "      <td>2009</td>\n",
       "      <td>4</td>\n",
       "      <td>winter</td>\n",
       "    </tr>\n",
       "    <tr>\n",
       "      <th>2</th>\n",
       "      <td>2009-01-03</td>\n",
       "      <td>287</td>\n",
       "      <td>157</td>\n",
       "      <td>45119</td>\n",
       "      <td>211</td>\n",
       "      <td>9</td>\n",
       "      <td>202</td>\n",
       "      <td>128</td>\n",
       "      <td>3676</td>\n",
       "      <td>Dry Season</td>\n",
       "      <td>1</td>\n",
       "      <td>2009</td>\n",
       "      <td>5</td>\n",
       "      <td>winter</td>\n",
       "    </tr>\n",
       "    <tr>\n",
       "      <th>3</th>\n",
       "      <td>2009-01-04</td>\n",
       "      <td>118</td>\n",
       "      <td>153</td>\n",
       "      <td>18022</td>\n",
       "      <td>280</td>\n",
       "      <td>240</td>\n",
       "      <td>40</td>\n",
       "      <td>110</td>\n",
       "      <td>3538</td>\n",
       "      <td>Dry Season</td>\n",
       "      <td>1</td>\n",
       "      <td>2009</td>\n",
       "      <td>6</td>\n",
       "      <td>winter</td>\n",
       "    </tr>\n",
       "    <tr>\n",
       "      <th>4</th>\n",
       "      <td>2009-01-05</td>\n",
       "      <td>188</td>\n",
       "      <td>127</td>\n",
       "      <td>23788</td>\n",
       "      <td>244</td>\n",
       "      <td>85</td>\n",
       "      <td>159</td>\n",
       "      <td>94</td>\n",
       "      <td>6816</td>\n",
       "      <td>Dry Season</td>\n",
       "      <td>1</td>\n",
       "      <td>2009</td>\n",
       "      <td>0</td>\n",
       "      <td>winter</td>\n",
       "    </tr>\n",
       "    <tr>\n",
       "      <th>...</th>\n",
       "      <td>...</td>\n",
       "      <td>...</td>\n",
       "      <td>...</td>\n",
       "      <td>...</td>\n",
       "      <td>...</td>\n",
       "      <td>...</td>\n",
       "      <td>...</td>\n",
       "      <td>...</td>\n",
       "      <td>...</td>\n",
       "      <td>...</td>\n",
       "      <td>...</td>\n",
       "      <td>...</td>\n",
       "      <td>...</td>\n",
       "      <td>...</td>\n",
       "    </tr>\n",
       "    <tr>\n",
       "      <th>5047</th>\n",
       "      <td>2022-10-27</td>\n",
       "      <td>159</td>\n",
       "      <td>259</td>\n",
       "      <td>41115</td>\n",
       "      <td>197</td>\n",
       "      <td>128</td>\n",
       "      <td>69</td>\n",
       "      <td>204</td>\n",
       "      <td>9306</td>\n",
       "      <td>Dry Season</td>\n",
       "      <td>10</td>\n",
       "      <td>2022</td>\n",
       "      <td>3</td>\n",
       "      <td>fall</td>\n",
       "    </tr>\n",
       "    <tr>\n",
       "      <th>5048</th>\n",
       "      <td>2022-10-28</td>\n",
       "      <td>158</td>\n",
       "      <td>226</td>\n",
       "      <td>35710</td>\n",
       "      <td>232</td>\n",
       "      <td>144</td>\n",
       "      <td>88</td>\n",
       "      <td>160</td>\n",
       "      <td>3057</td>\n",
       "      <td>Dry Season</td>\n",
       "      <td>10</td>\n",
       "      <td>2022</td>\n",
       "      <td>4</td>\n",
       "      <td>fall</td>\n",
       "    </tr>\n",
       "    <tr>\n",
       "      <th>5049</th>\n",
       "      <td>2022-10-29</td>\n",
       "      <td>159</td>\n",
       "      <td>314</td>\n",
       "      <td>49886</td>\n",
       "      <td>237</td>\n",
       "      <td>127</td>\n",
       "      <td>110</td>\n",
       "      <td>233</td>\n",
       "      <td>5309</td>\n",
       "      <td>Dry Season</td>\n",
       "      <td>10</td>\n",
       "      <td>2022</td>\n",
       "      <td>5</td>\n",
       "      <td>fall</td>\n",
       "    </tr>\n",
       "    <tr>\n",
       "      <th>5050</th>\n",
       "      <td>2022-10-30</td>\n",
       "      <td>113</td>\n",
       "      <td>229</td>\n",
       "      <td>25891</td>\n",
       "      <td>230</td>\n",
       "      <td>192</td>\n",
       "      <td>38</td>\n",
       "      <td>186</td>\n",
       "      <td>3238</td>\n",
       "      <td>Dry Season</td>\n",
       "      <td>10</td>\n",
       "      <td>2022</td>\n",
       "      <td>6</td>\n",
       "      <td>fall</td>\n",
       "    </tr>\n",
       "    <tr>\n",
       "      <th>5051</th>\n",
       "      <td>2022-10-31</td>\n",
       "      <td>177</td>\n",
       "      <td>267</td>\n",
       "      <td>47344</td>\n",
       "      <td>173</td>\n",
       "      <td>6</td>\n",
       "      <td>167</td>\n",
       "      <td>233</td>\n",
       "      <td>6718</td>\n",
       "      <td>Dry Season</td>\n",
       "      <td>10</td>\n",
       "      <td>2022</td>\n",
       "      <td>0</td>\n",
       "      <td>fall</td>\n",
       "    </tr>\n",
       "  </tbody>\n",
       "</table>\n",
       "<p>5052 rows × 14 columns</p>\n",
       "</div>"
      ],
      "text/plain": [
       "           Date  Quantity Sold (kg)  Unit Price (NGN)  \\\n",
       "0    2009-01-01                 139               168   \n",
       "1    2009-01-02                 208               155   \n",
       "2    2009-01-03                 287               157   \n",
       "3    2009-01-04                 118               153   \n",
       "4    2009-01-05                 188               127   \n",
       "...         ...                 ...               ...   \n",
       "5047 2022-10-27                 159               259   \n",
       "5048 2022-10-28                 158               226   \n",
       "5049 2022-10-29                 159               314   \n",
       "5050 2022-10-30                 113               229   \n",
       "5051 2022-10-31                 177               267   \n",
       "\n",
       "      Total Sales Value (NGN)  Opening Stock (kg)  Closing Stock (kg)  \\\n",
       "0                       23421                 263                 163   \n",
       "1                       32261                 179                  57   \n",
       "2                       45119                 211                   9   \n",
       "3                       18022                 280                 240   \n",
       "4                       23788                 244                  85   \n",
       "...                       ...                 ...                 ...   \n",
       "5047                    41115                 197                 128   \n",
       "5048                    35710                 232                 144   \n",
       "5049                    49886                 237                 127   \n",
       "5050                    25891                 230                 192   \n",
       "5051                    47344                 173                   6   \n",
       "\n",
       "      Restocked Quantity (kg)  Supplier Cost (NGN)  Transport Cost (NGN)  \\\n",
       "0                         100                  127                  4690   \n",
       "1                         122                  122                  5485   \n",
       "2                         202                  128                  3676   \n",
       "3                          40                  110                  3538   \n",
       "4                         159                   94                  6816   \n",
       "...                       ...                  ...                   ...   \n",
       "5047                       69                  204                  9306   \n",
       "5048                       88                  160                  3057   \n",
       "5049                      110                  233                  5309   \n",
       "5050                       38                  186                  3238   \n",
       "5051                      167                  233                  6718   \n",
       "\n",
       "          Season  month  year  day of week month_of_season  \n",
       "0     Dry Season      1  2009            3          winter  \n",
       "1     Dry Season      1  2009            4          winter  \n",
       "2     Dry Season      1  2009            5          winter  \n",
       "3     Dry Season      1  2009            6          winter  \n",
       "4     Dry Season      1  2009            0          winter  \n",
       "...          ...    ...   ...          ...             ...  \n",
       "5047  Dry Season     10  2022            3            fall  \n",
       "5048  Dry Season     10  2022            4            fall  \n",
       "5049  Dry Season     10  2022            5            fall  \n",
       "5050  Dry Season     10  2022            6            fall  \n",
       "5051  Dry Season     10  2022            0            fall  \n",
       "\n",
       "[5052 rows x 14 columns]"
      ]
     },
     "execution_count": 23,
     "metadata": {},
     "output_type": "execute_result"
    }
   ],
   "source": [
    "df"
   ]
  },
  {
   "cell_type": "code",
   "execution_count": 36,
   "metadata": {},
   "outputs": [
    {
     "data": {
      "application/vnd.plotly.v1+json": {
       "config": {
        "plotlyServerURL": "https://plot.ly"
       },
       "data": [
        {
         "alignmentgroup": "True",
         "hovertemplate": "month_of_season=fall<br>year=2009<br>Season=Dry Season<br>month=%{x}<br>Quantity Sold (kg)=%{y}<extra></extra>",
         "legendgroup": "fall",
         "marker": {
          "color": "#636efa",
          "pattern": {
           "shape": ""
          }
         },
         "name": "fall",
         "offsetgroup": "fall",
         "orientation": "v",
         "showlegend": true,
         "textposition": "auto",
         "type": "bar",
         "x": [
          10,
          11,
          12
         ],
         "xaxis": "x27",
         "y": [
          6491,
          5677,
          5966
         ],
         "yaxis": "y27"
        },
        {
         "alignmentgroup": "True",
         "hovertemplate": "month_of_season=fall<br>year=2010<br>Season=Dry Season<br>month=%{x}<br>Quantity Sold (kg)=%{y}<extra></extra>",
         "legendgroup": "fall",
         "marker": {
          "color": "#636efa",
          "pattern": {
           "shape": ""
          }
         },
         "name": "fall",
         "offsetgroup": "fall",
         "orientation": "v",
         "showlegend": false,
         "textposition": "auto",
         "type": "bar",
         "x": [
          10,
          11,
          12
         ],
         "xaxis": "x25",
         "y": [
          6350,
          5776,
          6413
         ],
         "yaxis": "y25"
        },
        {
         "alignmentgroup": "True",
         "hovertemplate": "month_of_season=fall<br>year=2011<br>Season=Dry Season<br>month=%{x}<br>Quantity Sold (kg)=%{y}<extra></extra>",
         "legendgroup": "fall",
         "marker": {
          "color": "#636efa",
          "pattern": {
           "shape": ""
          }
         },
         "name": "fall",
         "offsetgroup": "fall",
         "orientation": "v",
         "showlegend": false,
         "textposition": "auto",
         "type": "bar",
         "x": [
          10,
          11,
          12
         ],
         "xaxis": "x23",
         "y": [
          5928,
          5887,
          6984
         ],
         "yaxis": "y23"
        },
        {
         "alignmentgroup": "True",
         "hovertemplate": "month_of_season=fall<br>year=2012<br>Season=Dry Season<br>month=%{x}<br>Quantity Sold (kg)=%{y}<extra></extra>",
         "legendgroup": "fall",
         "marker": {
          "color": "#636efa",
          "pattern": {
           "shape": ""
          }
         },
         "name": "fall",
         "offsetgroup": "fall",
         "orientation": "v",
         "showlegend": false,
         "textposition": "auto",
         "type": "bar",
         "x": [
          10,
          11,
          12
         ],
         "xaxis": "x21",
         "y": [
          6238,
          6140,
          6401
         ],
         "yaxis": "y21"
        },
        {
         "alignmentgroup": "True",
         "hovertemplate": "month_of_season=fall<br>year=2013<br>Season=Dry Season<br>month=%{x}<br>Quantity Sold (kg)=%{y}<extra></extra>",
         "legendgroup": "fall",
         "marker": {
          "color": "#636efa",
          "pattern": {
           "shape": ""
          }
         },
         "name": "fall",
         "offsetgroup": "fall",
         "orientation": "v",
         "showlegend": false,
         "textposition": "auto",
         "type": "bar",
         "x": [
          10,
          11,
          12
         ],
         "xaxis": "x19",
         "y": [
          6510,
          5563,
          5873
         ],
         "yaxis": "y19"
        },
        {
         "alignmentgroup": "True",
         "hovertemplate": "month_of_season=fall<br>year=2014<br>Season=Dry Season<br>month=%{x}<br>Quantity Sold (kg)=%{y}<extra></extra>",
         "legendgroup": "fall",
         "marker": {
          "color": "#636efa",
          "pattern": {
           "shape": ""
          }
         },
         "name": "fall",
         "offsetgroup": "fall",
         "orientation": "v",
         "showlegend": false,
         "textposition": "auto",
         "type": "bar",
         "x": [
          10,
          11,
          12
         ],
         "xaxis": "x17",
         "y": [
          5905,
          6002,
          6488
         ],
         "yaxis": "y17"
        },
        {
         "alignmentgroup": "True",
         "hovertemplate": "month_of_season=fall<br>year=2015<br>Season=Dry Season<br>month=%{x}<br>Quantity Sold (kg)=%{y}<extra></extra>",
         "legendgroup": "fall",
         "marker": {
          "color": "#636efa",
          "pattern": {
           "shape": ""
          }
         },
         "name": "fall",
         "offsetgroup": "fall",
         "orientation": "v",
         "showlegend": false,
         "textposition": "auto",
         "type": "bar",
         "x": [
          10,
          11,
          12
         ],
         "xaxis": "x15",
         "y": [
          6004,
          5584,
          6341
         ],
         "yaxis": "y15"
        },
        {
         "alignmentgroup": "True",
         "hovertemplate": "month_of_season=fall<br>year=2016<br>Season=Dry Season<br>month=%{x}<br>Quantity Sold (kg)=%{y}<extra></extra>",
         "legendgroup": "fall",
         "marker": {
          "color": "#636efa",
          "pattern": {
           "shape": ""
          }
         },
         "name": "fall",
         "offsetgroup": "fall",
         "orientation": "v",
         "showlegend": false,
         "textposition": "auto",
         "type": "bar",
         "x": [
          10,
          11,
          12
         ],
         "xaxis": "x13",
         "y": [
          6169,
          6251,
          6157
         ],
         "yaxis": "y13"
        },
        {
         "alignmentgroup": "True",
         "hovertemplate": "month_of_season=fall<br>year=2017<br>Season=Dry Season<br>month=%{x}<br>Quantity Sold (kg)=%{y}<extra></extra>",
         "legendgroup": "fall",
         "marker": {
          "color": "#636efa",
          "pattern": {
           "shape": ""
          }
         },
         "name": "fall",
         "offsetgroup": "fall",
         "orientation": "v",
         "showlegend": false,
         "textposition": "auto",
         "type": "bar",
         "x": [
          10,
          11,
          12
         ],
         "xaxis": "x11",
         "y": [
          5933,
          6261,
          5644
         ],
         "yaxis": "y11"
        },
        {
         "alignmentgroup": "True",
         "hovertemplate": "month_of_season=fall<br>year=2018<br>Season=Dry Season<br>month=%{x}<br>Quantity Sold (kg)=%{y}<extra></extra>",
         "legendgroup": "fall",
         "marker": {
          "color": "#636efa",
          "pattern": {
           "shape": ""
          }
         },
         "name": "fall",
         "offsetgroup": "fall",
         "orientation": "v",
         "showlegend": false,
         "textposition": "auto",
         "type": "bar",
         "x": [
          10,
          11,
          12
         ],
         "xaxis": "x9",
         "y": [
          6221,
          5344,
          6233
         ],
         "yaxis": "y9"
        },
        {
         "alignmentgroup": "True",
         "hovertemplate": "month_of_season=fall<br>year=2019<br>Season=Dry Season<br>month=%{x}<br>Quantity Sold (kg)=%{y}<extra></extra>",
         "legendgroup": "fall",
         "marker": {
          "color": "#636efa",
          "pattern": {
           "shape": ""
          }
         },
         "name": "fall",
         "offsetgroup": "fall",
         "orientation": "v",
         "showlegend": false,
         "textposition": "auto",
         "type": "bar",
         "x": [
          10,
          11,
          12
         ],
         "xaxis": "x7",
         "y": [
          6000,
          6277,
          5980
         ],
         "yaxis": "y7"
        },
        {
         "alignmentgroup": "True",
         "hovertemplate": "month_of_season=fall<br>year=2020<br>Season=Dry Season<br>month=%{x}<br>Quantity Sold (kg)=%{y}<extra></extra>",
         "legendgroup": "fall",
         "marker": {
          "color": "#636efa",
          "pattern": {
           "shape": ""
          }
         },
         "name": "fall",
         "offsetgroup": "fall",
         "orientation": "v",
         "showlegend": false,
         "textposition": "auto",
         "type": "bar",
         "x": [
          10,
          11,
          12
         ],
         "xaxis": "x5",
         "y": [
          6614,
          6073,
          5983
         ],
         "yaxis": "y5"
        },
        {
         "alignmentgroup": "True",
         "hovertemplate": "month_of_season=fall<br>year=2021<br>Season=Dry Season<br>month=%{x}<br>Quantity Sold (kg)=%{y}<extra></extra>",
         "legendgroup": "fall",
         "marker": {
          "color": "#636efa",
          "pattern": {
           "shape": ""
          }
         },
         "name": "fall",
         "offsetgroup": "fall",
         "orientation": "v",
         "showlegend": false,
         "textposition": "auto",
         "type": "bar",
         "x": [
          10,
          11,
          12
         ],
         "xaxis": "x3",
         "y": [
          5911,
          6718,
          6698
         ],
         "yaxis": "y3"
        },
        {
         "alignmentgroup": "True",
         "hovertemplate": "month_of_season=fall<br>year=2022<br>Season=Dry Season<br>month=%{x}<br>Quantity Sold (kg)=%{y}<extra></extra>",
         "legendgroup": "fall",
         "marker": {
          "color": "#636efa",
          "pattern": {
           "shape": ""
          }
         },
         "name": "fall",
         "offsetgroup": "fall",
         "orientation": "v",
         "showlegend": false,
         "textposition": "auto",
         "type": "bar",
         "x": [
          10
         ],
         "xaxis": "x",
         "y": [
          5468
         ],
         "yaxis": "y"
        },
        {
         "alignmentgroup": "True",
         "hovertemplate": "month_of_season=spring<br>year=2009<br>Season=Dry Season<br>month=%{x}<br>Quantity Sold (kg)=%{y}<extra></extra>",
         "legendgroup": "spring",
         "marker": {
          "color": "#EF553B",
          "pattern": {
           "shape": ""
          }
         },
         "name": "spring",
         "offsetgroup": "spring",
         "orientation": "v",
         "showlegend": true,
         "textposition": "auto",
         "type": "bar",
         "x": [
          4,
          5
         ],
         "xaxis": "x27",
         "y": [
          5796,
          5822
         ],
         "yaxis": "y27"
        },
        {
         "alignmentgroup": "True",
         "hovertemplate": "month_of_season=spring<br>year=2009<br>Season=Rainy Season<br>month=%{x}<br>Quantity Sold (kg)=%{y}<extra></extra>",
         "legendgroup": "spring",
         "marker": {
          "color": "#EF553B",
          "pattern": {
           "shape": ""
          }
         },
         "name": "spring",
         "offsetgroup": "spring",
         "orientation": "v",
         "showlegend": false,
         "textposition": "auto",
         "type": "bar",
         "x": [
          6
         ],
         "xaxis": "x28",
         "y": [
          3542
         ],
         "yaxis": "y28"
        },
        {
         "alignmentgroup": "True",
         "hovertemplate": "month_of_season=spring<br>year=2010<br>Season=Dry Season<br>month=%{x}<br>Quantity Sold (kg)=%{y}<extra></extra>",
         "legendgroup": "spring",
         "marker": {
          "color": "#EF553B",
          "pattern": {
           "shape": ""
          }
         },
         "name": "spring",
         "offsetgroup": "spring",
         "orientation": "v",
         "showlegend": false,
         "textposition": "auto",
         "type": "bar",
         "x": [
          4,
          5
         ],
         "xaxis": "x25",
         "y": [
          5822,
          6179
         ],
         "yaxis": "y25"
        },
        {
         "alignmentgroup": "True",
         "hovertemplate": "month_of_season=spring<br>year=2010<br>Season=Rainy Season<br>month=%{x}<br>Quantity Sold (kg)=%{y}<extra></extra>",
         "legendgroup": "spring",
         "marker": {
          "color": "#EF553B",
          "pattern": {
           "shape": ""
          }
         },
         "name": "spring",
         "offsetgroup": "spring",
         "orientation": "v",
         "showlegend": false,
         "textposition": "auto",
         "type": "bar",
         "x": [
          6
         ],
         "xaxis": "x26",
         "y": [
          4091
         ],
         "yaxis": "y26"
        },
        {
         "alignmentgroup": "True",
         "hovertemplate": "month_of_season=spring<br>year=2011<br>Season=Dry Season<br>month=%{x}<br>Quantity Sold (kg)=%{y}<extra></extra>",
         "legendgroup": "spring",
         "marker": {
          "color": "#EF553B",
          "pattern": {
           "shape": ""
          }
         },
         "name": "spring",
         "offsetgroup": "spring",
         "orientation": "v",
         "showlegend": false,
         "textposition": "auto",
         "type": "bar",
         "x": [
          4,
          5
         ],
         "xaxis": "x23",
         "y": [
          5782,
          6678
         ],
         "yaxis": "y23"
        },
        {
         "alignmentgroup": "True",
         "hovertemplate": "month_of_season=spring<br>year=2011<br>Season=Rainy Season<br>month=%{x}<br>Quantity Sold (kg)=%{y}<extra></extra>",
         "legendgroup": "spring",
         "marker": {
          "color": "#EF553B",
          "pattern": {
           "shape": ""
          }
         },
         "name": "spring",
         "offsetgroup": "spring",
         "orientation": "v",
         "showlegend": false,
         "textposition": "auto",
         "type": "bar",
         "x": [
          6
         ],
         "xaxis": "x24",
         "y": [
          3681
         ],
         "yaxis": "y24"
        },
        {
         "alignmentgroup": "True",
         "hovertemplate": "month_of_season=spring<br>year=2012<br>Season=Dry Season<br>month=%{x}<br>Quantity Sold (kg)=%{y}<extra></extra>",
         "legendgroup": "spring",
         "marker": {
          "color": "#EF553B",
          "pattern": {
           "shape": ""
          }
         },
         "name": "spring",
         "offsetgroup": "spring",
         "orientation": "v",
         "showlegend": false,
         "textposition": "auto",
         "type": "bar",
         "x": [
          4,
          5
         ],
         "xaxis": "x21",
         "y": [
          6087,
          5464
         ],
         "yaxis": "y21"
        },
        {
         "alignmentgroup": "True",
         "hovertemplate": "month_of_season=spring<br>year=2012<br>Season=Rainy Season<br>month=%{x}<br>Quantity Sold (kg)=%{y}<extra></extra>",
         "legendgroup": "spring",
         "marker": {
          "color": "#EF553B",
          "pattern": {
           "shape": ""
          }
         },
         "name": "spring",
         "offsetgroup": "spring",
         "orientation": "v",
         "showlegend": false,
         "textposition": "auto",
         "type": "bar",
         "x": [
          6
         ],
         "xaxis": "x22",
         "y": [
          3698
         ],
         "yaxis": "y22"
        },
        {
         "alignmentgroup": "True",
         "hovertemplate": "month_of_season=spring<br>year=2013<br>Season=Dry Season<br>month=%{x}<br>Quantity Sold (kg)=%{y}<extra></extra>",
         "legendgroup": "spring",
         "marker": {
          "color": "#EF553B",
          "pattern": {
           "shape": ""
          }
         },
         "name": "spring",
         "offsetgroup": "spring",
         "orientation": "v",
         "showlegend": false,
         "textposition": "auto",
         "type": "bar",
         "x": [
          4,
          5
         ],
         "xaxis": "x19",
         "y": [
          5561,
          5970
         ],
         "yaxis": "y19"
        },
        {
         "alignmentgroup": "True",
         "hovertemplate": "month_of_season=spring<br>year=2013<br>Season=Rainy Season<br>month=%{x}<br>Quantity Sold (kg)=%{y}<extra></extra>",
         "legendgroup": "spring",
         "marker": {
          "color": "#EF553B",
          "pattern": {
           "shape": ""
          }
         },
         "name": "spring",
         "offsetgroup": "spring",
         "orientation": "v",
         "showlegend": false,
         "textposition": "auto",
         "type": "bar",
         "x": [
          6
         ],
         "xaxis": "x20",
         "y": [
          3658
         ],
         "yaxis": "y20"
        },
        {
         "alignmentgroup": "True",
         "hovertemplate": "month_of_season=spring<br>year=2014<br>Season=Dry Season<br>month=%{x}<br>Quantity Sold (kg)=%{y}<extra></extra>",
         "legendgroup": "spring",
         "marker": {
          "color": "#EF553B",
          "pattern": {
           "shape": ""
          }
         },
         "name": "spring",
         "offsetgroup": "spring",
         "orientation": "v",
         "showlegend": false,
         "textposition": "auto",
         "type": "bar",
         "x": [
          4,
          5
         ],
         "xaxis": "x17",
         "y": [
          6472,
          5977
         ],
         "yaxis": "y17"
        },
        {
         "alignmentgroup": "True",
         "hovertemplate": "month_of_season=spring<br>year=2014<br>Season=Rainy Season<br>month=%{x}<br>Quantity Sold (kg)=%{y}<extra></extra>",
         "legendgroup": "spring",
         "marker": {
          "color": "#EF553B",
          "pattern": {
           "shape": ""
          }
         },
         "name": "spring",
         "offsetgroup": "spring",
         "orientation": "v",
         "showlegend": false,
         "textposition": "auto",
         "type": "bar",
         "x": [
          6
         ],
         "xaxis": "x18",
         "y": [
          4283
         ],
         "yaxis": "y18"
        },
        {
         "alignmentgroup": "True",
         "hovertemplate": "month_of_season=spring<br>year=2015<br>Season=Dry Season<br>month=%{x}<br>Quantity Sold (kg)=%{y}<extra></extra>",
         "legendgroup": "spring",
         "marker": {
          "color": "#EF553B",
          "pattern": {
           "shape": ""
          }
         },
         "name": "spring",
         "offsetgroup": "spring",
         "orientation": "v",
         "showlegend": false,
         "textposition": "auto",
         "type": "bar",
         "x": [
          4,
          5
         ],
         "xaxis": "x15",
         "y": [
          6447,
          6489
         ],
         "yaxis": "y15"
        },
        {
         "alignmentgroup": "True",
         "hovertemplate": "month_of_season=spring<br>year=2015<br>Season=Rainy Season<br>month=%{x}<br>Quantity Sold (kg)=%{y}<extra></extra>",
         "legendgroup": "spring",
         "marker": {
          "color": "#EF553B",
          "pattern": {
           "shape": ""
          }
         },
         "name": "spring",
         "offsetgroup": "spring",
         "orientation": "v",
         "showlegend": false,
         "textposition": "auto",
         "type": "bar",
         "x": [
          6
         ],
         "xaxis": "x16",
         "y": [
          3901
         ],
         "yaxis": "y16"
        },
        {
         "alignmentgroup": "True",
         "hovertemplate": "month_of_season=spring<br>year=2016<br>Season=Dry Season<br>month=%{x}<br>Quantity Sold (kg)=%{y}<extra></extra>",
         "legendgroup": "spring",
         "marker": {
          "color": "#EF553B",
          "pattern": {
           "shape": ""
          }
         },
         "name": "spring",
         "offsetgroup": "spring",
         "orientation": "v",
         "showlegend": false,
         "textposition": "auto",
         "type": "bar",
         "x": [
          4,
          5
         ],
         "xaxis": "x13",
         "y": [
          6116,
          6603
         ],
         "yaxis": "y13"
        },
        {
         "alignmentgroup": "True",
         "hovertemplate": "month_of_season=spring<br>year=2016<br>Season=Rainy Season<br>month=%{x}<br>Quantity Sold (kg)=%{y}<extra></extra>",
         "legendgroup": "spring",
         "marker": {
          "color": "#EF553B",
          "pattern": {
           "shape": ""
          }
         },
         "name": "spring",
         "offsetgroup": "spring",
         "orientation": "v",
         "showlegend": false,
         "textposition": "auto",
         "type": "bar",
         "x": [
          6
         ],
         "xaxis": "x14",
         "y": [
          3957
         ],
         "yaxis": "y14"
        },
        {
         "alignmentgroup": "True",
         "hovertemplate": "month_of_season=spring<br>year=2017<br>Season=Dry Season<br>month=%{x}<br>Quantity Sold (kg)=%{y}<extra></extra>",
         "legendgroup": "spring",
         "marker": {
          "color": "#EF553B",
          "pattern": {
           "shape": ""
          }
         },
         "name": "spring",
         "offsetgroup": "spring",
         "orientation": "v",
         "showlegend": false,
         "textposition": "auto",
         "type": "bar",
         "x": [
          4,
          5
         ],
         "xaxis": "x11",
         "y": [
          5616,
          6440
         ],
         "yaxis": "y11"
        },
        {
         "alignmentgroup": "True",
         "hovertemplate": "month_of_season=spring<br>year=2017<br>Season=Rainy Season<br>month=%{x}<br>Quantity Sold (kg)=%{y}<extra></extra>",
         "legendgroup": "spring",
         "marker": {
          "color": "#EF553B",
          "pattern": {
           "shape": ""
          }
         },
         "name": "spring",
         "offsetgroup": "spring",
         "orientation": "v",
         "showlegend": false,
         "textposition": "auto",
         "type": "bar",
         "x": [
          6
         ],
         "xaxis": "x12",
         "y": [
          3702
         ],
         "yaxis": "y12"
        },
        {
         "alignmentgroup": "True",
         "hovertemplate": "month_of_season=spring<br>year=2018<br>Season=Dry Season<br>month=%{x}<br>Quantity Sold (kg)=%{y}<extra></extra>",
         "legendgroup": "spring",
         "marker": {
          "color": "#EF553B",
          "pattern": {
           "shape": ""
          }
         },
         "name": "spring",
         "offsetgroup": "spring",
         "orientation": "v",
         "showlegend": false,
         "textposition": "auto",
         "type": "bar",
         "x": [
          4,
          5
         ],
         "xaxis": "x9",
         "y": [
          6707,
          6549
         ],
         "yaxis": "y9"
        },
        {
         "alignmentgroup": "True",
         "hovertemplate": "month_of_season=spring<br>year=2018<br>Season=Rainy Season<br>month=%{x}<br>Quantity Sold (kg)=%{y}<extra></extra>",
         "legendgroup": "spring",
         "marker": {
          "color": "#EF553B",
          "pattern": {
           "shape": ""
          }
         },
         "name": "spring",
         "offsetgroup": "spring",
         "orientation": "v",
         "showlegend": false,
         "textposition": "auto",
         "type": "bar",
         "x": [
          6
         ],
         "xaxis": "x10",
         "y": [
          3764
         ],
         "yaxis": "y10"
        },
        {
         "alignmentgroup": "True",
         "hovertemplate": "month_of_season=spring<br>year=2019<br>Season=Dry Season<br>month=%{x}<br>Quantity Sold (kg)=%{y}<extra></extra>",
         "legendgroup": "spring",
         "marker": {
          "color": "#EF553B",
          "pattern": {
           "shape": ""
          }
         },
         "name": "spring",
         "offsetgroup": "spring",
         "orientation": "v",
         "showlegend": false,
         "textposition": "auto",
         "type": "bar",
         "x": [
          4,
          5
         ],
         "xaxis": "x7",
         "y": [
          6017,
          6633
         ],
         "yaxis": "y7"
        },
        {
         "alignmentgroup": "True",
         "hovertemplate": "month_of_season=spring<br>year=2019<br>Season=Rainy Season<br>month=%{x}<br>Quantity Sold (kg)=%{y}<extra></extra>",
         "legendgroup": "spring",
         "marker": {
          "color": "#EF553B",
          "pattern": {
           "shape": ""
          }
         },
         "name": "spring",
         "offsetgroup": "spring",
         "orientation": "v",
         "showlegend": false,
         "textposition": "auto",
         "type": "bar",
         "x": [
          6
         ],
         "xaxis": "x8",
         "y": [
          3664
         ],
         "yaxis": "y8"
        },
        {
         "alignmentgroup": "True",
         "hovertemplate": "month_of_season=spring<br>year=2020<br>Season=Dry Season<br>month=%{x}<br>Quantity Sold (kg)=%{y}<extra></extra>",
         "legendgroup": "spring",
         "marker": {
          "color": "#EF553B",
          "pattern": {
           "shape": ""
          }
         },
         "name": "spring",
         "offsetgroup": "spring",
         "orientation": "v",
         "showlegend": false,
         "textposition": "auto",
         "type": "bar",
         "x": [
          4,
          5
         ],
         "xaxis": "x5",
         "y": [
          5959,
          6211
         ],
         "yaxis": "y5"
        },
        {
         "alignmentgroup": "True",
         "hovertemplate": "month_of_season=spring<br>year=2020<br>Season=Rainy Season<br>month=%{x}<br>Quantity Sold (kg)=%{y}<extra></extra>",
         "legendgroup": "spring",
         "marker": {
          "color": "#EF553B",
          "pattern": {
           "shape": ""
          }
         },
         "name": "spring",
         "offsetgroup": "spring",
         "orientation": "v",
         "showlegend": false,
         "textposition": "auto",
         "type": "bar",
         "x": [
          6
         ],
         "xaxis": "x6",
         "y": [
          3565
         ],
         "yaxis": "y6"
        },
        {
         "alignmentgroup": "True",
         "hovertemplate": "month_of_season=spring<br>year=2021<br>Season=Dry Season<br>month=%{x}<br>Quantity Sold (kg)=%{y}<extra></extra>",
         "legendgroup": "spring",
         "marker": {
          "color": "#EF553B",
          "pattern": {
           "shape": ""
          }
         },
         "name": "spring",
         "offsetgroup": "spring",
         "orientation": "v",
         "showlegend": false,
         "textposition": "auto",
         "type": "bar",
         "x": [
          4,
          5
         ],
         "xaxis": "x3",
         "y": [
          5599,
          6037
         ],
         "yaxis": "y3"
        },
        {
         "alignmentgroup": "True",
         "hovertemplate": "month_of_season=spring<br>year=2021<br>Season=Rainy Season<br>month=%{x}<br>Quantity Sold (kg)=%{y}<extra></extra>",
         "legendgroup": "spring",
         "marker": {
          "color": "#EF553B",
          "pattern": {
           "shape": ""
          }
         },
         "name": "spring",
         "offsetgroup": "spring",
         "orientation": "v",
         "showlegend": false,
         "textposition": "auto",
         "type": "bar",
         "x": [
          6
         ],
         "xaxis": "x4",
         "y": [
          3688
         ],
         "yaxis": "y4"
        },
        {
         "alignmentgroup": "True",
         "hovertemplate": "month_of_season=spring<br>year=2022<br>Season=Dry Season<br>month=%{x}<br>Quantity Sold (kg)=%{y}<extra></extra>",
         "legendgroup": "spring",
         "marker": {
          "color": "#EF553B",
          "pattern": {
           "shape": ""
          }
         },
         "name": "spring",
         "offsetgroup": "spring",
         "orientation": "v",
         "showlegend": false,
         "textposition": "auto",
         "type": "bar",
         "x": [
          4,
          5
         ],
         "xaxis": "x",
         "y": [
          5756,
          5822
         ],
         "yaxis": "y"
        },
        {
         "alignmentgroup": "True",
         "hovertemplate": "month_of_season=spring<br>year=2022<br>Season=Rainy Season<br>month=%{x}<br>Quantity Sold (kg)=%{y}<extra></extra>",
         "legendgroup": "spring",
         "marker": {
          "color": "#EF553B",
          "pattern": {
           "shape": ""
          }
         },
         "name": "spring",
         "offsetgroup": "spring",
         "orientation": "v",
         "showlegend": false,
         "textposition": "auto",
         "type": "bar",
         "x": [
          6
         ],
         "xaxis": "x2",
         "y": [
          3635
         ],
         "yaxis": "y2"
        },
        {
         "alignmentgroup": "True",
         "hovertemplate": "month_of_season=summer<br>year=2009<br>Season=Rainy Season<br>month=%{x}<br>Quantity Sold (kg)=%{y}<extra></extra>",
         "legendgroup": "summer",
         "marker": {
          "color": "#00cc96",
          "pattern": {
           "shape": ""
          }
         },
         "name": "summer",
         "offsetgroup": "summer",
         "orientation": "v",
         "showlegend": true,
         "textposition": "auto",
         "type": "bar",
         "x": [
          7,
          8,
          9
         ],
         "xaxis": "x28",
         "y": [
          3753,
          3822,
          3878
         ],
         "yaxis": "y28"
        },
        {
         "alignmentgroup": "True",
         "hovertemplate": "month_of_season=summer<br>year=2010<br>Season=Rainy Season<br>month=%{x}<br>Quantity Sold (kg)=%{y}<extra></extra>",
         "legendgroup": "summer",
         "marker": {
          "color": "#00cc96",
          "pattern": {
           "shape": ""
          }
         },
         "name": "summer",
         "offsetgroup": "summer",
         "orientation": "v",
         "showlegend": false,
         "textposition": "auto",
         "type": "bar",
         "x": [
          7,
          8,
          9
         ],
         "xaxis": "x26",
         "y": [
          4041,
          3803,
          3634
         ],
         "yaxis": "y26"
        },
        {
         "alignmentgroup": "True",
         "hovertemplate": "month_of_season=summer<br>year=2011<br>Season=Rainy Season<br>month=%{x}<br>Quantity Sold (kg)=%{y}<extra></extra>",
         "legendgroup": "summer",
         "marker": {
          "color": "#00cc96",
          "pattern": {
           "shape": ""
          }
         },
         "name": "summer",
         "offsetgroup": "summer",
         "orientation": "v",
         "showlegend": false,
         "textposition": "auto",
         "type": "bar",
         "x": [
          7,
          8,
          9
         ],
         "xaxis": "x24",
         "y": [
          3708,
          3935,
          3852
         ],
         "yaxis": "y24"
        },
        {
         "alignmentgroup": "True",
         "hovertemplate": "month_of_season=summer<br>year=2012<br>Season=Rainy Season<br>month=%{x}<br>Quantity Sold (kg)=%{y}<extra></extra>",
         "legendgroup": "summer",
         "marker": {
          "color": "#00cc96",
          "pattern": {
           "shape": ""
          }
         },
         "name": "summer",
         "offsetgroup": "summer",
         "orientation": "v",
         "showlegend": false,
         "textposition": "auto",
         "type": "bar",
         "x": [
          7,
          8,
          9
         ],
         "xaxis": "x22",
         "y": [
          4088,
          3812,
          3992
         ],
         "yaxis": "y22"
        },
        {
         "alignmentgroup": "True",
         "hovertemplate": "month_of_season=summer<br>year=2013<br>Season=Rainy Season<br>month=%{x}<br>Quantity Sold (kg)=%{y}<extra></extra>",
         "legendgroup": "summer",
         "marker": {
          "color": "#00cc96",
          "pattern": {
           "shape": ""
          }
         },
         "name": "summer",
         "offsetgroup": "summer",
         "orientation": "v",
         "showlegend": false,
         "textposition": "auto",
         "type": "bar",
         "x": [
          7,
          8,
          9
         ],
         "xaxis": "x20",
         "y": [
          4243,
          4148,
          3797
         ],
         "yaxis": "y20"
        },
        {
         "alignmentgroup": "True",
         "hovertemplate": "month_of_season=summer<br>year=2014<br>Season=Rainy Season<br>month=%{x}<br>Quantity Sold (kg)=%{y}<extra></extra>",
         "legendgroup": "summer",
         "marker": {
          "color": "#00cc96",
          "pattern": {
           "shape": ""
          }
         },
         "name": "summer",
         "offsetgroup": "summer",
         "orientation": "v",
         "showlegend": false,
         "textposition": "auto",
         "type": "bar",
         "x": [
          7,
          8,
          9
         ],
         "xaxis": "x18",
         "y": [
          3918,
          3828,
          3340
         ],
         "yaxis": "y18"
        },
        {
         "alignmentgroup": "True",
         "hovertemplate": "month_of_season=summer<br>year=2015<br>Season=Rainy Season<br>month=%{x}<br>Quantity Sold (kg)=%{y}<extra></extra>",
         "legendgroup": "summer",
         "marker": {
          "color": "#00cc96",
          "pattern": {
           "shape": ""
          }
         },
         "name": "summer",
         "offsetgroup": "summer",
         "orientation": "v",
         "showlegend": false,
         "textposition": "auto",
         "type": "bar",
         "x": [
          7,
          8,
          9
         ],
         "xaxis": "x16",
         "y": [
          3958,
          3703,
          3880
         ],
         "yaxis": "y16"
        },
        {
         "alignmentgroup": "True",
         "hovertemplate": "month_of_season=summer<br>year=2016<br>Season=Rainy Season<br>month=%{x}<br>Quantity Sold (kg)=%{y}<extra></extra>",
         "legendgroup": "summer",
         "marker": {
          "color": "#00cc96",
          "pattern": {
           "shape": ""
          }
         },
         "name": "summer",
         "offsetgroup": "summer",
         "orientation": "v",
         "showlegend": false,
         "textposition": "auto",
         "type": "bar",
         "x": [
          7,
          8,
          9
         ],
         "xaxis": "x14",
         "y": [
          3942,
          4074,
          3092
         ],
         "yaxis": "y14"
        },
        {
         "alignmentgroup": "True",
         "hovertemplate": "month_of_season=summer<br>year=2017<br>Season=Rainy Season<br>month=%{x}<br>Quantity Sold (kg)=%{y}<extra></extra>",
         "legendgroup": "summer",
         "marker": {
          "color": "#00cc96",
          "pattern": {
           "shape": ""
          }
         },
         "name": "summer",
         "offsetgroup": "summer",
         "orientation": "v",
         "showlegend": false,
         "textposition": "auto",
         "type": "bar",
         "x": [
          7,
          8,
          9
         ],
         "xaxis": "x12",
         "y": [
          4100,
          3200,
          3343
         ],
         "yaxis": "y12"
        },
        {
         "alignmentgroup": "True",
         "hovertemplate": "month_of_season=summer<br>year=2018<br>Season=Rainy Season<br>month=%{x}<br>Quantity Sold (kg)=%{y}<extra></extra>",
         "legendgroup": "summer",
         "marker": {
          "color": "#00cc96",
          "pattern": {
           "shape": ""
          }
         },
         "name": "summer",
         "offsetgroup": "summer",
         "orientation": "v",
         "showlegend": false,
         "textposition": "auto",
         "type": "bar",
         "x": [
          7,
          8,
          9
         ],
         "xaxis": "x10",
         "y": [
          4137,
          3534,
          3615
         ],
         "yaxis": "y10"
        },
        {
         "alignmentgroup": "True",
         "hovertemplate": "month_of_season=summer<br>year=2019<br>Season=Rainy Season<br>month=%{x}<br>Quantity Sold (kg)=%{y}<extra></extra>",
         "legendgroup": "summer",
         "marker": {
          "color": "#00cc96",
          "pattern": {
           "shape": ""
          }
         },
         "name": "summer",
         "offsetgroup": "summer",
         "orientation": "v",
         "showlegend": false,
         "textposition": "auto",
         "type": "bar",
         "x": [
          7,
          8,
          9
         ],
         "xaxis": "x8",
         "y": [
          3628,
          4096,
          3631
         ],
         "yaxis": "y8"
        },
        {
         "alignmentgroup": "True",
         "hovertemplate": "month_of_season=summer<br>year=2020<br>Season=Rainy Season<br>month=%{x}<br>Quantity Sold (kg)=%{y}<extra></extra>",
         "legendgroup": "summer",
         "marker": {
          "color": "#00cc96",
          "pattern": {
           "shape": ""
          }
         },
         "name": "summer",
         "offsetgroup": "summer",
         "orientation": "v",
         "showlegend": false,
         "textposition": "auto",
         "type": "bar",
         "x": [
          7,
          8,
          9
         ],
         "xaxis": "x6",
         "y": [
          3595,
          3560,
          3898
         ],
         "yaxis": "y6"
        },
        {
         "alignmentgroup": "True",
         "hovertemplate": "month_of_season=summer<br>year=2021<br>Season=Rainy Season<br>month=%{x}<br>Quantity Sold (kg)=%{y}<extra></extra>",
         "legendgroup": "summer",
         "marker": {
          "color": "#00cc96",
          "pattern": {
           "shape": ""
          }
         },
         "name": "summer",
         "offsetgroup": "summer",
         "orientation": "v",
         "showlegend": false,
         "textposition": "auto",
         "type": "bar",
         "x": [
          7,
          8,
          9
         ],
         "xaxis": "x4",
         "y": [
          4347,
          3966,
          3553
         ],
         "yaxis": "y4"
        },
        {
         "alignmentgroup": "True",
         "hovertemplate": "month_of_season=summer<br>year=2022<br>Season=Rainy Season<br>month=%{x}<br>Quantity Sold (kg)=%{y}<extra></extra>",
         "legendgroup": "summer",
         "marker": {
          "color": "#00cc96",
          "pattern": {
           "shape": ""
          }
         },
         "name": "summer",
         "offsetgroup": "summer",
         "orientation": "v",
         "showlegend": false,
         "textposition": "auto",
         "type": "bar",
         "x": [
          7,
          8,
          9
         ],
         "xaxis": "x2",
         "y": [
          3334,
          4077,
          3887
         ],
         "yaxis": "y2"
        },
        {
         "alignmentgroup": "True",
         "hovertemplate": "month_of_season=winter<br>year=2009<br>Season=Dry Season<br>month=%{x}<br>Quantity Sold (kg)=%{y}<extra></extra>",
         "legendgroup": "winter",
         "marker": {
          "color": "#ab63fa",
          "pattern": {
           "shape": ""
          }
         },
         "name": "winter",
         "offsetgroup": "winter",
         "orientation": "v",
         "showlegend": true,
         "textposition": "auto",
         "type": "bar",
         "x": [
          1,
          2,
          3
         ],
         "xaxis": "x27",
         "y": [
          6526,
          5315,
          6511
         ],
         "yaxis": "y27"
        },
        {
         "alignmentgroup": "True",
         "hovertemplate": "month_of_season=winter<br>year=2010<br>Season=Dry Season<br>month=%{x}<br>Quantity Sold (kg)=%{y}<extra></extra>",
         "legendgroup": "winter",
         "marker": {
          "color": "#ab63fa",
          "pattern": {
           "shape": ""
          }
         },
         "name": "winter",
         "offsetgroup": "winter",
         "orientation": "v",
         "showlegend": false,
         "textposition": "auto",
         "type": "bar",
         "x": [
          1,
          2,
          3
         ],
         "xaxis": "x25",
         "y": [
          6171,
          5507,
          5879
         ],
         "yaxis": "y25"
        },
        {
         "alignmentgroup": "True",
         "hovertemplate": "month_of_season=winter<br>year=2011<br>Season=Dry Season<br>month=%{x}<br>Quantity Sold (kg)=%{y}<extra></extra>",
         "legendgroup": "winter",
         "marker": {
          "color": "#ab63fa",
          "pattern": {
           "shape": ""
          }
         },
         "name": "winter",
         "offsetgroup": "winter",
         "orientation": "v",
         "showlegend": false,
         "textposition": "auto",
         "type": "bar",
         "x": [
          1,
          2,
          3
         ],
         "xaxis": "x23",
         "y": [
          6401,
          5350,
          6368
         ],
         "yaxis": "y23"
        },
        {
         "alignmentgroup": "True",
         "hovertemplate": "month_of_season=winter<br>year=2012<br>Season=Dry Season<br>month=%{x}<br>Quantity Sold (kg)=%{y}<extra></extra>",
         "legendgroup": "winter",
         "marker": {
          "color": "#ab63fa",
          "pattern": {
           "shape": ""
          }
         },
         "name": "winter",
         "offsetgroup": "winter",
         "orientation": "v",
         "showlegend": false,
         "textposition": "auto",
         "type": "bar",
         "x": [
          1,
          2,
          3
         ],
         "xaxis": "x21",
         "y": [
          5585,
          6222,
          6212
         ],
         "yaxis": "y21"
        },
        {
         "alignmentgroup": "True",
         "hovertemplate": "month_of_season=winter<br>year=2013<br>Season=Dry Season<br>month=%{x}<br>Quantity Sold (kg)=%{y}<extra></extra>",
         "legendgroup": "winter",
         "marker": {
          "color": "#ab63fa",
          "pattern": {
           "shape": ""
          }
         },
         "name": "winter",
         "offsetgroup": "winter",
         "orientation": "v",
         "showlegend": false,
         "textposition": "auto",
         "type": "bar",
         "x": [
          1,
          2,
          3
         ],
         "xaxis": "x19",
         "y": [
          6002,
          5574,
          6441
         ],
         "yaxis": "y19"
        },
        {
         "alignmentgroup": "True",
         "hovertemplate": "month_of_season=winter<br>year=2014<br>Season=Dry Season<br>month=%{x}<br>Quantity Sold (kg)=%{y}<extra></extra>",
         "legendgroup": "winter",
         "marker": {
          "color": "#ab63fa",
          "pattern": {
           "shape": ""
          }
         },
         "name": "winter",
         "offsetgroup": "winter",
         "orientation": "v",
         "showlegend": false,
         "textposition": "auto",
         "type": "bar",
         "x": [
          1,
          2,
          3
         ],
         "xaxis": "x17",
         "y": [
          6281,
          5733,
          6487
         ],
         "yaxis": "y17"
        },
        {
         "alignmentgroup": "True",
         "hovertemplate": "month_of_season=winter<br>year=2015<br>Season=Dry Season<br>month=%{x}<br>Quantity Sold (kg)=%{y}<extra></extra>",
         "legendgroup": "winter",
         "marker": {
          "color": "#ab63fa",
          "pattern": {
           "shape": ""
          }
         },
         "name": "winter",
         "offsetgroup": "winter",
         "orientation": "v",
         "showlegend": false,
         "textposition": "auto",
         "type": "bar",
         "x": [
          1,
          2,
          3
         ],
         "xaxis": "x15",
         "y": [
          6468,
          5139,
          6425
         ],
         "yaxis": "y15"
        },
        {
         "alignmentgroup": "True",
         "hovertemplate": "month_of_season=winter<br>year=2016<br>Season=Dry Season<br>month=%{x}<br>Quantity Sold (kg)=%{y}<extra></extra>",
         "legendgroup": "winter",
         "marker": {
          "color": "#ab63fa",
          "pattern": {
           "shape": ""
          }
         },
         "name": "winter",
         "offsetgroup": "winter",
         "orientation": "v",
         "showlegend": false,
         "textposition": "auto",
         "type": "bar",
         "x": [
          1,
          2,
          3
         ],
         "xaxis": "x13",
         "y": [
          6176,
          5631,
          5965
         ],
         "yaxis": "y13"
        },
        {
         "alignmentgroup": "True",
         "hovertemplate": "month_of_season=winter<br>year=2017<br>Season=Dry Season<br>month=%{x}<br>Quantity Sold (kg)=%{y}<extra></extra>",
         "legendgroup": "winter",
         "marker": {
          "color": "#ab63fa",
          "pattern": {
           "shape": ""
          }
         },
         "name": "winter",
         "offsetgroup": "winter",
         "orientation": "v",
         "showlegend": false,
         "textposition": "auto",
         "type": "bar",
         "x": [
          1,
          2,
          3
         ],
         "xaxis": "x11",
         "y": [
          6172,
          6031,
          6621
         ],
         "yaxis": "y11"
        },
        {
         "alignmentgroup": "True",
         "hovertemplate": "month_of_season=winter<br>year=2018<br>Season=Dry Season<br>month=%{x}<br>Quantity Sold (kg)=%{y}<extra></extra>",
         "legendgroup": "winter",
         "marker": {
          "color": "#ab63fa",
          "pattern": {
           "shape": ""
          }
         },
         "name": "winter",
         "offsetgroup": "winter",
         "orientation": "v",
         "showlegend": false,
         "textposition": "auto",
         "type": "bar",
         "x": [
          1,
          2,
          3
         ],
         "xaxis": "x9",
         "y": [
          6737,
          5445,
          5696
         ],
         "yaxis": "y9"
        },
        {
         "alignmentgroup": "True",
         "hovertemplate": "month_of_season=winter<br>year=2019<br>Season=Dry Season<br>month=%{x}<br>Quantity Sold (kg)=%{y}<extra></extra>",
         "legendgroup": "winter",
         "marker": {
          "color": "#ab63fa",
          "pattern": {
           "shape": ""
          }
         },
         "name": "winter",
         "offsetgroup": "winter",
         "orientation": "v",
         "showlegend": false,
         "textposition": "auto",
         "type": "bar",
         "x": [
          1,
          2,
          3
         ],
         "xaxis": "x7",
         "y": [
          6663,
          5457,
          5934
         ],
         "yaxis": "y7"
        },
        {
         "alignmentgroup": "True",
         "hovertemplate": "month_of_season=winter<br>year=2020<br>Season=Dry Season<br>month=%{x}<br>Quantity Sold (kg)=%{y}<extra></extra>",
         "legendgroup": "winter",
         "marker": {
          "color": "#ab63fa",
          "pattern": {
           "shape": ""
          }
         },
         "name": "winter",
         "offsetgroup": "winter",
         "orientation": "v",
         "showlegend": false,
         "textposition": "auto",
         "type": "bar",
         "x": [
          1,
          2,
          3
         ],
         "xaxis": "x5",
         "y": [
          6534,
          5568,
          6327
         ],
         "yaxis": "y5"
        },
        {
         "alignmentgroup": "True",
         "hovertemplate": "month_of_season=winter<br>year=2021<br>Season=Dry Season<br>month=%{x}<br>Quantity Sold (kg)=%{y}<extra></extra>",
         "legendgroup": "winter",
         "marker": {
          "color": "#ab63fa",
          "pattern": {
           "shape": ""
          }
         },
         "name": "winter",
         "offsetgroup": "winter",
         "orientation": "v",
         "showlegend": false,
         "textposition": "auto",
         "type": "bar",
         "x": [
          1,
          2,
          3
         ],
         "xaxis": "x3",
         "y": [
          6200,
          5358,
          6463
         ],
         "yaxis": "y3"
        },
        {
         "alignmentgroup": "True",
         "hovertemplate": "month_of_season=winter<br>year=2022<br>Season=Dry Season<br>month=%{x}<br>Quantity Sold (kg)=%{y}<extra></extra>",
         "legendgroup": "winter",
         "marker": {
          "color": "#ab63fa",
          "pattern": {
           "shape": ""
          }
         },
         "name": "winter",
         "offsetgroup": "winter",
         "orientation": "v",
         "showlegend": false,
         "textposition": "auto",
         "type": "bar",
         "x": [
          1,
          2,
          3
         ],
         "xaxis": "x",
         "y": [
          6164,
          5760,
          6560
         ],
         "yaxis": "y"
        }
       ],
       "layout": {
        "annotations": [
         {
          "font": {},
          "showarrow": false,
          "text": "Season=Dry Season",
          "x": 0.24,
          "xanchor": "center",
          "xref": "paper",
          "y": 1,
          "yanchor": "bottom",
          "yref": "paper"
         },
         {
          "font": {},
          "showarrow": false,
          "text": "Season=Rainy Season",
          "x": 0.74,
          "xanchor": "center",
          "xref": "paper",
          "y": 1,
          "yanchor": "bottom",
          "yref": "paper"
         },
         {
          "font": {},
          "showarrow": false,
          "text": "year=2022",
          "textangle": 90,
          "x": 0.98,
          "xanchor": "left",
          "xref": "paper",
          "y": 0.021785714285714283,
          "yanchor": "middle",
          "yref": "paper"
         },
         {
          "font": {},
          "showarrow": false,
          "text": "year=2021",
          "textangle": 90,
          "x": 0.98,
          "xanchor": "left",
          "xref": "paper",
          "y": 0.09535714285714285,
          "yanchor": "middle",
          "yref": "paper"
         },
         {
          "font": {},
          "showarrow": false,
          "text": "year=2020",
          "textangle": 90,
          "x": 0.98,
          "xanchor": "left",
          "xref": "paper",
          "y": 0.16892857142857143,
          "yanchor": "middle",
          "yref": "paper"
         },
         {
          "font": {},
          "showarrow": false,
          "text": "year=2019",
          "textangle": 90,
          "x": 0.98,
          "xanchor": "left",
          "xref": "paper",
          "y": 0.24249999999999997,
          "yanchor": "middle",
          "yref": "paper"
         },
         {
          "font": {},
          "showarrow": false,
          "text": "year=2018",
          "textangle": 90,
          "x": 0.98,
          "xanchor": "left",
          "xref": "paper",
          "y": 0.31607142857142856,
          "yanchor": "middle",
          "yref": "paper"
         },
         {
          "font": {},
          "showarrow": false,
          "text": "year=2017",
          "textangle": 90,
          "x": 0.98,
          "xanchor": "left",
          "xref": "paper",
          "y": 0.38964285714285707,
          "yanchor": "middle",
          "yref": "paper"
         },
         {
          "font": {},
          "showarrow": false,
          "text": "year=2016",
          "textangle": 90,
          "x": 0.98,
          "xanchor": "left",
          "xref": "paper",
          "y": 0.4632142857142857,
          "yanchor": "middle",
          "yref": "paper"
         },
         {
          "font": {},
          "showarrow": false,
          "text": "year=2015",
          "textangle": 90,
          "x": 0.98,
          "xanchor": "left",
          "xref": "paper",
          "y": 0.5367857142857142,
          "yanchor": "middle",
          "yref": "paper"
         },
         {
          "font": {},
          "showarrow": false,
          "text": "year=2014",
          "textangle": 90,
          "x": 0.98,
          "xanchor": "left",
          "xref": "paper",
          "y": 0.6103571428571428,
          "yanchor": "middle",
          "yref": "paper"
         },
         {
          "font": {},
          "showarrow": false,
          "text": "year=2013",
          "textangle": 90,
          "x": 0.98,
          "xanchor": "left",
          "xref": "paper",
          "y": 0.6839285714285714,
          "yanchor": "middle",
          "yref": "paper"
         },
         {
          "font": {},
          "showarrow": false,
          "text": "year=2012",
          "textangle": 90,
          "x": 0.98,
          "xanchor": "left",
          "xref": "paper",
          "y": 0.7575000000000001,
          "yanchor": "middle",
          "yref": "paper"
         },
         {
          "font": {},
          "showarrow": false,
          "text": "year=2011",
          "textangle": 90,
          "x": 0.98,
          "xanchor": "left",
          "xref": "paper",
          "y": 0.8310714285714286,
          "yanchor": "middle",
          "yref": "paper"
         },
         {
          "font": {},
          "showarrow": false,
          "text": "year=2010",
          "textangle": 90,
          "x": 0.98,
          "xanchor": "left",
          "xref": "paper",
          "y": 0.9046428571428572,
          "yanchor": "middle",
          "yref": "paper"
         },
         {
          "font": {},
          "showarrow": false,
          "text": "year=2009",
          "textangle": 90,
          "x": 0.98,
          "xanchor": "left",
          "xref": "paper",
          "y": 0.9782142857142857,
          "yanchor": "middle",
          "yref": "paper"
         }
        ],
        "barmode": "relative",
        "height": 3000,
        "legend": {
         "title": {
          "text": "month_of_season"
         },
         "tracegroupgap": 0
        },
        "template": {
         "data": {
          "bar": [
           {
            "error_x": {
             "color": "#2a3f5f"
            },
            "error_y": {
             "color": "#2a3f5f"
            },
            "marker": {
             "line": {
              "color": "#E5ECF6",
              "width": 0.5
             },
             "pattern": {
              "fillmode": "overlay",
              "size": 10,
              "solidity": 0.2
             }
            },
            "type": "bar"
           }
          ],
          "barpolar": [
           {
            "marker": {
             "line": {
              "color": "#E5ECF6",
              "width": 0.5
             },
             "pattern": {
              "fillmode": "overlay",
              "size": 10,
              "solidity": 0.2
             }
            },
            "type": "barpolar"
           }
          ],
          "carpet": [
           {
            "aaxis": {
             "endlinecolor": "#2a3f5f",
             "gridcolor": "white",
             "linecolor": "white",
             "minorgridcolor": "white",
             "startlinecolor": "#2a3f5f"
            },
            "baxis": {
             "endlinecolor": "#2a3f5f",
             "gridcolor": "white",
             "linecolor": "white",
             "minorgridcolor": "white",
             "startlinecolor": "#2a3f5f"
            },
            "type": "carpet"
           }
          ],
          "choropleth": [
           {
            "colorbar": {
             "outlinewidth": 0,
             "ticks": ""
            },
            "type": "choropleth"
           }
          ],
          "contour": [
           {
            "colorbar": {
             "outlinewidth": 0,
             "ticks": ""
            },
            "colorscale": [
             [
              0,
              "#0d0887"
             ],
             [
              0.1111111111111111,
              "#46039f"
             ],
             [
              0.2222222222222222,
              "#7201a8"
             ],
             [
              0.3333333333333333,
              "#9c179e"
             ],
             [
              0.4444444444444444,
              "#bd3786"
             ],
             [
              0.5555555555555556,
              "#d8576b"
             ],
             [
              0.6666666666666666,
              "#ed7953"
             ],
             [
              0.7777777777777778,
              "#fb9f3a"
             ],
             [
              0.8888888888888888,
              "#fdca26"
             ],
             [
              1,
              "#f0f921"
             ]
            ],
            "type": "contour"
           }
          ],
          "contourcarpet": [
           {
            "colorbar": {
             "outlinewidth": 0,
             "ticks": ""
            },
            "type": "contourcarpet"
           }
          ],
          "heatmap": [
           {
            "colorbar": {
             "outlinewidth": 0,
             "ticks": ""
            },
            "colorscale": [
             [
              0,
              "#0d0887"
             ],
             [
              0.1111111111111111,
              "#46039f"
             ],
             [
              0.2222222222222222,
              "#7201a8"
             ],
             [
              0.3333333333333333,
              "#9c179e"
             ],
             [
              0.4444444444444444,
              "#bd3786"
             ],
             [
              0.5555555555555556,
              "#d8576b"
             ],
             [
              0.6666666666666666,
              "#ed7953"
             ],
             [
              0.7777777777777778,
              "#fb9f3a"
             ],
             [
              0.8888888888888888,
              "#fdca26"
             ],
             [
              1,
              "#f0f921"
             ]
            ],
            "type": "heatmap"
           }
          ],
          "heatmapgl": [
           {
            "colorbar": {
             "outlinewidth": 0,
             "ticks": ""
            },
            "colorscale": [
             [
              0,
              "#0d0887"
             ],
             [
              0.1111111111111111,
              "#46039f"
             ],
             [
              0.2222222222222222,
              "#7201a8"
             ],
             [
              0.3333333333333333,
              "#9c179e"
             ],
             [
              0.4444444444444444,
              "#bd3786"
             ],
             [
              0.5555555555555556,
              "#d8576b"
             ],
             [
              0.6666666666666666,
              "#ed7953"
             ],
             [
              0.7777777777777778,
              "#fb9f3a"
             ],
             [
              0.8888888888888888,
              "#fdca26"
             ],
             [
              1,
              "#f0f921"
             ]
            ],
            "type": "heatmapgl"
           }
          ],
          "histogram": [
           {
            "marker": {
             "pattern": {
              "fillmode": "overlay",
              "size": 10,
              "solidity": 0.2
             }
            },
            "type": "histogram"
           }
          ],
          "histogram2d": [
           {
            "colorbar": {
             "outlinewidth": 0,
             "ticks": ""
            },
            "colorscale": [
             [
              0,
              "#0d0887"
             ],
             [
              0.1111111111111111,
              "#46039f"
             ],
             [
              0.2222222222222222,
              "#7201a8"
             ],
             [
              0.3333333333333333,
              "#9c179e"
             ],
             [
              0.4444444444444444,
              "#bd3786"
             ],
             [
              0.5555555555555556,
              "#d8576b"
             ],
             [
              0.6666666666666666,
              "#ed7953"
             ],
             [
              0.7777777777777778,
              "#fb9f3a"
             ],
             [
              0.8888888888888888,
              "#fdca26"
             ],
             [
              1,
              "#f0f921"
             ]
            ],
            "type": "histogram2d"
           }
          ],
          "histogram2dcontour": [
           {
            "colorbar": {
             "outlinewidth": 0,
             "ticks": ""
            },
            "colorscale": [
             [
              0,
              "#0d0887"
             ],
             [
              0.1111111111111111,
              "#46039f"
             ],
             [
              0.2222222222222222,
              "#7201a8"
             ],
             [
              0.3333333333333333,
              "#9c179e"
             ],
             [
              0.4444444444444444,
              "#bd3786"
             ],
             [
              0.5555555555555556,
              "#d8576b"
             ],
             [
              0.6666666666666666,
              "#ed7953"
             ],
             [
              0.7777777777777778,
              "#fb9f3a"
             ],
             [
              0.8888888888888888,
              "#fdca26"
             ],
             [
              1,
              "#f0f921"
             ]
            ],
            "type": "histogram2dcontour"
           }
          ],
          "mesh3d": [
           {
            "colorbar": {
             "outlinewidth": 0,
             "ticks": ""
            },
            "type": "mesh3d"
           }
          ],
          "parcoords": [
           {
            "line": {
             "colorbar": {
              "outlinewidth": 0,
              "ticks": ""
             }
            },
            "type": "parcoords"
           }
          ],
          "pie": [
           {
            "automargin": true,
            "type": "pie"
           }
          ],
          "scatter": [
           {
            "fillpattern": {
             "fillmode": "overlay",
             "size": 10,
             "solidity": 0.2
            },
            "type": "scatter"
           }
          ],
          "scatter3d": [
           {
            "line": {
             "colorbar": {
              "outlinewidth": 0,
              "ticks": ""
             }
            },
            "marker": {
             "colorbar": {
              "outlinewidth": 0,
              "ticks": ""
             }
            },
            "type": "scatter3d"
           }
          ],
          "scattercarpet": [
           {
            "marker": {
             "colorbar": {
              "outlinewidth": 0,
              "ticks": ""
             }
            },
            "type": "scattercarpet"
           }
          ],
          "scattergeo": [
           {
            "marker": {
             "colorbar": {
              "outlinewidth": 0,
              "ticks": ""
             }
            },
            "type": "scattergeo"
           }
          ],
          "scattergl": [
           {
            "marker": {
             "colorbar": {
              "outlinewidth": 0,
              "ticks": ""
             }
            },
            "type": "scattergl"
           }
          ],
          "scattermapbox": [
           {
            "marker": {
             "colorbar": {
              "outlinewidth": 0,
              "ticks": ""
             }
            },
            "type": "scattermapbox"
           }
          ],
          "scatterpolar": [
           {
            "marker": {
             "colorbar": {
              "outlinewidth": 0,
              "ticks": ""
             }
            },
            "type": "scatterpolar"
           }
          ],
          "scatterpolargl": [
           {
            "marker": {
             "colorbar": {
              "outlinewidth": 0,
              "ticks": ""
             }
            },
            "type": "scatterpolargl"
           }
          ],
          "scatterternary": [
           {
            "marker": {
             "colorbar": {
              "outlinewidth": 0,
              "ticks": ""
             }
            },
            "type": "scatterternary"
           }
          ],
          "surface": [
           {
            "colorbar": {
             "outlinewidth": 0,
             "ticks": ""
            },
            "colorscale": [
             [
              0,
              "#0d0887"
             ],
             [
              0.1111111111111111,
              "#46039f"
             ],
             [
              0.2222222222222222,
              "#7201a8"
             ],
             [
              0.3333333333333333,
              "#9c179e"
             ],
             [
              0.4444444444444444,
              "#bd3786"
             ],
             [
              0.5555555555555556,
              "#d8576b"
             ],
             [
              0.6666666666666666,
              "#ed7953"
             ],
             [
              0.7777777777777778,
              "#fb9f3a"
             ],
             [
              0.8888888888888888,
              "#fdca26"
             ],
             [
              1,
              "#f0f921"
             ]
            ],
            "type": "surface"
           }
          ],
          "table": [
           {
            "cells": {
             "fill": {
              "color": "#EBF0F8"
             },
             "line": {
              "color": "white"
             }
            },
            "header": {
             "fill": {
              "color": "#C8D4E3"
             },
             "line": {
              "color": "white"
             }
            },
            "type": "table"
           }
          ]
         },
         "layout": {
          "annotationdefaults": {
           "arrowcolor": "#2a3f5f",
           "arrowhead": 0,
           "arrowwidth": 1
          },
          "autotypenumbers": "strict",
          "coloraxis": {
           "colorbar": {
            "outlinewidth": 0,
            "ticks": ""
           }
          },
          "colorscale": {
           "diverging": [
            [
             0,
             "#8e0152"
            ],
            [
             0.1,
             "#c51b7d"
            ],
            [
             0.2,
             "#de77ae"
            ],
            [
             0.3,
             "#f1b6da"
            ],
            [
             0.4,
             "#fde0ef"
            ],
            [
             0.5,
             "#f7f7f7"
            ],
            [
             0.6,
             "#e6f5d0"
            ],
            [
             0.7,
             "#b8e186"
            ],
            [
             0.8,
             "#7fbc41"
            ],
            [
             0.9,
             "#4d9221"
            ],
            [
             1,
             "#276419"
            ]
           ],
           "sequential": [
            [
             0,
             "#0d0887"
            ],
            [
             0.1111111111111111,
             "#46039f"
            ],
            [
             0.2222222222222222,
             "#7201a8"
            ],
            [
             0.3333333333333333,
             "#9c179e"
            ],
            [
             0.4444444444444444,
             "#bd3786"
            ],
            [
             0.5555555555555556,
             "#d8576b"
            ],
            [
             0.6666666666666666,
             "#ed7953"
            ],
            [
             0.7777777777777778,
             "#fb9f3a"
            ],
            [
             0.8888888888888888,
             "#fdca26"
            ],
            [
             1,
             "#f0f921"
            ]
           ],
           "sequentialminus": [
            [
             0,
             "#0d0887"
            ],
            [
             0.1111111111111111,
             "#46039f"
            ],
            [
             0.2222222222222222,
             "#7201a8"
            ],
            [
             0.3333333333333333,
             "#9c179e"
            ],
            [
             0.4444444444444444,
             "#bd3786"
            ],
            [
             0.5555555555555556,
             "#d8576b"
            ],
            [
             0.6666666666666666,
             "#ed7953"
            ],
            [
             0.7777777777777778,
             "#fb9f3a"
            ],
            [
             0.8888888888888888,
             "#fdca26"
            ],
            [
             1,
             "#f0f921"
            ]
           ]
          },
          "colorway": [
           "#636efa",
           "#EF553B",
           "#00cc96",
           "#ab63fa",
           "#FFA15A",
           "#19d3f3",
           "#FF6692",
           "#B6E880",
           "#FF97FF",
           "#FECB52"
          ],
          "font": {
           "color": "#2a3f5f"
          },
          "geo": {
           "bgcolor": "white",
           "lakecolor": "white",
           "landcolor": "#E5ECF6",
           "showlakes": true,
           "showland": true,
           "subunitcolor": "white"
          },
          "hoverlabel": {
           "align": "left"
          },
          "hovermode": "closest",
          "mapbox": {
           "style": "light"
          },
          "paper_bgcolor": "white",
          "plot_bgcolor": "#E5ECF6",
          "polar": {
           "angularaxis": {
            "gridcolor": "white",
            "linecolor": "white",
            "ticks": ""
           },
           "bgcolor": "#E5ECF6",
           "radialaxis": {
            "gridcolor": "white",
            "linecolor": "white",
            "ticks": ""
           }
          },
          "scene": {
           "xaxis": {
            "backgroundcolor": "#E5ECF6",
            "gridcolor": "white",
            "gridwidth": 2,
            "linecolor": "white",
            "showbackground": true,
            "ticks": "",
            "zerolinecolor": "white"
           },
           "yaxis": {
            "backgroundcolor": "#E5ECF6",
            "gridcolor": "white",
            "gridwidth": 2,
            "linecolor": "white",
            "showbackground": true,
            "ticks": "",
            "zerolinecolor": "white"
           },
           "zaxis": {
            "backgroundcolor": "#E5ECF6",
            "gridcolor": "white",
            "gridwidth": 2,
            "linecolor": "white",
            "showbackground": true,
            "ticks": "",
            "zerolinecolor": "white"
           }
          },
          "shapedefaults": {
           "line": {
            "color": "#2a3f5f"
           }
          },
          "ternary": {
           "aaxis": {
            "gridcolor": "white",
            "linecolor": "white",
            "ticks": ""
           },
           "baxis": {
            "gridcolor": "white",
            "linecolor": "white",
            "ticks": ""
           },
           "bgcolor": "#E5ECF6",
           "caxis": {
            "gridcolor": "white",
            "linecolor": "white",
            "ticks": ""
           }
          },
          "title": {
           "x": 0.05
          },
          "xaxis": {
           "automargin": true,
           "gridcolor": "white",
           "linecolor": "white",
           "ticks": "",
           "title": {
            "standoff": 15
           },
           "zerolinecolor": "white",
           "zerolinewidth": 2
          },
          "yaxis": {
           "automargin": true,
           "gridcolor": "white",
           "linecolor": "white",
           "ticks": "",
           "title": {
            "standoff": 15
           },
           "zerolinecolor": "white",
           "zerolinewidth": 2
          }
         }
        },
        "title": {
         "text": "Total Sales by Category and Season"
        },
        "xaxis": {
         "anchor": "y",
         "domain": [
          0,
          0.48
         ],
         "title": {
          "text": "month"
         }
        },
        "xaxis10": {
         "anchor": "y10",
         "domain": [
          0.5,
          0.98
         ],
         "matches": "x",
         "showticklabels": false
        },
        "xaxis11": {
         "anchor": "y11",
         "domain": [
          0,
          0.48
         ],
         "matches": "x",
         "showticklabels": false
        },
        "xaxis12": {
         "anchor": "y12",
         "domain": [
          0.5,
          0.98
         ],
         "matches": "x",
         "showticklabels": false
        },
        "xaxis13": {
         "anchor": "y13",
         "domain": [
          0,
          0.48
         ],
         "matches": "x",
         "showticklabels": false
        },
        "xaxis14": {
         "anchor": "y14",
         "domain": [
          0.5,
          0.98
         ],
         "matches": "x",
         "showticklabels": false
        },
        "xaxis15": {
         "anchor": "y15",
         "domain": [
          0,
          0.48
         ],
         "matches": "x",
         "showticklabels": false
        },
        "xaxis16": {
         "anchor": "y16",
         "domain": [
          0.5,
          0.98
         ],
         "matches": "x",
         "showticklabels": false
        },
        "xaxis17": {
         "anchor": "y17",
         "domain": [
          0,
          0.48
         ],
         "matches": "x",
         "showticklabels": false
        },
        "xaxis18": {
         "anchor": "y18",
         "domain": [
          0.5,
          0.98
         ],
         "matches": "x",
         "showticklabels": false
        },
        "xaxis19": {
         "anchor": "y19",
         "domain": [
          0,
          0.48
         ],
         "matches": "x",
         "showticklabels": false
        },
        "xaxis2": {
         "anchor": "y2",
         "domain": [
          0.5,
          0.98
         ],
         "matches": "x",
         "title": {
          "text": "month"
         }
        },
        "xaxis20": {
         "anchor": "y20",
         "domain": [
          0.5,
          0.98
         ],
         "matches": "x",
         "showticklabels": false
        },
        "xaxis21": {
         "anchor": "y21",
         "domain": [
          0,
          0.48
         ],
         "matches": "x",
         "showticklabels": false
        },
        "xaxis22": {
         "anchor": "y22",
         "domain": [
          0.5,
          0.98
         ],
         "matches": "x",
         "showticklabels": false
        },
        "xaxis23": {
         "anchor": "y23",
         "domain": [
          0,
          0.48
         ],
         "matches": "x",
         "showticklabels": false
        },
        "xaxis24": {
         "anchor": "y24",
         "domain": [
          0.5,
          0.98
         ],
         "matches": "x",
         "showticklabels": false
        },
        "xaxis25": {
         "anchor": "y25",
         "domain": [
          0,
          0.48
         ],
         "matches": "x",
         "showticklabels": false
        },
        "xaxis26": {
         "anchor": "y26",
         "domain": [
          0.5,
          0.98
         ],
         "matches": "x",
         "showticklabels": false
        },
        "xaxis27": {
         "anchor": "y27",
         "domain": [
          0,
          0.48
         ],
         "matches": "x",
         "showticklabels": false
        },
        "xaxis28": {
         "anchor": "y28",
         "domain": [
          0.5,
          0.98
         ],
         "matches": "x",
         "showticklabels": false
        },
        "xaxis3": {
         "anchor": "y3",
         "domain": [
          0,
          0.48
         ],
         "matches": "x",
         "showticklabels": false
        },
        "xaxis4": {
         "anchor": "y4",
         "domain": [
          0.5,
          0.98
         ],
         "matches": "x",
         "showticklabels": false
        },
        "xaxis5": {
         "anchor": "y5",
         "domain": [
          0,
          0.48
         ],
         "matches": "x",
         "showticklabels": false
        },
        "xaxis6": {
         "anchor": "y6",
         "domain": [
          0.5,
          0.98
         ],
         "matches": "x",
         "showticklabels": false
        },
        "xaxis7": {
         "anchor": "y7",
         "domain": [
          0,
          0.48
         ],
         "matches": "x",
         "showticklabels": false
        },
        "xaxis8": {
         "anchor": "y8",
         "domain": [
          0.5,
          0.98
         ],
         "matches": "x",
         "showticklabels": false
        },
        "xaxis9": {
         "anchor": "y9",
         "domain": [
          0,
          0.48
         ],
         "matches": "x",
         "showticklabels": false
        },
        "yaxis": {
         "anchor": "x",
         "domain": [
          0,
          0.043571428571428567
         ],
         "title": {
          "text": "Quantity Sold (kg)"
         }
        },
        "yaxis10": {
         "anchor": "x10",
         "domain": [
          0.29428571428571426,
          0.33785714285714286
         ],
         "matches": "y",
         "showticklabels": false
        },
        "yaxis11": {
         "anchor": "x11",
         "domain": [
          0.3678571428571428,
          0.41142857142857137
         ],
         "matches": "y",
         "title": {
          "text": "Quantity Sold (kg)"
         }
        },
        "yaxis12": {
         "anchor": "x12",
         "domain": [
          0.3678571428571428,
          0.41142857142857137
         ],
         "matches": "y",
         "showticklabels": false
        },
        "yaxis13": {
         "anchor": "x13",
         "domain": [
          0.4414285714285714,
          0.485
         ],
         "matches": "y",
         "title": {
          "text": "Quantity Sold (kg)"
         }
        },
        "yaxis14": {
         "anchor": "x14",
         "domain": [
          0.4414285714285714,
          0.485
         ],
         "matches": "y",
         "showticklabels": false
        },
        "yaxis15": {
         "anchor": "x15",
         "domain": [
          0.5149999999999999,
          0.5585714285714285
         ],
         "matches": "y",
         "title": {
          "text": "Quantity Sold (kg)"
         }
        },
        "yaxis16": {
         "anchor": "x16",
         "domain": [
          0.5149999999999999,
          0.5585714285714285
         ],
         "matches": "y",
         "showticklabels": false
        },
        "yaxis17": {
         "anchor": "x17",
         "domain": [
          0.5885714285714285,
          0.6321428571428571
         ],
         "matches": "y",
         "title": {
          "text": "Quantity Sold (kg)"
         }
        },
        "yaxis18": {
         "anchor": "x18",
         "domain": [
          0.5885714285714285,
          0.6321428571428571
         ],
         "matches": "y",
         "showticklabels": false
        },
        "yaxis19": {
         "anchor": "x19",
         "domain": [
          0.6621428571428571,
          0.7057142857142857
         ],
         "matches": "y",
         "title": {
          "text": "Quantity Sold (kg)"
         }
        },
        "yaxis2": {
         "anchor": "x2",
         "domain": [
          0,
          0.043571428571428567
         ],
         "matches": "y",
         "showticklabels": false
        },
        "yaxis20": {
         "anchor": "x20",
         "domain": [
          0.6621428571428571,
          0.7057142857142857
         ],
         "matches": "y",
         "showticklabels": false
        },
        "yaxis21": {
         "anchor": "x21",
         "domain": [
          0.7357142857142858,
          0.7792857142857144
         ],
         "matches": "y",
         "title": {
          "text": "Quantity Sold (kg)"
         }
        },
        "yaxis22": {
         "anchor": "x22",
         "domain": [
          0.7357142857142858,
          0.7792857142857144
         ],
         "matches": "y",
         "showticklabels": false
        },
        "yaxis23": {
         "anchor": "x23",
         "domain": [
          0.8092857142857143,
          0.8528571428571429
         ],
         "matches": "y",
         "title": {
          "text": "Quantity Sold (kg)"
         }
        },
        "yaxis24": {
         "anchor": "x24",
         "domain": [
          0.8092857142857143,
          0.8528571428571429
         ],
         "matches": "y",
         "showticklabels": false
        },
        "yaxis25": {
         "anchor": "x25",
         "domain": [
          0.8828571428571429,
          0.9264285714285715
         ],
         "matches": "y",
         "title": {
          "text": "Quantity Sold (kg)"
         }
        },
        "yaxis26": {
         "anchor": "x26",
         "domain": [
          0.8828571428571429,
          0.9264285714285715
         ],
         "matches": "y",
         "showticklabels": false
        },
        "yaxis27": {
         "anchor": "x27",
         "domain": [
          0.9564285714285715,
          1
         ],
         "matches": "y",
         "title": {
          "text": "Quantity Sold (kg)"
         }
        },
        "yaxis28": {
         "anchor": "x28",
         "domain": [
          0.9564285714285715,
          1
         ],
         "matches": "y",
         "showticklabels": false
        },
        "yaxis3": {
         "anchor": "x3",
         "domain": [
          0.07357142857142857,
          0.11714285714285713
         ],
         "matches": "y",
         "title": {
          "text": "Quantity Sold (kg)"
         }
        },
        "yaxis4": {
         "anchor": "x4",
         "domain": [
          0.07357142857142857,
          0.11714285714285713
         ],
         "matches": "y",
         "showticklabels": false
        },
        "yaxis5": {
         "anchor": "x5",
         "domain": [
          0.14714285714285713,
          0.1907142857142857
         ],
         "matches": "y",
         "title": {
          "text": "Quantity Sold (kg)"
         }
        },
        "yaxis6": {
         "anchor": "x6",
         "domain": [
          0.14714285714285713,
          0.1907142857142857
         ],
         "matches": "y",
         "showticklabels": false
        },
        "yaxis7": {
         "anchor": "x7",
         "domain": [
          0.2207142857142857,
          0.26428571428571423
         ],
         "matches": "y",
         "title": {
          "text": "Quantity Sold (kg)"
         }
        },
        "yaxis8": {
         "anchor": "x8",
         "domain": [
          0.2207142857142857,
          0.26428571428571423
         ],
         "matches": "y",
         "showticklabels": false
        },
        "yaxis9": {
         "anchor": "x9",
         "domain": [
          0.29428571428571426,
          0.33785714285714286
         ],
         "matches": "y",
         "title": {
          "text": "Quantity Sold (kg)"
         }
        }
       }
      }
     },
     "metadata": {},
     "output_type": "display_data"
    }
   ],
   "source": [
    "import plotly.express as px\n",
    "\n",
    "\n",
    "sales_category = df.groupby([\"year\" , \"month_of_season\" , \"month\" , \"Season\"])[[\"Quantity Sold (kg)\"]].sum().reset_index()\n",
    "\n",
    "fig = px.bar(sales_category , x = \"month\" , y =\"Quantity Sold (kg)\" , color = \"month_of_season\" , facet_col = \"Season\" , \n",
    "             facet_row = \"year\" , height = 3000 , title = \"Total Sales by Category and Season\" )\n",
    "\n",
    "fig.show()"
   ]
  },
  {
   "cell_type": "markdown",
   "metadata": {},
   "source": [
    "### Examining the effect of month  on sales volume"
   ]
  },
  {
   "cell_type": "code",
   "execution_count": 35,
   "metadata": {},
   "outputs": [
    {
     "data": {
      "application/vnd.plotly.v1+json": {
       "config": {
        "plotlyServerURL": "https://plot.ly"
       },
       "data": [
        {
         "alignmentgroup": "True",
         "hovertemplate": "month_of_season=fall<br>year=2009<br>month=%{x}<br>Quantity Sold (kg)=%{y}<extra></extra>",
         "legendgroup": "fall",
         "marker": {
          "color": "#636efa",
          "pattern": {
           "shape": ""
          }
         },
         "name": "fall",
         "offsetgroup": "fall",
         "orientation": "v",
         "showlegend": true,
         "textposition": "auto",
         "type": "bar",
         "x": [
          10,
          11,
          12
         ],
         "xaxis": "x14",
         "y": [
          6491,
          5677,
          5966
         ],
         "yaxis": "y14"
        },
        {
         "alignmentgroup": "True",
         "hovertemplate": "month_of_season=fall<br>year=2010<br>month=%{x}<br>Quantity Sold (kg)=%{y}<extra></extra>",
         "legendgroup": "fall",
         "marker": {
          "color": "#636efa",
          "pattern": {
           "shape": ""
          }
         },
         "name": "fall",
         "offsetgroup": "fall",
         "orientation": "v",
         "showlegend": false,
         "textposition": "auto",
         "type": "bar",
         "x": [
          10,
          11,
          12
         ],
         "xaxis": "x13",
         "y": [
          6350,
          5776,
          6413
         ],
         "yaxis": "y13"
        },
        {
         "alignmentgroup": "True",
         "hovertemplate": "month_of_season=fall<br>year=2011<br>month=%{x}<br>Quantity Sold (kg)=%{y}<extra></extra>",
         "legendgroup": "fall",
         "marker": {
          "color": "#636efa",
          "pattern": {
           "shape": ""
          }
         },
         "name": "fall",
         "offsetgroup": "fall",
         "orientation": "v",
         "showlegend": false,
         "textposition": "auto",
         "type": "bar",
         "x": [
          10,
          11,
          12
         ],
         "xaxis": "x12",
         "y": [
          5928,
          5887,
          6984
         ],
         "yaxis": "y12"
        },
        {
         "alignmentgroup": "True",
         "hovertemplate": "month_of_season=fall<br>year=2012<br>month=%{x}<br>Quantity Sold (kg)=%{y}<extra></extra>",
         "legendgroup": "fall",
         "marker": {
          "color": "#636efa",
          "pattern": {
           "shape": ""
          }
         },
         "name": "fall",
         "offsetgroup": "fall",
         "orientation": "v",
         "showlegend": false,
         "textposition": "auto",
         "type": "bar",
         "x": [
          10,
          11,
          12
         ],
         "xaxis": "x11",
         "y": [
          6238,
          6140,
          6401
         ],
         "yaxis": "y11"
        },
        {
         "alignmentgroup": "True",
         "hovertemplate": "month_of_season=fall<br>year=2013<br>month=%{x}<br>Quantity Sold (kg)=%{y}<extra></extra>",
         "legendgroup": "fall",
         "marker": {
          "color": "#636efa",
          "pattern": {
           "shape": ""
          }
         },
         "name": "fall",
         "offsetgroup": "fall",
         "orientation": "v",
         "showlegend": false,
         "textposition": "auto",
         "type": "bar",
         "x": [
          10,
          11,
          12
         ],
         "xaxis": "x10",
         "y": [
          6510,
          5563,
          5873
         ],
         "yaxis": "y10"
        },
        {
         "alignmentgroup": "True",
         "hovertemplate": "month_of_season=fall<br>year=2014<br>month=%{x}<br>Quantity Sold (kg)=%{y}<extra></extra>",
         "legendgroup": "fall",
         "marker": {
          "color": "#636efa",
          "pattern": {
           "shape": ""
          }
         },
         "name": "fall",
         "offsetgroup": "fall",
         "orientation": "v",
         "showlegend": false,
         "textposition": "auto",
         "type": "bar",
         "x": [
          10,
          11,
          12
         ],
         "xaxis": "x9",
         "y": [
          5905,
          6002,
          6488
         ],
         "yaxis": "y9"
        },
        {
         "alignmentgroup": "True",
         "hovertemplate": "month_of_season=fall<br>year=2015<br>month=%{x}<br>Quantity Sold (kg)=%{y}<extra></extra>",
         "legendgroup": "fall",
         "marker": {
          "color": "#636efa",
          "pattern": {
           "shape": ""
          }
         },
         "name": "fall",
         "offsetgroup": "fall",
         "orientation": "v",
         "showlegend": false,
         "textposition": "auto",
         "type": "bar",
         "x": [
          10,
          11,
          12
         ],
         "xaxis": "x8",
         "y": [
          6004,
          5584,
          6341
         ],
         "yaxis": "y8"
        },
        {
         "alignmentgroup": "True",
         "hovertemplate": "month_of_season=fall<br>year=2016<br>month=%{x}<br>Quantity Sold (kg)=%{y}<extra></extra>",
         "legendgroup": "fall",
         "marker": {
          "color": "#636efa",
          "pattern": {
           "shape": ""
          }
         },
         "name": "fall",
         "offsetgroup": "fall",
         "orientation": "v",
         "showlegend": false,
         "textposition": "auto",
         "type": "bar",
         "x": [
          10,
          11,
          12
         ],
         "xaxis": "x7",
         "y": [
          6169,
          6251,
          6157
         ],
         "yaxis": "y7"
        },
        {
         "alignmentgroup": "True",
         "hovertemplate": "month_of_season=fall<br>year=2017<br>month=%{x}<br>Quantity Sold (kg)=%{y}<extra></extra>",
         "legendgroup": "fall",
         "marker": {
          "color": "#636efa",
          "pattern": {
           "shape": ""
          }
         },
         "name": "fall",
         "offsetgroup": "fall",
         "orientation": "v",
         "showlegend": false,
         "textposition": "auto",
         "type": "bar",
         "x": [
          10,
          11,
          12
         ],
         "xaxis": "x6",
         "y": [
          5933,
          6261,
          5644
         ],
         "yaxis": "y6"
        },
        {
         "alignmentgroup": "True",
         "hovertemplate": "month_of_season=fall<br>year=2018<br>month=%{x}<br>Quantity Sold (kg)=%{y}<extra></extra>",
         "legendgroup": "fall",
         "marker": {
          "color": "#636efa",
          "pattern": {
           "shape": ""
          }
         },
         "name": "fall",
         "offsetgroup": "fall",
         "orientation": "v",
         "showlegend": false,
         "textposition": "auto",
         "type": "bar",
         "x": [
          10,
          11,
          12
         ],
         "xaxis": "x5",
         "y": [
          6221,
          5344,
          6233
         ],
         "yaxis": "y5"
        },
        {
         "alignmentgroup": "True",
         "hovertemplate": "month_of_season=fall<br>year=2019<br>month=%{x}<br>Quantity Sold (kg)=%{y}<extra></extra>",
         "legendgroup": "fall",
         "marker": {
          "color": "#636efa",
          "pattern": {
           "shape": ""
          }
         },
         "name": "fall",
         "offsetgroup": "fall",
         "orientation": "v",
         "showlegend": false,
         "textposition": "auto",
         "type": "bar",
         "x": [
          10,
          11,
          12
         ],
         "xaxis": "x4",
         "y": [
          6000,
          6277,
          5980
         ],
         "yaxis": "y4"
        },
        {
         "alignmentgroup": "True",
         "hovertemplate": "month_of_season=fall<br>year=2020<br>month=%{x}<br>Quantity Sold (kg)=%{y}<extra></extra>",
         "legendgroup": "fall",
         "marker": {
          "color": "#636efa",
          "pattern": {
           "shape": ""
          }
         },
         "name": "fall",
         "offsetgroup": "fall",
         "orientation": "v",
         "showlegend": false,
         "textposition": "auto",
         "type": "bar",
         "x": [
          10,
          11,
          12
         ],
         "xaxis": "x3",
         "y": [
          6614,
          6073,
          5983
         ],
         "yaxis": "y3"
        },
        {
         "alignmentgroup": "True",
         "hovertemplate": "month_of_season=fall<br>year=2021<br>month=%{x}<br>Quantity Sold (kg)=%{y}<extra></extra>",
         "legendgroup": "fall",
         "marker": {
          "color": "#636efa",
          "pattern": {
           "shape": ""
          }
         },
         "name": "fall",
         "offsetgroup": "fall",
         "orientation": "v",
         "showlegend": false,
         "textposition": "auto",
         "type": "bar",
         "x": [
          10,
          11,
          12
         ],
         "xaxis": "x2",
         "y": [
          5911,
          6718,
          6698
         ],
         "yaxis": "y2"
        },
        {
         "alignmentgroup": "True",
         "hovertemplate": "month_of_season=fall<br>year=2022<br>month=%{x}<br>Quantity Sold (kg)=%{y}<extra></extra>",
         "legendgroup": "fall",
         "marker": {
          "color": "#636efa",
          "pattern": {
           "shape": ""
          }
         },
         "name": "fall",
         "offsetgroup": "fall",
         "orientation": "v",
         "showlegend": false,
         "textposition": "auto",
         "type": "bar",
         "x": [
          10
         ],
         "xaxis": "x",
         "y": [
          5468
         ],
         "yaxis": "y"
        },
        {
         "alignmentgroup": "True",
         "hovertemplate": "month_of_season=spring<br>year=2009<br>month=%{x}<br>Quantity Sold (kg)=%{y}<extra></extra>",
         "legendgroup": "spring",
         "marker": {
          "color": "#EF553B",
          "pattern": {
           "shape": ""
          }
         },
         "name": "spring",
         "offsetgroup": "spring",
         "orientation": "v",
         "showlegend": true,
         "textposition": "auto",
         "type": "bar",
         "x": [
          4,
          5,
          6
         ],
         "xaxis": "x14",
         "y": [
          5796,
          5822,
          3542
         ],
         "yaxis": "y14"
        },
        {
         "alignmentgroup": "True",
         "hovertemplate": "month_of_season=spring<br>year=2010<br>month=%{x}<br>Quantity Sold (kg)=%{y}<extra></extra>",
         "legendgroup": "spring",
         "marker": {
          "color": "#EF553B",
          "pattern": {
           "shape": ""
          }
         },
         "name": "spring",
         "offsetgroup": "spring",
         "orientation": "v",
         "showlegend": false,
         "textposition": "auto",
         "type": "bar",
         "x": [
          4,
          5,
          6
         ],
         "xaxis": "x13",
         "y": [
          5822,
          6179,
          4091
         ],
         "yaxis": "y13"
        },
        {
         "alignmentgroup": "True",
         "hovertemplate": "month_of_season=spring<br>year=2011<br>month=%{x}<br>Quantity Sold (kg)=%{y}<extra></extra>",
         "legendgroup": "spring",
         "marker": {
          "color": "#EF553B",
          "pattern": {
           "shape": ""
          }
         },
         "name": "spring",
         "offsetgroup": "spring",
         "orientation": "v",
         "showlegend": false,
         "textposition": "auto",
         "type": "bar",
         "x": [
          4,
          5,
          6
         ],
         "xaxis": "x12",
         "y": [
          5782,
          6678,
          3681
         ],
         "yaxis": "y12"
        },
        {
         "alignmentgroup": "True",
         "hovertemplate": "month_of_season=spring<br>year=2012<br>month=%{x}<br>Quantity Sold (kg)=%{y}<extra></extra>",
         "legendgroup": "spring",
         "marker": {
          "color": "#EF553B",
          "pattern": {
           "shape": ""
          }
         },
         "name": "spring",
         "offsetgroup": "spring",
         "orientation": "v",
         "showlegend": false,
         "textposition": "auto",
         "type": "bar",
         "x": [
          4,
          5,
          6
         ],
         "xaxis": "x11",
         "y": [
          6087,
          5464,
          3698
         ],
         "yaxis": "y11"
        },
        {
         "alignmentgroup": "True",
         "hovertemplate": "month_of_season=spring<br>year=2013<br>month=%{x}<br>Quantity Sold (kg)=%{y}<extra></extra>",
         "legendgroup": "spring",
         "marker": {
          "color": "#EF553B",
          "pattern": {
           "shape": ""
          }
         },
         "name": "spring",
         "offsetgroup": "spring",
         "orientation": "v",
         "showlegend": false,
         "textposition": "auto",
         "type": "bar",
         "x": [
          4,
          5,
          6
         ],
         "xaxis": "x10",
         "y": [
          5561,
          5970,
          3658
         ],
         "yaxis": "y10"
        },
        {
         "alignmentgroup": "True",
         "hovertemplate": "month_of_season=spring<br>year=2014<br>month=%{x}<br>Quantity Sold (kg)=%{y}<extra></extra>",
         "legendgroup": "spring",
         "marker": {
          "color": "#EF553B",
          "pattern": {
           "shape": ""
          }
         },
         "name": "spring",
         "offsetgroup": "spring",
         "orientation": "v",
         "showlegend": false,
         "textposition": "auto",
         "type": "bar",
         "x": [
          4,
          5,
          6
         ],
         "xaxis": "x9",
         "y": [
          6472,
          5977,
          4283
         ],
         "yaxis": "y9"
        },
        {
         "alignmentgroup": "True",
         "hovertemplate": "month_of_season=spring<br>year=2015<br>month=%{x}<br>Quantity Sold (kg)=%{y}<extra></extra>",
         "legendgroup": "spring",
         "marker": {
          "color": "#EF553B",
          "pattern": {
           "shape": ""
          }
         },
         "name": "spring",
         "offsetgroup": "spring",
         "orientation": "v",
         "showlegend": false,
         "textposition": "auto",
         "type": "bar",
         "x": [
          4,
          5,
          6
         ],
         "xaxis": "x8",
         "y": [
          6447,
          6489,
          3901
         ],
         "yaxis": "y8"
        },
        {
         "alignmentgroup": "True",
         "hovertemplate": "month_of_season=spring<br>year=2016<br>month=%{x}<br>Quantity Sold (kg)=%{y}<extra></extra>",
         "legendgroup": "spring",
         "marker": {
          "color": "#EF553B",
          "pattern": {
           "shape": ""
          }
         },
         "name": "spring",
         "offsetgroup": "spring",
         "orientation": "v",
         "showlegend": false,
         "textposition": "auto",
         "type": "bar",
         "x": [
          4,
          5,
          6
         ],
         "xaxis": "x7",
         "y": [
          6116,
          6603,
          3957
         ],
         "yaxis": "y7"
        },
        {
         "alignmentgroup": "True",
         "hovertemplate": "month_of_season=spring<br>year=2017<br>month=%{x}<br>Quantity Sold (kg)=%{y}<extra></extra>",
         "legendgroup": "spring",
         "marker": {
          "color": "#EF553B",
          "pattern": {
           "shape": ""
          }
         },
         "name": "spring",
         "offsetgroup": "spring",
         "orientation": "v",
         "showlegend": false,
         "textposition": "auto",
         "type": "bar",
         "x": [
          4,
          5,
          6
         ],
         "xaxis": "x6",
         "y": [
          5616,
          6440,
          3702
         ],
         "yaxis": "y6"
        },
        {
         "alignmentgroup": "True",
         "hovertemplate": "month_of_season=spring<br>year=2018<br>month=%{x}<br>Quantity Sold (kg)=%{y}<extra></extra>",
         "legendgroup": "spring",
         "marker": {
          "color": "#EF553B",
          "pattern": {
           "shape": ""
          }
         },
         "name": "spring",
         "offsetgroup": "spring",
         "orientation": "v",
         "showlegend": false,
         "textposition": "auto",
         "type": "bar",
         "x": [
          4,
          5,
          6
         ],
         "xaxis": "x5",
         "y": [
          6707,
          6549,
          3764
         ],
         "yaxis": "y5"
        },
        {
         "alignmentgroup": "True",
         "hovertemplate": "month_of_season=spring<br>year=2019<br>month=%{x}<br>Quantity Sold (kg)=%{y}<extra></extra>",
         "legendgroup": "spring",
         "marker": {
          "color": "#EF553B",
          "pattern": {
           "shape": ""
          }
         },
         "name": "spring",
         "offsetgroup": "spring",
         "orientation": "v",
         "showlegend": false,
         "textposition": "auto",
         "type": "bar",
         "x": [
          4,
          5,
          6
         ],
         "xaxis": "x4",
         "y": [
          6017,
          6633,
          3664
         ],
         "yaxis": "y4"
        },
        {
         "alignmentgroup": "True",
         "hovertemplate": "month_of_season=spring<br>year=2020<br>month=%{x}<br>Quantity Sold (kg)=%{y}<extra></extra>",
         "legendgroup": "spring",
         "marker": {
          "color": "#EF553B",
          "pattern": {
           "shape": ""
          }
         },
         "name": "spring",
         "offsetgroup": "spring",
         "orientation": "v",
         "showlegend": false,
         "textposition": "auto",
         "type": "bar",
         "x": [
          4,
          5,
          6
         ],
         "xaxis": "x3",
         "y": [
          5959,
          6211,
          3565
         ],
         "yaxis": "y3"
        },
        {
         "alignmentgroup": "True",
         "hovertemplate": "month_of_season=spring<br>year=2021<br>month=%{x}<br>Quantity Sold (kg)=%{y}<extra></extra>",
         "legendgroup": "spring",
         "marker": {
          "color": "#EF553B",
          "pattern": {
           "shape": ""
          }
         },
         "name": "spring",
         "offsetgroup": "spring",
         "orientation": "v",
         "showlegend": false,
         "textposition": "auto",
         "type": "bar",
         "x": [
          4,
          5,
          6
         ],
         "xaxis": "x2",
         "y": [
          5599,
          6037,
          3688
         ],
         "yaxis": "y2"
        },
        {
         "alignmentgroup": "True",
         "hovertemplate": "month_of_season=spring<br>year=2022<br>month=%{x}<br>Quantity Sold (kg)=%{y}<extra></extra>",
         "legendgroup": "spring",
         "marker": {
          "color": "#EF553B",
          "pattern": {
           "shape": ""
          }
         },
         "name": "spring",
         "offsetgroup": "spring",
         "orientation": "v",
         "showlegend": false,
         "textposition": "auto",
         "type": "bar",
         "x": [
          4,
          5,
          6
         ],
         "xaxis": "x",
         "y": [
          5756,
          5822,
          3635
         ],
         "yaxis": "y"
        },
        {
         "alignmentgroup": "True",
         "hovertemplate": "month_of_season=summer<br>year=2009<br>month=%{x}<br>Quantity Sold (kg)=%{y}<extra></extra>",
         "legendgroup": "summer",
         "marker": {
          "color": "#00cc96",
          "pattern": {
           "shape": ""
          }
         },
         "name": "summer",
         "offsetgroup": "summer",
         "orientation": "v",
         "showlegend": true,
         "textposition": "auto",
         "type": "bar",
         "x": [
          7,
          8,
          9
         ],
         "xaxis": "x14",
         "y": [
          3753,
          3822,
          3878
         ],
         "yaxis": "y14"
        },
        {
         "alignmentgroup": "True",
         "hovertemplate": "month_of_season=summer<br>year=2010<br>month=%{x}<br>Quantity Sold (kg)=%{y}<extra></extra>",
         "legendgroup": "summer",
         "marker": {
          "color": "#00cc96",
          "pattern": {
           "shape": ""
          }
         },
         "name": "summer",
         "offsetgroup": "summer",
         "orientation": "v",
         "showlegend": false,
         "textposition": "auto",
         "type": "bar",
         "x": [
          7,
          8,
          9
         ],
         "xaxis": "x13",
         "y": [
          4041,
          3803,
          3634
         ],
         "yaxis": "y13"
        },
        {
         "alignmentgroup": "True",
         "hovertemplate": "month_of_season=summer<br>year=2011<br>month=%{x}<br>Quantity Sold (kg)=%{y}<extra></extra>",
         "legendgroup": "summer",
         "marker": {
          "color": "#00cc96",
          "pattern": {
           "shape": ""
          }
         },
         "name": "summer",
         "offsetgroup": "summer",
         "orientation": "v",
         "showlegend": false,
         "textposition": "auto",
         "type": "bar",
         "x": [
          7,
          8,
          9
         ],
         "xaxis": "x12",
         "y": [
          3708,
          3935,
          3852
         ],
         "yaxis": "y12"
        },
        {
         "alignmentgroup": "True",
         "hovertemplate": "month_of_season=summer<br>year=2012<br>month=%{x}<br>Quantity Sold (kg)=%{y}<extra></extra>",
         "legendgroup": "summer",
         "marker": {
          "color": "#00cc96",
          "pattern": {
           "shape": ""
          }
         },
         "name": "summer",
         "offsetgroup": "summer",
         "orientation": "v",
         "showlegend": false,
         "textposition": "auto",
         "type": "bar",
         "x": [
          7,
          8,
          9
         ],
         "xaxis": "x11",
         "y": [
          4088,
          3812,
          3992
         ],
         "yaxis": "y11"
        },
        {
         "alignmentgroup": "True",
         "hovertemplate": "month_of_season=summer<br>year=2013<br>month=%{x}<br>Quantity Sold (kg)=%{y}<extra></extra>",
         "legendgroup": "summer",
         "marker": {
          "color": "#00cc96",
          "pattern": {
           "shape": ""
          }
         },
         "name": "summer",
         "offsetgroup": "summer",
         "orientation": "v",
         "showlegend": false,
         "textposition": "auto",
         "type": "bar",
         "x": [
          7,
          8,
          9
         ],
         "xaxis": "x10",
         "y": [
          4243,
          4148,
          3797
         ],
         "yaxis": "y10"
        },
        {
         "alignmentgroup": "True",
         "hovertemplate": "month_of_season=summer<br>year=2014<br>month=%{x}<br>Quantity Sold (kg)=%{y}<extra></extra>",
         "legendgroup": "summer",
         "marker": {
          "color": "#00cc96",
          "pattern": {
           "shape": ""
          }
         },
         "name": "summer",
         "offsetgroup": "summer",
         "orientation": "v",
         "showlegend": false,
         "textposition": "auto",
         "type": "bar",
         "x": [
          7,
          8,
          9
         ],
         "xaxis": "x9",
         "y": [
          3918,
          3828,
          3340
         ],
         "yaxis": "y9"
        },
        {
         "alignmentgroup": "True",
         "hovertemplate": "month_of_season=summer<br>year=2015<br>month=%{x}<br>Quantity Sold (kg)=%{y}<extra></extra>",
         "legendgroup": "summer",
         "marker": {
          "color": "#00cc96",
          "pattern": {
           "shape": ""
          }
         },
         "name": "summer",
         "offsetgroup": "summer",
         "orientation": "v",
         "showlegend": false,
         "textposition": "auto",
         "type": "bar",
         "x": [
          7,
          8,
          9
         ],
         "xaxis": "x8",
         "y": [
          3958,
          3703,
          3880
         ],
         "yaxis": "y8"
        },
        {
         "alignmentgroup": "True",
         "hovertemplate": "month_of_season=summer<br>year=2016<br>month=%{x}<br>Quantity Sold (kg)=%{y}<extra></extra>",
         "legendgroup": "summer",
         "marker": {
          "color": "#00cc96",
          "pattern": {
           "shape": ""
          }
         },
         "name": "summer",
         "offsetgroup": "summer",
         "orientation": "v",
         "showlegend": false,
         "textposition": "auto",
         "type": "bar",
         "x": [
          7,
          8,
          9
         ],
         "xaxis": "x7",
         "y": [
          3942,
          4074,
          3092
         ],
         "yaxis": "y7"
        },
        {
         "alignmentgroup": "True",
         "hovertemplate": "month_of_season=summer<br>year=2017<br>month=%{x}<br>Quantity Sold (kg)=%{y}<extra></extra>",
         "legendgroup": "summer",
         "marker": {
          "color": "#00cc96",
          "pattern": {
           "shape": ""
          }
         },
         "name": "summer",
         "offsetgroup": "summer",
         "orientation": "v",
         "showlegend": false,
         "textposition": "auto",
         "type": "bar",
         "x": [
          7,
          8,
          9
         ],
         "xaxis": "x6",
         "y": [
          4100,
          3200,
          3343
         ],
         "yaxis": "y6"
        },
        {
         "alignmentgroup": "True",
         "hovertemplate": "month_of_season=summer<br>year=2018<br>month=%{x}<br>Quantity Sold (kg)=%{y}<extra></extra>",
         "legendgroup": "summer",
         "marker": {
          "color": "#00cc96",
          "pattern": {
           "shape": ""
          }
         },
         "name": "summer",
         "offsetgroup": "summer",
         "orientation": "v",
         "showlegend": false,
         "textposition": "auto",
         "type": "bar",
         "x": [
          7,
          8,
          9
         ],
         "xaxis": "x5",
         "y": [
          4137,
          3534,
          3615
         ],
         "yaxis": "y5"
        },
        {
         "alignmentgroup": "True",
         "hovertemplate": "month_of_season=summer<br>year=2019<br>month=%{x}<br>Quantity Sold (kg)=%{y}<extra></extra>",
         "legendgroup": "summer",
         "marker": {
          "color": "#00cc96",
          "pattern": {
           "shape": ""
          }
         },
         "name": "summer",
         "offsetgroup": "summer",
         "orientation": "v",
         "showlegend": false,
         "textposition": "auto",
         "type": "bar",
         "x": [
          7,
          8,
          9
         ],
         "xaxis": "x4",
         "y": [
          3628,
          4096,
          3631
         ],
         "yaxis": "y4"
        },
        {
         "alignmentgroup": "True",
         "hovertemplate": "month_of_season=summer<br>year=2020<br>month=%{x}<br>Quantity Sold (kg)=%{y}<extra></extra>",
         "legendgroup": "summer",
         "marker": {
          "color": "#00cc96",
          "pattern": {
           "shape": ""
          }
         },
         "name": "summer",
         "offsetgroup": "summer",
         "orientation": "v",
         "showlegend": false,
         "textposition": "auto",
         "type": "bar",
         "x": [
          7,
          8,
          9
         ],
         "xaxis": "x3",
         "y": [
          3595,
          3560,
          3898
         ],
         "yaxis": "y3"
        },
        {
         "alignmentgroup": "True",
         "hovertemplate": "month_of_season=summer<br>year=2021<br>month=%{x}<br>Quantity Sold (kg)=%{y}<extra></extra>",
         "legendgroup": "summer",
         "marker": {
          "color": "#00cc96",
          "pattern": {
           "shape": ""
          }
         },
         "name": "summer",
         "offsetgroup": "summer",
         "orientation": "v",
         "showlegend": false,
         "textposition": "auto",
         "type": "bar",
         "x": [
          7,
          8,
          9
         ],
         "xaxis": "x2",
         "y": [
          4347,
          3966,
          3553
         ],
         "yaxis": "y2"
        },
        {
         "alignmentgroup": "True",
         "hovertemplate": "month_of_season=summer<br>year=2022<br>month=%{x}<br>Quantity Sold (kg)=%{y}<extra></extra>",
         "legendgroup": "summer",
         "marker": {
          "color": "#00cc96",
          "pattern": {
           "shape": ""
          }
         },
         "name": "summer",
         "offsetgroup": "summer",
         "orientation": "v",
         "showlegend": false,
         "textposition": "auto",
         "type": "bar",
         "x": [
          7,
          8,
          9
         ],
         "xaxis": "x",
         "y": [
          3334,
          4077,
          3887
         ],
         "yaxis": "y"
        },
        {
         "alignmentgroup": "True",
         "hovertemplate": "month_of_season=winter<br>year=2009<br>month=%{x}<br>Quantity Sold (kg)=%{y}<extra></extra>",
         "legendgroup": "winter",
         "marker": {
          "color": "#ab63fa",
          "pattern": {
           "shape": ""
          }
         },
         "name": "winter",
         "offsetgroup": "winter",
         "orientation": "v",
         "showlegend": true,
         "textposition": "auto",
         "type": "bar",
         "x": [
          1,
          2,
          3
         ],
         "xaxis": "x14",
         "y": [
          6526,
          5315,
          6511
         ],
         "yaxis": "y14"
        },
        {
         "alignmentgroup": "True",
         "hovertemplate": "month_of_season=winter<br>year=2010<br>month=%{x}<br>Quantity Sold (kg)=%{y}<extra></extra>",
         "legendgroup": "winter",
         "marker": {
          "color": "#ab63fa",
          "pattern": {
           "shape": ""
          }
         },
         "name": "winter",
         "offsetgroup": "winter",
         "orientation": "v",
         "showlegend": false,
         "textposition": "auto",
         "type": "bar",
         "x": [
          1,
          2,
          3
         ],
         "xaxis": "x13",
         "y": [
          6171,
          5507,
          5879
         ],
         "yaxis": "y13"
        },
        {
         "alignmentgroup": "True",
         "hovertemplate": "month_of_season=winter<br>year=2011<br>month=%{x}<br>Quantity Sold (kg)=%{y}<extra></extra>",
         "legendgroup": "winter",
         "marker": {
          "color": "#ab63fa",
          "pattern": {
           "shape": ""
          }
         },
         "name": "winter",
         "offsetgroup": "winter",
         "orientation": "v",
         "showlegend": false,
         "textposition": "auto",
         "type": "bar",
         "x": [
          1,
          2,
          3
         ],
         "xaxis": "x12",
         "y": [
          6401,
          5350,
          6368
         ],
         "yaxis": "y12"
        },
        {
         "alignmentgroup": "True",
         "hovertemplate": "month_of_season=winter<br>year=2012<br>month=%{x}<br>Quantity Sold (kg)=%{y}<extra></extra>",
         "legendgroup": "winter",
         "marker": {
          "color": "#ab63fa",
          "pattern": {
           "shape": ""
          }
         },
         "name": "winter",
         "offsetgroup": "winter",
         "orientation": "v",
         "showlegend": false,
         "textposition": "auto",
         "type": "bar",
         "x": [
          1,
          2,
          3
         ],
         "xaxis": "x11",
         "y": [
          5585,
          6222,
          6212
         ],
         "yaxis": "y11"
        },
        {
         "alignmentgroup": "True",
         "hovertemplate": "month_of_season=winter<br>year=2013<br>month=%{x}<br>Quantity Sold (kg)=%{y}<extra></extra>",
         "legendgroup": "winter",
         "marker": {
          "color": "#ab63fa",
          "pattern": {
           "shape": ""
          }
         },
         "name": "winter",
         "offsetgroup": "winter",
         "orientation": "v",
         "showlegend": false,
         "textposition": "auto",
         "type": "bar",
         "x": [
          1,
          2,
          3
         ],
         "xaxis": "x10",
         "y": [
          6002,
          5574,
          6441
         ],
         "yaxis": "y10"
        },
        {
         "alignmentgroup": "True",
         "hovertemplate": "month_of_season=winter<br>year=2014<br>month=%{x}<br>Quantity Sold (kg)=%{y}<extra></extra>",
         "legendgroup": "winter",
         "marker": {
          "color": "#ab63fa",
          "pattern": {
           "shape": ""
          }
         },
         "name": "winter",
         "offsetgroup": "winter",
         "orientation": "v",
         "showlegend": false,
         "textposition": "auto",
         "type": "bar",
         "x": [
          1,
          2,
          3
         ],
         "xaxis": "x9",
         "y": [
          6281,
          5733,
          6487
         ],
         "yaxis": "y9"
        },
        {
         "alignmentgroup": "True",
         "hovertemplate": "month_of_season=winter<br>year=2015<br>month=%{x}<br>Quantity Sold (kg)=%{y}<extra></extra>",
         "legendgroup": "winter",
         "marker": {
          "color": "#ab63fa",
          "pattern": {
           "shape": ""
          }
         },
         "name": "winter",
         "offsetgroup": "winter",
         "orientation": "v",
         "showlegend": false,
         "textposition": "auto",
         "type": "bar",
         "x": [
          1,
          2,
          3
         ],
         "xaxis": "x8",
         "y": [
          6468,
          5139,
          6425
         ],
         "yaxis": "y8"
        },
        {
         "alignmentgroup": "True",
         "hovertemplate": "month_of_season=winter<br>year=2016<br>month=%{x}<br>Quantity Sold (kg)=%{y}<extra></extra>",
         "legendgroup": "winter",
         "marker": {
          "color": "#ab63fa",
          "pattern": {
           "shape": ""
          }
         },
         "name": "winter",
         "offsetgroup": "winter",
         "orientation": "v",
         "showlegend": false,
         "textposition": "auto",
         "type": "bar",
         "x": [
          1,
          2,
          3
         ],
         "xaxis": "x7",
         "y": [
          6176,
          5631,
          5965
         ],
         "yaxis": "y7"
        },
        {
         "alignmentgroup": "True",
         "hovertemplate": "month_of_season=winter<br>year=2017<br>month=%{x}<br>Quantity Sold (kg)=%{y}<extra></extra>",
         "legendgroup": "winter",
         "marker": {
          "color": "#ab63fa",
          "pattern": {
           "shape": ""
          }
         },
         "name": "winter",
         "offsetgroup": "winter",
         "orientation": "v",
         "showlegend": false,
         "textposition": "auto",
         "type": "bar",
         "x": [
          1,
          2,
          3
         ],
         "xaxis": "x6",
         "y": [
          6172,
          6031,
          6621
         ],
         "yaxis": "y6"
        },
        {
         "alignmentgroup": "True",
         "hovertemplate": "month_of_season=winter<br>year=2018<br>month=%{x}<br>Quantity Sold (kg)=%{y}<extra></extra>",
         "legendgroup": "winter",
         "marker": {
          "color": "#ab63fa",
          "pattern": {
           "shape": ""
          }
         },
         "name": "winter",
         "offsetgroup": "winter",
         "orientation": "v",
         "showlegend": false,
         "textposition": "auto",
         "type": "bar",
         "x": [
          1,
          2,
          3
         ],
         "xaxis": "x5",
         "y": [
          6737,
          5445,
          5696
         ],
         "yaxis": "y5"
        },
        {
         "alignmentgroup": "True",
         "hovertemplate": "month_of_season=winter<br>year=2019<br>month=%{x}<br>Quantity Sold (kg)=%{y}<extra></extra>",
         "legendgroup": "winter",
         "marker": {
          "color": "#ab63fa",
          "pattern": {
           "shape": ""
          }
         },
         "name": "winter",
         "offsetgroup": "winter",
         "orientation": "v",
         "showlegend": false,
         "textposition": "auto",
         "type": "bar",
         "x": [
          1,
          2,
          3
         ],
         "xaxis": "x4",
         "y": [
          6663,
          5457,
          5934
         ],
         "yaxis": "y4"
        },
        {
         "alignmentgroup": "True",
         "hovertemplate": "month_of_season=winter<br>year=2020<br>month=%{x}<br>Quantity Sold (kg)=%{y}<extra></extra>",
         "legendgroup": "winter",
         "marker": {
          "color": "#ab63fa",
          "pattern": {
           "shape": ""
          }
         },
         "name": "winter",
         "offsetgroup": "winter",
         "orientation": "v",
         "showlegend": false,
         "textposition": "auto",
         "type": "bar",
         "x": [
          1,
          2,
          3
         ],
         "xaxis": "x3",
         "y": [
          6534,
          5568,
          6327
         ],
         "yaxis": "y3"
        },
        {
         "alignmentgroup": "True",
         "hovertemplate": "month_of_season=winter<br>year=2021<br>month=%{x}<br>Quantity Sold (kg)=%{y}<extra></extra>",
         "legendgroup": "winter",
         "marker": {
          "color": "#ab63fa",
          "pattern": {
           "shape": ""
          }
         },
         "name": "winter",
         "offsetgroup": "winter",
         "orientation": "v",
         "showlegend": false,
         "textposition": "auto",
         "type": "bar",
         "x": [
          1,
          2,
          3
         ],
         "xaxis": "x2",
         "y": [
          6200,
          5358,
          6463
         ],
         "yaxis": "y2"
        },
        {
         "alignmentgroup": "True",
         "hovertemplate": "month_of_season=winter<br>year=2022<br>month=%{x}<br>Quantity Sold (kg)=%{y}<extra></extra>",
         "legendgroup": "winter",
         "marker": {
          "color": "#ab63fa",
          "pattern": {
           "shape": ""
          }
         },
         "name": "winter",
         "offsetgroup": "winter",
         "orientation": "v",
         "showlegend": false,
         "textposition": "auto",
         "type": "bar",
         "x": [
          1,
          2,
          3
         ],
         "xaxis": "x",
         "y": [
          6164,
          5760,
          6560
         ],
         "yaxis": "y"
        }
       ],
       "layout": {
        "annotations": [
         {
          "font": {},
          "showarrow": false,
          "text": "year=2022",
          "textangle": 90,
          "x": 0.98,
          "xanchor": "left",
          "xref": "paper",
          "y": 0.021785714285714283,
          "yanchor": "middle",
          "yref": "paper"
         },
         {
          "font": {},
          "showarrow": false,
          "text": "year=2021",
          "textangle": 90,
          "x": 0.98,
          "xanchor": "left",
          "xref": "paper",
          "y": 0.09535714285714285,
          "yanchor": "middle",
          "yref": "paper"
         },
         {
          "font": {},
          "showarrow": false,
          "text": "year=2020",
          "textangle": 90,
          "x": 0.98,
          "xanchor": "left",
          "xref": "paper",
          "y": 0.16892857142857143,
          "yanchor": "middle",
          "yref": "paper"
         },
         {
          "font": {},
          "showarrow": false,
          "text": "year=2019",
          "textangle": 90,
          "x": 0.98,
          "xanchor": "left",
          "xref": "paper",
          "y": 0.24249999999999997,
          "yanchor": "middle",
          "yref": "paper"
         },
         {
          "font": {},
          "showarrow": false,
          "text": "year=2018",
          "textangle": 90,
          "x": 0.98,
          "xanchor": "left",
          "xref": "paper",
          "y": 0.31607142857142856,
          "yanchor": "middle",
          "yref": "paper"
         },
         {
          "font": {},
          "showarrow": false,
          "text": "year=2017",
          "textangle": 90,
          "x": 0.98,
          "xanchor": "left",
          "xref": "paper",
          "y": 0.38964285714285707,
          "yanchor": "middle",
          "yref": "paper"
         },
         {
          "font": {},
          "showarrow": false,
          "text": "year=2016",
          "textangle": 90,
          "x": 0.98,
          "xanchor": "left",
          "xref": "paper",
          "y": 0.4632142857142857,
          "yanchor": "middle",
          "yref": "paper"
         },
         {
          "font": {},
          "showarrow": false,
          "text": "year=2015",
          "textangle": 90,
          "x": 0.98,
          "xanchor": "left",
          "xref": "paper",
          "y": 0.5367857142857142,
          "yanchor": "middle",
          "yref": "paper"
         },
         {
          "font": {},
          "showarrow": false,
          "text": "year=2014",
          "textangle": 90,
          "x": 0.98,
          "xanchor": "left",
          "xref": "paper",
          "y": 0.6103571428571428,
          "yanchor": "middle",
          "yref": "paper"
         },
         {
          "font": {},
          "showarrow": false,
          "text": "year=2013",
          "textangle": 90,
          "x": 0.98,
          "xanchor": "left",
          "xref": "paper",
          "y": 0.6839285714285714,
          "yanchor": "middle",
          "yref": "paper"
         },
         {
          "font": {},
          "showarrow": false,
          "text": "year=2012",
          "textangle": 90,
          "x": 0.98,
          "xanchor": "left",
          "xref": "paper",
          "y": 0.7575000000000001,
          "yanchor": "middle",
          "yref": "paper"
         },
         {
          "font": {},
          "showarrow": false,
          "text": "year=2011",
          "textangle": 90,
          "x": 0.98,
          "xanchor": "left",
          "xref": "paper",
          "y": 0.8310714285714286,
          "yanchor": "middle",
          "yref": "paper"
         },
         {
          "font": {},
          "showarrow": false,
          "text": "year=2010",
          "textangle": 90,
          "x": 0.98,
          "xanchor": "left",
          "xref": "paper",
          "y": 0.9046428571428572,
          "yanchor": "middle",
          "yref": "paper"
         },
         {
          "font": {},
          "showarrow": false,
          "text": "year=2009",
          "textangle": 90,
          "x": 0.98,
          "xanchor": "left",
          "xref": "paper",
          "y": 0.9782142857142857,
          "yanchor": "middle",
          "yref": "paper"
         }
        ],
        "barmode": "relative",
        "height": 3000,
        "legend": {
         "title": {
          "text": "month_of_season"
         },
         "tracegroupgap": 0
        },
        "template": {
         "data": {
          "bar": [
           {
            "error_x": {
             "color": "#2a3f5f"
            },
            "error_y": {
             "color": "#2a3f5f"
            },
            "marker": {
             "line": {
              "color": "#E5ECF6",
              "width": 0.5
             },
             "pattern": {
              "fillmode": "overlay",
              "size": 10,
              "solidity": 0.2
             }
            },
            "type": "bar"
           }
          ],
          "barpolar": [
           {
            "marker": {
             "line": {
              "color": "#E5ECF6",
              "width": 0.5
             },
             "pattern": {
              "fillmode": "overlay",
              "size": 10,
              "solidity": 0.2
             }
            },
            "type": "barpolar"
           }
          ],
          "carpet": [
           {
            "aaxis": {
             "endlinecolor": "#2a3f5f",
             "gridcolor": "white",
             "linecolor": "white",
             "minorgridcolor": "white",
             "startlinecolor": "#2a3f5f"
            },
            "baxis": {
             "endlinecolor": "#2a3f5f",
             "gridcolor": "white",
             "linecolor": "white",
             "minorgridcolor": "white",
             "startlinecolor": "#2a3f5f"
            },
            "type": "carpet"
           }
          ],
          "choropleth": [
           {
            "colorbar": {
             "outlinewidth": 0,
             "ticks": ""
            },
            "type": "choropleth"
           }
          ],
          "contour": [
           {
            "colorbar": {
             "outlinewidth": 0,
             "ticks": ""
            },
            "colorscale": [
             [
              0,
              "#0d0887"
             ],
             [
              0.1111111111111111,
              "#46039f"
             ],
             [
              0.2222222222222222,
              "#7201a8"
             ],
             [
              0.3333333333333333,
              "#9c179e"
             ],
             [
              0.4444444444444444,
              "#bd3786"
             ],
             [
              0.5555555555555556,
              "#d8576b"
             ],
             [
              0.6666666666666666,
              "#ed7953"
             ],
             [
              0.7777777777777778,
              "#fb9f3a"
             ],
             [
              0.8888888888888888,
              "#fdca26"
             ],
             [
              1,
              "#f0f921"
             ]
            ],
            "type": "contour"
           }
          ],
          "contourcarpet": [
           {
            "colorbar": {
             "outlinewidth": 0,
             "ticks": ""
            },
            "type": "contourcarpet"
           }
          ],
          "heatmap": [
           {
            "colorbar": {
             "outlinewidth": 0,
             "ticks": ""
            },
            "colorscale": [
             [
              0,
              "#0d0887"
             ],
             [
              0.1111111111111111,
              "#46039f"
             ],
             [
              0.2222222222222222,
              "#7201a8"
             ],
             [
              0.3333333333333333,
              "#9c179e"
             ],
             [
              0.4444444444444444,
              "#bd3786"
             ],
             [
              0.5555555555555556,
              "#d8576b"
             ],
             [
              0.6666666666666666,
              "#ed7953"
             ],
             [
              0.7777777777777778,
              "#fb9f3a"
             ],
             [
              0.8888888888888888,
              "#fdca26"
             ],
             [
              1,
              "#f0f921"
             ]
            ],
            "type": "heatmap"
           }
          ],
          "heatmapgl": [
           {
            "colorbar": {
             "outlinewidth": 0,
             "ticks": ""
            },
            "colorscale": [
             [
              0,
              "#0d0887"
             ],
             [
              0.1111111111111111,
              "#46039f"
             ],
             [
              0.2222222222222222,
              "#7201a8"
             ],
             [
              0.3333333333333333,
              "#9c179e"
             ],
             [
              0.4444444444444444,
              "#bd3786"
             ],
             [
              0.5555555555555556,
              "#d8576b"
             ],
             [
              0.6666666666666666,
              "#ed7953"
             ],
             [
              0.7777777777777778,
              "#fb9f3a"
             ],
             [
              0.8888888888888888,
              "#fdca26"
             ],
             [
              1,
              "#f0f921"
             ]
            ],
            "type": "heatmapgl"
           }
          ],
          "histogram": [
           {
            "marker": {
             "pattern": {
              "fillmode": "overlay",
              "size": 10,
              "solidity": 0.2
             }
            },
            "type": "histogram"
           }
          ],
          "histogram2d": [
           {
            "colorbar": {
             "outlinewidth": 0,
             "ticks": ""
            },
            "colorscale": [
             [
              0,
              "#0d0887"
             ],
             [
              0.1111111111111111,
              "#46039f"
             ],
             [
              0.2222222222222222,
              "#7201a8"
             ],
             [
              0.3333333333333333,
              "#9c179e"
             ],
             [
              0.4444444444444444,
              "#bd3786"
             ],
             [
              0.5555555555555556,
              "#d8576b"
             ],
             [
              0.6666666666666666,
              "#ed7953"
             ],
             [
              0.7777777777777778,
              "#fb9f3a"
             ],
             [
              0.8888888888888888,
              "#fdca26"
             ],
             [
              1,
              "#f0f921"
             ]
            ],
            "type": "histogram2d"
           }
          ],
          "histogram2dcontour": [
           {
            "colorbar": {
             "outlinewidth": 0,
             "ticks": ""
            },
            "colorscale": [
             [
              0,
              "#0d0887"
             ],
             [
              0.1111111111111111,
              "#46039f"
             ],
             [
              0.2222222222222222,
              "#7201a8"
             ],
             [
              0.3333333333333333,
              "#9c179e"
             ],
             [
              0.4444444444444444,
              "#bd3786"
             ],
             [
              0.5555555555555556,
              "#d8576b"
             ],
             [
              0.6666666666666666,
              "#ed7953"
             ],
             [
              0.7777777777777778,
              "#fb9f3a"
             ],
             [
              0.8888888888888888,
              "#fdca26"
             ],
             [
              1,
              "#f0f921"
             ]
            ],
            "type": "histogram2dcontour"
           }
          ],
          "mesh3d": [
           {
            "colorbar": {
             "outlinewidth": 0,
             "ticks": ""
            },
            "type": "mesh3d"
           }
          ],
          "parcoords": [
           {
            "line": {
             "colorbar": {
              "outlinewidth": 0,
              "ticks": ""
             }
            },
            "type": "parcoords"
           }
          ],
          "pie": [
           {
            "automargin": true,
            "type": "pie"
           }
          ],
          "scatter": [
           {
            "fillpattern": {
             "fillmode": "overlay",
             "size": 10,
             "solidity": 0.2
            },
            "type": "scatter"
           }
          ],
          "scatter3d": [
           {
            "line": {
             "colorbar": {
              "outlinewidth": 0,
              "ticks": ""
             }
            },
            "marker": {
             "colorbar": {
              "outlinewidth": 0,
              "ticks": ""
             }
            },
            "type": "scatter3d"
           }
          ],
          "scattercarpet": [
           {
            "marker": {
             "colorbar": {
              "outlinewidth": 0,
              "ticks": ""
             }
            },
            "type": "scattercarpet"
           }
          ],
          "scattergeo": [
           {
            "marker": {
             "colorbar": {
              "outlinewidth": 0,
              "ticks": ""
             }
            },
            "type": "scattergeo"
           }
          ],
          "scattergl": [
           {
            "marker": {
             "colorbar": {
              "outlinewidth": 0,
              "ticks": ""
             }
            },
            "type": "scattergl"
           }
          ],
          "scattermapbox": [
           {
            "marker": {
             "colorbar": {
              "outlinewidth": 0,
              "ticks": ""
             }
            },
            "type": "scattermapbox"
           }
          ],
          "scatterpolar": [
           {
            "marker": {
             "colorbar": {
              "outlinewidth": 0,
              "ticks": ""
             }
            },
            "type": "scatterpolar"
           }
          ],
          "scatterpolargl": [
           {
            "marker": {
             "colorbar": {
              "outlinewidth": 0,
              "ticks": ""
             }
            },
            "type": "scatterpolargl"
           }
          ],
          "scatterternary": [
           {
            "marker": {
             "colorbar": {
              "outlinewidth": 0,
              "ticks": ""
             }
            },
            "type": "scatterternary"
           }
          ],
          "surface": [
           {
            "colorbar": {
             "outlinewidth": 0,
             "ticks": ""
            },
            "colorscale": [
             [
              0,
              "#0d0887"
             ],
             [
              0.1111111111111111,
              "#46039f"
             ],
             [
              0.2222222222222222,
              "#7201a8"
             ],
             [
              0.3333333333333333,
              "#9c179e"
             ],
             [
              0.4444444444444444,
              "#bd3786"
             ],
             [
              0.5555555555555556,
              "#d8576b"
             ],
             [
              0.6666666666666666,
              "#ed7953"
             ],
             [
              0.7777777777777778,
              "#fb9f3a"
             ],
             [
              0.8888888888888888,
              "#fdca26"
             ],
             [
              1,
              "#f0f921"
             ]
            ],
            "type": "surface"
           }
          ],
          "table": [
           {
            "cells": {
             "fill": {
              "color": "#EBF0F8"
             },
             "line": {
              "color": "white"
             }
            },
            "header": {
             "fill": {
              "color": "#C8D4E3"
             },
             "line": {
              "color": "white"
             }
            },
            "type": "table"
           }
          ]
         },
         "layout": {
          "annotationdefaults": {
           "arrowcolor": "#2a3f5f",
           "arrowhead": 0,
           "arrowwidth": 1
          },
          "autotypenumbers": "strict",
          "coloraxis": {
           "colorbar": {
            "outlinewidth": 0,
            "ticks": ""
           }
          },
          "colorscale": {
           "diverging": [
            [
             0,
             "#8e0152"
            ],
            [
             0.1,
             "#c51b7d"
            ],
            [
             0.2,
             "#de77ae"
            ],
            [
             0.3,
             "#f1b6da"
            ],
            [
             0.4,
             "#fde0ef"
            ],
            [
             0.5,
             "#f7f7f7"
            ],
            [
             0.6,
             "#e6f5d0"
            ],
            [
             0.7,
             "#b8e186"
            ],
            [
             0.8,
             "#7fbc41"
            ],
            [
             0.9,
             "#4d9221"
            ],
            [
             1,
             "#276419"
            ]
           ],
           "sequential": [
            [
             0,
             "#0d0887"
            ],
            [
             0.1111111111111111,
             "#46039f"
            ],
            [
             0.2222222222222222,
             "#7201a8"
            ],
            [
             0.3333333333333333,
             "#9c179e"
            ],
            [
             0.4444444444444444,
             "#bd3786"
            ],
            [
             0.5555555555555556,
             "#d8576b"
            ],
            [
             0.6666666666666666,
             "#ed7953"
            ],
            [
             0.7777777777777778,
             "#fb9f3a"
            ],
            [
             0.8888888888888888,
             "#fdca26"
            ],
            [
             1,
             "#f0f921"
            ]
           ],
           "sequentialminus": [
            [
             0,
             "#0d0887"
            ],
            [
             0.1111111111111111,
             "#46039f"
            ],
            [
             0.2222222222222222,
             "#7201a8"
            ],
            [
             0.3333333333333333,
             "#9c179e"
            ],
            [
             0.4444444444444444,
             "#bd3786"
            ],
            [
             0.5555555555555556,
             "#d8576b"
            ],
            [
             0.6666666666666666,
             "#ed7953"
            ],
            [
             0.7777777777777778,
             "#fb9f3a"
            ],
            [
             0.8888888888888888,
             "#fdca26"
            ],
            [
             1,
             "#f0f921"
            ]
           ]
          },
          "colorway": [
           "#636efa",
           "#EF553B",
           "#00cc96",
           "#ab63fa",
           "#FFA15A",
           "#19d3f3",
           "#FF6692",
           "#B6E880",
           "#FF97FF",
           "#FECB52"
          ],
          "font": {
           "color": "#2a3f5f"
          },
          "geo": {
           "bgcolor": "white",
           "lakecolor": "white",
           "landcolor": "#E5ECF6",
           "showlakes": true,
           "showland": true,
           "subunitcolor": "white"
          },
          "hoverlabel": {
           "align": "left"
          },
          "hovermode": "closest",
          "mapbox": {
           "style": "light"
          },
          "paper_bgcolor": "white",
          "plot_bgcolor": "#E5ECF6",
          "polar": {
           "angularaxis": {
            "gridcolor": "white",
            "linecolor": "white",
            "ticks": ""
           },
           "bgcolor": "#E5ECF6",
           "radialaxis": {
            "gridcolor": "white",
            "linecolor": "white",
            "ticks": ""
           }
          },
          "scene": {
           "xaxis": {
            "backgroundcolor": "#E5ECF6",
            "gridcolor": "white",
            "gridwidth": 2,
            "linecolor": "white",
            "showbackground": true,
            "ticks": "",
            "zerolinecolor": "white"
           },
           "yaxis": {
            "backgroundcolor": "#E5ECF6",
            "gridcolor": "white",
            "gridwidth": 2,
            "linecolor": "white",
            "showbackground": true,
            "ticks": "",
            "zerolinecolor": "white"
           },
           "zaxis": {
            "backgroundcolor": "#E5ECF6",
            "gridcolor": "white",
            "gridwidth": 2,
            "linecolor": "white",
            "showbackground": true,
            "ticks": "",
            "zerolinecolor": "white"
           }
          },
          "shapedefaults": {
           "line": {
            "color": "#2a3f5f"
           }
          },
          "ternary": {
           "aaxis": {
            "gridcolor": "white",
            "linecolor": "white",
            "ticks": ""
           },
           "baxis": {
            "gridcolor": "white",
            "linecolor": "white",
            "ticks": ""
           },
           "bgcolor": "#E5ECF6",
           "caxis": {
            "gridcolor": "white",
            "linecolor": "white",
            "ticks": ""
           }
          },
          "title": {
           "x": 0.05
          },
          "xaxis": {
           "automargin": true,
           "gridcolor": "white",
           "linecolor": "white",
           "ticks": "",
           "title": {
            "standoff": 15
           },
           "zerolinecolor": "white",
           "zerolinewidth": 2
          },
          "yaxis": {
           "automargin": true,
           "gridcolor": "white",
           "linecolor": "white",
           "ticks": "",
           "title": {
            "standoff": 15
           },
           "zerolinecolor": "white",
           "zerolinewidth": 2
          }
         }
        },
        "title": {
         "text": "Total Sales by Category and Season"
        },
        "xaxis": {
         "anchor": "y",
         "domain": [
          0,
          0.98
         ],
         "title": {
          "text": "month"
         }
        },
        "xaxis10": {
         "anchor": "y10",
         "domain": [
          0,
          0.98
         ],
         "matches": "x",
         "showticklabels": false
        },
        "xaxis11": {
         "anchor": "y11",
         "domain": [
          0,
          0.98
         ],
         "matches": "x",
         "showticklabels": false
        },
        "xaxis12": {
         "anchor": "y12",
         "domain": [
          0,
          0.98
         ],
         "matches": "x",
         "showticklabels": false
        },
        "xaxis13": {
         "anchor": "y13",
         "domain": [
          0,
          0.98
         ],
         "matches": "x",
         "showticklabels": false
        },
        "xaxis14": {
         "anchor": "y14",
         "domain": [
          0,
          0.98
         ],
         "matches": "x",
         "showticklabels": false
        },
        "xaxis2": {
         "anchor": "y2",
         "domain": [
          0,
          0.98
         ],
         "matches": "x",
         "showticklabels": false
        },
        "xaxis3": {
         "anchor": "y3",
         "domain": [
          0,
          0.98
         ],
         "matches": "x",
         "showticklabels": false
        },
        "xaxis4": {
         "anchor": "y4",
         "domain": [
          0,
          0.98
         ],
         "matches": "x",
         "showticklabels": false
        },
        "xaxis5": {
         "anchor": "y5",
         "domain": [
          0,
          0.98
         ],
         "matches": "x",
         "showticklabels": false
        },
        "xaxis6": {
         "anchor": "y6",
         "domain": [
          0,
          0.98
         ],
         "matches": "x",
         "showticklabels": false
        },
        "xaxis7": {
         "anchor": "y7",
         "domain": [
          0,
          0.98
         ],
         "matches": "x",
         "showticklabels": false
        },
        "xaxis8": {
         "anchor": "y8",
         "domain": [
          0,
          0.98
         ],
         "matches": "x",
         "showticklabels": false
        },
        "xaxis9": {
         "anchor": "y9",
         "domain": [
          0,
          0.98
         ],
         "matches": "x",
         "showticklabels": false
        },
        "yaxis": {
         "anchor": "x",
         "domain": [
          0,
          0.043571428571428567
         ],
         "title": {
          "text": "Quantity Sold (kg)"
         }
        },
        "yaxis10": {
         "anchor": "x10",
         "domain": [
          0.6621428571428571,
          0.7057142857142857
         ],
         "matches": "y",
         "title": {
          "text": "Quantity Sold (kg)"
         }
        },
        "yaxis11": {
         "anchor": "x11",
         "domain": [
          0.7357142857142858,
          0.7792857142857144
         ],
         "matches": "y",
         "title": {
          "text": "Quantity Sold (kg)"
         }
        },
        "yaxis12": {
         "anchor": "x12",
         "domain": [
          0.8092857142857143,
          0.8528571428571429
         ],
         "matches": "y",
         "title": {
          "text": "Quantity Sold (kg)"
         }
        },
        "yaxis13": {
         "anchor": "x13",
         "domain": [
          0.8828571428571429,
          0.9264285714285715
         ],
         "matches": "y",
         "title": {
          "text": "Quantity Sold (kg)"
         }
        },
        "yaxis14": {
         "anchor": "x14",
         "domain": [
          0.9564285714285715,
          1
         ],
         "matches": "y",
         "title": {
          "text": "Quantity Sold (kg)"
         }
        },
        "yaxis2": {
         "anchor": "x2",
         "domain": [
          0.07357142857142857,
          0.11714285714285713
         ],
         "matches": "y",
         "title": {
          "text": "Quantity Sold (kg)"
         }
        },
        "yaxis3": {
         "anchor": "x3",
         "domain": [
          0.14714285714285713,
          0.1907142857142857
         ],
         "matches": "y",
         "title": {
          "text": "Quantity Sold (kg)"
         }
        },
        "yaxis4": {
         "anchor": "x4",
         "domain": [
          0.2207142857142857,
          0.26428571428571423
         ],
         "matches": "y",
         "title": {
          "text": "Quantity Sold (kg)"
         }
        },
        "yaxis5": {
         "anchor": "x5",
         "domain": [
          0.29428571428571426,
          0.33785714285714286
         ],
         "matches": "y",
         "title": {
          "text": "Quantity Sold (kg)"
         }
        },
        "yaxis6": {
         "anchor": "x6",
         "domain": [
          0.3678571428571428,
          0.41142857142857137
         ],
         "matches": "y",
         "title": {
          "text": "Quantity Sold (kg)"
         }
        },
        "yaxis7": {
         "anchor": "x7",
         "domain": [
          0.4414285714285714,
          0.485
         ],
         "matches": "y",
         "title": {
          "text": "Quantity Sold (kg)"
         }
        },
        "yaxis8": {
         "anchor": "x8",
         "domain": [
          0.5149999999999999,
          0.5585714285714285
         ],
         "matches": "y",
         "title": {
          "text": "Quantity Sold (kg)"
         }
        },
        "yaxis9": {
         "anchor": "x9",
         "domain": [
          0.5885714285714285,
          0.6321428571428571
         ],
         "matches": "y",
         "title": {
          "text": "Quantity Sold (kg)"
         }
        }
       }
      }
     },
     "metadata": {},
     "output_type": "display_data"
    }
   ],
   "source": [
    "import plotly.express as px\n",
    "\n",
    "\n",
    "sales_category = df.groupby([\"year\" , \"month_of_season\" , \"month\" , \"Season\"])[[\"Quantity Sold (kg)\"]].sum().reset_index()\n",
    "\n",
    "fig = px.bar(sales_category , x = \"month\" , y =\"Quantity Sold (kg)\" , color = \"month_of_season\" , facet_row = \"year\" , \n",
    "               height = 3000 , title = \"Total Sales by Category and Season\" )\n",
    "\n",
    "fig.show()"
   ]
  },
  {
   "cell_type": "markdown",
   "metadata": {},
   "source": [
    "### Examining the effect of day of week on sales volume"
   ]
  },
  {
   "cell_type": "code",
   "execution_count": 43,
   "metadata": {},
   "outputs": [
    {
     "data": {
      "application/vnd.plotly.v1+json": {
       "config": {
        "plotlyServerURL": "https://plot.ly"
       },
       "data": [
        {
         "alignmentgroup": "True",
         "hovertemplate": "month_of_season=fall<br>year=2009<br>month=10<br>day of week=%{x}<br>Quantity Sold (kg)=%{y}<extra></extra>",
         "legendgroup": "fall",
         "marker": {
          "color": "#636efa",
          "pattern": {
           "shape": ""
          }
         },
         "name": "fall",
         "offsetgroup": "fall",
         "orientation": "v",
         "showlegend": true,
         "textposition": "auto",
         "type": "bar",
         "x": [
          0,
          1,
          2,
          3,
          4,
          5,
          6
         ],
         "xaxis": "x157",
         "y": [
          910,
          813,
          898,
          1041,
          1185,
          903,
          741
         ],
         "yaxis": "y157"
        },
        {
         "alignmentgroup": "True",
         "hovertemplate": "month_of_season=fall<br>year=2009<br>month=11<br>day of week=%{x}<br>Quantity Sold (kg)=%{y}<extra></extra>",
         "legendgroup": "fall",
         "marker": {
          "color": "#636efa",
          "pattern": {
           "shape": ""
          }
         },
         "name": "fall",
         "offsetgroup": "fall",
         "orientation": "v",
         "showlegend": false,
         "textposition": "auto",
         "type": "bar",
         "x": [
          0,
          1,
          2,
          3,
          4,
          5,
          6
         ],
         "xaxis": "x158",
         "y": [
          951,
          654,
          621,
          797,
          936,
          763,
          955
         ],
         "yaxis": "y158"
        },
        {
         "alignmentgroup": "True",
         "hovertemplate": "month_of_season=fall<br>year=2009<br>month=12<br>day of week=%{x}<br>Quantity Sold (kg)=%{y}<extra></extra>",
         "legendgroup": "fall",
         "marker": {
          "color": "#636efa",
          "pattern": {
           "shape": ""
          }
         },
         "name": "fall",
         "offsetgroup": "fall",
         "orientation": "v",
         "showlegend": false,
         "textposition": "auto",
         "type": "bar",
         "x": [
          0,
          1,
          2,
          3,
          4,
          5,
          6
         ],
         "xaxis": "x159",
         "y": [
          781,
          1124,
          811,
          1063,
          671,
          671,
          845
         ],
         "yaxis": "y159"
        },
        {
         "alignmentgroup": "True",
         "hovertemplate": "month_of_season=fall<br>year=2010<br>month=10<br>day of week=%{x}<br>Quantity Sold (kg)=%{y}<extra></extra>",
         "legendgroup": "fall",
         "marker": {
          "color": "#636efa",
          "pattern": {
           "shape": ""
          }
         },
         "name": "fall",
         "offsetgroup": "fall",
         "orientation": "v",
         "showlegend": false,
         "textposition": "auto",
         "type": "bar",
         "x": [
          0,
          1,
          2,
          3,
          4,
          5,
          6
         ],
         "xaxis": "x145",
         "y": [
          812,
          873,
          714,
          668,
          1137,
          1008,
          1138
         ],
         "yaxis": "y145"
        },
        {
         "alignmentgroup": "True",
         "hovertemplate": "month_of_season=fall<br>year=2010<br>month=11<br>day of week=%{x}<br>Quantity Sold (kg)=%{y}<extra></extra>",
         "legendgroup": "fall",
         "marker": {
          "color": "#636efa",
          "pattern": {
           "shape": ""
          }
         },
         "name": "fall",
         "offsetgroup": "fall",
         "orientation": "v",
         "showlegend": false,
         "textposition": "auto",
         "type": "bar",
         "x": [
          0,
          1,
          2,
          3,
          4,
          5,
          6
         ],
         "xaxis": "x146",
         "y": [
          929,
          1019,
          756,
          833,
          699,
          870,
          670
         ],
         "yaxis": "y146"
        },
        {
         "alignmentgroup": "True",
         "hovertemplate": "month_of_season=fall<br>year=2010<br>month=12<br>day of week=%{x}<br>Quantity Sold (kg)=%{y}<extra></extra>",
         "legendgroup": "fall",
         "marker": {
          "color": "#636efa",
          "pattern": {
           "shape": ""
          }
         },
         "name": "fall",
         "offsetgroup": "fall",
         "orientation": "v",
         "showlegend": false,
         "textposition": "auto",
         "type": "bar",
         "x": [
          0,
          1,
          2,
          3,
          4,
          5,
          6
         ],
         "xaxis": "x147",
         "y": [
          881,
          684,
          938,
          1204,
          1119,
          884,
          703
         ],
         "yaxis": "y147"
        },
        {
         "alignmentgroup": "True",
         "hovertemplate": "month_of_season=fall<br>year=2011<br>month=10<br>day of week=%{x}<br>Quantity Sold (kg)=%{y}<extra></extra>",
         "legendgroup": "fall",
         "marker": {
          "color": "#636efa",
          "pattern": {
           "shape": ""
          }
         },
         "name": "fall",
         "offsetgroup": "fall",
         "orientation": "v",
         "showlegend": false,
         "textposition": "auto",
         "type": "bar",
         "x": [
          0,
          1,
          2,
          3,
          4,
          5,
          6
         ],
         "xaxis": "x133",
         "y": [
          975,
          883,
          739,
          506,
          883,
          850,
          1092
         ],
         "yaxis": "y133"
        },
        {
         "alignmentgroup": "True",
         "hovertemplate": "month_of_season=fall<br>year=2011<br>month=11<br>day of week=%{x}<br>Quantity Sold (kg)=%{y}<extra></extra>",
         "legendgroup": "fall",
         "marker": {
          "color": "#636efa",
          "pattern": {
           "shape": ""
          }
         },
         "name": "fall",
         "offsetgroup": "fall",
         "orientation": "v",
         "showlegend": false,
         "textposition": "auto",
         "type": "bar",
         "x": [
          0,
          1,
          2,
          3,
          4,
          5,
          6
         ],
         "xaxis": "x134",
         "y": [
          933,
          1007,
          913,
          959,
          660,
          674,
          741
         ],
         "yaxis": "y134"
        },
        {
         "alignmentgroup": "True",
         "hovertemplate": "month_of_season=fall<br>year=2011<br>month=12<br>day of week=%{x}<br>Quantity Sold (kg)=%{y}<extra></extra>",
         "legendgroup": "fall",
         "marker": {
          "color": "#636efa",
          "pattern": {
           "shape": ""
          }
         },
         "name": "fall",
         "offsetgroup": "fall",
         "orientation": "v",
         "showlegend": false,
         "textposition": "auto",
         "type": "bar",
         "x": [
          0,
          1,
          2,
          3,
          4,
          5,
          6
         ],
         "xaxis": "x135",
         "y": [
          912,
          924,
          864,
          1075,
          1096,
          1200,
          913
         ],
         "yaxis": "y135"
        },
        {
         "alignmentgroup": "True",
         "hovertemplate": "month_of_season=fall<br>year=2012<br>month=10<br>day of week=%{x}<br>Quantity Sold (kg)=%{y}<extra></extra>",
         "legendgroup": "fall",
         "marker": {
          "color": "#636efa",
          "pattern": {
           "shape": ""
          }
         },
         "name": "fall",
         "offsetgroup": "fall",
         "orientation": "v",
         "showlegend": false,
         "textposition": "auto",
         "type": "bar",
         "x": [
          0,
          1,
          2,
          3,
          4,
          5,
          6
         ],
         "xaxis": "x121",
         "y": [
          982,
          1058,
          912,
          860,
          898,
          743,
          785
         ],
         "yaxis": "y121"
        },
        {
         "alignmentgroup": "True",
         "hovertemplate": "month_of_season=fall<br>year=2012<br>month=11<br>day of week=%{x}<br>Quantity Sold (kg)=%{y}<extra></extra>",
         "legendgroup": "fall",
         "marker": {
          "color": "#636efa",
          "pattern": {
           "shape": ""
          }
         },
         "name": "fall",
         "offsetgroup": "fall",
         "orientation": "v",
         "showlegend": false,
         "textposition": "auto",
         "type": "bar",
         "x": [
          0,
          1,
          2,
          3,
          4,
          5,
          6
         ],
         "xaxis": "x122",
         "y": [
          778,
          936,
          775,
          931,
          1153,
          985,
          582
         ],
         "yaxis": "y122"
        },
        {
         "alignmentgroup": "True",
         "hovertemplate": "month_of_season=fall<br>year=2012<br>month=12<br>day of week=%{x}<br>Quantity Sold (kg)=%{y}<extra></extra>",
         "legendgroup": "fall",
         "marker": {
          "color": "#636efa",
          "pattern": {
           "shape": ""
          }
         },
         "name": "fall",
         "offsetgroup": "fall",
         "orientation": "v",
         "showlegend": false,
         "textposition": "auto",
         "type": "bar",
         "x": [
          0,
          1,
          2,
          3,
          4,
          5,
          6
         ],
         "xaxis": "x123",
         "y": [
          991,
          944,
          709,
          943,
          705,
          1005,
          1104
         ],
         "yaxis": "y123"
        },
        {
         "alignmentgroup": "True",
         "hovertemplate": "month_of_season=fall<br>year=2013<br>month=10<br>day of week=%{x}<br>Quantity Sold (kg)=%{y}<extra></extra>",
         "legendgroup": "fall",
         "marker": {
          "color": "#636efa",
          "pattern": {
           "shape": ""
          }
         },
         "name": "fall",
         "offsetgroup": "fall",
         "orientation": "v",
         "showlegend": false,
         "textposition": "auto",
         "type": "bar",
         "x": [
          0,
          1,
          2,
          3,
          4,
          5,
          6
         ],
         "xaxis": "x109",
         "y": [
          767,
          943,
          1099,
          1143,
          814,
          809,
          935
         ],
         "yaxis": "y109"
        },
        {
         "alignmentgroup": "True",
         "hovertemplate": "month_of_season=fall<br>year=2013<br>month=11<br>day of week=%{x}<br>Quantity Sold (kg)=%{y}<extra></extra>",
         "legendgroup": "fall",
         "marker": {
          "color": "#636efa",
          "pattern": {
           "shape": ""
          }
         },
         "name": "fall",
         "offsetgroup": "fall",
         "orientation": "v",
         "showlegend": false,
         "textposition": "auto",
         "type": "bar",
         "x": [
          0,
          1,
          2,
          3,
          4,
          5,
          6
         ],
         "xaxis": "x110",
         "y": [
          709,
          789,
          632,
          824,
          873,
          879,
          857
         ],
         "yaxis": "y110"
        },
        {
         "alignmentgroup": "True",
         "hovertemplate": "month_of_season=fall<br>year=2013<br>month=12<br>day of week=%{x}<br>Quantity Sold (kg)=%{y}<extra></extra>",
         "legendgroup": "fall",
         "marker": {
          "color": "#636efa",
          "pattern": {
           "shape": ""
          }
         },
         "name": "fall",
         "offsetgroup": "fall",
         "orientation": "v",
         "showlegend": false,
         "textposition": "auto",
         "type": "bar",
         "x": [
          0,
          1,
          2,
          3,
          4,
          5,
          6
         ],
         "xaxis": "x111",
         "y": [
          761,
          1144,
          688,
          836,
          657,
          692,
          1095
         ],
         "yaxis": "y111"
        },
        {
         "alignmentgroup": "True",
         "hovertemplate": "month_of_season=fall<br>year=2014<br>month=10<br>day of week=%{x}<br>Quantity Sold (kg)=%{y}<extra></extra>",
         "legendgroup": "fall",
         "marker": {
          "color": "#636efa",
          "pattern": {
           "shape": ""
          }
         },
         "name": "fall",
         "offsetgroup": "fall",
         "orientation": "v",
         "showlegend": false,
         "textposition": "auto",
         "type": "bar",
         "x": [
          0,
          1,
          2,
          3,
          4,
          5,
          6
         ],
         "xaxis": "x97",
         "y": [
          606,
          814,
          931,
          1030,
          980,
          748,
          796
         ],
         "yaxis": "y97"
        },
        {
         "alignmentgroup": "True",
         "hovertemplate": "month_of_season=fall<br>year=2014<br>month=11<br>day of week=%{x}<br>Quantity Sold (kg)=%{y}<extra></extra>",
         "legendgroup": "fall",
         "marker": {
          "color": "#636efa",
          "pattern": {
           "shape": ""
          }
         },
         "name": "fall",
         "offsetgroup": "fall",
         "orientation": "v",
         "showlegend": false,
         "textposition": "auto",
         "type": "bar",
         "x": [
          0,
          1,
          2,
          3,
          4,
          5,
          6
         ],
         "xaxis": "x98",
         "y": [
          764,
          818,
          911,
          886,
          635,
          1007,
          981
         ],
         "yaxis": "y98"
        },
        {
         "alignmentgroup": "True",
         "hovertemplate": "month_of_season=fall<br>year=2014<br>month=12<br>day of week=%{x}<br>Quantity Sold (kg)=%{y}<extra></extra>",
         "legendgroup": "fall",
         "marker": {
          "color": "#636efa",
          "pattern": {
           "shape": ""
          }
         },
         "name": "fall",
         "offsetgroup": "fall",
         "orientation": "v",
         "showlegend": false,
         "textposition": "auto",
         "type": "bar",
         "x": [
          0,
          1,
          2,
          3,
          4,
          5,
          6
         ],
         "xaxis": "x99",
         "y": [
          1036,
          1035,
          953,
          906,
          963,
          713,
          882
         ],
         "yaxis": "y99"
        },
        {
         "alignmentgroup": "True",
         "hovertemplate": "month_of_season=fall<br>year=2015<br>month=10<br>day of week=%{x}<br>Quantity Sold (kg)=%{y}<extra></extra>",
         "legendgroup": "fall",
         "marker": {
          "color": "#636efa",
          "pattern": {
           "shape": ""
          }
         },
         "name": "fall",
         "offsetgroup": "fall",
         "orientation": "v",
         "showlegend": false,
         "textposition": "auto",
         "type": "bar",
         "x": [
          0,
          1,
          2,
          3,
          4,
          5,
          6
         ],
         "xaxis": "x85",
         "y": [
          932,
          1029,
          519,
          988,
          915,
          958,
          663
         ],
         "yaxis": "y85"
        },
        {
         "alignmentgroup": "True",
         "hovertemplate": "month_of_season=fall<br>year=2015<br>month=11<br>day of week=%{x}<br>Quantity Sold (kg)=%{y}<extra></extra>",
         "legendgroup": "fall",
         "marker": {
          "color": "#636efa",
          "pattern": {
           "shape": ""
          }
         },
         "name": "fall",
         "offsetgroup": "fall",
         "orientation": "v",
         "showlegend": false,
         "textposition": "auto",
         "type": "bar",
         "x": [
          0,
          1,
          2,
          3,
          4,
          5,
          6
         ],
         "xaxis": "x86",
         "y": [
          869,
          723,
          584,
          974,
          845,
          648,
          941
         ],
         "yaxis": "y86"
        },
        {
         "alignmentgroup": "True",
         "hovertemplate": "month_of_season=fall<br>year=2015<br>month=12<br>day of week=%{x}<br>Quantity Sold (kg)=%{y}<extra></extra>",
         "legendgroup": "fall",
         "marker": {
          "color": "#636efa",
          "pattern": {
           "shape": ""
          }
         },
         "name": "fall",
         "offsetgroup": "fall",
         "orientation": "v",
         "showlegend": false,
         "textposition": "auto",
         "type": "bar",
         "x": [
          0,
          1,
          2,
          3,
          4,
          5,
          6
         ],
         "xaxis": "x87",
         "y": [
          697,
          941,
          927,
          1047,
          756,
          973,
          1000
         ],
         "yaxis": "y87"
        },
        {
         "alignmentgroup": "True",
         "hovertemplate": "month_of_season=fall<br>year=2016<br>month=10<br>day of week=%{x}<br>Quantity Sold (kg)=%{y}<extra></extra>",
         "legendgroup": "fall",
         "marker": {
          "color": "#636efa",
          "pattern": {
           "shape": ""
          }
         },
         "name": "fall",
         "offsetgroup": "fall",
         "orientation": "v",
         "showlegend": false,
         "textposition": "auto",
         "type": "bar",
         "x": [
          0,
          1,
          2,
          3,
          4,
          5,
          6
         ],
         "xaxis": "x73",
         "y": [
          769,
          874,
          758,
          922,
          731,
          950,
          1165
         ],
         "yaxis": "y73"
        },
        {
         "alignmentgroup": "True",
         "hovertemplate": "month_of_season=fall<br>year=2016<br>month=11<br>day of week=%{x}<br>Quantity Sold (kg)=%{y}<extra></extra>",
         "legendgroup": "fall",
         "marker": {
          "color": "#636efa",
          "pattern": {
           "shape": ""
          }
         },
         "name": "fall",
         "offsetgroup": "fall",
         "orientation": "v",
         "showlegend": false,
         "textposition": "auto",
         "type": "bar",
         "x": [
          0,
          1,
          2,
          3,
          4,
          5,
          6
         ],
         "xaxis": "x74",
         "y": [
          799,
          1333,
          847,
          958,
          753,
          710,
          851
         ],
         "yaxis": "y74"
        },
        {
         "alignmentgroup": "True",
         "hovertemplate": "month_of_season=fall<br>year=2016<br>month=12<br>day of week=%{x}<br>Quantity Sold (kg)=%{y}<extra></extra>",
         "legendgroup": "fall",
         "marker": {
          "color": "#636efa",
          "pattern": {
           "shape": ""
          }
         },
         "name": "fall",
         "offsetgroup": "fall",
         "orientation": "v",
         "showlegend": false,
         "textposition": "auto",
         "type": "bar",
         "x": [
          0,
          1,
          2,
          3,
          4,
          5,
          6
         ],
         "xaxis": "x75",
         "y": [
          751,
          671,
          784,
          972,
          1203,
          991,
          785
         ],
         "yaxis": "y75"
        },
        {
         "alignmentgroup": "True",
         "hovertemplate": "month_of_season=fall<br>year=2017<br>month=10<br>day of week=%{x}<br>Quantity Sold (kg)=%{y}<extra></extra>",
         "legendgroup": "fall",
         "marker": {
          "color": "#636efa",
          "pattern": {
           "shape": ""
          }
         },
         "name": "fall",
         "offsetgroup": "fall",
         "orientation": "v",
         "showlegend": false,
         "textposition": "auto",
         "type": "bar",
         "x": [
          0,
          1,
          2,
          3,
          4,
          5,
          6
         ],
         "xaxis": "x61",
         "y": [
          864,
          882,
          863,
          855,
          898,
          675,
          896
         ],
         "yaxis": "y61"
        },
        {
         "alignmentgroup": "True",
         "hovertemplate": "month_of_season=fall<br>year=2017<br>month=11<br>day of week=%{x}<br>Quantity Sold (kg)=%{y}<extra></extra>",
         "legendgroup": "fall",
         "marker": {
          "color": "#636efa",
          "pattern": {
           "shape": ""
          }
         },
         "name": "fall",
         "offsetgroup": "fall",
         "orientation": "v",
         "showlegend": false,
         "textposition": "auto",
         "type": "bar",
         "x": [
          0,
          1,
          2,
          3,
          4,
          5,
          6
         ],
         "xaxis": "x62",
         "y": [
          787,
          866,
          1298,
          877,
          832,
          782,
          819
         ],
         "yaxis": "y62"
        },
        {
         "alignmentgroup": "True",
         "hovertemplate": "month_of_season=fall<br>year=2017<br>month=12<br>day of week=%{x}<br>Quantity Sold (kg)=%{y}<extra></extra>",
         "legendgroup": "fall",
         "marker": {
          "color": "#636efa",
          "pattern": {
           "shape": ""
          }
         },
         "name": "fall",
         "offsetgroup": "fall",
         "orientation": "v",
         "showlegend": false,
         "textposition": "auto",
         "type": "bar",
         "x": [
          0,
          1,
          2,
          3,
          4,
          5,
          6
         ],
         "xaxis": "x63",
         "y": [
          744,
          665,
          697,
          541,
          1071,
          1080,
          846
         ],
         "yaxis": "y63"
        },
        {
         "alignmentgroup": "True",
         "hovertemplate": "month_of_season=fall<br>year=2018<br>month=10<br>day of week=%{x}<br>Quantity Sold (kg)=%{y}<extra></extra>",
         "legendgroup": "fall",
         "marker": {
          "color": "#636efa",
          "pattern": {
           "shape": ""
          }
         },
         "name": "fall",
         "offsetgroup": "fall",
         "orientation": "v",
         "showlegend": false,
         "textposition": "auto",
         "type": "bar",
         "x": [
          0,
          1,
          2,
          3,
          4,
          5,
          6
         ],
         "xaxis": "x49",
         "y": [
          1169,
          982,
          828,
          680,
          861,
          900,
          801
         ],
         "yaxis": "y49"
        },
        {
         "alignmentgroup": "True",
         "hovertemplate": "month_of_season=fall<br>year=2018<br>month=11<br>day of week=%{x}<br>Quantity Sold (kg)=%{y}<extra></extra>",
         "legendgroup": "fall",
         "marker": {
          "color": "#636efa",
          "pattern": {
           "shape": ""
          }
         },
         "name": "fall",
         "offsetgroup": "fall",
         "orientation": "v",
         "showlegend": false,
         "textposition": "auto",
         "type": "bar",
         "x": [
          0,
          1,
          2,
          3,
          4,
          5,
          6
         ],
         "xaxis": "x50",
         "y": [
          897,
          593,
          711,
          713,
          885,
          769,
          776
         ],
         "yaxis": "y50"
        },
        {
         "alignmentgroup": "True",
         "hovertemplate": "month_of_season=fall<br>year=2018<br>month=12<br>day of week=%{x}<br>Quantity Sold (kg)=%{y}<extra></extra>",
         "legendgroup": "fall",
         "marker": {
          "color": "#636efa",
          "pattern": {
           "shape": ""
          }
         },
         "name": "fall",
         "offsetgroup": "fall",
         "orientation": "v",
         "showlegend": false,
         "textposition": "auto",
         "type": "bar",
         "x": [
          0,
          1,
          2,
          3,
          4,
          5,
          6
         ],
         "xaxis": "x51",
         "y": [
          1099,
          742,
          805,
          772,
          763,
          1054,
          998
         ],
         "yaxis": "y51"
        },
        {
         "alignmentgroup": "True",
         "hovertemplate": "month_of_season=fall<br>year=2019<br>month=10<br>day of week=%{x}<br>Quantity Sold (kg)=%{y}<extra></extra>",
         "legendgroup": "fall",
         "marker": {
          "color": "#636efa",
          "pattern": {
           "shape": ""
          }
         },
         "name": "fall",
         "offsetgroup": "fall",
         "orientation": "v",
         "showlegend": false,
         "textposition": "auto",
         "type": "bar",
         "x": [
          0,
          1,
          2,
          3,
          4,
          5,
          6
         ],
         "xaxis": "x37",
         "y": [
          799,
          920,
          822,
          1072,
          790,
          719,
          878
         ],
         "yaxis": "y37"
        },
        {
         "alignmentgroup": "True",
         "hovertemplate": "month_of_season=fall<br>year=2019<br>month=11<br>day of week=%{x}<br>Quantity Sold (kg)=%{y}<extra></extra>",
         "legendgroup": "fall",
         "marker": {
          "color": "#636efa",
          "pattern": {
           "shape": ""
          }
         },
         "name": "fall",
         "offsetgroup": "fall",
         "orientation": "v",
         "showlegend": false,
         "textposition": "auto",
         "type": "bar",
         "x": [
          0,
          1,
          2,
          3,
          4,
          5,
          6
         ],
         "xaxis": "x38",
         "y": [
          862,
          914,
          845,
          882,
          1071,
          1021,
          682
         ],
         "yaxis": "y38"
        },
        {
         "alignmentgroup": "True",
         "hovertemplate": "month_of_season=fall<br>year=2019<br>month=12<br>day of week=%{x}<br>Quantity Sold (kg)=%{y}<extra></extra>",
         "legendgroup": "fall",
         "marker": {
          "color": "#636efa",
          "pattern": {
           "shape": ""
          }
         },
         "name": "fall",
         "offsetgroup": "fall",
         "orientation": "v",
         "showlegend": false,
         "textposition": "auto",
         "type": "bar",
         "x": [
          0,
          1,
          2,
          3,
          4,
          5,
          6
         ],
         "xaxis": "x39",
         "y": [
          922,
          843,
          832,
          714,
          749,
          866,
          1054
         ],
         "yaxis": "y39"
        },
        {
         "alignmentgroup": "True",
         "hovertemplate": "month_of_season=fall<br>year=2020<br>month=10<br>day of week=%{x}<br>Quantity Sold (kg)=%{y}<extra></extra>",
         "legendgroup": "fall",
         "marker": {
          "color": "#636efa",
          "pattern": {
           "shape": ""
          }
         },
         "name": "fall",
         "offsetgroup": "fall",
         "orientation": "v",
         "showlegend": false,
         "textposition": "auto",
         "type": "bar",
         "x": [
          0,
          1,
          2,
          3,
          4,
          5,
          6
         ],
         "xaxis": "x25",
         "y": [
          866,
          945,
          877,
          994,
          1123,
          989,
          820
         ],
         "yaxis": "y25"
        },
        {
         "alignmentgroup": "True",
         "hovertemplate": "month_of_season=fall<br>year=2020<br>month=11<br>day of week=%{x}<br>Quantity Sold (kg)=%{y}<extra></extra>",
         "legendgroup": "fall",
         "marker": {
          "color": "#636efa",
          "pattern": {
           "shape": ""
          }
         },
         "name": "fall",
         "offsetgroup": "fall",
         "orientation": "v",
         "showlegend": false,
         "textposition": "auto",
         "type": "bar",
         "x": [
          0,
          1,
          2,
          3,
          4,
          5,
          6
         ],
         "xaxis": "x26",
         "y": [
          948,
          708,
          975,
          850,
          656,
          996,
          940
         ],
         "yaxis": "y26"
        },
        {
         "alignmentgroup": "True",
         "hovertemplate": "month_of_season=fall<br>year=2020<br>month=12<br>day of week=%{x}<br>Quantity Sold (kg)=%{y}<extra></extra>",
         "legendgroup": "fall",
         "marker": {
          "color": "#636efa",
          "pattern": {
           "shape": ""
          }
         },
         "name": "fall",
         "offsetgroup": "fall",
         "orientation": "v",
         "showlegend": false,
         "textposition": "auto",
         "type": "bar",
         "x": [
          0,
          1,
          2,
          3,
          4,
          5,
          6
         ],
         "xaxis": "x27",
         "y": [
          845,
          868,
          964,
          1081,
          593,
          850,
          782
         ],
         "yaxis": "y27"
        },
        {
         "alignmentgroup": "True",
         "hovertemplate": "month_of_season=fall<br>year=2021<br>month=10<br>day of week=%{x}<br>Quantity Sold (kg)=%{y}<extra></extra>",
         "legendgroup": "fall",
         "marker": {
          "color": "#636efa",
          "pattern": {
           "shape": ""
          }
         },
         "name": "fall",
         "offsetgroup": "fall",
         "orientation": "v",
         "showlegend": false,
         "textposition": "auto",
         "type": "bar",
         "x": [
          0,
          1,
          2,
          3,
          4,
          5,
          6
         ],
         "xaxis": "x13",
         "y": [
          770,
          757,
          701,
          685,
          891,
          1039,
          1068
         ],
         "yaxis": "y13"
        },
        {
         "alignmentgroup": "True",
         "hovertemplate": "month_of_season=fall<br>year=2021<br>month=11<br>day of week=%{x}<br>Quantity Sold (kg)=%{y}<extra></extra>",
         "legendgroup": "fall",
         "marker": {
          "color": "#636efa",
          "pattern": {
           "shape": ""
          }
         },
         "name": "fall",
         "offsetgroup": "fall",
         "orientation": "v",
         "showlegend": false,
         "textposition": "auto",
         "type": "bar",
         "x": [
          0,
          1,
          2,
          3,
          4,
          5,
          6
         ],
         "xaxis": "x14",
         "y": [
          1096,
          985,
          847,
          1069,
          932,
          754,
          1035
         ],
         "yaxis": "y14"
        },
        {
         "alignmentgroup": "True",
         "hovertemplate": "month_of_season=fall<br>year=2021<br>month=12<br>day of week=%{x}<br>Quantity Sold (kg)=%{y}<extra></extra>",
         "legendgroup": "fall",
         "marker": {
          "color": "#636efa",
          "pattern": {
           "shape": ""
          }
         },
         "name": "fall",
         "offsetgroup": "fall",
         "orientation": "v",
         "showlegend": false,
         "textposition": "auto",
         "type": "bar",
         "x": [
          0,
          1,
          2,
          3,
          4,
          5,
          6
         ],
         "xaxis": "x15",
         "y": [
          732,
          736,
          955,
          1220,
          1083,
          857,
          1115
         ],
         "yaxis": "y15"
        },
        {
         "alignmentgroup": "True",
         "hovertemplate": "month_of_season=fall<br>year=2022<br>month=10<br>day of week=%{x}<br>Quantity Sold (kg)=%{y}<extra></extra>",
         "legendgroup": "fall",
         "marker": {
          "color": "#636efa",
          "pattern": {
           "shape": ""
          }
         },
         "name": "fall",
         "offsetgroup": "fall",
         "orientation": "v",
         "showlegend": false,
         "textposition": "auto",
         "type": "bar",
         "x": [
          0,
          1,
          2,
          3,
          4,
          5,
          6
         ],
         "xaxis": "x",
         "y": [
          1014,
          730,
          531,
          697,
          640,
          979,
          877
         ],
         "yaxis": "y"
        },
        {
         "alignmentgroup": "True",
         "hovertemplate": "month_of_season=spring<br>year=2009<br>month=4<br>day of week=%{x}<br>Quantity Sold (kg)=%{y}<extra></extra>",
         "legendgroup": "spring",
         "marker": {
          "color": "#EF553B",
          "pattern": {
           "shape": ""
          }
         },
         "name": "spring",
         "offsetgroup": "spring",
         "orientation": "v",
         "showlegend": true,
         "textposition": "auto",
         "type": "bar",
         "x": [
          0,
          1,
          2,
          3,
          4,
          5,
          6
         ],
         "xaxis": "x160",
         "y": [
          619,
          904,
          923,
          1031,
          647,
          749,
          923
         ],
         "yaxis": "y160"
        },
        {
         "alignmentgroup": "True",
         "hovertemplate": "month_of_season=spring<br>year=2009<br>month=5<br>day of week=%{x}<br>Quantity Sold (kg)=%{y}<extra></extra>",
         "legendgroup": "spring",
         "marker": {
          "color": "#EF553B",
          "pattern": {
           "shape": ""
          }
         },
         "name": "spring",
         "offsetgroup": "spring",
         "orientation": "v",
         "showlegend": false,
         "textposition": "auto",
         "type": "bar",
         "x": [
          0,
          1,
          2,
          3,
          4,
          5,
          6
         ],
         "xaxis": "x161",
         "y": [
          803,
          946,
          762,
          683,
          961,
          904,
          763
         ],
         "yaxis": "y161"
        },
        {
         "alignmentgroup": "True",
         "hovertemplate": "month_of_season=spring<br>year=2009<br>month=6<br>day of week=%{x}<br>Quantity Sold (kg)=%{y}<extra></extra>",
         "legendgroup": "spring",
         "marker": {
          "color": "#EF553B",
          "pattern": {
           "shape": ""
          }
         },
         "name": "spring",
         "offsetgroup": "spring",
         "orientation": "v",
         "showlegend": false,
         "textposition": "auto",
         "type": "bar",
         "x": [
          0,
          1,
          2,
          3,
          4,
          5,
          6
         ],
         "xaxis": "x162",
         "y": [
          544,
          479,
          497,
          554,
          497,
          503,
          468
         ],
         "yaxis": "y162"
        },
        {
         "alignmentgroup": "True",
         "hovertemplate": "month_of_season=spring<br>year=2010<br>month=4<br>day of week=%{x}<br>Quantity Sold (kg)=%{y}<extra></extra>",
         "legendgroup": "spring",
         "marker": {
          "color": "#EF553B",
          "pattern": {
           "shape": ""
          }
         },
         "name": "spring",
         "offsetgroup": "spring",
         "orientation": "v",
         "showlegend": false,
         "textposition": "auto",
         "type": "bar",
         "x": [
          0,
          1,
          2,
          3,
          4,
          5,
          6
         ],
         "xaxis": "x148",
         "y": [
          722,
          772,
          921,
          1032,
          846,
          784,
          745
         ],
         "yaxis": "y148"
        },
        {
         "alignmentgroup": "True",
         "hovertemplate": "month_of_season=spring<br>year=2010<br>month=5<br>day of week=%{x}<br>Quantity Sold (kg)=%{y}<extra></extra>",
         "legendgroup": "spring",
         "marker": {
          "color": "#EF553B",
          "pattern": {
           "shape": ""
          }
         },
         "name": "spring",
         "offsetgroup": "spring",
         "orientation": "v",
         "showlegend": false,
         "textposition": "auto",
         "type": "bar",
         "x": [
          0,
          1,
          2,
          3,
          4,
          5,
          6
         ],
         "xaxis": "x149",
         "y": [
          1157,
          675,
          935,
          856,
          849,
          692,
          1015
         ],
         "yaxis": "y149"
        },
        {
         "alignmentgroup": "True",
         "hovertemplate": "month_of_season=spring<br>year=2010<br>month=6<br>day of week=%{x}<br>Quantity Sold (kg)=%{y}<extra></extra>",
         "legendgroup": "spring",
         "marker": {
          "color": "#EF553B",
          "pattern": {
           "shape": ""
          }
         },
         "name": "spring",
         "offsetgroup": "spring",
         "orientation": "v",
         "showlegend": false,
         "textposition": "auto",
         "type": "bar",
         "x": [
          0,
          1,
          2,
          3,
          4,
          5,
          6
         ],
         "xaxis": "x150",
         "y": [
          537,
          779,
          603,
          588,
          581,
          487,
          516
         ],
         "yaxis": "y150"
        },
        {
         "alignmentgroup": "True",
         "hovertemplate": "month_of_season=spring<br>year=2011<br>month=4<br>day of week=%{x}<br>Quantity Sold (kg)=%{y}<extra></extra>",
         "legendgroup": "spring",
         "marker": {
          "color": "#EF553B",
          "pattern": {
           "shape": ""
          }
         },
         "name": "spring",
         "offsetgroup": "spring",
         "orientation": "v",
         "showlegend": false,
         "textposition": "auto",
         "type": "bar",
         "x": [
          0,
          1,
          2,
          3,
          4,
          5,
          6
         ],
         "xaxis": "x136",
         "y": [
          705,
          725,
          833,
          917,
          925,
          869,
          808
         ],
         "yaxis": "y136"
        },
        {
         "alignmentgroup": "True",
         "hovertemplate": "month_of_season=spring<br>year=2011<br>month=5<br>day of week=%{x}<br>Quantity Sold (kg)=%{y}<extra></extra>",
         "legendgroup": "spring",
         "marker": {
          "color": "#EF553B",
          "pattern": {
           "shape": ""
          }
         },
         "name": "spring",
         "offsetgroup": "spring",
         "orientation": "v",
         "showlegend": false,
         "textposition": "auto",
         "type": "bar",
         "x": [
          0,
          1,
          2,
          3,
          4,
          5,
          6
         ],
         "xaxis": "x137",
         "y": [
          1036,
          1019,
          702,
          963,
          868,
          1040,
          1050
         ],
         "yaxis": "y137"
        },
        {
         "alignmentgroup": "True",
         "hovertemplate": "month_of_season=spring<br>year=2011<br>month=6<br>day of week=%{x}<br>Quantity Sold (kg)=%{y}<extra></extra>",
         "legendgroup": "spring",
         "marker": {
          "color": "#EF553B",
          "pattern": {
           "shape": ""
          }
         },
         "name": "spring",
         "offsetgroup": "spring",
         "orientation": "v",
         "showlegend": false,
         "textposition": "auto",
         "type": "bar",
         "x": [
          0,
          1,
          2,
          3,
          4,
          5,
          6
         ],
         "xaxis": "x138",
         "y": [
          449,
          680,
          498,
          618,
          558,
          305,
          573
         ],
         "yaxis": "y138"
        },
        {
         "alignmentgroup": "True",
         "hovertemplate": "month_of_season=spring<br>year=2012<br>month=4<br>day of week=%{x}<br>Quantity Sold (kg)=%{y}<extra></extra>",
         "legendgroup": "spring",
         "marker": {
          "color": "#EF553B",
          "pattern": {
           "shape": ""
          }
         },
         "name": "spring",
         "offsetgroup": "spring",
         "orientation": "v",
         "showlegend": false,
         "textposition": "auto",
         "type": "bar",
         "x": [
          0,
          1,
          2,
          3,
          4,
          5,
          6
         ],
         "xaxis": "x124",
         "y": [
          1204,
          802,
          852,
          658,
          730,
          822,
          1019
         ],
         "yaxis": "y124"
        },
        {
         "alignmentgroup": "True",
         "hovertemplate": "month_of_season=spring<br>year=2012<br>month=5<br>day of week=%{x}<br>Quantity Sold (kg)=%{y}<extra></extra>",
         "legendgroup": "spring",
         "marker": {
          "color": "#EF553B",
          "pattern": {
           "shape": ""
          }
         },
         "name": "spring",
         "offsetgroup": "spring",
         "orientation": "v",
         "showlegend": false,
         "textposition": "auto",
         "type": "bar",
         "x": [
          0,
          1,
          2,
          3,
          4,
          5,
          6
         ],
         "xaxis": "x125",
         "y": [
          629,
          1147,
          840,
          842,
          752,
          561,
          693
         ],
         "yaxis": "y125"
        },
        {
         "alignmentgroup": "True",
         "hovertemplate": "month_of_season=spring<br>year=2012<br>month=6<br>day of week=%{x}<br>Quantity Sold (kg)=%{y}<extra></extra>",
         "legendgroup": "spring",
         "marker": {
          "color": "#EF553B",
          "pattern": {
           "shape": ""
          }
         },
         "name": "spring",
         "offsetgroup": "spring",
         "orientation": "v",
         "showlegend": false,
         "textposition": "auto",
         "type": "bar",
         "x": [
          0,
          1,
          2,
          3,
          4,
          5,
          6
         ],
         "xaxis": "x126",
         "y": [
          530,
          444,
          623,
          534,
          671,
          574,
          322
         ],
         "yaxis": "y126"
        },
        {
         "alignmentgroup": "True",
         "hovertemplate": "month_of_season=spring<br>year=2013<br>month=4<br>day of week=%{x}<br>Quantity Sold (kg)=%{y}<extra></extra>",
         "legendgroup": "spring",
         "marker": {
          "color": "#EF553B",
          "pattern": {
           "shape": ""
          }
         },
         "name": "spring",
         "offsetgroup": "spring",
         "orientation": "v",
         "showlegend": false,
         "textposition": "auto",
         "type": "bar",
         "x": [
          0,
          1,
          2,
          3,
          4,
          5,
          6
         ],
         "xaxis": "x112",
         "y": [
          929,
          1135,
          629,
          767,
          479,
          934,
          688
         ],
         "yaxis": "y112"
        },
        {
         "alignmentgroup": "True",
         "hovertemplate": "month_of_season=spring<br>year=2013<br>month=5<br>day of week=%{x}<br>Quantity Sold (kg)=%{y}<extra></extra>",
         "legendgroup": "spring",
         "marker": {
          "color": "#EF553B",
          "pattern": {
           "shape": ""
          }
         },
         "name": "spring",
         "offsetgroup": "spring",
         "orientation": "v",
         "showlegend": false,
         "textposition": "auto",
         "type": "bar",
         "x": [
          0,
          1,
          2,
          3,
          4,
          5,
          6
         ],
         "xaxis": "x113",
         "y": [
          815,
          703,
          1037,
          868,
          1122,
          780,
          645
         ],
         "yaxis": "y113"
        },
        {
         "alignmentgroup": "True",
         "hovertemplate": "month_of_season=spring<br>year=2013<br>month=6<br>day of week=%{x}<br>Quantity Sold (kg)=%{y}<extra></extra>",
         "legendgroup": "spring",
         "marker": {
          "color": "#EF553B",
          "pattern": {
           "shape": ""
          }
         },
         "name": "spring",
         "offsetgroup": "spring",
         "orientation": "v",
         "showlegend": false,
         "textposition": "auto",
         "type": "bar",
         "x": [
          0,
          1,
          2,
          3,
          4,
          5,
          6
         ],
         "xaxis": "x114",
         "y": [
          418,
          475,
          570,
          502,
          402,
          672,
          619
         ],
         "yaxis": "y114"
        },
        {
         "alignmentgroup": "True",
         "hovertemplate": "month_of_season=spring<br>year=2014<br>month=4<br>day of week=%{x}<br>Quantity Sold (kg)=%{y}<extra></extra>",
         "legendgroup": "spring",
         "marker": {
          "color": "#EF553B",
          "pattern": {
           "shape": ""
          }
         },
         "name": "spring",
         "offsetgroup": "spring",
         "orientation": "v",
         "showlegend": false,
         "textposition": "auto",
         "type": "bar",
         "x": [
          0,
          1,
          2,
          3,
          4,
          5,
          6
         ],
         "xaxis": "x100",
         "y": [
          919,
          1146,
          1002,
          933,
          802,
          814,
          856
         ],
         "yaxis": "y100"
        },
        {
         "alignmentgroup": "True",
         "hovertemplate": "month_of_season=spring<br>year=2014<br>month=5<br>day of week=%{x}<br>Quantity Sold (kg)=%{y}<extra></extra>",
         "legendgroup": "spring",
         "marker": {
          "color": "#EF553B",
          "pattern": {
           "shape": ""
          }
         },
         "name": "spring",
         "offsetgroup": "spring",
         "orientation": "v",
         "showlegend": false,
         "textposition": "auto",
         "type": "bar",
         "x": [
          0,
          1,
          2,
          3,
          4,
          5,
          6
         ],
         "xaxis": "x101",
         "y": [
          702,
          746,
          1001,
          982,
          906,
          900,
          740
         ],
         "yaxis": "y101"
        },
        {
         "alignmentgroup": "True",
         "hovertemplate": "month_of_season=spring<br>year=2014<br>month=6<br>day of week=%{x}<br>Quantity Sold (kg)=%{y}<extra></extra>",
         "legendgroup": "spring",
         "marker": {
          "color": "#EF553B",
          "pattern": {
           "shape": ""
          }
         },
         "name": "spring",
         "offsetgroup": "spring",
         "orientation": "v",
         "showlegend": false,
         "textposition": "auto",
         "type": "bar",
         "x": [
          0,
          1,
          2,
          3,
          4,
          5,
          6
         ],
         "xaxis": "x102",
         "y": [
          766,
          624,
          411,
          627,
          609,
          560,
          686
         ],
         "yaxis": "y102"
        },
        {
         "alignmentgroup": "True",
         "hovertemplate": "month_of_season=spring<br>year=2015<br>month=4<br>day of week=%{x}<br>Quantity Sold (kg)=%{y}<extra></extra>",
         "legendgroup": "spring",
         "marker": {
          "color": "#EF553B",
          "pattern": {
           "shape": ""
          }
         },
         "name": "spring",
         "offsetgroup": "spring",
         "orientation": "v",
         "showlegend": false,
         "textposition": "auto",
         "type": "bar",
         "x": [
          0,
          1,
          2,
          3,
          4,
          5,
          6
         ],
         "xaxis": "x88",
         "y": [
          907,
          736,
          1105,
          1106,
          998,
          830,
          765
         ],
         "yaxis": "y88"
        },
        {
         "alignmentgroup": "True",
         "hovertemplate": "month_of_season=spring<br>year=2015<br>month=5<br>day of week=%{x}<br>Quantity Sold (kg)=%{y}<extra></extra>",
         "legendgroup": "spring",
         "marker": {
          "color": "#EF553B",
          "pattern": {
           "shape": ""
          }
         },
         "name": "spring",
         "offsetgroup": "spring",
         "orientation": "v",
         "showlegend": false,
         "textposition": "auto",
         "type": "bar",
         "x": [
          0,
          1,
          2,
          3,
          4,
          5,
          6
         ],
         "xaxis": "x89",
         "y": [
          1013,
          556,
          749,
          871,
          1159,
          1196,
          945
         ],
         "yaxis": "y89"
        },
        {
         "alignmentgroup": "True",
         "hovertemplate": "month_of_season=spring<br>year=2015<br>month=6<br>day of week=%{x}<br>Quantity Sold (kg)=%{y}<extra></extra>",
         "legendgroup": "spring",
         "marker": {
          "color": "#EF553B",
          "pattern": {
           "shape": ""
          }
         },
         "name": "spring",
         "offsetgroup": "spring",
         "orientation": "v",
         "showlegend": false,
         "textposition": "auto",
         "type": "bar",
         "x": [
          0,
          1,
          2,
          3,
          4,
          5,
          6
         ],
         "xaxis": "x90",
         "y": [
          609,
          707,
          522,
          509,
          427,
          527,
          600
         ],
         "yaxis": "y90"
        },
        {
         "alignmentgroup": "True",
         "hovertemplate": "month_of_season=spring<br>year=2016<br>month=4<br>day of week=%{x}<br>Quantity Sold (kg)=%{y}<extra></extra>",
         "legendgroup": "spring",
         "marker": {
          "color": "#EF553B",
          "pattern": {
           "shape": ""
          }
         },
         "name": "spring",
         "offsetgroup": "spring",
         "orientation": "v",
         "showlegend": false,
         "textposition": "auto",
         "type": "bar",
         "x": [
          0,
          1,
          2,
          3,
          4,
          5,
          6
         ],
         "xaxis": "x76",
         "y": [
          892,
          908,
          830,
          592,
          899,
          1248,
          747
         ],
         "yaxis": "y76"
        },
        {
         "alignmentgroup": "True",
         "hovertemplate": "month_of_season=spring<br>year=2016<br>month=5<br>day of week=%{x}<br>Quantity Sold (kg)=%{y}<extra></extra>",
         "legendgroup": "spring",
         "marker": {
          "color": "#EF553B",
          "pattern": {
           "shape": ""
          }
         },
         "name": "spring",
         "offsetgroup": "spring",
         "orientation": "v",
         "showlegend": false,
         "textposition": "auto",
         "type": "bar",
         "x": [
          0,
          1,
          2,
          3,
          4,
          5,
          6
         ],
         "xaxis": "x77",
         "y": [
          1152,
          847,
          870,
          921,
          838,
          978,
          997
         ],
         "yaxis": "y77"
        },
        {
         "alignmentgroup": "True",
         "hovertemplate": "month_of_season=spring<br>year=2016<br>month=6<br>day of week=%{x}<br>Quantity Sold (kg)=%{y}<extra></extra>",
         "legendgroup": "spring",
         "marker": {
          "color": "#EF553B",
          "pattern": {
           "shape": ""
          }
         },
         "name": "spring",
         "offsetgroup": "spring",
         "orientation": "v",
         "showlegend": false,
         "textposition": "auto",
         "type": "bar",
         "x": [
          0,
          1,
          2,
          3,
          4,
          5,
          6
         ],
         "xaxis": "x78",
         "y": [
          484,
          388,
          742,
          802,
          568,
          428,
          545
         ],
         "yaxis": "y78"
        },
        {
         "alignmentgroup": "True",
         "hovertemplate": "month_of_season=spring<br>year=2017<br>month=4<br>day of week=%{x}<br>Quantity Sold (kg)=%{y}<extra></extra>",
         "legendgroup": "spring",
         "marker": {
          "color": "#EF553B",
          "pattern": {
           "shape": ""
          }
         },
         "name": "spring",
         "offsetgroup": "spring",
         "orientation": "v",
         "showlegend": false,
         "textposition": "auto",
         "type": "bar",
         "x": [
          0,
          1,
          2,
          3,
          4,
          5,
          6
         ],
         "xaxis": "x64",
         "y": [
          810,
          882,
          761,
          645,
          622,
          1000,
          896
         ],
         "yaxis": "y64"
        },
        {
         "alignmentgroup": "True",
         "hovertemplate": "month_of_season=spring<br>year=2017<br>month=5<br>day of week=%{x}<br>Quantity Sold (kg)=%{y}<extra></extra>",
         "legendgroup": "spring",
         "marker": {
          "color": "#EF553B",
          "pattern": {
           "shape": ""
          }
         },
         "name": "spring",
         "offsetgroup": "spring",
         "orientation": "v",
         "showlegend": false,
         "textposition": "auto",
         "type": "bar",
         "x": [
          0,
          1,
          2,
          3,
          4,
          5,
          6
         ],
         "xaxis": "x65",
         "y": [
          1034,
          941,
          1317,
          647,
          793,
          884,
          824
         ],
         "yaxis": "y65"
        },
        {
         "alignmentgroup": "True",
         "hovertemplate": "month_of_season=spring<br>year=2017<br>month=6<br>day of week=%{x}<br>Quantity Sold (kg)=%{y}<extra></extra>",
         "legendgroup": "spring",
         "marker": {
          "color": "#EF553B",
          "pattern": {
           "shape": ""
          }
         },
         "name": "spring",
         "offsetgroup": "spring",
         "orientation": "v",
         "showlegend": false,
         "textposition": "auto",
         "type": "bar",
         "x": [
          0,
          1,
          2,
          3,
          4,
          5,
          6
         ],
         "xaxis": "x66",
         "y": [
          396,
          582,
          552,
          682,
          682,
          484,
          324
         ],
         "yaxis": "y66"
        },
        {
         "alignmentgroup": "True",
         "hovertemplate": "month_of_season=spring<br>year=2018<br>month=4<br>day of week=%{x}<br>Quantity Sold (kg)=%{y}<extra></extra>",
         "legendgroup": "spring",
         "marker": {
          "color": "#EF553B",
          "pattern": {
           "shape": ""
          }
         },
         "name": "spring",
         "offsetgroup": "spring",
         "orientation": "v",
         "showlegend": false,
         "textposition": "auto",
         "type": "bar",
         "x": [
          0,
          1,
          2,
          3,
          4,
          5,
          6
         ],
         "xaxis": "x52",
         "y": [
          815,
          955,
          974,
          954,
          941,
          1006,
          1062
         ],
         "yaxis": "y52"
        },
        {
         "alignmentgroup": "True",
         "hovertemplate": "month_of_season=spring<br>year=2018<br>month=5<br>day of week=%{x}<br>Quantity Sold (kg)=%{y}<extra></extra>",
         "legendgroup": "spring",
         "marker": {
          "color": "#EF553B",
          "pattern": {
           "shape": ""
          }
         },
         "name": "spring",
         "offsetgroup": "spring",
         "orientation": "v",
         "showlegend": false,
         "textposition": "auto",
         "type": "bar",
         "x": [
          0,
          1,
          2,
          3,
          4,
          5,
          6
         ],
         "xaxis": "x53",
         "y": [
          1028,
          1056,
          1152,
          978,
          990,
          585,
          760
         ],
         "yaxis": "y53"
        },
        {
         "alignmentgroup": "True",
         "hovertemplate": "month_of_season=spring<br>year=2018<br>month=6<br>day of week=%{x}<br>Quantity Sold (kg)=%{y}<extra></extra>",
         "legendgroup": "spring",
         "marker": {
          "color": "#EF553B",
          "pattern": {
           "shape": ""
          }
         },
         "name": "spring",
         "offsetgroup": "spring",
         "orientation": "v",
         "showlegend": false,
         "textposition": "auto",
         "type": "bar",
         "x": [
          0,
          1,
          2,
          3,
          4,
          5,
          6
         ],
         "xaxis": "x54",
         "y": [
          545,
          497,
          375,
          410,
          703,
          595,
          639
         ],
         "yaxis": "y54"
        },
        {
         "alignmentgroup": "True",
         "hovertemplate": "month_of_season=spring<br>year=2019<br>month=4<br>day of week=%{x}<br>Quantity Sold (kg)=%{y}<extra></extra>",
         "legendgroup": "spring",
         "marker": {
          "color": "#EF553B",
          "pattern": {
           "shape": ""
          }
         },
         "name": "spring",
         "offsetgroup": "spring",
         "orientation": "v",
         "showlegend": false,
         "textposition": "auto",
         "type": "bar",
         "x": [
          0,
          1,
          2,
          3,
          4,
          5,
          6
         ],
         "xaxis": "x40",
         "y": [
          1114,
          1032,
          835,
          819,
          679,
          915,
          623
         ],
         "yaxis": "y40"
        },
        {
         "alignmentgroup": "True",
         "hovertemplate": "month_of_season=spring<br>year=2019<br>month=5<br>day of week=%{x}<br>Quantity Sold (kg)=%{y}<extra></extra>",
         "legendgroup": "spring",
         "marker": {
          "color": "#EF553B",
          "pattern": {
           "shape": ""
          }
         },
         "name": "spring",
         "offsetgroup": "spring",
         "orientation": "v",
         "showlegend": false,
         "textposition": "auto",
         "type": "bar",
         "x": [
          0,
          1,
          2,
          3,
          4,
          5,
          6
         ],
         "xaxis": "x41",
         "y": [
          1094,
          826,
          1123,
          939,
          1069,
          945,
          637
         ],
         "yaxis": "y41"
        },
        {
         "alignmentgroup": "True",
         "hovertemplate": "month_of_season=spring<br>year=2019<br>month=6<br>day of week=%{x}<br>Quantity Sold (kg)=%{y}<extra></extra>",
         "legendgroup": "spring",
         "marker": {
          "color": "#EF553B",
          "pattern": {
           "shape": ""
          }
         },
         "name": "spring",
         "offsetgroup": "spring",
         "orientation": "v",
         "showlegend": false,
         "textposition": "auto",
         "type": "bar",
         "x": [
          0,
          1,
          2,
          3,
          4,
          5,
          6
         ],
         "xaxis": "x42",
         "y": [
          541,
          383,
          395,
          598,
          420,
          703,
          624
         ],
         "yaxis": "y42"
        },
        {
         "alignmentgroup": "True",
         "hovertemplate": "month_of_season=spring<br>year=2020<br>month=4<br>day of week=%{x}<br>Quantity Sold (kg)=%{y}<extra></extra>",
         "legendgroup": "spring",
         "marker": {
          "color": "#EF553B",
          "pattern": {
           "shape": ""
          }
         },
         "name": "spring",
         "offsetgroup": "spring",
         "orientation": "v",
         "showlegend": false,
         "textposition": "auto",
         "type": "bar",
         "x": [
          0,
          1,
          2,
          3,
          4,
          5,
          6
         ],
         "xaxis": "x28",
         "y": [
          877,
          792,
          1198,
          862,
          689,
          695,
          846
         ],
         "yaxis": "y28"
        },
        {
         "alignmentgroup": "True",
         "hovertemplate": "month_of_season=spring<br>year=2020<br>month=5<br>day of week=%{x}<br>Quantity Sold (kg)=%{y}<extra></extra>",
         "legendgroup": "spring",
         "marker": {
          "color": "#EF553B",
          "pattern": {
           "shape": ""
          }
         },
         "name": "spring",
         "offsetgroup": "spring",
         "orientation": "v",
         "showlegend": false,
         "textposition": "auto",
         "type": "bar",
         "x": [
          0,
          1,
          2,
          3,
          4,
          5,
          6
         ],
         "xaxis": "x29",
         "y": [
          814,
          743,
          817,
          896,
          893,
          983,
          1065
         ],
         "yaxis": "y29"
        },
        {
         "alignmentgroup": "True",
         "hovertemplate": "month_of_season=spring<br>year=2020<br>month=6<br>day of week=%{x}<br>Quantity Sold (kg)=%{y}<extra></extra>",
         "legendgroup": "spring",
         "marker": {
          "color": "#EF553B",
          "pattern": {
           "shape": ""
          }
         },
         "name": "spring",
         "offsetgroup": "spring",
         "orientation": "v",
         "showlegend": false,
         "textposition": "auto",
         "type": "bar",
         "x": [
          0,
          1,
          2,
          3,
          4,
          5,
          6
         ],
         "xaxis": "x30",
         "y": [
          665,
          507,
          413,
          601,
          357,
          564,
          458
         ],
         "yaxis": "y30"
        },
        {
         "alignmentgroup": "True",
         "hovertemplate": "month_of_season=spring<br>year=2021<br>month=4<br>day of week=%{x}<br>Quantity Sold (kg)=%{y}<extra></extra>",
         "legendgroup": "spring",
         "marker": {
          "color": "#EF553B",
          "pattern": {
           "shape": ""
          }
         },
         "name": "spring",
         "offsetgroup": "spring",
         "orientation": "v",
         "showlegend": false,
         "textposition": "auto",
         "type": "bar",
         "x": [
          0,
          1,
          2,
          3,
          4,
          5,
          6
         ],
         "xaxis": "x16",
         "y": [
          797,
          670,
          640,
          871,
          1060,
          872,
          689
         ],
         "yaxis": "y16"
        },
        {
         "alignmentgroup": "True",
         "hovertemplate": "month_of_season=spring<br>year=2021<br>month=5<br>day of week=%{x}<br>Quantity Sold (kg)=%{y}<extra></extra>",
         "legendgroup": "spring",
         "marker": {
          "color": "#EF553B",
          "pattern": {
           "shape": ""
          }
         },
         "name": "spring",
         "offsetgroup": "spring",
         "orientation": "v",
         "showlegend": false,
         "textposition": "auto",
         "type": "bar",
         "x": [
          0,
          1,
          2,
          3,
          4,
          5,
          6
         ],
         "xaxis": "x17",
         "y": [
          958,
          792,
          852,
          745,
          736,
          1154,
          800
         ],
         "yaxis": "y17"
        },
        {
         "alignmentgroup": "True",
         "hovertemplate": "month_of_season=spring<br>year=2021<br>month=6<br>day of week=%{x}<br>Quantity Sold (kg)=%{y}<extra></extra>",
         "legendgroup": "spring",
         "marker": {
          "color": "#EF553B",
          "pattern": {
           "shape": ""
          }
         },
         "name": "spring",
         "offsetgroup": "spring",
         "orientation": "v",
         "showlegend": false,
         "textposition": "auto",
         "type": "bar",
         "x": [
          0,
          1,
          2,
          3,
          4,
          5,
          6
         ],
         "xaxis": "x18",
         "y": [
          439,
          609,
          685,
          478,
          452,
          480,
          545
         ],
         "yaxis": "y18"
        },
        {
         "alignmentgroup": "True",
         "hovertemplate": "month_of_season=spring<br>year=2022<br>month=4<br>day of week=%{x}<br>Quantity Sold (kg)=%{y}<extra></extra>",
         "legendgroup": "spring",
         "marker": {
          "color": "#EF553B",
          "pattern": {
           "shape": ""
          }
         },
         "name": "spring",
         "offsetgroup": "spring",
         "orientation": "v",
         "showlegend": false,
         "textposition": "auto",
         "type": "bar",
         "x": [
          0,
          1,
          2,
          3,
          4,
          5,
          6
         ],
         "xaxis": "x4",
         "y": [
          618,
          933,
          889,
          830,
          1055,
          925,
          506
         ],
         "yaxis": "y4"
        },
        {
         "alignmentgroup": "True",
         "hovertemplate": "month_of_season=spring<br>year=2022<br>month=5<br>day of week=%{x}<br>Quantity Sold (kg)=%{y}<extra></extra>",
         "legendgroup": "spring",
         "marker": {
          "color": "#EF553B",
          "pattern": {
           "shape": ""
          }
         },
         "name": "spring",
         "offsetgroup": "spring",
         "orientation": "v",
         "showlegend": false,
         "textposition": "auto",
         "type": "bar",
         "x": [
          0,
          1,
          2,
          3,
          4,
          5,
          6
         ],
         "xaxis": "x5",
         "y": [
          888,
          967,
          779,
          705,
          684,
          795,
          1004
         ],
         "yaxis": "y5"
        },
        {
         "alignmentgroup": "True",
         "hovertemplate": "month_of_season=spring<br>year=2022<br>month=6<br>day of week=%{x}<br>Quantity Sold (kg)=%{y}<extra></extra>",
         "legendgroup": "spring",
         "marker": {
          "color": "#EF553B",
          "pattern": {
           "shape": ""
          }
         },
         "name": "spring",
         "offsetgroup": "spring",
         "orientation": "v",
         "showlegend": false,
         "textposition": "auto",
         "type": "bar",
         "x": [
          0,
          1,
          2,
          3,
          4,
          5,
          6
         ],
         "xaxis": "x6",
         "y": [
          448,
          487,
          830,
          565,
          423,
          504,
          378
         ],
         "yaxis": "y6"
        },
        {
         "alignmentgroup": "True",
         "hovertemplate": "month_of_season=summer<br>year=2009<br>month=7<br>day of week=%{x}<br>Quantity Sold (kg)=%{y}<extra></extra>",
         "legendgroup": "summer",
         "marker": {
          "color": "#00cc96",
          "pattern": {
           "shape": ""
          }
         },
         "name": "summer",
         "offsetgroup": "summer",
         "orientation": "v",
         "showlegend": true,
         "textposition": "auto",
         "type": "bar",
         "x": [
          0,
          1,
          2,
          3,
          4,
          5,
          6
         ],
         "xaxis": "x163",
         "y": [
          416,
          459,
          501,
          722,
          668,
          458,
          529
         ],
         "yaxis": "y163"
        },
        {
         "alignmentgroup": "True",
         "hovertemplate": "month_of_season=summer<br>year=2009<br>month=8<br>day of week=%{x}<br>Quantity Sold (kg)=%{y}<extra></extra>",
         "legendgroup": "summer",
         "marker": {
          "color": "#00cc96",
          "pattern": {
           "shape": ""
          }
         },
         "name": "summer",
         "offsetgroup": "summer",
         "orientation": "v",
         "showlegend": false,
         "textposition": "auto",
         "type": "bar",
         "x": [
          0,
          1,
          2,
          3,
          4,
          5,
          6
         ],
         "xaxis": "x164",
         "y": [
          764,
          602,
          336,
          510,
          426,
          524,
          660
         ],
         "yaxis": "y164"
        },
        {
         "alignmentgroup": "True",
         "hovertemplate": "month_of_season=summer<br>year=2009<br>month=9<br>day of week=%{x}<br>Quantity Sold (kg)=%{y}<extra></extra>",
         "legendgroup": "summer",
         "marker": {
          "color": "#00cc96",
          "pattern": {
           "shape": ""
          }
         },
         "name": "summer",
         "offsetgroup": "summer",
         "orientation": "v",
         "showlegend": false,
         "textposition": "auto",
         "type": "bar",
         "x": [
          0,
          1,
          2,
          3,
          4,
          5,
          6
         ],
         "xaxis": "x165",
         "y": [
          502,
          758,
          622,
          398,
          516,
          564,
          518
         ],
         "yaxis": "y165"
        },
        {
         "alignmentgroup": "True",
         "hovertemplate": "month_of_season=summer<br>year=2010<br>month=7<br>day of week=%{x}<br>Quantity Sold (kg)=%{y}<extra></extra>",
         "legendgroup": "summer",
         "marker": {
          "color": "#00cc96",
          "pattern": {
           "shape": ""
          }
         },
         "name": "summer",
         "offsetgroup": "summer",
         "orientation": "v",
         "showlegend": false,
         "textposition": "auto",
         "type": "bar",
         "x": [
          0,
          1,
          2,
          3,
          4,
          5,
          6
         ],
         "xaxis": "x151",
         "y": [
          491,
          591,
          625,
          382,
          864,
          627,
          461
         ],
         "yaxis": "y151"
        },
        {
         "alignmentgroup": "True",
         "hovertemplate": "month_of_season=summer<br>year=2010<br>month=8<br>day of week=%{x}<br>Quantity Sold (kg)=%{y}<extra></extra>",
         "legendgroup": "summer",
         "marker": {
          "color": "#00cc96",
          "pattern": {
           "shape": ""
          }
         },
         "name": "summer",
         "offsetgroup": "summer",
         "orientation": "v",
         "showlegend": false,
         "textposition": "auto",
         "type": "bar",
         "x": [
          0,
          1,
          2,
          3,
          4,
          5,
          6
         ],
         "xaxis": "x152",
         "y": [
          475,
          683,
          531,
          589,
          480,
          377,
          668
         ],
         "yaxis": "y152"
        },
        {
         "alignmentgroup": "True",
         "hovertemplate": "month_of_season=summer<br>year=2010<br>month=9<br>day of week=%{x}<br>Quantity Sold (kg)=%{y}<extra></extra>",
         "legendgroup": "summer",
         "marker": {
          "color": "#00cc96",
          "pattern": {
           "shape": ""
          }
         },
         "name": "summer",
         "offsetgroup": "summer",
         "orientation": "v",
         "showlegend": false,
         "textposition": "auto",
         "type": "bar",
         "x": [
          0,
          1,
          2,
          3,
          4,
          5,
          6
         ],
         "xaxis": "x153",
         "y": [
          445,
          323,
          588,
          797,
          471,
          466,
          544
         ],
         "yaxis": "y153"
        },
        {
         "alignmentgroup": "True",
         "hovertemplate": "month_of_season=summer<br>year=2011<br>month=7<br>day of week=%{x}<br>Quantity Sold (kg)=%{y}<extra></extra>",
         "legendgroup": "summer",
         "marker": {
          "color": "#00cc96",
          "pattern": {
           "shape": ""
          }
         },
         "name": "summer",
         "offsetgroup": "summer",
         "orientation": "v",
         "showlegend": false,
         "textposition": "auto",
         "type": "bar",
         "x": [
          0,
          1,
          2,
          3,
          4,
          5,
          6
         ],
         "xaxis": "x139",
         "y": [
          663,
          408,
          505,
          534,
          686,
          432,
          480
         ],
         "yaxis": "y139"
        },
        {
         "alignmentgroup": "True",
         "hovertemplate": "month_of_season=summer<br>year=2011<br>month=8<br>day of week=%{x}<br>Quantity Sold (kg)=%{y}<extra></extra>",
         "legendgroup": "summer",
         "marker": {
          "color": "#00cc96",
          "pattern": {
           "shape": ""
          }
         },
         "name": "summer",
         "offsetgroup": "summer",
         "orientation": "v",
         "showlegend": false,
         "textposition": "auto",
         "type": "bar",
         "x": [
          0,
          1,
          2,
          3,
          4,
          5,
          6
         ],
         "xaxis": "x140",
         "y": [
          705,
          639,
          751,
          447,
          613,
          425,
          355
         ],
         "yaxis": "y140"
        },
        {
         "alignmentgroup": "True",
         "hovertemplate": "month_of_season=summer<br>year=2011<br>month=9<br>day of week=%{x}<br>Quantity Sold (kg)=%{y}<extra></extra>",
         "legendgroup": "summer",
         "marker": {
          "color": "#00cc96",
          "pattern": {
           "shape": ""
          }
         },
         "name": "summer",
         "offsetgroup": "summer",
         "orientation": "v",
         "showlegend": false,
         "textposition": "auto",
         "type": "bar",
         "x": [
          0,
          1,
          2,
          3,
          4,
          5,
          6
         ],
         "xaxis": "x141",
         "y": [
          438,
          462,
          432,
          715,
          665,
          522,
          618
         ],
         "yaxis": "y141"
        },
        {
         "alignmentgroup": "True",
         "hovertemplate": "month_of_season=summer<br>year=2012<br>month=7<br>day of week=%{x}<br>Quantity Sold (kg)=%{y}<extra></extra>",
         "legendgroup": "summer",
         "marker": {
          "color": "#00cc96",
          "pattern": {
           "shape": ""
          }
         },
         "name": "summer",
         "offsetgroup": "summer",
         "orientation": "v",
         "showlegend": false,
         "textposition": "auto",
         "type": "bar",
         "x": [
          0,
          1,
          2,
          3,
          4,
          5,
          6
         ],
         "xaxis": "x127",
         "y": [
          699,
          690,
          602,
          570,
          395,
          497,
          635
         ],
         "yaxis": "y127"
        },
        {
         "alignmentgroup": "True",
         "hovertemplate": "month_of_season=summer<br>year=2012<br>month=8<br>day of week=%{x}<br>Quantity Sold (kg)=%{y}<extra></extra>",
         "legendgroup": "summer",
         "marker": {
          "color": "#00cc96",
          "pattern": {
           "shape": ""
          }
         },
         "name": "summer",
         "offsetgroup": "summer",
         "orientation": "v",
         "showlegend": false,
         "textposition": "auto",
         "type": "bar",
         "x": [
          0,
          1,
          2,
          3,
          4,
          5,
          6
         ],
         "xaxis": "x128",
         "y": [
          638,
          401,
          549,
          673,
          547,
          514,
          490
         ],
         "yaxis": "y128"
        },
        {
         "alignmentgroup": "True",
         "hovertemplate": "month_of_season=summer<br>year=2012<br>month=9<br>day of week=%{x}<br>Quantity Sold (kg)=%{y}<extra></extra>",
         "legendgroup": "summer",
         "marker": {
          "color": "#00cc96",
          "pattern": {
           "shape": ""
          }
         },
         "name": "summer",
         "offsetgroup": "summer",
         "orientation": "v",
         "showlegend": false,
         "textposition": "auto",
         "type": "bar",
         "x": [
          0,
          1,
          2,
          3,
          4,
          5,
          6
         ],
         "xaxis": "x129",
         "y": [
          642,
          623,
          532,
          455,
          582,
          447,
          711
         ],
         "yaxis": "y129"
        },
        {
         "alignmentgroup": "True",
         "hovertemplate": "month_of_season=summer<br>year=2013<br>month=7<br>day of week=%{x}<br>Quantity Sold (kg)=%{y}<extra></extra>",
         "legendgroup": "summer",
         "marker": {
          "color": "#00cc96",
          "pattern": {
           "shape": ""
          }
         },
         "name": "summer",
         "offsetgroup": "summer",
         "orientation": "v",
         "showlegend": false,
         "textposition": "auto",
         "type": "bar",
         "x": [
          0,
          1,
          2,
          3,
          4,
          5,
          6
         ],
         "xaxis": "x115",
         "y": [
          737,
          774,
          787,
          450,
          496,
          520,
          479
         ],
         "yaxis": "y115"
        },
        {
         "alignmentgroup": "True",
         "hovertemplate": "month_of_season=summer<br>year=2013<br>month=8<br>day of week=%{x}<br>Quantity Sold (kg)=%{y}<extra></extra>",
         "legendgroup": "summer",
         "marker": {
          "color": "#00cc96",
          "pattern": {
           "shape": ""
          }
         },
         "name": "summer",
         "offsetgroup": "summer",
         "orientation": "v",
         "showlegend": false,
         "textposition": "auto",
         "type": "bar",
         "x": [
          0,
          1,
          2,
          3,
          4,
          5,
          6
         ],
         "xaxis": "x116",
         "y": [
          706,
          524,
          491,
          643,
          617,
          563,
          604
         ],
         "yaxis": "y116"
        },
        {
         "alignmentgroup": "True",
         "hovertemplate": "month_of_season=summer<br>year=2013<br>month=9<br>day of week=%{x}<br>Quantity Sold (kg)=%{y}<extra></extra>",
         "legendgroup": "summer",
         "marker": {
          "color": "#00cc96",
          "pattern": {
           "shape": ""
          }
         },
         "name": "summer",
         "offsetgroup": "summer",
         "orientation": "v",
         "showlegend": false,
         "textposition": "auto",
         "type": "bar",
         "x": [
          0,
          1,
          2,
          3,
          4,
          5,
          6
         ],
         "xaxis": "x117",
         "y": [
          624,
          458,
          488,
          438,
          571,
          527,
          691
         ],
         "yaxis": "y117"
        },
        {
         "alignmentgroup": "True",
         "hovertemplate": "month_of_season=summer<br>year=2014<br>month=7<br>day of week=%{x}<br>Quantity Sold (kg)=%{y}<extra></extra>",
         "legendgroup": "summer",
         "marker": {
          "color": "#00cc96",
          "pattern": {
           "shape": ""
          }
         },
         "name": "summer",
         "offsetgroup": "summer",
         "orientation": "v",
         "showlegend": false,
         "textposition": "auto",
         "type": "bar",
         "x": [
          0,
          1,
          2,
          3,
          4,
          5,
          6
         ],
         "xaxis": "x103",
         "y": [
          309,
          653,
          647,
          791,
          467,
          523,
          528
         ],
         "yaxis": "y103"
        },
        {
         "alignmentgroup": "True",
         "hovertemplate": "month_of_season=summer<br>year=2014<br>month=8<br>day of week=%{x}<br>Quantity Sold (kg)=%{y}<extra></extra>",
         "legendgroup": "summer",
         "marker": {
          "color": "#00cc96",
          "pattern": {
           "shape": ""
          }
         },
         "name": "summer",
         "offsetgroup": "summer",
         "orientation": "v",
         "showlegend": false,
         "textposition": "auto",
         "type": "bar",
         "x": [
          0,
          1,
          2,
          3,
          4,
          5,
          6
         ],
         "xaxis": "x104",
         "y": [
          383,
          446,
          561,
          527,
          655,
          617,
          639
         ],
         "yaxis": "y104"
        },
        {
         "alignmentgroup": "True",
         "hovertemplate": "month_of_season=summer<br>year=2014<br>month=9<br>day of week=%{x}<br>Quantity Sold (kg)=%{y}<extra></extra>",
         "legendgroup": "summer",
         "marker": {
          "color": "#00cc96",
          "pattern": {
           "shape": ""
          }
         },
         "name": "summer",
         "offsetgroup": "summer",
         "orientation": "v",
         "showlegend": false,
         "textposition": "auto",
         "type": "bar",
         "x": [
          0,
          1,
          2,
          3,
          4,
          5,
          6
         ],
         "xaxis": "x105",
         "y": [
          657,
          439,
          395,
          390,
          570,
          443,
          446
         ],
         "yaxis": "y105"
        },
        {
         "alignmentgroup": "True",
         "hovertemplate": "month_of_season=summer<br>year=2015<br>month=7<br>day of week=%{x}<br>Quantity Sold (kg)=%{y}<extra></extra>",
         "legendgroup": "summer",
         "marker": {
          "color": "#00cc96",
          "pattern": {
           "shape": ""
          }
         },
         "name": "summer",
         "offsetgroup": "summer",
         "orientation": "v",
         "showlegend": false,
         "textposition": "auto",
         "type": "bar",
         "x": [
          0,
          1,
          2,
          3,
          4,
          5,
          6
         ],
         "xaxis": "x91",
         "y": [
          659,
          530,
          627,
          584,
          449,
          548,
          561
         ],
         "yaxis": "y91"
        },
        {
         "alignmentgroup": "True",
         "hovertemplate": "month_of_season=summer<br>year=2015<br>month=8<br>day of week=%{x}<br>Quantity Sold (kg)=%{y}<extra></extra>",
         "legendgroup": "summer",
         "marker": {
          "color": "#00cc96",
          "pattern": {
           "shape": ""
          }
         },
         "name": "summer",
         "offsetgroup": "summer",
         "orientation": "v",
         "showlegend": false,
         "textposition": "auto",
         "type": "bar",
         "x": [
          0,
          1,
          2,
          3,
          4,
          5,
          6
         ],
         "xaxis": "x92",
         "y": [
          617,
          513,
          558,
          442,
          386,
          460,
          727
         ],
         "yaxis": "y92"
        },
        {
         "alignmentgroup": "True",
         "hovertemplate": "month_of_season=summer<br>year=2015<br>month=9<br>day of week=%{x}<br>Quantity Sold (kg)=%{y}<extra></extra>",
         "legendgroup": "summer",
         "marker": {
          "color": "#00cc96",
          "pattern": {
           "shape": ""
          }
         },
         "name": "summer",
         "offsetgroup": "summer",
         "orientation": "v",
         "showlegend": false,
         "textposition": "auto",
         "type": "bar",
         "x": [
          0,
          1,
          2,
          3,
          4,
          5,
          6
         ],
         "xaxis": "x93",
         "y": [
          708,
          660,
          622,
          488,
          515,
          397,
          490
         ],
         "yaxis": "y93"
        },
        {
         "alignmentgroup": "True",
         "hovertemplate": "month_of_season=summer<br>year=2016<br>month=7<br>day of week=%{x}<br>Quantity Sold (kg)=%{y}<extra></extra>",
         "legendgroup": "summer",
         "marker": {
          "color": "#00cc96",
          "pattern": {
           "shape": ""
          }
         },
         "name": "summer",
         "offsetgroup": "summer",
         "orientation": "v",
         "showlegend": false,
         "textposition": "auto",
         "type": "bar",
         "x": [
          0,
          1,
          2,
          3,
          4,
          5,
          6
         ],
         "xaxis": "x79",
         "y": [
          576,
          339,
          492,
          428,
          737,
          743,
          627
         ],
         "yaxis": "y79"
        },
        {
         "alignmentgroup": "True",
         "hovertemplate": "month_of_season=summer<br>year=2016<br>month=8<br>day of week=%{x}<br>Quantity Sold (kg)=%{y}<extra></extra>",
         "legendgroup": "summer",
         "marker": {
          "color": "#00cc96",
          "pattern": {
           "shape": ""
          }
         },
         "name": "summer",
         "offsetgroup": "summer",
         "orientation": "v",
         "showlegend": false,
         "textposition": "auto",
         "type": "bar",
         "x": [
          0,
          1,
          2,
          3,
          4,
          5,
          6
         ],
         "xaxis": "x80",
         "y": [
          727,
          623,
          607,
          480,
          524,
          545,
          568
         ],
         "yaxis": "y80"
        },
        {
         "alignmentgroup": "True",
         "hovertemplate": "month_of_season=summer<br>year=2016<br>month=9<br>day of week=%{x}<br>Quantity Sold (kg)=%{y}<extra></extra>",
         "legendgroup": "summer",
         "marker": {
          "color": "#00cc96",
          "pattern": {
           "shape": ""
          }
         },
         "name": "summer",
         "offsetgroup": "summer",
         "orientation": "v",
         "showlegend": false,
         "textposition": "auto",
         "type": "bar",
         "x": [
          0,
          1,
          2,
          3,
          4,
          5,
          6
         ],
         "xaxis": "x81",
         "y": [
          349,
          322,
          550,
          515,
          492,
          356,
          508
         ],
         "yaxis": "y81"
        },
        {
         "alignmentgroup": "True",
         "hovertemplate": "month_of_season=summer<br>year=2017<br>month=7<br>day of week=%{x}<br>Quantity Sold (kg)=%{y}<extra></extra>",
         "legendgroup": "summer",
         "marker": {
          "color": "#00cc96",
          "pattern": {
           "shape": ""
          }
         },
         "name": "summer",
         "offsetgroup": "summer",
         "orientation": "v",
         "showlegend": false,
         "textposition": "auto",
         "type": "bar",
         "x": [
          0,
          1,
          2,
          3,
          4,
          5,
          6
         ],
         "xaxis": "x67",
         "y": [
          611,
          542,
          462,
          572,
          620,
          754,
          539
         ],
         "yaxis": "y67"
        },
        {
         "alignmentgroup": "True",
         "hovertemplate": "month_of_season=summer<br>year=2017<br>month=8<br>day of week=%{x}<br>Quantity Sold (kg)=%{y}<extra></extra>",
         "legendgroup": "summer",
         "marker": {
          "color": "#00cc96",
          "pattern": {
           "shape": ""
          }
         },
         "name": "summer",
         "offsetgroup": "summer",
         "orientation": "v",
         "showlegend": false,
         "textposition": "auto",
         "type": "bar",
         "x": [
          0,
          1,
          2,
          3,
          4,
          5,
          6
         ],
         "xaxis": "x68",
         "y": [
          363,
          621,
          485,
          466,
          476,
          350,
          439
         ],
         "yaxis": "y68"
        },
        {
         "alignmentgroup": "True",
         "hovertemplate": "month_of_season=summer<br>year=2017<br>month=9<br>day of week=%{x}<br>Quantity Sold (kg)=%{y}<extra></extra>",
         "legendgroup": "summer",
         "marker": {
          "color": "#00cc96",
          "pattern": {
           "shape": ""
          }
         },
         "name": "summer",
         "offsetgroup": "summer",
         "orientation": "v",
         "showlegend": false,
         "textposition": "auto",
         "type": "bar",
         "x": [
          0,
          1,
          2,
          3,
          4,
          5,
          6
         ],
         "xaxis": "x69",
         "y": [
          374,
          492,
          409,
          460,
          610,
          480,
          518
         ],
         "yaxis": "y69"
        },
        {
         "alignmentgroup": "True",
         "hovertemplate": "month_of_season=summer<br>year=2018<br>month=7<br>day of week=%{x}<br>Quantity Sold (kg)=%{y}<extra></extra>",
         "legendgroup": "summer",
         "marker": {
          "color": "#00cc96",
          "pattern": {
           "shape": ""
          }
         },
         "name": "summer",
         "offsetgroup": "summer",
         "orientation": "v",
         "showlegend": false,
         "textposition": "auto",
         "type": "bar",
         "x": [
          0,
          1,
          2,
          3,
          4,
          5,
          6
         ],
         "xaxis": "x55",
         "y": [
          694,
          387,
          586,
          568,
          590,
          502,
          810
         ],
         "yaxis": "y55"
        },
        {
         "alignmentgroup": "True",
         "hovertemplate": "month_of_season=summer<br>year=2018<br>month=8<br>day of week=%{x}<br>Quantity Sold (kg)=%{y}<extra></extra>",
         "legendgroup": "summer",
         "marker": {
          "color": "#00cc96",
          "pattern": {
           "shape": ""
          }
         },
         "name": "summer",
         "offsetgroup": "summer",
         "orientation": "v",
         "showlegend": false,
         "textposition": "auto",
         "type": "bar",
         "x": [
          0,
          1,
          2,
          3,
          4,
          5,
          6
         ],
         "xaxis": "x56",
         "y": [
          591,
          495,
          582,
          391,
          631,
          396,
          448
         ],
         "yaxis": "y56"
        },
        {
         "alignmentgroup": "True",
         "hovertemplate": "month_of_season=summer<br>year=2018<br>month=9<br>day of week=%{x}<br>Quantity Sold (kg)=%{y}<extra></extra>",
         "legendgroup": "summer",
         "marker": {
          "color": "#00cc96",
          "pattern": {
           "shape": ""
          }
         },
         "name": "summer",
         "offsetgroup": "summer",
         "orientation": "v",
         "showlegend": false,
         "textposition": "auto",
         "type": "bar",
         "x": [
          0,
          1,
          2,
          3,
          4,
          5,
          6
         ],
         "xaxis": "x57",
         "y": [
          389,
          442,
          560,
          569,
          507,
          519,
          629
         ],
         "yaxis": "y57"
        },
        {
         "alignmentgroup": "True",
         "hovertemplate": "month_of_season=summer<br>year=2019<br>month=7<br>day of week=%{x}<br>Quantity Sold (kg)=%{y}<extra></extra>",
         "legendgroup": "summer",
         "marker": {
          "color": "#00cc96",
          "pattern": {
           "shape": ""
          }
         },
         "name": "summer",
         "offsetgroup": "summer",
         "orientation": "v",
         "showlegend": false,
         "textposition": "auto",
         "type": "bar",
         "x": [
          0,
          1,
          2,
          3,
          4,
          5,
          6
         ],
         "xaxis": "x43",
         "y": [
          587,
          610,
          534,
          389,
          522,
          467,
          519
         ],
         "yaxis": "y43"
        },
        {
         "alignmentgroup": "True",
         "hovertemplate": "month_of_season=summer<br>year=2019<br>month=8<br>day of week=%{x}<br>Quantity Sold (kg)=%{y}<extra></extra>",
         "legendgroup": "summer",
         "marker": {
          "color": "#00cc96",
          "pattern": {
           "shape": ""
          }
         },
         "name": "summer",
         "offsetgroup": "summer",
         "orientation": "v",
         "showlegend": false,
         "textposition": "auto",
         "type": "bar",
         "x": [
          0,
          1,
          2,
          3,
          4,
          5,
          6
         ],
         "xaxis": "x44",
         "y": [
          574,
          443,
          491,
          727,
          646,
          621,
          594
         ],
         "yaxis": "y44"
        },
        {
         "alignmentgroup": "True",
         "hovertemplate": "month_of_season=summer<br>year=2019<br>month=9<br>day of week=%{x}<br>Quantity Sold (kg)=%{y}<extra></extra>",
         "legendgroup": "summer",
         "marker": {
          "color": "#00cc96",
          "pattern": {
           "shape": ""
          }
         },
         "name": "summer",
         "offsetgroup": "summer",
         "orientation": "v",
         "showlegend": false,
         "textposition": "auto",
         "type": "bar",
         "x": [
          0,
          1,
          2,
          3,
          4,
          5,
          6
         ],
         "xaxis": "x45",
         "y": [
          548,
          538,
          377,
          567,
          635,
          432,
          534
         ],
         "yaxis": "y45"
        },
        {
         "alignmentgroup": "True",
         "hovertemplate": "month_of_season=summer<br>year=2020<br>month=7<br>day of week=%{x}<br>Quantity Sold (kg)=%{y}<extra></extra>",
         "legendgroup": "summer",
         "marker": {
          "color": "#00cc96",
          "pattern": {
           "shape": ""
          }
         },
         "name": "summer",
         "offsetgroup": "summer",
         "orientation": "v",
         "showlegend": false,
         "textposition": "auto",
         "type": "bar",
         "x": [
          0,
          1,
          2,
          3,
          4,
          5,
          6
         ],
         "xaxis": "x31",
         "y": [
          459,
          558,
          631,
          602,
          546,
          403,
          396
         ],
         "yaxis": "y31"
        },
        {
         "alignmentgroup": "True",
         "hovertemplate": "month_of_season=summer<br>year=2020<br>month=8<br>day of week=%{x}<br>Quantity Sold (kg)=%{y}<extra></extra>",
         "legendgroup": "summer",
         "marker": {
          "color": "#00cc96",
          "pattern": {
           "shape": ""
          }
         },
         "name": "summer",
         "offsetgroup": "summer",
         "orientation": "v",
         "showlegend": false,
         "textposition": "auto",
         "type": "bar",
         "x": [
          0,
          1,
          2,
          3,
          4,
          5,
          6
         ],
         "xaxis": "x32",
         "y": [
          556,
          458,
          571,
          371,
          602,
          612,
          390
         ],
         "yaxis": "y32"
        },
        {
         "alignmentgroup": "True",
         "hovertemplate": "month_of_season=summer<br>year=2020<br>month=9<br>day of week=%{x}<br>Quantity Sold (kg)=%{y}<extra></extra>",
         "legendgroup": "summer",
         "marker": {
          "color": "#00cc96",
          "pattern": {
           "shape": ""
          }
         },
         "name": "summer",
         "offsetgroup": "summer",
         "orientation": "v",
         "showlegend": false,
         "textposition": "auto",
         "type": "bar",
         "x": [
          0,
          1,
          2,
          3,
          4,
          5,
          6
         ],
         "xaxis": "x33",
         "y": [
          550,
          544,
          580,
          461,
          704,
          585,
          474
         ],
         "yaxis": "y33"
        },
        {
         "alignmentgroup": "True",
         "hovertemplate": "month_of_season=summer<br>year=2021<br>month=7<br>day of week=%{x}<br>Quantity Sold (kg)=%{y}<extra></extra>",
         "legendgroup": "summer",
         "marker": {
          "color": "#00cc96",
          "pattern": {
           "shape": ""
          }
         },
         "name": "summer",
         "offsetgroup": "summer",
         "orientation": "v",
         "showlegend": false,
         "textposition": "auto",
         "type": "bar",
         "x": [
          0,
          1,
          2,
          3,
          4,
          5,
          6
         ],
         "xaxis": "x19",
         "y": [
          723,
          401,
          718,
          649,
          799,
          641,
          416
         ],
         "yaxis": "y19"
        },
        {
         "alignmentgroup": "True",
         "hovertemplate": "month_of_season=summer<br>year=2021<br>month=8<br>day of week=%{x}<br>Quantity Sold (kg)=%{y}<extra></extra>",
         "legendgroup": "summer",
         "marker": {
          "color": "#00cc96",
          "pattern": {
           "shape": ""
          }
         },
         "name": "summer",
         "offsetgroup": "summer",
         "orientation": "v",
         "showlegend": false,
         "textposition": "auto",
         "type": "bar",
         "x": [
          0,
          1,
          2,
          3,
          4,
          5,
          6
         ],
         "xaxis": "x20",
         "y": [
          790,
          753,
          387,
          382,
          501,
          465,
          688
         ],
         "yaxis": "y20"
        },
        {
         "alignmentgroup": "True",
         "hovertemplate": "month_of_season=summer<br>year=2021<br>month=9<br>day of week=%{x}<br>Quantity Sold (kg)=%{y}<extra></extra>",
         "legendgroup": "summer",
         "marker": {
          "color": "#00cc96",
          "pattern": {
           "shape": ""
          }
         },
         "name": "summer",
         "offsetgroup": "summer",
         "orientation": "v",
         "showlegend": false,
         "textposition": "auto",
         "type": "bar",
         "x": [
          0,
          1,
          2,
          3,
          4,
          5,
          6
         ],
         "xaxis": "x21",
         "y": [
          396,
          400,
          621,
          779,
          425,
          464,
          468
         ],
         "yaxis": "y21"
        },
        {
         "alignmentgroup": "True",
         "hovertemplate": "month_of_season=summer<br>year=2022<br>month=7<br>day of week=%{x}<br>Quantity Sold (kg)=%{y}<extra></extra>",
         "legendgroup": "summer",
         "marker": {
          "color": "#00cc96",
          "pattern": {
           "shape": ""
          }
         },
         "name": "summer",
         "offsetgroup": "summer",
         "orientation": "v",
         "showlegend": false,
         "textposition": "auto",
         "type": "bar",
         "x": [
          0,
          1,
          2,
          3,
          4,
          5,
          6
         ],
         "xaxis": "x7",
         "y": [
          348,
          420,
          502,
          515,
          415,
          565,
          569
         ],
         "yaxis": "y7"
        },
        {
         "alignmentgroup": "True",
         "hovertemplate": "month_of_season=summer<br>year=2022<br>month=8<br>day of week=%{x}<br>Quantity Sold (kg)=%{y}<extra></extra>",
         "legendgroup": "summer",
         "marker": {
          "color": "#00cc96",
          "pattern": {
           "shape": ""
          }
         },
         "name": "summer",
         "offsetgroup": "summer",
         "orientation": "v",
         "showlegend": false,
         "textposition": "auto",
         "type": "bar",
         "x": [
          0,
          1,
          2,
          3,
          4,
          5,
          6
         ],
         "xaxis": "x8",
         "y": [
          737,
          605,
          690,
          458,
          596,
          443,
          548
         ],
         "yaxis": "y8"
        },
        {
         "alignmentgroup": "True",
         "hovertemplate": "month_of_season=summer<br>year=2022<br>month=9<br>day of week=%{x}<br>Quantity Sold (kg)=%{y}<extra></extra>",
         "legendgroup": "summer",
         "marker": {
          "color": "#00cc96",
          "pattern": {
           "shape": ""
          }
         },
         "name": "summer",
         "offsetgroup": "summer",
         "orientation": "v",
         "showlegend": false,
         "textposition": "auto",
         "type": "bar",
         "x": [
          0,
          1,
          2,
          3,
          4,
          5,
          6
         ],
         "xaxis": "x9",
         "y": [
          355,
          496,
          558,
          761,
          592,
          498,
          627
         ],
         "yaxis": "y9"
        },
        {
         "alignmentgroup": "True",
         "hovertemplate": "month_of_season=winter<br>year=2009<br>month=1<br>day of week=%{x}<br>Quantity Sold (kg)=%{y}<extra></extra>",
         "legendgroup": "winter",
         "marker": {
          "color": "#ab63fa",
          "pattern": {
           "shape": ""
          }
         },
         "name": "winter",
         "offsetgroup": "winter",
         "orientation": "v",
         "showlegend": true,
         "textposition": "auto",
         "type": "bar",
         "x": [
          0,
          1,
          2,
          3,
          4,
          5,
          6
         ],
         "xaxis": "x166",
         "y": [
          880,
          966,
          553,
          1130,
          1066,
          1155,
          776
         ],
         "yaxis": "y166"
        },
        {
         "alignmentgroup": "True",
         "hovertemplate": "month_of_season=winter<br>year=2009<br>month=2<br>day of week=%{x}<br>Quantity Sold (kg)=%{y}<extra></extra>",
         "legendgroup": "winter",
         "marker": {
          "color": "#ab63fa",
          "pattern": {
           "shape": ""
          }
         },
         "name": "winter",
         "offsetgroup": "winter",
         "orientation": "v",
         "showlegend": false,
         "textposition": "auto",
         "type": "bar",
         "x": [
          0,
          1,
          2,
          3,
          4,
          5,
          6
         ],
         "xaxis": "x167",
         "y": [
          906,
          700,
          716,
          788,
          739,
          711,
          755
         ],
         "yaxis": "y167"
        },
        {
         "alignmentgroup": "True",
         "hovertemplate": "month_of_season=winter<br>year=2009<br>month=3<br>day of week=%{x}<br>Quantity Sold (kg)=%{y}<extra></extra>",
         "legendgroup": "winter",
         "marker": {
          "color": "#ab63fa",
          "pattern": {
           "shape": ""
          }
         },
         "name": "winter",
         "offsetgroup": "winter",
         "orientation": "v",
         "showlegend": false,
         "textposition": "auto",
         "type": "bar",
         "x": [
          0,
          1,
          2,
          3,
          4,
          5,
          6
         ],
         "xaxis": "x168",
         "y": [
          1349,
          1024,
          703,
          556,
          1015,
          783,
          1081
         ],
         "yaxis": "y168"
        },
        {
         "alignmentgroup": "True",
         "hovertemplate": "month_of_season=winter<br>year=2010<br>month=1<br>day of week=%{x}<br>Quantity Sold (kg)=%{y}<extra></extra>",
         "legendgroup": "winter",
         "marker": {
          "color": "#ab63fa",
          "pattern": {
           "shape": ""
          }
         },
         "name": "winter",
         "offsetgroup": "winter",
         "orientation": "v",
         "showlegend": false,
         "textposition": "auto",
         "type": "bar",
         "x": [
          0,
          1,
          2,
          3,
          4,
          5,
          6
         ],
         "xaxis": "x154",
         "y": [
          769,
          727,
          602,
          874,
          1080,
          1002,
          1117
         ],
         "yaxis": "y154"
        },
        {
         "alignmentgroup": "True",
         "hovertemplate": "month_of_season=winter<br>year=2010<br>month=2<br>day of week=%{x}<br>Quantity Sold (kg)=%{y}<extra></extra>",
         "legendgroup": "winter",
         "marker": {
          "color": "#ab63fa",
          "pattern": {
           "shape": ""
          }
         },
         "name": "winter",
         "offsetgroup": "winter",
         "orientation": "v",
         "showlegend": false,
         "textposition": "auto",
         "type": "bar",
         "x": [
          0,
          1,
          2,
          3,
          4,
          5,
          6
         ],
         "xaxis": "x155",
         "y": [
          885,
          541,
          766,
          940,
          951,
          522,
          902
         ],
         "yaxis": "y155"
        },
        {
         "alignmentgroup": "True",
         "hovertemplate": "month_of_season=winter<br>year=2010<br>month=3<br>day of week=%{x}<br>Quantity Sold (kg)=%{y}<extra></extra>",
         "legendgroup": "winter",
         "marker": {
          "color": "#ab63fa",
          "pattern": {
           "shape": ""
          }
         },
         "name": "winter",
         "offsetgroup": "winter",
         "orientation": "v",
         "showlegend": false,
         "textposition": "auto",
         "type": "bar",
         "x": [
          0,
          1,
          2,
          3,
          4,
          5,
          6
         ],
         "xaxis": "x156",
         "y": [
          868,
          1054,
          897,
          742,
          887,
          672,
          759
         ],
         "yaxis": "y156"
        },
        {
         "alignmentgroup": "True",
         "hovertemplate": "month_of_season=winter<br>year=2011<br>month=1<br>day of week=%{x}<br>Quantity Sold (kg)=%{y}<extra></extra>",
         "legendgroup": "winter",
         "marker": {
          "color": "#ab63fa",
          "pattern": {
           "shape": ""
          }
         },
         "name": "winter",
         "offsetgroup": "winter",
         "orientation": "v",
         "showlegend": false,
         "textposition": "auto",
         "type": "bar",
         "x": [
          0,
          1,
          2,
          3,
          4,
          5,
          6
         ],
         "xaxis": "x142",
         "y": [
          1147,
          769,
          772,
          708,
          786,
          1056,
          1163
         ],
         "yaxis": "y142"
        },
        {
         "alignmentgroup": "True",
         "hovertemplate": "month_of_season=winter<br>year=2011<br>month=2<br>day of week=%{x}<br>Quantity Sold (kg)=%{y}<extra></extra>",
         "legendgroup": "winter",
         "marker": {
          "color": "#ab63fa",
          "pattern": {
           "shape": ""
          }
         },
         "name": "winter",
         "offsetgroup": "winter",
         "orientation": "v",
         "showlegend": false,
         "textposition": "auto",
         "type": "bar",
         "x": [
          0,
          1,
          2,
          3,
          4,
          5,
          6
         ],
         "xaxis": "x143",
         "y": [
          737,
          697,
          966,
          749,
          579,
          684,
          938
         ],
         "yaxis": "y143"
        },
        {
         "alignmentgroup": "True",
         "hovertemplate": "month_of_season=winter<br>year=2011<br>month=3<br>day of week=%{x}<br>Quantity Sold (kg)=%{y}<extra></extra>",
         "legendgroup": "winter",
         "marker": {
          "color": "#ab63fa",
          "pattern": {
           "shape": ""
          }
         },
         "name": "winter",
         "offsetgroup": "winter",
         "orientation": "v",
         "showlegend": false,
         "textposition": "auto",
         "type": "bar",
         "x": [
          0,
          1,
          2,
          3,
          4,
          5,
          6
         ],
         "xaxis": "x144",
         "y": [
          737,
          1045,
          777,
          1139,
          999,
          809,
          862
         ],
         "yaxis": "y144"
        },
        {
         "alignmentgroup": "True",
         "hovertemplate": "month_of_season=winter<br>year=2012<br>month=1<br>day of week=%{x}<br>Quantity Sold (kg)=%{y}<extra></extra>",
         "legendgroup": "winter",
         "marker": {
          "color": "#ab63fa",
          "pattern": {
           "shape": ""
          }
         },
         "name": "winter",
         "offsetgroup": "winter",
         "orientation": "v",
         "showlegend": false,
         "textposition": "auto",
         "type": "bar",
         "x": [
          0,
          1,
          2,
          3,
          4,
          5,
          6
         ],
         "xaxis": "x130",
         "y": [
          931,
          746,
          828,
          561,
          865,
          701,
          953
         ],
         "yaxis": "y130"
        },
        {
         "alignmentgroup": "True",
         "hovertemplate": "month_of_season=winter<br>year=2012<br>month=2<br>day of week=%{x}<br>Quantity Sold (kg)=%{y}<extra></extra>",
         "legendgroup": "winter",
         "marker": {
          "color": "#ab63fa",
          "pattern": {
           "shape": ""
          }
         },
         "name": "winter",
         "offsetgroup": "winter",
         "orientation": "v",
         "showlegend": false,
         "textposition": "auto",
         "type": "bar",
         "x": [
          0,
          1,
          2,
          3,
          4,
          5,
          6
         ],
         "xaxis": "x131",
         "y": [
          1013,
          892,
          966,
          976,
          735,
          881,
          759
         ],
         "yaxis": "y131"
        },
        {
         "alignmentgroup": "True",
         "hovertemplate": "month_of_season=winter<br>year=2012<br>month=3<br>day of week=%{x}<br>Quantity Sold (kg)=%{y}<extra></extra>",
         "legendgroup": "winter",
         "marker": {
          "color": "#ab63fa",
          "pattern": {
           "shape": ""
          }
         },
         "name": "winter",
         "offsetgroup": "winter",
         "orientation": "v",
         "showlegend": false,
         "textposition": "auto",
         "type": "bar",
         "x": [
          0,
          1,
          2,
          3,
          4,
          5,
          6
         ],
         "xaxis": "x132",
         "y": [
          505,
          861,
          746,
          1079,
          1103,
          980,
          938
         ],
         "yaxis": "y132"
        },
        {
         "alignmentgroup": "True",
         "hovertemplate": "month_of_season=winter<br>year=2013<br>month=1<br>day of week=%{x}<br>Quantity Sold (kg)=%{y}<extra></extra>",
         "legendgroup": "winter",
         "marker": {
          "color": "#ab63fa",
          "pattern": {
           "shape": ""
          }
         },
         "name": "winter",
         "offsetgroup": "winter",
         "orientation": "v",
         "showlegend": false,
         "textposition": "auto",
         "type": "bar",
         "x": [
          0,
          1,
          2,
          3,
          4,
          5,
          6
         ],
         "xaxis": "x118",
         "y": [
          921,
          958,
          1096,
          909,
          698,
          765,
          655
         ],
         "yaxis": "y118"
        },
        {
         "alignmentgroup": "True",
         "hovertemplate": "month_of_season=winter<br>year=2013<br>month=2<br>day of week=%{x}<br>Quantity Sold (kg)=%{y}<extra></extra>",
         "legendgroup": "winter",
         "marker": {
          "color": "#ab63fa",
          "pattern": {
           "shape": ""
          }
         },
         "name": "winter",
         "offsetgroup": "winter",
         "orientation": "v",
         "showlegend": false,
         "textposition": "auto",
         "type": "bar",
         "x": [
          0,
          1,
          2,
          3,
          4,
          5,
          6
         ],
         "xaxis": "x119",
         "y": [
          729,
          666,
          794,
          843,
          829,
          830,
          883
         ],
         "yaxis": "y119"
        },
        {
         "alignmentgroup": "True",
         "hovertemplate": "month_of_season=winter<br>year=2013<br>month=3<br>day of week=%{x}<br>Quantity Sold (kg)=%{y}<extra></extra>",
         "legendgroup": "winter",
         "marker": {
          "color": "#ab63fa",
          "pattern": {
           "shape": ""
          }
         },
         "name": "winter",
         "offsetgroup": "winter",
         "orientation": "v",
         "showlegend": false,
         "textposition": "auto",
         "type": "bar",
         "x": [
          0,
          1,
          2,
          3,
          4,
          5,
          6
         ],
         "xaxis": "x120",
         "y": [
          789,
          833,
          896,
          817,
          878,
          1221,
          1007
         ],
         "yaxis": "y120"
        },
        {
         "alignmentgroup": "True",
         "hovertemplate": "month_of_season=winter<br>year=2014<br>month=1<br>day of week=%{x}<br>Quantity Sold (kg)=%{y}<extra></extra>",
         "legendgroup": "winter",
         "marker": {
          "color": "#ab63fa",
          "pattern": {
           "shape": ""
          }
         },
         "name": "winter",
         "offsetgroup": "winter",
         "orientation": "v",
         "showlegend": false,
         "textposition": "auto",
         "type": "bar",
         "x": [
          0,
          1,
          2,
          3,
          4,
          5,
          6
         ],
         "xaxis": "x106",
         "y": [
          781,
          1036,
          1144,
          862,
          715,
          813,
          930
         ],
         "yaxis": "y106"
        },
        {
         "alignmentgroup": "True",
         "hovertemplate": "month_of_season=winter<br>year=2014<br>month=2<br>day of week=%{x}<br>Quantity Sold (kg)=%{y}<extra></extra>",
         "legendgroup": "winter",
         "marker": {
          "color": "#ab63fa",
          "pattern": {
           "shape": ""
          }
         },
         "name": "winter",
         "offsetgroup": "winter",
         "orientation": "v",
         "showlegend": false,
         "textposition": "auto",
         "type": "bar",
         "x": [
          0,
          1,
          2,
          3,
          4,
          5,
          6
         ],
         "xaxis": "x107",
         "y": [
          966,
          851,
          743,
          819,
          845,
          790,
          719
         ],
         "yaxis": "y107"
        },
        {
         "alignmentgroup": "True",
         "hovertemplate": "month_of_season=winter<br>year=2014<br>month=3<br>day of week=%{x}<br>Quantity Sold (kg)=%{y}<extra></extra>",
         "legendgroup": "winter",
         "marker": {
          "color": "#ab63fa",
          "pattern": {
           "shape": ""
          }
         },
         "name": "winter",
         "offsetgroup": "winter",
         "orientation": "v",
         "showlegend": false,
         "textposition": "auto",
         "type": "bar",
         "x": [
          0,
          1,
          2,
          3,
          4,
          5,
          6
         ],
         "xaxis": "x108",
         "y": [
          1114,
          754,
          771,
          1086,
          798,
          1155,
          809
         ],
         "yaxis": "y108"
        },
        {
         "alignmentgroup": "True",
         "hovertemplate": "month_of_season=winter<br>year=2015<br>month=1<br>day of week=%{x}<br>Quantity Sold (kg)=%{y}<extra></extra>",
         "legendgroup": "winter",
         "marker": {
          "color": "#ab63fa",
          "pattern": {
           "shape": ""
          }
         },
         "name": "winter",
         "offsetgroup": "winter",
         "orientation": "v",
         "showlegend": false,
         "textposition": "auto",
         "type": "bar",
         "x": [
          0,
          1,
          2,
          3,
          4,
          5,
          6
         ],
         "xaxis": "x94",
         "y": [
          832,
          778,
          951,
          985,
          907,
          1151,
          864
         ],
         "yaxis": "y94"
        },
        {
         "alignmentgroup": "True",
         "hovertemplate": "month_of_season=winter<br>year=2015<br>month=2<br>day of week=%{x}<br>Quantity Sold (kg)=%{y}<extra></extra>",
         "legendgroup": "winter",
         "marker": {
          "color": "#ab63fa",
          "pattern": {
           "shape": ""
          }
         },
         "name": "winter",
         "offsetgroup": "winter",
         "orientation": "v",
         "showlegend": false,
         "textposition": "auto",
         "type": "bar",
         "x": [
          0,
          1,
          2,
          3,
          4,
          5,
          6
         ],
         "xaxis": "x95",
         "y": [
          693,
          829,
          736,
          608,
          639,
          973,
          661
         ],
         "yaxis": "y95"
        },
        {
         "alignmentgroup": "True",
         "hovertemplate": "month_of_season=winter<br>year=2015<br>month=3<br>day of week=%{x}<br>Quantity Sold (kg)=%{y}<extra></extra>",
         "legendgroup": "winter",
         "marker": {
          "color": "#ab63fa",
          "pattern": {
           "shape": ""
          }
         },
         "name": "winter",
         "offsetgroup": "winter",
         "orientation": "v",
         "showlegend": false,
         "textposition": "auto",
         "type": "bar",
         "x": [
          0,
          1,
          2,
          3,
          4,
          5,
          6
         ],
         "xaxis": "x96",
         "y": [
          1231,
          874,
          710,
          856,
          647,
          1024,
          1083
         ],
         "yaxis": "y96"
        },
        {
         "alignmentgroup": "True",
         "hovertemplate": "month_of_season=winter<br>year=2016<br>month=1<br>day of week=%{x}<br>Quantity Sold (kg)=%{y}<extra></extra>",
         "legendgroup": "winter",
         "marker": {
          "color": "#ab63fa",
          "pattern": {
           "shape": ""
          }
         },
         "name": "winter",
         "offsetgroup": "winter",
         "orientation": "v",
         "showlegend": false,
         "textposition": "auto",
         "type": "bar",
         "x": [
          0,
          1,
          2,
          3,
          4,
          5,
          6
         ],
         "xaxis": "x82",
         "y": [
          817,
          958,
          685,
          733,
          1001,
          868,
          1114
         ],
         "yaxis": "y82"
        },
        {
         "alignmentgroup": "True",
         "hovertemplate": "month_of_season=winter<br>year=2016<br>month=2<br>day of week=%{x}<br>Quantity Sold (kg)=%{y}<extra></extra>",
         "legendgroup": "winter",
         "marker": {
          "color": "#ab63fa",
          "pattern": {
           "shape": ""
          }
         },
         "name": "winter",
         "offsetgroup": "winter",
         "orientation": "v",
         "showlegend": false,
         "textposition": "auto",
         "type": "bar",
         "x": [
          0,
          1,
          2,
          3,
          4,
          5,
          6
         ],
         "xaxis": "x83",
         "y": [
          892,
          817,
          927,
          732,
          787,
          746,
          730
         ],
         "yaxis": "y83"
        },
        {
         "alignmentgroup": "True",
         "hovertemplate": "month_of_season=winter<br>year=2016<br>month=3<br>day of week=%{x}<br>Quantity Sold (kg)=%{y}<extra></extra>",
         "legendgroup": "winter",
         "marker": {
          "color": "#ab63fa",
          "pattern": {
           "shape": ""
          }
         },
         "name": "winter",
         "offsetgroup": "winter",
         "orientation": "v",
         "showlegend": false,
         "textposition": "auto",
         "type": "bar",
         "x": [
          0,
          1,
          2,
          3,
          4,
          5,
          6
         ],
         "xaxis": "x84",
         "y": [
          793,
          859,
          1036,
          794,
          846,
          891,
          746
         ],
         "yaxis": "y84"
        },
        {
         "alignmentgroup": "True",
         "hovertemplate": "month_of_season=winter<br>year=2017<br>month=1<br>day of week=%{x}<br>Quantity Sold (kg)=%{y}<extra></extra>",
         "legendgroup": "winter",
         "marker": {
          "color": "#ab63fa",
          "pattern": {
           "shape": ""
          }
         },
         "name": "winter",
         "offsetgroup": "winter",
         "orientation": "v",
         "showlegend": false,
         "textposition": "auto",
         "type": "bar",
         "x": [
          0,
          1,
          2,
          3,
          4,
          5,
          6
         ],
         "xaxis": "x70",
         "y": [
          907,
          935,
          807,
          864,
          765,
          841,
          1053
         ],
         "yaxis": "y70"
        },
        {
         "alignmentgroup": "True",
         "hovertemplate": "month_of_season=winter<br>year=2017<br>month=2<br>day of week=%{x}<br>Quantity Sold (kg)=%{y}<extra></extra>",
         "legendgroup": "winter",
         "marker": {
          "color": "#ab63fa",
          "pattern": {
           "shape": ""
          }
         },
         "name": "winter",
         "offsetgroup": "winter",
         "orientation": "v",
         "showlegend": false,
         "textposition": "auto",
         "type": "bar",
         "x": [
          0,
          1,
          2,
          3,
          4,
          5,
          6
         ],
         "xaxis": "x71",
         "y": [
          859,
          1007,
          953,
          1057,
          637,
          807,
          711
         ],
         "yaxis": "y71"
        },
        {
         "alignmentgroup": "True",
         "hovertemplate": "month_of_season=winter<br>year=2017<br>month=3<br>day of week=%{x}<br>Quantity Sold (kg)=%{y}<extra></extra>",
         "legendgroup": "winter",
         "marker": {
          "color": "#ab63fa",
          "pattern": {
           "shape": ""
          }
         },
         "name": "winter",
         "offsetgroup": "winter",
         "orientation": "v",
         "showlegend": false,
         "textposition": "auto",
         "type": "bar",
         "x": [
          0,
          1,
          2,
          3,
          4,
          5,
          6
         ],
         "xaxis": "x72",
         "y": [
          730,
          657,
          1208,
          1266,
          1219,
          746,
          795
         ],
         "yaxis": "y72"
        },
        {
         "alignmentgroup": "True",
         "hovertemplate": "month_of_season=winter<br>year=2018<br>month=1<br>day of week=%{x}<br>Quantity Sold (kg)=%{y}<extra></extra>",
         "legendgroup": "winter",
         "marker": {
          "color": "#ab63fa",
          "pattern": {
           "shape": ""
          }
         },
         "name": "winter",
         "offsetgroup": "winter",
         "orientation": "v",
         "showlegend": false,
         "textposition": "auto",
         "type": "bar",
         "x": [
          0,
          1,
          2,
          3,
          4,
          5,
          6
         ],
         "xaxis": "x58",
         "y": [
          1066,
          1103,
          1056,
          1026,
          741,
          909,
          836
         ],
         "yaxis": "y58"
        },
        {
         "alignmentgroup": "True",
         "hovertemplate": "month_of_season=winter<br>year=2018<br>month=2<br>day of week=%{x}<br>Quantity Sold (kg)=%{y}<extra></extra>",
         "legendgroup": "winter",
         "marker": {
          "color": "#ab63fa",
          "pattern": {
           "shape": ""
          }
         },
         "name": "winter",
         "offsetgroup": "winter",
         "orientation": "v",
         "showlegend": false,
         "textposition": "auto",
         "type": "bar",
         "x": [
          0,
          1,
          2,
          3,
          4,
          5,
          6
         ],
         "xaxis": "x59",
         "y": [
          636,
          809,
          693,
          747,
          737,
          798,
          1025
         ],
         "yaxis": "y59"
        },
        {
         "alignmentgroup": "True",
         "hovertemplate": "month_of_season=winter<br>year=2018<br>month=3<br>day of week=%{x}<br>Quantity Sold (kg)=%{y}<extra></extra>",
         "legendgroup": "winter",
         "marker": {
          "color": "#ab63fa",
          "pattern": {
           "shape": ""
          }
         },
         "name": "winter",
         "offsetgroup": "winter",
         "orientation": "v",
         "showlegend": false,
         "textposition": "auto",
         "type": "bar",
         "x": [
          0,
          1,
          2,
          3,
          4,
          5,
          6
         ],
         "xaxis": "x60",
         "y": [
          723,
          708,
          540,
          1016,
          951,
          998,
          760
         ],
         "yaxis": "y60"
        },
        {
         "alignmentgroup": "True",
         "hovertemplate": "month_of_season=winter<br>year=2019<br>month=1<br>day of week=%{x}<br>Quantity Sold (kg)=%{y}<extra></extra>",
         "legendgroup": "winter",
         "marker": {
          "color": "#ab63fa",
          "pattern": {
           "shape": ""
          }
         },
         "name": "winter",
         "offsetgroup": "winter",
         "orientation": "v",
         "showlegend": false,
         "textposition": "auto",
         "type": "bar",
         "x": [
          0,
          1,
          2,
          3,
          4,
          5,
          6
         ],
         "xaxis": "x46",
         "y": [
          917,
          1064,
          1076,
          976,
          1043,
          584,
          1003
         ],
         "yaxis": "y46"
        },
        {
         "alignmentgroup": "True",
         "hovertemplate": "month_of_season=winter<br>year=2019<br>month=2<br>day of week=%{x}<br>Quantity Sold (kg)=%{y}<extra></extra>",
         "legendgroup": "winter",
         "marker": {
          "color": "#ab63fa",
          "pattern": {
           "shape": ""
          }
         },
         "name": "winter",
         "offsetgroup": "winter",
         "orientation": "v",
         "showlegend": false,
         "textposition": "auto",
         "type": "bar",
         "x": [
          0,
          1,
          2,
          3,
          4,
          5,
          6
         ],
         "xaxis": "x47",
         "y": [
          1021,
          533,
          765,
          671,
          971,
          784,
          712
         ],
         "yaxis": "y47"
        },
        {
         "alignmentgroup": "True",
         "hovertemplate": "month_of_season=winter<br>year=2019<br>month=3<br>day of week=%{x}<br>Quantity Sold (kg)=%{y}<extra></extra>",
         "legendgroup": "winter",
         "marker": {
          "color": "#ab63fa",
          "pattern": {
           "shape": ""
          }
         },
         "name": "winter",
         "offsetgroup": "winter",
         "orientation": "v",
         "showlegend": false,
         "textposition": "auto",
         "type": "bar",
         "x": [
          0,
          1,
          2,
          3,
          4,
          5,
          6
         ],
         "xaxis": "x48",
         "y": [
          649,
          659,
          779,
          807,
          973,
          1145,
          922
         ],
         "yaxis": "y48"
        },
        {
         "alignmentgroup": "True",
         "hovertemplate": "month_of_season=winter<br>year=2020<br>month=1<br>day of week=%{x}<br>Quantity Sold (kg)=%{y}<extra></extra>",
         "legendgroup": "winter",
         "marker": {
          "color": "#ab63fa",
          "pattern": {
           "shape": ""
          }
         },
         "name": "winter",
         "offsetgroup": "winter",
         "orientation": "v",
         "showlegend": false,
         "textposition": "auto",
         "type": "bar",
         "x": [
          0,
          1,
          2,
          3,
          4,
          5,
          6
         ],
         "xaxis": "x34",
         "y": [
          999,
          774,
          1074,
          1045,
          979,
          799,
          864
         ],
         "yaxis": "y34"
        },
        {
         "alignmentgroup": "True",
         "hovertemplate": "month_of_season=winter<br>year=2020<br>month=2<br>day of week=%{x}<br>Quantity Sold (kg)=%{y}<extra></extra>",
         "legendgroup": "winter",
         "marker": {
          "color": "#ab63fa",
          "pattern": {
           "shape": ""
          }
         },
         "name": "winter",
         "offsetgroup": "winter",
         "orientation": "v",
         "showlegend": false,
         "textposition": "auto",
         "type": "bar",
         "x": [
          0,
          1,
          2,
          3,
          4,
          5,
          6
         ],
         "xaxis": "x35",
         "y": [
          906,
          521,
          706,
          955,
          748,
          979,
          753
         ],
         "yaxis": "y35"
        },
        {
         "alignmentgroup": "True",
         "hovertemplate": "month_of_season=winter<br>year=2020<br>month=3<br>day of week=%{x}<br>Quantity Sold (kg)=%{y}<extra></extra>",
         "legendgroup": "winter",
         "marker": {
          "color": "#ab63fa",
          "pattern": {
           "shape": ""
          }
         },
         "name": "winter",
         "offsetgroup": "winter",
         "orientation": "v",
         "showlegend": false,
         "textposition": "auto",
         "type": "bar",
         "x": [
          0,
          1,
          2,
          3,
          4,
          5,
          6
         ],
         "xaxis": "x36",
         "y": [
          866,
          1098,
          806,
          946,
          801,
          827,
          983
         ],
         "yaxis": "y36"
        },
        {
         "alignmentgroup": "True",
         "hovertemplate": "month_of_season=winter<br>year=2021<br>month=1<br>day of week=%{x}<br>Quantity Sold (kg)=%{y}<extra></extra>",
         "legendgroup": "winter",
         "marker": {
          "color": "#ab63fa",
          "pattern": {
           "shape": ""
          }
         },
         "name": "winter",
         "offsetgroup": "winter",
         "orientation": "v",
         "showlegend": false,
         "textposition": "auto",
         "type": "bar",
         "x": [
          0,
          1,
          2,
          3,
          4,
          5,
          6
         ],
         "xaxis": "x22",
         "y": [
          837,
          608,
          706,
          851,
          1153,
          956,
          1089
         ],
         "yaxis": "y22"
        },
        {
         "alignmentgroup": "True",
         "hovertemplate": "month_of_season=winter<br>year=2021<br>month=2<br>day of week=%{x}<br>Quantity Sold (kg)=%{y}<extra></extra>",
         "legendgroup": "winter",
         "marker": {
          "color": "#ab63fa",
          "pattern": {
           "shape": ""
          }
         },
         "name": "winter",
         "offsetgroup": "winter",
         "orientation": "v",
         "showlegend": false,
         "textposition": "auto",
         "type": "bar",
         "x": [
          0,
          1,
          2,
          3,
          4,
          5,
          6
         ],
         "xaxis": "x23",
         "y": [
          726,
          975,
          678,
          774,
          552,
          764,
          889
         ],
         "yaxis": "y23"
        },
        {
         "alignmentgroup": "True",
         "hovertemplate": "month_of_season=winter<br>year=2021<br>month=3<br>day of week=%{x}<br>Quantity Sold (kg)=%{y}<extra></extra>",
         "legendgroup": "winter",
         "marker": {
          "color": "#ab63fa",
          "pattern": {
           "shape": ""
          }
         },
         "name": "winter",
         "offsetgroup": "winter",
         "orientation": "v",
         "showlegend": false,
         "textposition": "auto",
         "type": "bar",
         "x": [
          0,
          1,
          2,
          3,
          4,
          5,
          6
         ],
         "xaxis": "x24",
         "y": [
          1249,
          1068,
          1004,
          821,
          739,
          936,
          646
         ],
         "yaxis": "y24"
        },
        {
         "alignmentgroup": "True",
         "hovertemplate": "month_of_season=winter<br>year=2022<br>month=1<br>day of week=%{x}<br>Quantity Sold (kg)=%{y}<extra></extra>",
         "legendgroup": "winter",
         "marker": {
          "color": "#ab63fa",
          "pattern": {
           "shape": ""
          }
         },
         "name": "winter",
         "offsetgroup": "winter",
         "orientation": "v",
         "showlegend": false,
         "textposition": "auto",
         "type": "bar",
         "x": [
          0,
          1,
          2,
          3,
          4,
          5,
          6
         ],
         "xaxis": "x10",
         "y": [
          811,
          936,
          774,
          784,
          806,
          1188,
          865
         ],
         "yaxis": "y10"
        },
        {
         "alignmentgroup": "True",
         "hovertemplate": "month_of_season=winter<br>year=2022<br>month=2<br>day of week=%{x}<br>Quantity Sold (kg)=%{y}<extra></extra>",
         "legendgroup": "winter",
         "marker": {
          "color": "#ab63fa",
          "pattern": {
           "shape": ""
          }
         },
         "name": "winter",
         "offsetgroup": "winter",
         "orientation": "v",
         "showlegend": false,
         "textposition": "auto",
         "type": "bar",
         "x": [
          0,
          1,
          2,
          3,
          4,
          5,
          6
         ],
         "xaxis": "x11",
         "y": [
          837,
          1072,
          845,
          833,
          776,
          643,
          754
         ],
         "yaxis": "y11"
        },
        {
         "alignmentgroup": "True",
         "hovertemplate": "month_of_season=winter<br>year=2022<br>month=3<br>day of week=%{x}<br>Quantity Sold (kg)=%{y}<extra></extra>",
         "legendgroup": "winter",
         "marker": {
          "color": "#ab63fa",
          "pattern": {
           "shape": ""
          }
         },
         "name": "winter",
         "offsetgroup": "winter",
         "orientation": "v",
         "showlegend": false,
         "textposition": "auto",
         "type": "bar",
         "x": [
          0,
          1,
          2,
          3,
          4,
          5,
          6
         ],
         "xaxis": "x12",
         "y": [
          807,
          1109,
          1190,
          950,
          841,
          696,
          967
         ],
         "yaxis": "y12"
        }
       ],
       "layout": {
        "annotations": [
         {
          "font": {},
          "showarrow": false,
          "text": "month=10",
          "x": 0.03166666666666666,
          "xanchor": "center",
          "xref": "paper",
          "y": 1,
          "yanchor": "bottom",
          "yref": "paper"
         },
         {
          "font": {},
          "showarrow": false,
          "text": "month=11",
          "x": 0.11499999999999999,
          "xanchor": "center",
          "xref": "paper",
          "y": 1,
          "yanchor": "bottom",
          "yref": "paper"
         },
         {
          "font": {},
          "showarrow": false,
          "text": "month=12",
          "x": 0.1983333333333333,
          "xanchor": "center",
          "xref": "paper",
          "y": 1,
          "yanchor": "bottom",
          "yref": "paper"
         },
         {
          "font": {},
          "showarrow": false,
          "text": "month=4",
          "x": 0.2816666666666666,
          "xanchor": "center",
          "xref": "paper",
          "y": 1,
          "yanchor": "bottom",
          "yref": "paper"
         },
         {
          "font": {},
          "showarrow": false,
          "text": "month=5",
          "x": 0.365,
          "xanchor": "center",
          "xref": "paper",
          "y": 1,
          "yanchor": "bottom",
          "yref": "paper"
         },
         {
          "font": {},
          "showarrow": false,
          "text": "month=6",
          "x": 0.4483333333333333,
          "xanchor": "center",
          "xref": "paper",
          "y": 1,
          "yanchor": "bottom",
          "yref": "paper"
         },
         {
          "font": {},
          "showarrow": false,
          "text": "month=7",
          "x": 0.5316666666666667,
          "xanchor": "center",
          "xref": "paper",
          "y": 1,
          "yanchor": "bottom",
          "yref": "paper"
         },
         {
          "font": {},
          "showarrow": false,
          "text": "month=8",
          "x": 0.615,
          "xanchor": "center",
          "xref": "paper",
          "y": 1,
          "yanchor": "bottom",
          "yref": "paper"
         },
         {
          "font": {},
          "showarrow": false,
          "text": "month=9",
          "x": 0.6983333333333335,
          "xanchor": "center",
          "xref": "paper",
          "y": 1,
          "yanchor": "bottom",
          "yref": "paper"
         },
         {
          "font": {},
          "showarrow": false,
          "text": "month=1",
          "x": 0.7816666666666667,
          "xanchor": "center",
          "xref": "paper",
          "y": 1,
          "yanchor": "bottom",
          "yref": "paper"
         },
         {
          "font": {},
          "showarrow": false,
          "text": "month=2",
          "x": 0.8650000000000002,
          "xanchor": "center",
          "xref": "paper",
          "y": 1,
          "yanchor": "bottom",
          "yref": "paper"
         },
         {
          "font": {},
          "showarrow": false,
          "text": "month=3",
          "x": 0.9483333333333335,
          "xanchor": "center",
          "xref": "paper",
          "y": 1,
          "yanchor": "bottom",
          "yref": "paper"
         },
         {
          "font": {},
          "showarrow": false,
          "text": "year=2022",
          "textangle": 90,
          "x": 0.9800000000000001,
          "xanchor": "left",
          "xref": "paper",
          "y": 0.021785714285714283,
          "yanchor": "middle",
          "yref": "paper"
         },
         {
          "font": {},
          "showarrow": false,
          "text": "year=2021",
          "textangle": 90,
          "x": 0.9800000000000001,
          "xanchor": "left",
          "xref": "paper",
          "y": 0.09535714285714285,
          "yanchor": "middle",
          "yref": "paper"
         },
         {
          "font": {},
          "showarrow": false,
          "text": "year=2020",
          "textangle": 90,
          "x": 0.9800000000000001,
          "xanchor": "left",
          "xref": "paper",
          "y": 0.16892857142857143,
          "yanchor": "middle",
          "yref": "paper"
         },
         {
          "font": {},
          "showarrow": false,
          "text": "year=2019",
          "textangle": 90,
          "x": 0.9800000000000001,
          "xanchor": "left",
          "xref": "paper",
          "y": 0.24249999999999997,
          "yanchor": "middle",
          "yref": "paper"
         },
         {
          "font": {},
          "showarrow": false,
          "text": "year=2018",
          "textangle": 90,
          "x": 0.9800000000000001,
          "xanchor": "left",
          "xref": "paper",
          "y": 0.31607142857142856,
          "yanchor": "middle",
          "yref": "paper"
         },
         {
          "font": {},
          "showarrow": false,
          "text": "year=2017",
          "textangle": 90,
          "x": 0.9800000000000001,
          "xanchor": "left",
          "xref": "paper",
          "y": 0.38964285714285707,
          "yanchor": "middle",
          "yref": "paper"
         },
         {
          "font": {},
          "showarrow": false,
          "text": "year=2016",
          "textangle": 90,
          "x": 0.9800000000000001,
          "xanchor": "left",
          "xref": "paper",
          "y": 0.4632142857142857,
          "yanchor": "middle",
          "yref": "paper"
         },
         {
          "font": {},
          "showarrow": false,
          "text": "year=2015",
          "textangle": 90,
          "x": 0.9800000000000001,
          "xanchor": "left",
          "xref": "paper",
          "y": 0.5367857142857142,
          "yanchor": "middle",
          "yref": "paper"
         },
         {
          "font": {},
          "showarrow": false,
          "text": "year=2014",
          "textangle": 90,
          "x": 0.9800000000000001,
          "xanchor": "left",
          "xref": "paper",
          "y": 0.6103571428571428,
          "yanchor": "middle",
          "yref": "paper"
         },
         {
          "font": {},
          "showarrow": false,
          "text": "year=2013",
          "textangle": 90,
          "x": 0.9800000000000001,
          "xanchor": "left",
          "xref": "paper",
          "y": 0.6839285714285714,
          "yanchor": "middle",
          "yref": "paper"
         },
         {
          "font": {},
          "showarrow": false,
          "text": "year=2012",
          "textangle": 90,
          "x": 0.9800000000000001,
          "xanchor": "left",
          "xref": "paper",
          "y": 0.7575000000000001,
          "yanchor": "middle",
          "yref": "paper"
         },
         {
          "font": {},
          "showarrow": false,
          "text": "year=2011",
          "textangle": 90,
          "x": 0.9800000000000001,
          "xanchor": "left",
          "xref": "paper",
          "y": 0.8310714285714286,
          "yanchor": "middle",
          "yref": "paper"
         },
         {
          "font": {},
          "showarrow": false,
          "text": "year=2010",
          "textangle": 90,
          "x": 0.9800000000000001,
          "xanchor": "left",
          "xref": "paper",
          "y": 0.9046428571428572,
          "yanchor": "middle",
          "yref": "paper"
         },
         {
          "font": {},
          "showarrow": false,
          "text": "year=2009",
          "textangle": 90,
          "x": 0.9800000000000001,
          "xanchor": "left",
          "xref": "paper",
          "y": 0.9782142857142857,
          "yanchor": "middle",
          "yref": "paper"
         }
        ],
        "barmode": "relative",
        "height": 3000,
        "legend": {
         "title": {
          "text": "month_of_season"
         },
         "tracegroupgap": 0
        },
        "template": {
         "data": {
          "bar": [
           {
            "error_x": {
             "color": "#2a3f5f"
            },
            "error_y": {
             "color": "#2a3f5f"
            },
            "marker": {
             "line": {
              "color": "#E5ECF6",
              "width": 0.5
             },
             "pattern": {
              "fillmode": "overlay",
              "size": 10,
              "solidity": 0.2
             }
            },
            "type": "bar"
           }
          ],
          "barpolar": [
           {
            "marker": {
             "line": {
              "color": "#E5ECF6",
              "width": 0.5
             },
             "pattern": {
              "fillmode": "overlay",
              "size": 10,
              "solidity": 0.2
             }
            },
            "type": "barpolar"
           }
          ],
          "carpet": [
           {
            "aaxis": {
             "endlinecolor": "#2a3f5f",
             "gridcolor": "white",
             "linecolor": "white",
             "minorgridcolor": "white",
             "startlinecolor": "#2a3f5f"
            },
            "baxis": {
             "endlinecolor": "#2a3f5f",
             "gridcolor": "white",
             "linecolor": "white",
             "minorgridcolor": "white",
             "startlinecolor": "#2a3f5f"
            },
            "type": "carpet"
           }
          ],
          "choropleth": [
           {
            "colorbar": {
             "outlinewidth": 0,
             "ticks": ""
            },
            "type": "choropleth"
           }
          ],
          "contour": [
           {
            "colorbar": {
             "outlinewidth": 0,
             "ticks": ""
            },
            "colorscale": [
             [
              0,
              "#0d0887"
             ],
             [
              0.1111111111111111,
              "#46039f"
             ],
             [
              0.2222222222222222,
              "#7201a8"
             ],
             [
              0.3333333333333333,
              "#9c179e"
             ],
             [
              0.4444444444444444,
              "#bd3786"
             ],
             [
              0.5555555555555556,
              "#d8576b"
             ],
             [
              0.6666666666666666,
              "#ed7953"
             ],
             [
              0.7777777777777778,
              "#fb9f3a"
             ],
             [
              0.8888888888888888,
              "#fdca26"
             ],
             [
              1,
              "#f0f921"
             ]
            ],
            "type": "contour"
           }
          ],
          "contourcarpet": [
           {
            "colorbar": {
             "outlinewidth": 0,
             "ticks": ""
            },
            "type": "contourcarpet"
           }
          ],
          "heatmap": [
           {
            "colorbar": {
             "outlinewidth": 0,
             "ticks": ""
            },
            "colorscale": [
             [
              0,
              "#0d0887"
             ],
             [
              0.1111111111111111,
              "#46039f"
             ],
             [
              0.2222222222222222,
              "#7201a8"
             ],
             [
              0.3333333333333333,
              "#9c179e"
             ],
             [
              0.4444444444444444,
              "#bd3786"
             ],
             [
              0.5555555555555556,
              "#d8576b"
             ],
             [
              0.6666666666666666,
              "#ed7953"
             ],
             [
              0.7777777777777778,
              "#fb9f3a"
             ],
             [
              0.8888888888888888,
              "#fdca26"
             ],
             [
              1,
              "#f0f921"
             ]
            ],
            "type": "heatmap"
           }
          ],
          "heatmapgl": [
           {
            "colorbar": {
             "outlinewidth": 0,
             "ticks": ""
            },
            "colorscale": [
             [
              0,
              "#0d0887"
             ],
             [
              0.1111111111111111,
              "#46039f"
             ],
             [
              0.2222222222222222,
              "#7201a8"
             ],
             [
              0.3333333333333333,
              "#9c179e"
             ],
             [
              0.4444444444444444,
              "#bd3786"
             ],
             [
              0.5555555555555556,
              "#d8576b"
             ],
             [
              0.6666666666666666,
              "#ed7953"
             ],
             [
              0.7777777777777778,
              "#fb9f3a"
             ],
             [
              0.8888888888888888,
              "#fdca26"
             ],
             [
              1,
              "#f0f921"
             ]
            ],
            "type": "heatmapgl"
           }
          ],
          "histogram": [
           {
            "marker": {
             "pattern": {
              "fillmode": "overlay",
              "size": 10,
              "solidity": 0.2
             }
            },
            "type": "histogram"
           }
          ],
          "histogram2d": [
           {
            "colorbar": {
             "outlinewidth": 0,
             "ticks": ""
            },
            "colorscale": [
             [
              0,
              "#0d0887"
             ],
             [
              0.1111111111111111,
              "#46039f"
             ],
             [
              0.2222222222222222,
              "#7201a8"
             ],
             [
              0.3333333333333333,
              "#9c179e"
             ],
             [
              0.4444444444444444,
              "#bd3786"
             ],
             [
              0.5555555555555556,
              "#d8576b"
             ],
             [
              0.6666666666666666,
              "#ed7953"
             ],
             [
              0.7777777777777778,
              "#fb9f3a"
             ],
             [
              0.8888888888888888,
              "#fdca26"
             ],
             [
              1,
              "#f0f921"
             ]
            ],
            "type": "histogram2d"
           }
          ],
          "histogram2dcontour": [
           {
            "colorbar": {
             "outlinewidth": 0,
             "ticks": ""
            },
            "colorscale": [
             [
              0,
              "#0d0887"
             ],
             [
              0.1111111111111111,
              "#46039f"
             ],
             [
              0.2222222222222222,
              "#7201a8"
             ],
             [
              0.3333333333333333,
              "#9c179e"
             ],
             [
              0.4444444444444444,
              "#bd3786"
             ],
             [
              0.5555555555555556,
              "#d8576b"
             ],
             [
              0.6666666666666666,
              "#ed7953"
             ],
             [
              0.7777777777777778,
              "#fb9f3a"
             ],
             [
              0.8888888888888888,
              "#fdca26"
             ],
             [
              1,
              "#f0f921"
             ]
            ],
            "type": "histogram2dcontour"
           }
          ],
          "mesh3d": [
           {
            "colorbar": {
             "outlinewidth": 0,
             "ticks": ""
            },
            "type": "mesh3d"
           }
          ],
          "parcoords": [
           {
            "line": {
             "colorbar": {
              "outlinewidth": 0,
              "ticks": ""
             }
            },
            "type": "parcoords"
           }
          ],
          "pie": [
           {
            "automargin": true,
            "type": "pie"
           }
          ],
          "scatter": [
           {
            "fillpattern": {
             "fillmode": "overlay",
             "size": 10,
             "solidity": 0.2
            },
            "type": "scatter"
           }
          ],
          "scatter3d": [
           {
            "line": {
             "colorbar": {
              "outlinewidth": 0,
              "ticks": ""
             }
            },
            "marker": {
             "colorbar": {
              "outlinewidth": 0,
              "ticks": ""
             }
            },
            "type": "scatter3d"
           }
          ],
          "scattercarpet": [
           {
            "marker": {
             "colorbar": {
              "outlinewidth": 0,
              "ticks": ""
             }
            },
            "type": "scattercarpet"
           }
          ],
          "scattergeo": [
           {
            "marker": {
             "colorbar": {
              "outlinewidth": 0,
              "ticks": ""
             }
            },
            "type": "scattergeo"
           }
          ],
          "scattergl": [
           {
            "marker": {
             "colorbar": {
              "outlinewidth": 0,
              "ticks": ""
             }
            },
            "type": "scattergl"
           }
          ],
          "scattermapbox": [
           {
            "marker": {
             "colorbar": {
              "outlinewidth": 0,
              "ticks": ""
             }
            },
            "type": "scattermapbox"
           }
          ],
          "scatterpolar": [
           {
            "marker": {
             "colorbar": {
              "outlinewidth": 0,
              "ticks": ""
             }
            },
            "type": "scatterpolar"
           }
          ],
          "scatterpolargl": [
           {
            "marker": {
             "colorbar": {
              "outlinewidth": 0,
              "ticks": ""
             }
            },
            "type": "scatterpolargl"
           }
          ],
          "scatterternary": [
           {
            "marker": {
             "colorbar": {
              "outlinewidth": 0,
              "ticks": ""
             }
            },
            "type": "scatterternary"
           }
          ],
          "surface": [
           {
            "colorbar": {
             "outlinewidth": 0,
             "ticks": ""
            },
            "colorscale": [
             [
              0,
              "#0d0887"
             ],
             [
              0.1111111111111111,
              "#46039f"
             ],
             [
              0.2222222222222222,
              "#7201a8"
             ],
             [
              0.3333333333333333,
              "#9c179e"
             ],
             [
              0.4444444444444444,
              "#bd3786"
             ],
             [
              0.5555555555555556,
              "#d8576b"
             ],
             [
              0.6666666666666666,
              "#ed7953"
             ],
             [
              0.7777777777777778,
              "#fb9f3a"
             ],
             [
              0.8888888888888888,
              "#fdca26"
             ],
             [
              1,
              "#f0f921"
             ]
            ],
            "type": "surface"
           }
          ],
          "table": [
           {
            "cells": {
             "fill": {
              "color": "#EBF0F8"
             },
             "line": {
              "color": "white"
             }
            },
            "header": {
             "fill": {
              "color": "#C8D4E3"
             },
             "line": {
              "color": "white"
             }
            },
            "type": "table"
           }
          ]
         },
         "layout": {
          "annotationdefaults": {
           "arrowcolor": "#2a3f5f",
           "arrowhead": 0,
           "arrowwidth": 1
          },
          "autotypenumbers": "strict",
          "coloraxis": {
           "colorbar": {
            "outlinewidth": 0,
            "ticks": ""
           }
          },
          "colorscale": {
           "diverging": [
            [
             0,
             "#8e0152"
            ],
            [
             0.1,
             "#c51b7d"
            ],
            [
             0.2,
             "#de77ae"
            ],
            [
             0.3,
             "#f1b6da"
            ],
            [
             0.4,
             "#fde0ef"
            ],
            [
             0.5,
             "#f7f7f7"
            ],
            [
             0.6,
             "#e6f5d0"
            ],
            [
             0.7,
             "#b8e186"
            ],
            [
             0.8,
             "#7fbc41"
            ],
            [
             0.9,
             "#4d9221"
            ],
            [
             1,
             "#276419"
            ]
           ],
           "sequential": [
            [
             0,
             "#0d0887"
            ],
            [
             0.1111111111111111,
             "#46039f"
            ],
            [
             0.2222222222222222,
             "#7201a8"
            ],
            [
             0.3333333333333333,
             "#9c179e"
            ],
            [
             0.4444444444444444,
             "#bd3786"
            ],
            [
             0.5555555555555556,
             "#d8576b"
            ],
            [
             0.6666666666666666,
             "#ed7953"
            ],
            [
             0.7777777777777778,
             "#fb9f3a"
            ],
            [
             0.8888888888888888,
             "#fdca26"
            ],
            [
             1,
             "#f0f921"
            ]
           ],
           "sequentialminus": [
            [
             0,
             "#0d0887"
            ],
            [
             0.1111111111111111,
             "#46039f"
            ],
            [
             0.2222222222222222,
             "#7201a8"
            ],
            [
             0.3333333333333333,
             "#9c179e"
            ],
            [
             0.4444444444444444,
             "#bd3786"
            ],
            [
             0.5555555555555556,
             "#d8576b"
            ],
            [
             0.6666666666666666,
             "#ed7953"
            ],
            [
             0.7777777777777778,
             "#fb9f3a"
            ],
            [
             0.8888888888888888,
             "#fdca26"
            ],
            [
             1,
             "#f0f921"
            ]
           ]
          },
          "colorway": [
           "#636efa",
           "#EF553B",
           "#00cc96",
           "#ab63fa",
           "#FFA15A",
           "#19d3f3",
           "#FF6692",
           "#B6E880",
           "#FF97FF",
           "#FECB52"
          ],
          "font": {
           "color": "#2a3f5f"
          },
          "geo": {
           "bgcolor": "white",
           "lakecolor": "white",
           "landcolor": "#E5ECF6",
           "showlakes": true,
           "showland": true,
           "subunitcolor": "white"
          },
          "hoverlabel": {
           "align": "left"
          },
          "hovermode": "closest",
          "mapbox": {
           "style": "light"
          },
          "paper_bgcolor": "white",
          "plot_bgcolor": "#E5ECF6",
          "polar": {
           "angularaxis": {
            "gridcolor": "white",
            "linecolor": "white",
            "ticks": ""
           },
           "bgcolor": "#E5ECF6",
           "radialaxis": {
            "gridcolor": "white",
            "linecolor": "white",
            "ticks": ""
           }
          },
          "scene": {
           "xaxis": {
            "backgroundcolor": "#E5ECF6",
            "gridcolor": "white",
            "gridwidth": 2,
            "linecolor": "white",
            "showbackground": true,
            "ticks": "",
            "zerolinecolor": "white"
           },
           "yaxis": {
            "backgroundcolor": "#E5ECF6",
            "gridcolor": "white",
            "gridwidth": 2,
            "linecolor": "white",
            "showbackground": true,
            "ticks": "",
            "zerolinecolor": "white"
           },
           "zaxis": {
            "backgroundcolor": "#E5ECF6",
            "gridcolor": "white",
            "gridwidth": 2,
            "linecolor": "white",
            "showbackground": true,
            "ticks": "",
            "zerolinecolor": "white"
           }
          },
          "shapedefaults": {
           "line": {
            "color": "#2a3f5f"
           }
          },
          "ternary": {
           "aaxis": {
            "gridcolor": "white",
            "linecolor": "white",
            "ticks": ""
           },
           "baxis": {
            "gridcolor": "white",
            "linecolor": "white",
            "ticks": ""
           },
           "bgcolor": "#E5ECF6",
           "caxis": {
            "gridcolor": "white",
            "linecolor": "white",
            "ticks": ""
           }
          },
          "title": {
           "x": 0.05
          },
          "xaxis": {
           "automargin": true,
           "gridcolor": "white",
           "linecolor": "white",
           "ticks": "",
           "title": {
            "standoff": 15
           },
           "zerolinecolor": "white",
           "zerolinewidth": 2
          },
          "yaxis": {
           "automargin": true,
           "gridcolor": "white",
           "linecolor": "white",
           "ticks": "",
           "title": {
            "standoff": 15
           },
           "zerolinecolor": "white",
           "zerolinewidth": 2
          }
         }
        },
        "title": {
         "text": "Total Sales by day of the week and Season"
        },
        "xaxis": {
         "anchor": "y",
         "domain": [
          0,
          0.06333333333333332
         ],
         "title": {
          "text": "day of week"
         }
        },
        "xaxis10": {
         "anchor": "y10",
         "domain": [
          0.75,
          0.8133333333333334
         ],
         "matches": "x",
         "title": {
          "text": "day of week"
         }
        },
        "xaxis100": {
         "anchor": "y100",
         "domain": [
          0.24999999999999997,
          0.3133333333333333
         ],
         "matches": "x",
         "showticklabels": false
        },
        "xaxis101": {
         "anchor": "y101",
         "domain": [
          0.3333333333333333,
          0.3966666666666666
         ],
         "matches": "x",
         "showticklabels": false
        },
        "xaxis102": {
         "anchor": "y102",
         "domain": [
          0.41666666666666663,
          0.48
         ],
         "matches": "x",
         "showticklabels": false
        },
        "xaxis103": {
         "anchor": "y103",
         "domain": [
          0.5,
          0.5633333333333334
         ],
         "matches": "x",
         "showticklabels": false
        },
        "xaxis104": {
         "anchor": "y104",
         "domain": [
          0.5833333333333334,
          0.6466666666666667
         ],
         "matches": "x",
         "showticklabels": false
        },
        "xaxis105": {
         "anchor": "y105",
         "domain": [
          0.6666666666666667,
          0.7300000000000001
         ],
         "matches": "x",
         "showticklabels": false
        },
        "xaxis106": {
         "anchor": "y106",
         "domain": [
          0.75,
          0.8133333333333334
         ],
         "matches": "x",
         "showticklabels": false
        },
        "xaxis107": {
         "anchor": "y107",
         "domain": [
          0.8333333333333335,
          0.8966666666666668
         ],
         "matches": "x",
         "showticklabels": false
        },
        "xaxis108": {
         "anchor": "y108",
         "domain": [
          0.9166666666666667,
          0.9800000000000001
         ],
         "matches": "x",
         "showticklabels": false
        },
        "xaxis109": {
         "anchor": "y109",
         "domain": [
          0,
          0.06333333333333332
         ],
         "matches": "x",
         "showticklabels": false
        },
        "xaxis11": {
         "anchor": "y11",
         "domain": [
          0.8333333333333335,
          0.8966666666666668
         ],
         "matches": "x",
         "title": {
          "text": "day of week"
         }
        },
        "xaxis110": {
         "anchor": "y110",
         "domain": [
          0.08333333333333333,
          0.14666666666666667
         ],
         "matches": "x",
         "showticklabels": false
        },
        "xaxis111": {
         "anchor": "y111",
         "domain": [
          0.16666666666666666,
          0.22999999999999998
         ],
         "matches": "x",
         "showticklabels": false
        },
        "xaxis112": {
         "anchor": "y112",
         "domain": [
          0.24999999999999997,
          0.3133333333333333
         ],
         "matches": "x",
         "showticklabels": false
        },
        "xaxis113": {
         "anchor": "y113",
         "domain": [
          0.3333333333333333,
          0.3966666666666666
         ],
         "matches": "x",
         "showticklabels": false
        },
        "xaxis114": {
         "anchor": "y114",
         "domain": [
          0.41666666666666663,
          0.48
         ],
         "matches": "x",
         "showticklabels": false
        },
        "xaxis115": {
         "anchor": "y115",
         "domain": [
          0.5,
          0.5633333333333334
         ],
         "matches": "x",
         "showticklabels": false
        },
        "xaxis116": {
         "anchor": "y116",
         "domain": [
          0.5833333333333334,
          0.6466666666666667
         ],
         "matches": "x",
         "showticklabels": false
        },
        "xaxis117": {
         "anchor": "y117",
         "domain": [
          0.6666666666666667,
          0.7300000000000001
         ],
         "matches": "x",
         "showticklabels": false
        },
        "xaxis118": {
         "anchor": "y118",
         "domain": [
          0.75,
          0.8133333333333334
         ],
         "matches": "x",
         "showticklabels": false
        },
        "xaxis119": {
         "anchor": "y119",
         "domain": [
          0.8333333333333335,
          0.8966666666666668
         ],
         "matches": "x",
         "showticklabels": false
        },
        "xaxis12": {
         "anchor": "y12",
         "domain": [
          0.9166666666666667,
          0.9800000000000001
         ],
         "matches": "x",
         "title": {
          "text": "day of week"
         }
        },
        "xaxis120": {
         "anchor": "y120",
         "domain": [
          0.9166666666666667,
          0.9800000000000001
         ],
         "matches": "x",
         "showticklabels": false
        },
        "xaxis121": {
         "anchor": "y121",
         "domain": [
          0,
          0.06333333333333332
         ],
         "matches": "x",
         "showticklabels": false
        },
        "xaxis122": {
         "anchor": "y122",
         "domain": [
          0.08333333333333333,
          0.14666666666666667
         ],
         "matches": "x",
         "showticklabels": false
        },
        "xaxis123": {
         "anchor": "y123",
         "domain": [
          0.16666666666666666,
          0.22999999999999998
         ],
         "matches": "x",
         "showticklabels": false
        },
        "xaxis124": {
         "anchor": "y124",
         "domain": [
          0.24999999999999997,
          0.3133333333333333
         ],
         "matches": "x",
         "showticklabels": false
        },
        "xaxis125": {
         "anchor": "y125",
         "domain": [
          0.3333333333333333,
          0.3966666666666666
         ],
         "matches": "x",
         "showticklabels": false
        },
        "xaxis126": {
         "anchor": "y126",
         "domain": [
          0.41666666666666663,
          0.48
         ],
         "matches": "x",
         "showticklabels": false
        },
        "xaxis127": {
         "anchor": "y127",
         "domain": [
          0.5,
          0.5633333333333334
         ],
         "matches": "x",
         "showticklabels": false
        },
        "xaxis128": {
         "anchor": "y128",
         "domain": [
          0.5833333333333334,
          0.6466666666666667
         ],
         "matches": "x",
         "showticklabels": false
        },
        "xaxis129": {
         "anchor": "y129",
         "domain": [
          0.6666666666666667,
          0.7300000000000001
         ],
         "matches": "x",
         "showticklabels": false
        },
        "xaxis13": {
         "anchor": "y13",
         "domain": [
          0,
          0.06333333333333332
         ],
         "matches": "x",
         "showticklabels": false
        },
        "xaxis130": {
         "anchor": "y130",
         "domain": [
          0.75,
          0.8133333333333334
         ],
         "matches": "x",
         "showticklabels": false
        },
        "xaxis131": {
         "anchor": "y131",
         "domain": [
          0.8333333333333335,
          0.8966666666666668
         ],
         "matches": "x",
         "showticklabels": false
        },
        "xaxis132": {
         "anchor": "y132",
         "domain": [
          0.9166666666666667,
          0.9800000000000001
         ],
         "matches": "x",
         "showticklabels": false
        },
        "xaxis133": {
         "anchor": "y133",
         "domain": [
          0,
          0.06333333333333332
         ],
         "matches": "x",
         "showticklabels": false
        },
        "xaxis134": {
         "anchor": "y134",
         "domain": [
          0.08333333333333333,
          0.14666666666666667
         ],
         "matches": "x",
         "showticklabels": false
        },
        "xaxis135": {
         "anchor": "y135",
         "domain": [
          0.16666666666666666,
          0.22999999999999998
         ],
         "matches": "x",
         "showticklabels": false
        },
        "xaxis136": {
         "anchor": "y136",
         "domain": [
          0.24999999999999997,
          0.3133333333333333
         ],
         "matches": "x",
         "showticklabels": false
        },
        "xaxis137": {
         "anchor": "y137",
         "domain": [
          0.3333333333333333,
          0.3966666666666666
         ],
         "matches": "x",
         "showticklabels": false
        },
        "xaxis138": {
         "anchor": "y138",
         "domain": [
          0.41666666666666663,
          0.48
         ],
         "matches": "x",
         "showticklabels": false
        },
        "xaxis139": {
         "anchor": "y139",
         "domain": [
          0.5,
          0.5633333333333334
         ],
         "matches": "x",
         "showticklabels": false
        },
        "xaxis14": {
         "anchor": "y14",
         "domain": [
          0.08333333333333333,
          0.14666666666666667
         ],
         "matches": "x",
         "showticklabels": false
        },
        "xaxis140": {
         "anchor": "y140",
         "domain": [
          0.5833333333333334,
          0.6466666666666667
         ],
         "matches": "x",
         "showticklabels": false
        },
        "xaxis141": {
         "anchor": "y141",
         "domain": [
          0.6666666666666667,
          0.7300000000000001
         ],
         "matches": "x",
         "showticklabels": false
        },
        "xaxis142": {
         "anchor": "y142",
         "domain": [
          0.75,
          0.8133333333333334
         ],
         "matches": "x",
         "showticklabels": false
        },
        "xaxis143": {
         "anchor": "y143",
         "domain": [
          0.8333333333333335,
          0.8966666666666668
         ],
         "matches": "x",
         "showticklabels": false
        },
        "xaxis144": {
         "anchor": "y144",
         "domain": [
          0.9166666666666667,
          0.9800000000000001
         ],
         "matches": "x",
         "showticklabels": false
        },
        "xaxis145": {
         "anchor": "y145",
         "domain": [
          0,
          0.06333333333333332
         ],
         "matches": "x",
         "showticklabels": false
        },
        "xaxis146": {
         "anchor": "y146",
         "domain": [
          0.08333333333333333,
          0.14666666666666667
         ],
         "matches": "x",
         "showticklabels": false
        },
        "xaxis147": {
         "anchor": "y147",
         "domain": [
          0.16666666666666666,
          0.22999999999999998
         ],
         "matches": "x",
         "showticklabels": false
        },
        "xaxis148": {
         "anchor": "y148",
         "domain": [
          0.24999999999999997,
          0.3133333333333333
         ],
         "matches": "x",
         "showticklabels": false
        },
        "xaxis149": {
         "anchor": "y149",
         "domain": [
          0.3333333333333333,
          0.3966666666666666
         ],
         "matches": "x",
         "showticklabels": false
        },
        "xaxis15": {
         "anchor": "y15",
         "domain": [
          0.16666666666666666,
          0.22999999999999998
         ],
         "matches": "x",
         "showticklabels": false
        },
        "xaxis150": {
         "anchor": "y150",
         "domain": [
          0.41666666666666663,
          0.48
         ],
         "matches": "x",
         "showticklabels": false
        },
        "xaxis151": {
         "anchor": "y151",
         "domain": [
          0.5,
          0.5633333333333334
         ],
         "matches": "x",
         "showticklabels": false
        },
        "xaxis152": {
         "anchor": "y152",
         "domain": [
          0.5833333333333334,
          0.6466666666666667
         ],
         "matches": "x",
         "showticklabels": false
        },
        "xaxis153": {
         "anchor": "y153",
         "domain": [
          0.6666666666666667,
          0.7300000000000001
         ],
         "matches": "x",
         "showticklabels": false
        },
        "xaxis154": {
         "anchor": "y154",
         "domain": [
          0.75,
          0.8133333333333334
         ],
         "matches": "x",
         "showticklabels": false
        },
        "xaxis155": {
         "anchor": "y155",
         "domain": [
          0.8333333333333335,
          0.8966666666666668
         ],
         "matches": "x",
         "showticklabels": false
        },
        "xaxis156": {
         "anchor": "y156",
         "domain": [
          0.9166666666666667,
          0.9800000000000001
         ],
         "matches": "x",
         "showticklabels": false
        },
        "xaxis157": {
         "anchor": "y157",
         "domain": [
          0,
          0.06333333333333332
         ],
         "matches": "x",
         "showticklabels": false
        },
        "xaxis158": {
         "anchor": "y158",
         "domain": [
          0.08333333333333333,
          0.14666666666666667
         ],
         "matches": "x",
         "showticklabels": false
        },
        "xaxis159": {
         "anchor": "y159",
         "domain": [
          0.16666666666666666,
          0.22999999999999998
         ],
         "matches": "x",
         "showticklabels": false
        },
        "xaxis16": {
         "anchor": "y16",
         "domain": [
          0.24999999999999997,
          0.3133333333333333
         ],
         "matches": "x",
         "showticklabels": false
        },
        "xaxis160": {
         "anchor": "y160",
         "domain": [
          0.24999999999999997,
          0.3133333333333333
         ],
         "matches": "x",
         "showticklabels": false
        },
        "xaxis161": {
         "anchor": "y161",
         "domain": [
          0.3333333333333333,
          0.3966666666666666
         ],
         "matches": "x",
         "showticklabels": false
        },
        "xaxis162": {
         "anchor": "y162",
         "domain": [
          0.41666666666666663,
          0.48
         ],
         "matches": "x",
         "showticklabels": false
        },
        "xaxis163": {
         "anchor": "y163",
         "domain": [
          0.5,
          0.5633333333333334
         ],
         "matches": "x",
         "showticklabels": false
        },
        "xaxis164": {
         "anchor": "y164",
         "domain": [
          0.5833333333333334,
          0.6466666666666667
         ],
         "matches": "x",
         "showticklabels": false
        },
        "xaxis165": {
         "anchor": "y165",
         "domain": [
          0.6666666666666667,
          0.7300000000000001
         ],
         "matches": "x",
         "showticklabels": false
        },
        "xaxis166": {
         "anchor": "y166",
         "domain": [
          0.75,
          0.8133333333333334
         ],
         "matches": "x",
         "showticklabels": false
        },
        "xaxis167": {
         "anchor": "y167",
         "domain": [
          0.8333333333333335,
          0.8966666666666668
         ],
         "matches": "x",
         "showticklabels": false
        },
        "xaxis168": {
         "anchor": "y168",
         "domain": [
          0.9166666666666667,
          0.9800000000000001
         ],
         "matches": "x",
         "showticklabels": false
        },
        "xaxis17": {
         "anchor": "y17",
         "domain": [
          0.3333333333333333,
          0.3966666666666666
         ],
         "matches": "x",
         "showticklabels": false
        },
        "xaxis18": {
         "anchor": "y18",
         "domain": [
          0.41666666666666663,
          0.48
         ],
         "matches": "x",
         "showticklabels": false
        },
        "xaxis19": {
         "anchor": "y19",
         "domain": [
          0.5,
          0.5633333333333334
         ],
         "matches": "x",
         "showticklabels": false
        },
        "xaxis2": {
         "anchor": "y2",
         "domain": [
          0.08333333333333333,
          0.14666666666666667
         ],
         "matches": "x",
         "title": {
          "text": "day of week"
         }
        },
        "xaxis20": {
         "anchor": "y20",
         "domain": [
          0.5833333333333334,
          0.6466666666666667
         ],
         "matches": "x",
         "showticklabels": false
        },
        "xaxis21": {
         "anchor": "y21",
         "domain": [
          0.6666666666666667,
          0.7300000000000001
         ],
         "matches": "x",
         "showticklabels": false
        },
        "xaxis22": {
         "anchor": "y22",
         "domain": [
          0.75,
          0.8133333333333334
         ],
         "matches": "x",
         "showticklabels": false
        },
        "xaxis23": {
         "anchor": "y23",
         "domain": [
          0.8333333333333335,
          0.8966666666666668
         ],
         "matches": "x",
         "showticklabels": false
        },
        "xaxis24": {
         "anchor": "y24",
         "domain": [
          0.9166666666666667,
          0.9800000000000001
         ],
         "matches": "x",
         "showticklabels": false
        },
        "xaxis25": {
         "anchor": "y25",
         "domain": [
          0,
          0.06333333333333332
         ],
         "matches": "x",
         "showticklabels": false
        },
        "xaxis26": {
         "anchor": "y26",
         "domain": [
          0.08333333333333333,
          0.14666666666666667
         ],
         "matches": "x",
         "showticklabels": false
        },
        "xaxis27": {
         "anchor": "y27",
         "domain": [
          0.16666666666666666,
          0.22999999999999998
         ],
         "matches": "x",
         "showticklabels": false
        },
        "xaxis28": {
         "anchor": "y28",
         "domain": [
          0.24999999999999997,
          0.3133333333333333
         ],
         "matches": "x",
         "showticklabels": false
        },
        "xaxis29": {
         "anchor": "y29",
         "domain": [
          0.3333333333333333,
          0.3966666666666666
         ],
         "matches": "x",
         "showticklabels": false
        },
        "xaxis3": {
         "anchor": "y3",
         "domain": [
          0.16666666666666666,
          0.22999999999999998
         ],
         "matches": "x",
         "title": {
          "text": "day of week"
         }
        },
        "xaxis30": {
         "anchor": "y30",
         "domain": [
          0.41666666666666663,
          0.48
         ],
         "matches": "x",
         "showticklabels": false
        },
        "xaxis31": {
         "anchor": "y31",
         "domain": [
          0.5,
          0.5633333333333334
         ],
         "matches": "x",
         "showticklabels": false
        },
        "xaxis32": {
         "anchor": "y32",
         "domain": [
          0.5833333333333334,
          0.6466666666666667
         ],
         "matches": "x",
         "showticklabels": false
        },
        "xaxis33": {
         "anchor": "y33",
         "domain": [
          0.6666666666666667,
          0.7300000000000001
         ],
         "matches": "x",
         "showticklabels": false
        },
        "xaxis34": {
         "anchor": "y34",
         "domain": [
          0.75,
          0.8133333333333334
         ],
         "matches": "x",
         "showticklabels": false
        },
        "xaxis35": {
         "anchor": "y35",
         "domain": [
          0.8333333333333335,
          0.8966666666666668
         ],
         "matches": "x",
         "showticklabels": false
        },
        "xaxis36": {
         "anchor": "y36",
         "domain": [
          0.9166666666666667,
          0.9800000000000001
         ],
         "matches": "x",
         "showticklabels": false
        },
        "xaxis37": {
         "anchor": "y37",
         "domain": [
          0,
          0.06333333333333332
         ],
         "matches": "x",
         "showticklabels": false
        },
        "xaxis38": {
         "anchor": "y38",
         "domain": [
          0.08333333333333333,
          0.14666666666666667
         ],
         "matches": "x",
         "showticklabels": false
        },
        "xaxis39": {
         "anchor": "y39",
         "domain": [
          0.16666666666666666,
          0.22999999999999998
         ],
         "matches": "x",
         "showticklabels": false
        },
        "xaxis4": {
         "anchor": "y4",
         "domain": [
          0.24999999999999997,
          0.3133333333333333
         ],
         "matches": "x",
         "title": {
          "text": "day of week"
         }
        },
        "xaxis40": {
         "anchor": "y40",
         "domain": [
          0.24999999999999997,
          0.3133333333333333
         ],
         "matches": "x",
         "showticklabels": false
        },
        "xaxis41": {
         "anchor": "y41",
         "domain": [
          0.3333333333333333,
          0.3966666666666666
         ],
         "matches": "x",
         "showticklabels": false
        },
        "xaxis42": {
         "anchor": "y42",
         "domain": [
          0.41666666666666663,
          0.48
         ],
         "matches": "x",
         "showticklabels": false
        },
        "xaxis43": {
         "anchor": "y43",
         "domain": [
          0.5,
          0.5633333333333334
         ],
         "matches": "x",
         "showticklabels": false
        },
        "xaxis44": {
         "anchor": "y44",
         "domain": [
          0.5833333333333334,
          0.6466666666666667
         ],
         "matches": "x",
         "showticklabels": false
        },
        "xaxis45": {
         "anchor": "y45",
         "domain": [
          0.6666666666666667,
          0.7300000000000001
         ],
         "matches": "x",
         "showticklabels": false
        },
        "xaxis46": {
         "anchor": "y46",
         "domain": [
          0.75,
          0.8133333333333334
         ],
         "matches": "x",
         "showticklabels": false
        },
        "xaxis47": {
         "anchor": "y47",
         "domain": [
          0.8333333333333335,
          0.8966666666666668
         ],
         "matches": "x",
         "showticklabels": false
        },
        "xaxis48": {
         "anchor": "y48",
         "domain": [
          0.9166666666666667,
          0.9800000000000001
         ],
         "matches": "x",
         "showticklabels": false
        },
        "xaxis49": {
         "anchor": "y49",
         "domain": [
          0,
          0.06333333333333332
         ],
         "matches": "x",
         "showticklabels": false
        },
        "xaxis5": {
         "anchor": "y5",
         "domain": [
          0.3333333333333333,
          0.3966666666666666
         ],
         "matches": "x",
         "title": {
          "text": "day of week"
         }
        },
        "xaxis50": {
         "anchor": "y50",
         "domain": [
          0.08333333333333333,
          0.14666666666666667
         ],
         "matches": "x",
         "showticklabels": false
        },
        "xaxis51": {
         "anchor": "y51",
         "domain": [
          0.16666666666666666,
          0.22999999999999998
         ],
         "matches": "x",
         "showticklabels": false
        },
        "xaxis52": {
         "anchor": "y52",
         "domain": [
          0.24999999999999997,
          0.3133333333333333
         ],
         "matches": "x",
         "showticklabels": false
        },
        "xaxis53": {
         "anchor": "y53",
         "domain": [
          0.3333333333333333,
          0.3966666666666666
         ],
         "matches": "x",
         "showticklabels": false
        },
        "xaxis54": {
         "anchor": "y54",
         "domain": [
          0.41666666666666663,
          0.48
         ],
         "matches": "x",
         "showticklabels": false
        },
        "xaxis55": {
         "anchor": "y55",
         "domain": [
          0.5,
          0.5633333333333334
         ],
         "matches": "x",
         "showticklabels": false
        },
        "xaxis56": {
         "anchor": "y56",
         "domain": [
          0.5833333333333334,
          0.6466666666666667
         ],
         "matches": "x",
         "showticklabels": false
        },
        "xaxis57": {
         "anchor": "y57",
         "domain": [
          0.6666666666666667,
          0.7300000000000001
         ],
         "matches": "x",
         "showticklabels": false
        },
        "xaxis58": {
         "anchor": "y58",
         "domain": [
          0.75,
          0.8133333333333334
         ],
         "matches": "x",
         "showticklabels": false
        },
        "xaxis59": {
         "anchor": "y59",
         "domain": [
          0.8333333333333335,
          0.8966666666666668
         ],
         "matches": "x",
         "showticklabels": false
        },
        "xaxis6": {
         "anchor": "y6",
         "domain": [
          0.41666666666666663,
          0.48
         ],
         "matches": "x",
         "title": {
          "text": "day of week"
         }
        },
        "xaxis60": {
         "anchor": "y60",
         "domain": [
          0.9166666666666667,
          0.9800000000000001
         ],
         "matches": "x",
         "showticklabels": false
        },
        "xaxis61": {
         "anchor": "y61",
         "domain": [
          0,
          0.06333333333333332
         ],
         "matches": "x",
         "showticklabels": false
        },
        "xaxis62": {
         "anchor": "y62",
         "domain": [
          0.08333333333333333,
          0.14666666666666667
         ],
         "matches": "x",
         "showticklabels": false
        },
        "xaxis63": {
         "anchor": "y63",
         "domain": [
          0.16666666666666666,
          0.22999999999999998
         ],
         "matches": "x",
         "showticklabels": false
        },
        "xaxis64": {
         "anchor": "y64",
         "domain": [
          0.24999999999999997,
          0.3133333333333333
         ],
         "matches": "x",
         "showticklabels": false
        },
        "xaxis65": {
         "anchor": "y65",
         "domain": [
          0.3333333333333333,
          0.3966666666666666
         ],
         "matches": "x",
         "showticklabels": false
        },
        "xaxis66": {
         "anchor": "y66",
         "domain": [
          0.41666666666666663,
          0.48
         ],
         "matches": "x",
         "showticklabels": false
        },
        "xaxis67": {
         "anchor": "y67",
         "domain": [
          0.5,
          0.5633333333333334
         ],
         "matches": "x",
         "showticklabels": false
        },
        "xaxis68": {
         "anchor": "y68",
         "domain": [
          0.5833333333333334,
          0.6466666666666667
         ],
         "matches": "x",
         "showticklabels": false
        },
        "xaxis69": {
         "anchor": "y69",
         "domain": [
          0.6666666666666667,
          0.7300000000000001
         ],
         "matches": "x",
         "showticklabels": false
        },
        "xaxis7": {
         "anchor": "y7",
         "domain": [
          0.5,
          0.5633333333333334
         ],
         "matches": "x",
         "title": {
          "text": "day of week"
         }
        },
        "xaxis70": {
         "anchor": "y70",
         "domain": [
          0.75,
          0.8133333333333334
         ],
         "matches": "x",
         "showticklabels": false
        },
        "xaxis71": {
         "anchor": "y71",
         "domain": [
          0.8333333333333335,
          0.8966666666666668
         ],
         "matches": "x",
         "showticklabels": false
        },
        "xaxis72": {
         "anchor": "y72",
         "domain": [
          0.9166666666666667,
          0.9800000000000001
         ],
         "matches": "x",
         "showticklabels": false
        },
        "xaxis73": {
         "anchor": "y73",
         "domain": [
          0,
          0.06333333333333332
         ],
         "matches": "x",
         "showticklabels": false
        },
        "xaxis74": {
         "anchor": "y74",
         "domain": [
          0.08333333333333333,
          0.14666666666666667
         ],
         "matches": "x",
         "showticklabels": false
        },
        "xaxis75": {
         "anchor": "y75",
         "domain": [
          0.16666666666666666,
          0.22999999999999998
         ],
         "matches": "x",
         "showticklabels": false
        },
        "xaxis76": {
         "anchor": "y76",
         "domain": [
          0.24999999999999997,
          0.3133333333333333
         ],
         "matches": "x",
         "showticklabels": false
        },
        "xaxis77": {
         "anchor": "y77",
         "domain": [
          0.3333333333333333,
          0.3966666666666666
         ],
         "matches": "x",
         "showticklabels": false
        },
        "xaxis78": {
         "anchor": "y78",
         "domain": [
          0.41666666666666663,
          0.48
         ],
         "matches": "x",
         "showticklabels": false
        },
        "xaxis79": {
         "anchor": "y79",
         "domain": [
          0.5,
          0.5633333333333334
         ],
         "matches": "x",
         "showticklabels": false
        },
        "xaxis8": {
         "anchor": "y8",
         "domain": [
          0.5833333333333334,
          0.6466666666666667
         ],
         "matches": "x",
         "title": {
          "text": "day of week"
         }
        },
        "xaxis80": {
         "anchor": "y80",
         "domain": [
          0.5833333333333334,
          0.6466666666666667
         ],
         "matches": "x",
         "showticklabels": false
        },
        "xaxis81": {
         "anchor": "y81",
         "domain": [
          0.6666666666666667,
          0.7300000000000001
         ],
         "matches": "x",
         "showticklabels": false
        },
        "xaxis82": {
         "anchor": "y82",
         "domain": [
          0.75,
          0.8133333333333334
         ],
         "matches": "x",
         "showticklabels": false
        },
        "xaxis83": {
         "anchor": "y83",
         "domain": [
          0.8333333333333335,
          0.8966666666666668
         ],
         "matches": "x",
         "showticklabels": false
        },
        "xaxis84": {
         "anchor": "y84",
         "domain": [
          0.9166666666666667,
          0.9800000000000001
         ],
         "matches": "x",
         "showticklabels": false
        },
        "xaxis85": {
         "anchor": "y85",
         "domain": [
          0,
          0.06333333333333332
         ],
         "matches": "x",
         "showticklabels": false
        },
        "xaxis86": {
         "anchor": "y86",
         "domain": [
          0.08333333333333333,
          0.14666666666666667
         ],
         "matches": "x",
         "showticklabels": false
        },
        "xaxis87": {
         "anchor": "y87",
         "domain": [
          0.16666666666666666,
          0.22999999999999998
         ],
         "matches": "x",
         "showticklabels": false
        },
        "xaxis88": {
         "anchor": "y88",
         "domain": [
          0.24999999999999997,
          0.3133333333333333
         ],
         "matches": "x",
         "showticklabels": false
        },
        "xaxis89": {
         "anchor": "y89",
         "domain": [
          0.3333333333333333,
          0.3966666666666666
         ],
         "matches": "x",
         "showticklabels": false
        },
        "xaxis9": {
         "anchor": "y9",
         "domain": [
          0.6666666666666667,
          0.7300000000000001
         ],
         "matches": "x",
         "title": {
          "text": "day of week"
         }
        },
        "xaxis90": {
         "anchor": "y90",
         "domain": [
          0.41666666666666663,
          0.48
         ],
         "matches": "x",
         "showticklabels": false
        },
        "xaxis91": {
         "anchor": "y91",
         "domain": [
          0.5,
          0.5633333333333334
         ],
         "matches": "x",
         "showticklabels": false
        },
        "xaxis92": {
         "anchor": "y92",
         "domain": [
          0.5833333333333334,
          0.6466666666666667
         ],
         "matches": "x",
         "showticklabels": false
        },
        "xaxis93": {
         "anchor": "y93",
         "domain": [
          0.6666666666666667,
          0.7300000000000001
         ],
         "matches": "x",
         "showticklabels": false
        },
        "xaxis94": {
         "anchor": "y94",
         "domain": [
          0.75,
          0.8133333333333334
         ],
         "matches": "x",
         "showticklabels": false
        },
        "xaxis95": {
         "anchor": "y95",
         "domain": [
          0.8333333333333335,
          0.8966666666666668
         ],
         "matches": "x",
         "showticklabels": false
        },
        "xaxis96": {
         "anchor": "y96",
         "domain": [
          0.9166666666666667,
          0.9800000000000001
         ],
         "matches": "x",
         "showticklabels": false
        },
        "xaxis97": {
         "anchor": "y97",
         "domain": [
          0,
          0.06333333333333332
         ],
         "matches": "x",
         "showticklabels": false
        },
        "xaxis98": {
         "anchor": "y98",
         "domain": [
          0.08333333333333333,
          0.14666666666666667
         ],
         "matches": "x",
         "showticklabels": false
        },
        "xaxis99": {
         "anchor": "y99",
         "domain": [
          0.16666666666666666,
          0.22999999999999998
         ],
         "matches": "x",
         "showticklabels": false
        },
        "yaxis": {
         "anchor": "x",
         "domain": [
          0,
          0.043571428571428567
         ],
         "title": {
          "text": "Quantity Sold (kg)"
         }
        },
        "yaxis10": {
         "anchor": "x10",
         "domain": [
          0,
          0.043571428571428567
         ],
         "matches": "y",
         "showticklabels": false
        },
        "yaxis100": {
         "anchor": "x100",
         "domain": [
          0.5885714285714285,
          0.6321428571428571
         ],
         "matches": "y",
         "showticklabels": false
        },
        "yaxis101": {
         "anchor": "x101",
         "domain": [
          0.5885714285714285,
          0.6321428571428571
         ],
         "matches": "y",
         "showticklabels": false
        },
        "yaxis102": {
         "anchor": "x102",
         "domain": [
          0.5885714285714285,
          0.6321428571428571
         ],
         "matches": "y",
         "showticklabels": false
        },
        "yaxis103": {
         "anchor": "x103",
         "domain": [
          0.5885714285714285,
          0.6321428571428571
         ],
         "matches": "y",
         "showticklabels": false
        },
        "yaxis104": {
         "anchor": "x104",
         "domain": [
          0.5885714285714285,
          0.6321428571428571
         ],
         "matches": "y",
         "showticklabels": false
        },
        "yaxis105": {
         "anchor": "x105",
         "domain": [
          0.5885714285714285,
          0.6321428571428571
         ],
         "matches": "y",
         "showticklabels": false
        },
        "yaxis106": {
         "anchor": "x106",
         "domain": [
          0.5885714285714285,
          0.6321428571428571
         ],
         "matches": "y",
         "showticklabels": false
        },
        "yaxis107": {
         "anchor": "x107",
         "domain": [
          0.5885714285714285,
          0.6321428571428571
         ],
         "matches": "y",
         "showticklabels": false
        },
        "yaxis108": {
         "anchor": "x108",
         "domain": [
          0.5885714285714285,
          0.6321428571428571
         ],
         "matches": "y",
         "showticklabels": false
        },
        "yaxis109": {
         "anchor": "x109",
         "domain": [
          0.6621428571428571,
          0.7057142857142857
         ],
         "matches": "y",
         "title": {
          "text": "Quantity Sold (kg)"
         }
        },
        "yaxis11": {
         "anchor": "x11",
         "domain": [
          0,
          0.043571428571428567
         ],
         "matches": "y",
         "showticklabels": false
        },
        "yaxis110": {
         "anchor": "x110",
         "domain": [
          0.6621428571428571,
          0.7057142857142857
         ],
         "matches": "y",
         "showticklabels": false
        },
        "yaxis111": {
         "anchor": "x111",
         "domain": [
          0.6621428571428571,
          0.7057142857142857
         ],
         "matches": "y",
         "showticklabels": false
        },
        "yaxis112": {
         "anchor": "x112",
         "domain": [
          0.6621428571428571,
          0.7057142857142857
         ],
         "matches": "y",
         "showticklabels": false
        },
        "yaxis113": {
         "anchor": "x113",
         "domain": [
          0.6621428571428571,
          0.7057142857142857
         ],
         "matches": "y",
         "showticklabels": false
        },
        "yaxis114": {
         "anchor": "x114",
         "domain": [
          0.6621428571428571,
          0.7057142857142857
         ],
         "matches": "y",
         "showticklabels": false
        },
        "yaxis115": {
         "anchor": "x115",
         "domain": [
          0.6621428571428571,
          0.7057142857142857
         ],
         "matches": "y",
         "showticklabels": false
        },
        "yaxis116": {
         "anchor": "x116",
         "domain": [
          0.6621428571428571,
          0.7057142857142857
         ],
         "matches": "y",
         "showticklabels": false
        },
        "yaxis117": {
         "anchor": "x117",
         "domain": [
          0.6621428571428571,
          0.7057142857142857
         ],
         "matches": "y",
         "showticklabels": false
        },
        "yaxis118": {
         "anchor": "x118",
         "domain": [
          0.6621428571428571,
          0.7057142857142857
         ],
         "matches": "y",
         "showticklabels": false
        },
        "yaxis119": {
         "anchor": "x119",
         "domain": [
          0.6621428571428571,
          0.7057142857142857
         ],
         "matches": "y",
         "showticklabels": false
        },
        "yaxis12": {
         "anchor": "x12",
         "domain": [
          0,
          0.043571428571428567
         ],
         "matches": "y",
         "showticklabels": false
        },
        "yaxis120": {
         "anchor": "x120",
         "domain": [
          0.6621428571428571,
          0.7057142857142857
         ],
         "matches": "y",
         "showticklabels": false
        },
        "yaxis121": {
         "anchor": "x121",
         "domain": [
          0.7357142857142858,
          0.7792857142857144
         ],
         "matches": "y",
         "title": {
          "text": "Quantity Sold (kg)"
         }
        },
        "yaxis122": {
         "anchor": "x122",
         "domain": [
          0.7357142857142858,
          0.7792857142857144
         ],
         "matches": "y",
         "showticklabels": false
        },
        "yaxis123": {
         "anchor": "x123",
         "domain": [
          0.7357142857142858,
          0.7792857142857144
         ],
         "matches": "y",
         "showticklabels": false
        },
        "yaxis124": {
         "anchor": "x124",
         "domain": [
          0.7357142857142858,
          0.7792857142857144
         ],
         "matches": "y",
         "showticklabels": false
        },
        "yaxis125": {
         "anchor": "x125",
         "domain": [
          0.7357142857142858,
          0.7792857142857144
         ],
         "matches": "y",
         "showticklabels": false
        },
        "yaxis126": {
         "anchor": "x126",
         "domain": [
          0.7357142857142858,
          0.7792857142857144
         ],
         "matches": "y",
         "showticklabels": false
        },
        "yaxis127": {
         "anchor": "x127",
         "domain": [
          0.7357142857142858,
          0.7792857142857144
         ],
         "matches": "y",
         "showticklabels": false
        },
        "yaxis128": {
         "anchor": "x128",
         "domain": [
          0.7357142857142858,
          0.7792857142857144
         ],
         "matches": "y",
         "showticklabels": false
        },
        "yaxis129": {
         "anchor": "x129",
         "domain": [
          0.7357142857142858,
          0.7792857142857144
         ],
         "matches": "y",
         "showticklabels": false
        },
        "yaxis13": {
         "anchor": "x13",
         "domain": [
          0.07357142857142857,
          0.11714285714285713
         ],
         "matches": "y",
         "title": {
          "text": "Quantity Sold (kg)"
         }
        },
        "yaxis130": {
         "anchor": "x130",
         "domain": [
          0.7357142857142858,
          0.7792857142857144
         ],
         "matches": "y",
         "showticklabels": false
        },
        "yaxis131": {
         "anchor": "x131",
         "domain": [
          0.7357142857142858,
          0.7792857142857144
         ],
         "matches": "y",
         "showticklabels": false
        },
        "yaxis132": {
         "anchor": "x132",
         "domain": [
          0.7357142857142858,
          0.7792857142857144
         ],
         "matches": "y",
         "showticklabels": false
        },
        "yaxis133": {
         "anchor": "x133",
         "domain": [
          0.8092857142857143,
          0.8528571428571429
         ],
         "matches": "y",
         "title": {
          "text": "Quantity Sold (kg)"
         }
        },
        "yaxis134": {
         "anchor": "x134",
         "domain": [
          0.8092857142857143,
          0.8528571428571429
         ],
         "matches": "y",
         "showticklabels": false
        },
        "yaxis135": {
         "anchor": "x135",
         "domain": [
          0.8092857142857143,
          0.8528571428571429
         ],
         "matches": "y",
         "showticklabels": false
        },
        "yaxis136": {
         "anchor": "x136",
         "domain": [
          0.8092857142857143,
          0.8528571428571429
         ],
         "matches": "y",
         "showticklabels": false
        },
        "yaxis137": {
         "anchor": "x137",
         "domain": [
          0.8092857142857143,
          0.8528571428571429
         ],
         "matches": "y",
         "showticklabels": false
        },
        "yaxis138": {
         "anchor": "x138",
         "domain": [
          0.8092857142857143,
          0.8528571428571429
         ],
         "matches": "y",
         "showticklabels": false
        },
        "yaxis139": {
         "anchor": "x139",
         "domain": [
          0.8092857142857143,
          0.8528571428571429
         ],
         "matches": "y",
         "showticklabels": false
        },
        "yaxis14": {
         "anchor": "x14",
         "domain": [
          0.07357142857142857,
          0.11714285714285713
         ],
         "matches": "y",
         "showticklabels": false
        },
        "yaxis140": {
         "anchor": "x140",
         "domain": [
          0.8092857142857143,
          0.8528571428571429
         ],
         "matches": "y",
         "showticklabels": false
        },
        "yaxis141": {
         "anchor": "x141",
         "domain": [
          0.8092857142857143,
          0.8528571428571429
         ],
         "matches": "y",
         "showticklabels": false
        },
        "yaxis142": {
         "anchor": "x142",
         "domain": [
          0.8092857142857143,
          0.8528571428571429
         ],
         "matches": "y",
         "showticklabels": false
        },
        "yaxis143": {
         "anchor": "x143",
         "domain": [
          0.8092857142857143,
          0.8528571428571429
         ],
         "matches": "y",
         "showticklabels": false
        },
        "yaxis144": {
         "anchor": "x144",
         "domain": [
          0.8092857142857143,
          0.8528571428571429
         ],
         "matches": "y",
         "showticklabels": false
        },
        "yaxis145": {
         "anchor": "x145",
         "domain": [
          0.8828571428571429,
          0.9264285714285715
         ],
         "matches": "y",
         "title": {
          "text": "Quantity Sold (kg)"
         }
        },
        "yaxis146": {
         "anchor": "x146",
         "domain": [
          0.8828571428571429,
          0.9264285714285715
         ],
         "matches": "y",
         "showticklabels": false
        },
        "yaxis147": {
         "anchor": "x147",
         "domain": [
          0.8828571428571429,
          0.9264285714285715
         ],
         "matches": "y",
         "showticklabels": false
        },
        "yaxis148": {
         "anchor": "x148",
         "domain": [
          0.8828571428571429,
          0.9264285714285715
         ],
         "matches": "y",
         "showticklabels": false
        },
        "yaxis149": {
         "anchor": "x149",
         "domain": [
          0.8828571428571429,
          0.9264285714285715
         ],
         "matches": "y",
         "showticklabels": false
        },
        "yaxis15": {
         "anchor": "x15",
         "domain": [
          0.07357142857142857,
          0.11714285714285713
         ],
         "matches": "y",
         "showticklabels": false
        },
        "yaxis150": {
         "anchor": "x150",
         "domain": [
          0.8828571428571429,
          0.9264285714285715
         ],
         "matches": "y",
         "showticklabels": false
        },
        "yaxis151": {
         "anchor": "x151",
         "domain": [
          0.8828571428571429,
          0.9264285714285715
         ],
         "matches": "y",
         "showticklabels": false
        },
        "yaxis152": {
         "anchor": "x152",
         "domain": [
          0.8828571428571429,
          0.9264285714285715
         ],
         "matches": "y",
         "showticklabels": false
        },
        "yaxis153": {
         "anchor": "x153",
         "domain": [
          0.8828571428571429,
          0.9264285714285715
         ],
         "matches": "y",
         "showticklabels": false
        },
        "yaxis154": {
         "anchor": "x154",
         "domain": [
          0.8828571428571429,
          0.9264285714285715
         ],
         "matches": "y",
         "showticklabels": false
        },
        "yaxis155": {
         "anchor": "x155",
         "domain": [
          0.8828571428571429,
          0.9264285714285715
         ],
         "matches": "y",
         "showticklabels": false
        },
        "yaxis156": {
         "anchor": "x156",
         "domain": [
          0.8828571428571429,
          0.9264285714285715
         ],
         "matches": "y",
         "showticklabels": false
        },
        "yaxis157": {
         "anchor": "x157",
         "domain": [
          0.9564285714285715,
          1
         ],
         "matches": "y",
         "title": {
          "text": "Quantity Sold (kg)"
         }
        },
        "yaxis158": {
         "anchor": "x158",
         "domain": [
          0.9564285714285715,
          1
         ],
         "matches": "y",
         "showticklabels": false
        },
        "yaxis159": {
         "anchor": "x159",
         "domain": [
          0.9564285714285715,
          1
         ],
         "matches": "y",
         "showticklabels": false
        },
        "yaxis16": {
         "anchor": "x16",
         "domain": [
          0.07357142857142857,
          0.11714285714285713
         ],
         "matches": "y",
         "showticklabels": false
        },
        "yaxis160": {
         "anchor": "x160",
         "domain": [
          0.9564285714285715,
          1
         ],
         "matches": "y",
         "showticklabels": false
        },
        "yaxis161": {
         "anchor": "x161",
         "domain": [
          0.9564285714285715,
          1
         ],
         "matches": "y",
         "showticklabels": false
        },
        "yaxis162": {
         "anchor": "x162",
         "domain": [
          0.9564285714285715,
          1
         ],
         "matches": "y",
         "showticklabels": false
        },
        "yaxis163": {
         "anchor": "x163",
         "domain": [
          0.9564285714285715,
          1
         ],
         "matches": "y",
         "showticklabels": false
        },
        "yaxis164": {
         "anchor": "x164",
         "domain": [
          0.9564285714285715,
          1
         ],
         "matches": "y",
         "showticklabels": false
        },
        "yaxis165": {
         "anchor": "x165",
         "domain": [
          0.9564285714285715,
          1
         ],
         "matches": "y",
         "showticklabels": false
        },
        "yaxis166": {
         "anchor": "x166",
         "domain": [
          0.9564285714285715,
          1
         ],
         "matches": "y",
         "showticklabels": false
        },
        "yaxis167": {
         "anchor": "x167",
         "domain": [
          0.9564285714285715,
          1
         ],
         "matches": "y",
         "showticklabels": false
        },
        "yaxis168": {
         "anchor": "x168",
         "domain": [
          0.9564285714285715,
          1
         ],
         "matches": "y",
         "showticklabels": false
        },
        "yaxis17": {
         "anchor": "x17",
         "domain": [
          0.07357142857142857,
          0.11714285714285713
         ],
         "matches": "y",
         "showticklabels": false
        },
        "yaxis18": {
         "anchor": "x18",
         "domain": [
          0.07357142857142857,
          0.11714285714285713
         ],
         "matches": "y",
         "showticklabels": false
        },
        "yaxis19": {
         "anchor": "x19",
         "domain": [
          0.07357142857142857,
          0.11714285714285713
         ],
         "matches": "y",
         "showticklabels": false
        },
        "yaxis2": {
         "anchor": "x2",
         "domain": [
          0,
          0.043571428571428567
         ],
         "matches": "y",
         "showticklabels": false
        },
        "yaxis20": {
         "anchor": "x20",
         "domain": [
          0.07357142857142857,
          0.11714285714285713
         ],
         "matches": "y",
         "showticklabels": false
        },
        "yaxis21": {
         "anchor": "x21",
         "domain": [
          0.07357142857142857,
          0.11714285714285713
         ],
         "matches": "y",
         "showticklabels": false
        },
        "yaxis22": {
         "anchor": "x22",
         "domain": [
          0.07357142857142857,
          0.11714285714285713
         ],
         "matches": "y",
         "showticklabels": false
        },
        "yaxis23": {
         "anchor": "x23",
         "domain": [
          0.07357142857142857,
          0.11714285714285713
         ],
         "matches": "y",
         "showticklabels": false
        },
        "yaxis24": {
         "anchor": "x24",
         "domain": [
          0.07357142857142857,
          0.11714285714285713
         ],
         "matches": "y",
         "showticklabels": false
        },
        "yaxis25": {
         "anchor": "x25",
         "domain": [
          0.14714285714285713,
          0.1907142857142857
         ],
         "matches": "y",
         "title": {
          "text": "Quantity Sold (kg)"
         }
        },
        "yaxis26": {
         "anchor": "x26",
         "domain": [
          0.14714285714285713,
          0.1907142857142857
         ],
         "matches": "y",
         "showticklabels": false
        },
        "yaxis27": {
         "anchor": "x27",
         "domain": [
          0.14714285714285713,
          0.1907142857142857
         ],
         "matches": "y",
         "showticklabels": false
        },
        "yaxis28": {
         "anchor": "x28",
         "domain": [
          0.14714285714285713,
          0.1907142857142857
         ],
         "matches": "y",
         "showticklabels": false
        },
        "yaxis29": {
         "anchor": "x29",
         "domain": [
          0.14714285714285713,
          0.1907142857142857
         ],
         "matches": "y",
         "showticklabels": false
        },
        "yaxis3": {
         "anchor": "x3",
         "domain": [
          0,
          0.043571428571428567
         ],
         "matches": "y",
         "showticklabels": false
        },
        "yaxis30": {
         "anchor": "x30",
         "domain": [
          0.14714285714285713,
          0.1907142857142857
         ],
         "matches": "y",
         "showticklabels": false
        },
        "yaxis31": {
         "anchor": "x31",
         "domain": [
          0.14714285714285713,
          0.1907142857142857
         ],
         "matches": "y",
         "showticklabels": false
        },
        "yaxis32": {
         "anchor": "x32",
         "domain": [
          0.14714285714285713,
          0.1907142857142857
         ],
         "matches": "y",
         "showticklabels": false
        },
        "yaxis33": {
         "anchor": "x33",
         "domain": [
          0.14714285714285713,
          0.1907142857142857
         ],
         "matches": "y",
         "showticklabels": false
        },
        "yaxis34": {
         "anchor": "x34",
         "domain": [
          0.14714285714285713,
          0.1907142857142857
         ],
         "matches": "y",
         "showticklabels": false
        },
        "yaxis35": {
         "anchor": "x35",
         "domain": [
          0.14714285714285713,
          0.1907142857142857
         ],
         "matches": "y",
         "showticklabels": false
        },
        "yaxis36": {
         "anchor": "x36",
         "domain": [
          0.14714285714285713,
          0.1907142857142857
         ],
         "matches": "y",
         "showticklabels": false
        },
        "yaxis37": {
         "anchor": "x37",
         "domain": [
          0.2207142857142857,
          0.26428571428571423
         ],
         "matches": "y",
         "title": {
          "text": "Quantity Sold (kg)"
         }
        },
        "yaxis38": {
         "anchor": "x38",
         "domain": [
          0.2207142857142857,
          0.26428571428571423
         ],
         "matches": "y",
         "showticklabels": false
        },
        "yaxis39": {
         "anchor": "x39",
         "domain": [
          0.2207142857142857,
          0.26428571428571423
         ],
         "matches": "y",
         "showticklabels": false
        },
        "yaxis4": {
         "anchor": "x4",
         "domain": [
          0,
          0.043571428571428567
         ],
         "matches": "y",
         "showticklabels": false
        },
        "yaxis40": {
         "anchor": "x40",
         "domain": [
          0.2207142857142857,
          0.26428571428571423
         ],
         "matches": "y",
         "showticklabels": false
        },
        "yaxis41": {
         "anchor": "x41",
         "domain": [
          0.2207142857142857,
          0.26428571428571423
         ],
         "matches": "y",
         "showticklabels": false
        },
        "yaxis42": {
         "anchor": "x42",
         "domain": [
          0.2207142857142857,
          0.26428571428571423
         ],
         "matches": "y",
         "showticklabels": false
        },
        "yaxis43": {
         "anchor": "x43",
         "domain": [
          0.2207142857142857,
          0.26428571428571423
         ],
         "matches": "y",
         "showticklabels": false
        },
        "yaxis44": {
         "anchor": "x44",
         "domain": [
          0.2207142857142857,
          0.26428571428571423
         ],
         "matches": "y",
         "showticklabels": false
        },
        "yaxis45": {
         "anchor": "x45",
         "domain": [
          0.2207142857142857,
          0.26428571428571423
         ],
         "matches": "y",
         "showticklabels": false
        },
        "yaxis46": {
         "anchor": "x46",
         "domain": [
          0.2207142857142857,
          0.26428571428571423
         ],
         "matches": "y",
         "showticklabels": false
        },
        "yaxis47": {
         "anchor": "x47",
         "domain": [
          0.2207142857142857,
          0.26428571428571423
         ],
         "matches": "y",
         "showticklabels": false
        },
        "yaxis48": {
         "anchor": "x48",
         "domain": [
          0.2207142857142857,
          0.26428571428571423
         ],
         "matches": "y",
         "showticklabels": false
        },
        "yaxis49": {
         "anchor": "x49",
         "domain": [
          0.29428571428571426,
          0.33785714285714286
         ],
         "matches": "y",
         "title": {
          "text": "Quantity Sold (kg)"
         }
        },
        "yaxis5": {
         "anchor": "x5",
         "domain": [
          0,
          0.043571428571428567
         ],
         "matches": "y",
         "showticklabels": false
        },
        "yaxis50": {
         "anchor": "x50",
         "domain": [
          0.29428571428571426,
          0.33785714285714286
         ],
         "matches": "y",
         "showticklabels": false
        },
        "yaxis51": {
         "anchor": "x51",
         "domain": [
          0.29428571428571426,
          0.33785714285714286
         ],
         "matches": "y",
         "showticklabels": false
        },
        "yaxis52": {
         "anchor": "x52",
         "domain": [
          0.29428571428571426,
          0.33785714285714286
         ],
         "matches": "y",
         "showticklabels": false
        },
        "yaxis53": {
         "anchor": "x53",
         "domain": [
          0.29428571428571426,
          0.33785714285714286
         ],
         "matches": "y",
         "showticklabels": false
        },
        "yaxis54": {
         "anchor": "x54",
         "domain": [
          0.29428571428571426,
          0.33785714285714286
         ],
         "matches": "y",
         "showticklabels": false
        },
        "yaxis55": {
         "anchor": "x55",
         "domain": [
          0.29428571428571426,
          0.33785714285714286
         ],
         "matches": "y",
         "showticklabels": false
        },
        "yaxis56": {
         "anchor": "x56",
         "domain": [
          0.29428571428571426,
          0.33785714285714286
         ],
         "matches": "y",
         "showticklabels": false
        },
        "yaxis57": {
         "anchor": "x57",
         "domain": [
          0.29428571428571426,
          0.33785714285714286
         ],
         "matches": "y",
         "showticklabels": false
        },
        "yaxis58": {
         "anchor": "x58",
         "domain": [
          0.29428571428571426,
          0.33785714285714286
         ],
         "matches": "y",
         "showticklabels": false
        },
        "yaxis59": {
         "anchor": "x59",
         "domain": [
          0.29428571428571426,
          0.33785714285714286
         ],
         "matches": "y",
         "showticklabels": false
        },
        "yaxis6": {
         "anchor": "x6",
         "domain": [
          0,
          0.043571428571428567
         ],
         "matches": "y",
         "showticklabels": false
        },
        "yaxis60": {
         "anchor": "x60",
         "domain": [
          0.29428571428571426,
          0.33785714285714286
         ],
         "matches": "y",
         "showticklabels": false
        },
        "yaxis61": {
         "anchor": "x61",
         "domain": [
          0.3678571428571428,
          0.41142857142857137
         ],
         "matches": "y",
         "title": {
          "text": "Quantity Sold (kg)"
         }
        },
        "yaxis62": {
         "anchor": "x62",
         "domain": [
          0.3678571428571428,
          0.41142857142857137
         ],
         "matches": "y",
         "showticklabels": false
        },
        "yaxis63": {
         "anchor": "x63",
         "domain": [
          0.3678571428571428,
          0.41142857142857137
         ],
         "matches": "y",
         "showticklabels": false
        },
        "yaxis64": {
         "anchor": "x64",
         "domain": [
          0.3678571428571428,
          0.41142857142857137
         ],
         "matches": "y",
         "showticklabels": false
        },
        "yaxis65": {
         "anchor": "x65",
         "domain": [
          0.3678571428571428,
          0.41142857142857137
         ],
         "matches": "y",
         "showticklabels": false
        },
        "yaxis66": {
         "anchor": "x66",
         "domain": [
          0.3678571428571428,
          0.41142857142857137
         ],
         "matches": "y",
         "showticklabels": false
        },
        "yaxis67": {
         "anchor": "x67",
         "domain": [
          0.3678571428571428,
          0.41142857142857137
         ],
         "matches": "y",
         "showticklabels": false
        },
        "yaxis68": {
         "anchor": "x68",
         "domain": [
          0.3678571428571428,
          0.41142857142857137
         ],
         "matches": "y",
         "showticklabels": false
        },
        "yaxis69": {
         "anchor": "x69",
         "domain": [
          0.3678571428571428,
          0.41142857142857137
         ],
         "matches": "y",
         "showticklabels": false
        },
        "yaxis7": {
         "anchor": "x7",
         "domain": [
          0,
          0.043571428571428567
         ],
         "matches": "y",
         "showticklabels": false
        },
        "yaxis70": {
         "anchor": "x70",
         "domain": [
          0.3678571428571428,
          0.41142857142857137
         ],
         "matches": "y",
         "showticklabels": false
        },
        "yaxis71": {
         "anchor": "x71",
         "domain": [
          0.3678571428571428,
          0.41142857142857137
         ],
         "matches": "y",
         "showticklabels": false
        },
        "yaxis72": {
         "anchor": "x72",
         "domain": [
          0.3678571428571428,
          0.41142857142857137
         ],
         "matches": "y",
         "showticklabels": false
        },
        "yaxis73": {
         "anchor": "x73",
         "domain": [
          0.4414285714285714,
          0.485
         ],
         "matches": "y",
         "title": {
          "text": "Quantity Sold (kg)"
         }
        },
        "yaxis74": {
         "anchor": "x74",
         "domain": [
          0.4414285714285714,
          0.485
         ],
         "matches": "y",
         "showticklabels": false
        },
        "yaxis75": {
         "anchor": "x75",
         "domain": [
          0.4414285714285714,
          0.485
         ],
         "matches": "y",
         "showticklabels": false
        },
        "yaxis76": {
         "anchor": "x76",
         "domain": [
          0.4414285714285714,
          0.485
         ],
         "matches": "y",
         "showticklabels": false
        },
        "yaxis77": {
         "anchor": "x77",
         "domain": [
          0.4414285714285714,
          0.485
         ],
         "matches": "y",
         "showticklabels": false
        },
        "yaxis78": {
         "anchor": "x78",
         "domain": [
          0.4414285714285714,
          0.485
         ],
         "matches": "y",
         "showticklabels": false
        },
        "yaxis79": {
         "anchor": "x79",
         "domain": [
          0.4414285714285714,
          0.485
         ],
         "matches": "y",
         "showticklabels": false
        },
        "yaxis8": {
         "anchor": "x8",
         "domain": [
          0,
          0.043571428571428567
         ],
         "matches": "y",
         "showticklabels": false
        },
        "yaxis80": {
         "anchor": "x80",
         "domain": [
          0.4414285714285714,
          0.485
         ],
         "matches": "y",
         "showticklabels": false
        },
        "yaxis81": {
         "anchor": "x81",
         "domain": [
          0.4414285714285714,
          0.485
         ],
         "matches": "y",
         "showticklabels": false
        },
        "yaxis82": {
         "anchor": "x82",
         "domain": [
          0.4414285714285714,
          0.485
         ],
         "matches": "y",
         "showticklabels": false
        },
        "yaxis83": {
         "anchor": "x83",
         "domain": [
          0.4414285714285714,
          0.485
         ],
         "matches": "y",
         "showticklabels": false
        },
        "yaxis84": {
         "anchor": "x84",
         "domain": [
          0.4414285714285714,
          0.485
         ],
         "matches": "y",
         "showticklabels": false
        },
        "yaxis85": {
         "anchor": "x85",
         "domain": [
          0.5149999999999999,
          0.5585714285714285
         ],
         "matches": "y",
         "title": {
          "text": "Quantity Sold (kg)"
         }
        },
        "yaxis86": {
         "anchor": "x86",
         "domain": [
          0.5149999999999999,
          0.5585714285714285
         ],
         "matches": "y",
         "showticklabels": false
        },
        "yaxis87": {
         "anchor": "x87",
         "domain": [
          0.5149999999999999,
          0.5585714285714285
         ],
         "matches": "y",
         "showticklabels": false
        },
        "yaxis88": {
         "anchor": "x88",
         "domain": [
          0.5149999999999999,
          0.5585714285714285
         ],
         "matches": "y",
         "showticklabels": false
        },
        "yaxis89": {
         "anchor": "x89",
         "domain": [
          0.5149999999999999,
          0.5585714285714285
         ],
         "matches": "y",
         "showticklabels": false
        },
        "yaxis9": {
         "anchor": "x9",
         "domain": [
          0,
          0.043571428571428567
         ],
         "matches": "y",
         "showticklabels": false
        },
        "yaxis90": {
         "anchor": "x90",
         "domain": [
          0.5149999999999999,
          0.5585714285714285
         ],
         "matches": "y",
         "showticklabels": false
        },
        "yaxis91": {
         "anchor": "x91",
         "domain": [
          0.5149999999999999,
          0.5585714285714285
         ],
         "matches": "y",
         "showticklabels": false
        },
        "yaxis92": {
         "anchor": "x92",
         "domain": [
          0.5149999999999999,
          0.5585714285714285
         ],
         "matches": "y",
         "showticklabels": false
        },
        "yaxis93": {
         "anchor": "x93",
         "domain": [
          0.5149999999999999,
          0.5585714285714285
         ],
         "matches": "y",
         "showticklabels": false
        },
        "yaxis94": {
         "anchor": "x94",
         "domain": [
          0.5149999999999999,
          0.5585714285714285
         ],
         "matches": "y",
         "showticklabels": false
        },
        "yaxis95": {
         "anchor": "x95",
         "domain": [
          0.5149999999999999,
          0.5585714285714285
         ],
         "matches": "y",
         "showticklabels": false
        },
        "yaxis96": {
         "anchor": "x96",
         "domain": [
          0.5149999999999999,
          0.5585714285714285
         ],
         "matches": "y",
         "showticklabels": false
        },
        "yaxis97": {
         "anchor": "x97",
         "domain": [
          0.5885714285714285,
          0.6321428571428571
         ],
         "matches": "y",
         "title": {
          "text": "Quantity Sold (kg)"
         }
        },
        "yaxis98": {
         "anchor": "x98",
         "domain": [
          0.5885714285714285,
          0.6321428571428571
         ],
         "matches": "y",
         "showticklabels": false
        },
        "yaxis99": {
         "anchor": "x99",
         "domain": [
          0.5885714285714285,
          0.6321428571428571
         ],
         "matches": "y",
         "showticklabels": false
        }
       }
      }
     },
     "metadata": {},
     "output_type": "display_data"
    }
   ],
   "source": [
    "sales_category = df.groupby([\"year\" , \"month_of_season\" , \"month\" , \"Season\" , \"day of week\"])[[\"Quantity Sold (kg)\"]].sum().reset_index()\n",
    "\n",
    "fig = px.bar(sales_category , x = \"day of week\" , y =\"Quantity Sold (kg)\" , color = \"month_of_season\" , facet_col = \"month\"\n",
    "             , facet_row = \"year\" , height = 3000 , title = \"Total Sales by day of the week and Season\"  )\n",
    "\n",
    "fig.show()"
   ]
  },
  {
   "cell_type": "markdown",
   "metadata": {},
   "source": [
    "### Examining the effect of day of week on sales volume"
   ]
  },
  {
   "cell_type": "code",
   "execution_count": 44,
   "metadata": {},
   "outputs": [
    {
     "data": {
      "application/vnd.plotly.v1+json": {
       "config": {
        "plotlyServerURL": "https://plot.ly"
       },
       "data": [
        {
         "alignmentgroup": "True",
         "hovertemplate": "year=2009<br>month_of_season=fall<br>day of week=%{x}<br>Quantity Sold (kg)=%{y}<br>month=%{marker.color}<extra></extra>",
         "legendgroup": "",
         "marker": {
          "color": [
           10,
           10,
           10,
           10,
           10,
           10,
           10,
           11,
           11,
           11,
           11,
           11,
           11,
           11,
           12,
           12,
           12,
           12,
           12,
           12,
           12
          ],
          "coloraxis": "coloraxis",
          "pattern": {
           "shape": ""
          }
         },
         "name": "",
         "offsetgroup": "",
         "orientation": "v",
         "showlegend": false,
         "textposition": "auto",
         "type": "bar",
         "x": [
          0,
          1,
          2,
          3,
          4,
          5,
          6,
          0,
          1,
          2,
          3,
          4,
          5,
          6,
          0,
          1,
          2,
          3,
          4,
          5,
          6
         ],
         "xaxis": "x53",
         "y": [
          910,
          813,
          898,
          1041,
          1185,
          903,
          741,
          951,
          654,
          621,
          797,
          936,
          763,
          955,
          781,
          1124,
          811,
          1063,
          671,
          671,
          845
         ],
         "yaxis": "y53"
        },
        {
         "alignmentgroup": "True",
         "hovertemplate": "year=2009<br>month_of_season=spring<br>day of week=%{x}<br>Quantity Sold (kg)=%{y}<br>month=%{marker.color}<extra></extra>",
         "legendgroup": "",
         "marker": {
          "color": [
           4,
           4,
           4,
           4,
           4,
           4,
           4,
           5,
           5,
           5,
           5,
           5,
           5,
           5,
           6,
           6,
           6,
           6,
           6,
           6,
           6
          ],
          "coloraxis": "coloraxis",
          "pattern": {
           "shape": ""
          }
         },
         "name": "",
         "offsetgroup": "",
         "orientation": "v",
         "showlegend": false,
         "textposition": "auto",
         "type": "bar",
         "x": [
          0,
          1,
          2,
          3,
          4,
          5,
          6,
          0,
          1,
          2,
          3,
          4,
          5,
          6,
          0,
          1,
          2,
          3,
          4,
          5,
          6
         ],
         "xaxis": "x54",
         "y": [
          619,
          904,
          923,
          1031,
          647,
          749,
          923,
          803,
          946,
          762,
          683,
          961,
          904,
          763,
          544,
          479,
          497,
          554,
          497,
          503,
          468
         ],
         "yaxis": "y54"
        },
        {
         "alignmentgroup": "True",
         "hovertemplate": "year=2009<br>month_of_season=summer<br>day of week=%{x}<br>Quantity Sold (kg)=%{y}<br>month=%{marker.color}<extra></extra>",
         "legendgroup": "",
         "marker": {
          "color": [
           7,
           7,
           7,
           7,
           7,
           7,
           7,
           8,
           8,
           8,
           8,
           8,
           8,
           8,
           9,
           9,
           9,
           9,
           9,
           9,
           9
          ],
          "coloraxis": "coloraxis",
          "pattern": {
           "shape": ""
          }
         },
         "name": "",
         "offsetgroup": "",
         "orientation": "v",
         "showlegend": false,
         "textposition": "auto",
         "type": "bar",
         "x": [
          0,
          1,
          2,
          3,
          4,
          5,
          6,
          0,
          1,
          2,
          3,
          4,
          5,
          6,
          0,
          1,
          2,
          3,
          4,
          5,
          6
         ],
         "xaxis": "x55",
         "y": [
          416,
          459,
          501,
          722,
          668,
          458,
          529,
          764,
          602,
          336,
          510,
          426,
          524,
          660,
          502,
          758,
          622,
          398,
          516,
          564,
          518
         ],
         "yaxis": "y55"
        },
        {
         "alignmentgroup": "True",
         "hovertemplate": "year=2009<br>month_of_season=winter<br>day of week=%{x}<br>Quantity Sold (kg)=%{y}<br>month=%{marker.color}<extra></extra>",
         "legendgroup": "",
         "marker": {
          "color": [
           1,
           1,
           1,
           1,
           1,
           1,
           1,
           2,
           2,
           2,
           2,
           2,
           2,
           2,
           3,
           3,
           3,
           3,
           3,
           3,
           3
          ],
          "coloraxis": "coloraxis",
          "pattern": {
           "shape": ""
          }
         },
         "name": "",
         "offsetgroup": "",
         "orientation": "v",
         "showlegend": false,
         "textposition": "auto",
         "type": "bar",
         "x": [
          0,
          1,
          2,
          3,
          4,
          5,
          6,
          0,
          1,
          2,
          3,
          4,
          5,
          6,
          0,
          1,
          2,
          3,
          4,
          5,
          6
         ],
         "xaxis": "x56",
         "y": [
          880,
          966,
          553,
          1130,
          1066,
          1155,
          776,
          906,
          700,
          716,
          788,
          739,
          711,
          755,
          1349,
          1024,
          703,
          556,
          1015,
          783,
          1081
         ],
         "yaxis": "y56"
        },
        {
         "alignmentgroup": "True",
         "hovertemplate": "year=2010<br>month_of_season=fall<br>day of week=%{x}<br>Quantity Sold (kg)=%{y}<br>month=%{marker.color}<extra></extra>",
         "legendgroup": "",
         "marker": {
          "color": [
           10,
           10,
           10,
           10,
           10,
           10,
           10,
           11,
           11,
           11,
           11,
           11,
           11,
           11,
           12,
           12,
           12,
           12,
           12,
           12,
           12
          ],
          "coloraxis": "coloraxis",
          "pattern": {
           "shape": ""
          }
         },
         "name": "",
         "offsetgroup": "",
         "orientation": "v",
         "showlegend": false,
         "textposition": "auto",
         "type": "bar",
         "x": [
          0,
          1,
          2,
          3,
          4,
          5,
          6,
          0,
          1,
          2,
          3,
          4,
          5,
          6,
          0,
          1,
          2,
          3,
          4,
          5,
          6
         ],
         "xaxis": "x49",
         "y": [
          812,
          873,
          714,
          668,
          1137,
          1008,
          1138,
          929,
          1019,
          756,
          833,
          699,
          870,
          670,
          881,
          684,
          938,
          1204,
          1119,
          884,
          703
         ],
         "yaxis": "y49"
        },
        {
         "alignmentgroup": "True",
         "hovertemplate": "year=2010<br>month_of_season=spring<br>day of week=%{x}<br>Quantity Sold (kg)=%{y}<br>month=%{marker.color}<extra></extra>",
         "legendgroup": "",
         "marker": {
          "color": [
           4,
           4,
           4,
           4,
           4,
           4,
           4,
           5,
           5,
           5,
           5,
           5,
           5,
           5,
           6,
           6,
           6,
           6,
           6,
           6,
           6
          ],
          "coloraxis": "coloraxis",
          "pattern": {
           "shape": ""
          }
         },
         "name": "",
         "offsetgroup": "",
         "orientation": "v",
         "showlegend": false,
         "textposition": "auto",
         "type": "bar",
         "x": [
          0,
          1,
          2,
          3,
          4,
          5,
          6,
          0,
          1,
          2,
          3,
          4,
          5,
          6,
          0,
          1,
          2,
          3,
          4,
          5,
          6
         ],
         "xaxis": "x50",
         "y": [
          722,
          772,
          921,
          1032,
          846,
          784,
          745,
          1157,
          675,
          935,
          856,
          849,
          692,
          1015,
          537,
          779,
          603,
          588,
          581,
          487,
          516
         ],
         "yaxis": "y50"
        },
        {
         "alignmentgroup": "True",
         "hovertemplate": "year=2010<br>month_of_season=summer<br>day of week=%{x}<br>Quantity Sold (kg)=%{y}<br>month=%{marker.color}<extra></extra>",
         "legendgroup": "",
         "marker": {
          "color": [
           7,
           7,
           7,
           7,
           7,
           7,
           7,
           8,
           8,
           8,
           8,
           8,
           8,
           8,
           9,
           9,
           9,
           9,
           9,
           9,
           9
          ],
          "coloraxis": "coloraxis",
          "pattern": {
           "shape": ""
          }
         },
         "name": "",
         "offsetgroup": "",
         "orientation": "v",
         "showlegend": false,
         "textposition": "auto",
         "type": "bar",
         "x": [
          0,
          1,
          2,
          3,
          4,
          5,
          6,
          0,
          1,
          2,
          3,
          4,
          5,
          6,
          0,
          1,
          2,
          3,
          4,
          5,
          6
         ],
         "xaxis": "x51",
         "y": [
          491,
          591,
          625,
          382,
          864,
          627,
          461,
          475,
          683,
          531,
          589,
          480,
          377,
          668,
          445,
          323,
          588,
          797,
          471,
          466,
          544
         ],
         "yaxis": "y51"
        },
        {
         "alignmentgroup": "True",
         "hovertemplate": "year=2010<br>month_of_season=winter<br>day of week=%{x}<br>Quantity Sold (kg)=%{y}<br>month=%{marker.color}<extra></extra>",
         "legendgroup": "",
         "marker": {
          "color": [
           1,
           1,
           1,
           1,
           1,
           1,
           1,
           2,
           2,
           2,
           2,
           2,
           2,
           2,
           3,
           3,
           3,
           3,
           3,
           3,
           3
          ],
          "coloraxis": "coloraxis",
          "pattern": {
           "shape": ""
          }
         },
         "name": "",
         "offsetgroup": "",
         "orientation": "v",
         "showlegend": false,
         "textposition": "auto",
         "type": "bar",
         "x": [
          0,
          1,
          2,
          3,
          4,
          5,
          6,
          0,
          1,
          2,
          3,
          4,
          5,
          6,
          0,
          1,
          2,
          3,
          4,
          5,
          6
         ],
         "xaxis": "x52",
         "y": [
          769,
          727,
          602,
          874,
          1080,
          1002,
          1117,
          885,
          541,
          766,
          940,
          951,
          522,
          902,
          868,
          1054,
          897,
          742,
          887,
          672,
          759
         ],
         "yaxis": "y52"
        },
        {
         "alignmentgroup": "True",
         "hovertemplate": "year=2011<br>month_of_season=fall<br>day of week=%{x}<br>Quantity Sold (kg)=%{y}<br>month=%{marker.color}<extra></extra>",
         "legendgroup": "",
         "marker": {
          "color": [
           10,
           10,
           10,
           10,
           10,
           10,
           10,
           11,
           11,
           11,
           11,
           11,
           11,
           11,
           12,
           12,
           12,
           12,
           12,
           12,
           12
          ],
          "coloraxis": "coloraxis",
          "pattern": {
           "shape": ""
          }
         },
         "name": "",
         "offsetgroup": "",
         "orientation": "v",
         "showlegend": false,
         "textposition": "auto",
         "type": "bar",
         "x": [
          0,
          1,
          2,
          3,
          4,
          5,
          6,
          0,
          1,
          2,
          3,
          4,
          5,
          6,
          0,
          1,
          2,
          3,
          4,
          5,
          6
         ],
         "xaxis": "x45",
         "y": [
          975,
          883,
          739,
          506,
          883,
          850,
          1092,
          933,
          1007,
          913,
          959,
          660,
          674,
          741,
          912,
          924,
          864,
          1075,
          1096,
          1200,
          913
         ],
         "yaxis": "y45"
        },
        {
         "alignmentgroup": "True",
         "hovertemplate": "year=2011<br>month_of_season=spring<br>day of week=%{x}<br>Quantity Sold (kg)=%{y}<br>month=%{marker.color}<extra></extra>",
         "legendgroup": "",
         "marker": {
          "color": [
           4,
           4,
           4,
           4,
           4,
           4,
           4,
           5,
           5,
           5,
           5,
           5,
           5,
           5,
           6,
           6,
           6,
           6,
           6,
           6,
           6
          ],
          "coloraxis": "coloraxis",
          "pattern": {
           "shape": ""
          }
         },
         "name": "",
         "offsetgroup": "",
         "orientation": "v",
         "showlegend": false,
         "textposition": "auto",
         "type": "bar",
         "x": [
          0,
          1,
          2,
          3,
          4,
          5,
          6,
          0,
          1,
          2,
          3,
          4,
          5,
          6,
          0,
          1,
          2,
          3,
          4,
          5,
          6
         ],
         "xaxis": "x46",
         "y": [
          705,
          725,
          833,
          917,
          925,
          869,
          808,
          1036,
          1019,
          702,
          963,
          868,
          1040,
          1050,
          449,
          680,
          498,
          618,
          558,
          305,
          573
         ],
         "yaxis": "y46"
        },
        {
         "alignmentgroup": "True",
         "hovertemplate": "year=2011<br>month_of_season=summer<br>day of week=%{x}<br>Quantity Sold (kg)=%{y}<br>month=%{marker.color}<extra></extra>",
         "legendgroup": "",
         "marker": {
          "color": [
           7,
           7,
           7,
           7,
           7,
           7,
           7,
           8,
           8,
           8,
           8,
           8,
           8,
           8,
           9,
           9,
           9,
           9,
           9,
           9,
           9
          ],
          "coloraxis": "coloraxis",
          "pattern": {
           "shape": ""
          }
         },
         "name": "",
         "offsetgroup": "",
         "orientation": "v",
         "showlegend": false,
         "textposition": "auto",
         "type": "bar",
         "x": [
          0,
          1,
          2,
          3,
          4,
          5,
          6,
          0,
          1,
          2,
          3,
          4,
          5,
          6,
          0,
          1,
          2,
          3,
          4,
          5,
          6
         ],
         "xaxis": "x47",
         "y": [
          663,
          408,
          505,
          534,
          686,
          432,
          480,
          705,
          639,
          751,
          447,
          613,
          425,
          355,
          438,
          462,
          432,
          715,
          665,
          522,
          618
         ],
         "yaxis": "y47"
        },
        {
         "alignmentgroup": "True",
         "hovertemplate": "year=2011<br>month_of_season=winter<br>day of week=%{x}<br>Quantity Sold (kg)=%{y}<br>month=%{marker.color}<extra></extra>",
         "legendgroup": "",
         "marker": {
          "color": [
           1,
           1,
           1,
           1,
           1,
           1,
           1,
           2,
           2,
           2,
           2,
           2,
           2,
           2,
           3,
           3,
           3,
           3,
           3,
           3,
           3
          ],
          "coloraxis": "coloraxis",
          "pattern": {
           "shape": ""
          }
         },
         "name": "",
         "offsetgroup": "",
         "orientation": "v",
         "showlegend": false,
         "textposition": "auto",
         "type": "bar",
         "x": [
          0,
          1,
          2,
          3,
          4,
          5,
          6,
          0,
          1,
          2,
          3,
          4,
          5,
          6,
          0,
          1,
          2,
          3,
          4,
          5,
          6
         ],
         "xaxis": "x48",
         "y": [
          1147,
          769,
          772,
          708,
          786,
          1056,
          1163,
          737,
          697,
          966,
          749,
          579,
          684,
          938,
          737,
          1045,
          777,
          1139,
          999,
          809,
          862
         ],
         "yaxis": "y48"
        },
        {
         "alignmentgroup": "True",
         "hovertemplate": "year=2012<br>month_of_season=fall<br>day of week=%{x}<br>Quantity Sold (kg)=%{y}<br>month=%{marker.color}<extra></extra>",
         "legendgroup": "",
         "marker": {
          "color": [
           10,
           10,
           10,
           10,
           10,
           10,
           10,
           11,
           11,
           11,
           11,
           11,
           11,
           11,
           12,
           12,
           12,
           12,
           12,
           12,
           12
          ],
          "coloraxis": "coloraxis",
          "pattern": {
           "shape": ""
          }
         },
         "name": "",
         "offsetgroup": "",
         "orientation": "v",
         "showlegend": false,
         "textposition": "auto",
         "type": "bar",
         "x": [
          0,
          1,
          2,
          3,
          4,
          5,
          6,
          0,
          1,
          2,
          3,
          4,
          5,
          6,
          0,
          1,
          2,
          3,
          4,
          5,
          6
         ],
         "xaxis": "x41",
         "y": [
          982,
          1058,
          912,
          860,
          898,
          743,
          785,
          778,
          936,
          775,
          931,
          1153,
          985,
          582,
          991,
          944,
          709,
          943,
          705,
          1005,
          1104
         ],
         "yaxis": "y41"
        },
        {
         "alignmentgroup": "True",
         "hovertemplate": "year=2012<br>month_of_season=spring<br>day of week=%{x}<br>Quantity Sold (kg)=%{y}<br>month=%{marker.color}<extra></extra>",
         "legendgroup": "",
         "marker": {
          "color": [
           4,
           4,
           4,
           4,
           4,
           4,
           4,
           5,
           5,
           5,
           5,
           5,
           5,
           5,
           6,
           6,
           6,
           6,
           6,
           6,
           6
          ],
          "coloraxis": "coloraxis",
          "pattern": {
           "shape": ""
          }
         },
         "name": "",
         "offsetgroup": "",
         "orientation": "v",
         "showlegend": false,
         "textposition": "auto",
         "type": "bar",
         "x": [
          0,
          1,
          2,
          3,
          4,
          5,
          6,
          0,
          1,
          2,
          3,
          4,
          5,
          6,
          0,
          1,
          2,
          3,
          4,
          5,
          6
         ],
         "xaxis": "x42",
         "y": [
          1204,
          802,
          852,
          658,
          730,
          822,
          1019,
          629,
          1147,
          840,
          842,
          752,
          561,
          693,
          530,
          444,
          623,
          534,
          671,
          574,
          322
         ],
         "yaxis": "y42"
        },
        {
         "alignmentgroup": "True",
         "hovertemplate": "year=2012<br>month_of_season=summer<br>day of week=%{x}<br>Quantity Sold (kg)=%{y}<br>month=%{marker.color}<extra></extra>",
         "legendgroup": "",
         "marker": {
          "color": [
           7,
           7,
           7,
           7,
           7,
           7,
           7,
           8,
           8,
           8,
           8,
           8,
           8,
           8,
           9,
           9,
           9,
           9,
           9,
           9,
           9
          ],
          "coloraxis": "coloraxis",
          "pattern": {
           "shape": ""
          }
         },
         "name": "",
         "offsetgroup": "",
         "orientation": "v",
         "showlegend": false,
         "textposition": "auto",
         "type": "bar",
         "x": [
          0,
          1,
          2,
          3,
          4,
          5,
          6,
          0,
          1,
          2,
          3,
          4,
          5,
          6,
          0,
          1,
          2,
          3,
          4,
          5,
          6
         ],
         "xaxis": "x43",
         "y": [
          699,
          690,
          602,
          570,
          395,
          497,
          635,
          638,
          401,
          549,
          673,
          547,
          514,
          490,
          642,
          623,
          532,
          455,
          582,
          447,
          711
         ],
         "yaxis": "y43"
        },
        {
         "alignmentgroup": "True",
         "hovertemplate": "year=2012<br>month_of_season=winter<br>day of week=%{x}<br>Quantity Sold (kg)=%{y}<br>month=%{marker.color}<extra></extra>",
         "legendgroup": "",
         "marker": {
          "color": [
           1,
           1,
           1,
           1,
           1,
           1,
           1,
           2,
           2,
           2,
           2,
           2,
           2,
           2,
           3,
           3,
           3,
           3,
           3,
           3,
           3
          ],
          "coloraxis": "coloraxis",
          "pattern": {
           "shape": ""
          }
         },
         "name": "",
         "offsetgroup": "",
         "orientation": "v",
         "showlegend": false,
         "textposition": "auto",
         "type": "bar",
         "x": [
          0,
          1,
          2,
          3,
          4,
          5,
          6,
          0,
          1,
          2,
          3,
          4,
          5,
          6,
          0,
          1,
          2,
          3,
          4,
          5,
          6
         ],
         "xaxis": "x44",
         "y": [
          931,
          746,
          828,
          561,
          865,
          701,
          953,
          1013,
          892,
          966,
          976,
          735,
          881,
          759,
          505,
          861,
          746,
          1079,
          1103,
          980,
          938
         ],
         "yaxis": "y44"
        },
        {
         "alignmentgroup": "True",
         "hovertemplate": "year=2013<br>month_of_season=fall<br>day of week=%{x}<br>Quantity Sold (kg)=%{y}<br>month=%{marker.color}<extra></extra>",
         "legendgroup": "",
         "marker": {
          "color": [
           10,
           10,
           10,
           10,
           10,
           10,
           10,
           11,
           11,
           11,
           11,
           11,
           11,
           11,
           12,
           12,
           12,
           12,
           12,
           12,
           12
          ],
          "coloraxis": "coloraxis",
          "pattern": {
           "shape": ""
          }
         },
         "name": "",
         "offsetgroup": "",
         "orientation": "v",
         "showlegend": false,
         "textposition": "auto",
         "type": "bar",
         "x": [
          0,
          1,
          2,
          3,
          4,
          5,
          6,
          0,
          1,
          2,
          3,
          4,
          5,
          6,
          0,
          1,
          2,
          3,
          4,
          5,
          6
         ],
         "xaxis": "x37",
         "y": [
          767,
          943,
          1099,
          1143,
          814,
          809,
          935,
          709,
          789,
          632,
          824,
          873,
          879,
          857,
          761,
          1144,
          688,
          836,
          657,
          692,
          1095
         ],
         "yaxis": "y37"
        },
        {
         "alignmentgroup": "True",
         "hovertemplate": "year=2013<br>month_of_season=spring<br>day of week=%{x}<br>Quantity Sold (kg)=%{y}<br>month=%{marker.color}<extra></extra>",
         "legendgroup": "",
         "marker": {
          "color": [
           4,
           4,
           4,
           4,
           4,
           4,
           4,
           5,
           5,
           5,
           5,
           5,
           5,
           5,
           6,
           6,
           6,
           6,
           6,
           6,
           6
          ],
          "coloraxis": "coloraxis",
          "pattern": {
           "shape": ""
          }
         },
         "name": "",
         "offsetgroup": "",
         "orientation": "v",
         "showlegend": false,
         "textposition": "auto",
         "type": "bar",
         "x": [
          0,
          1,
          2,
          3,
          4,
          5,
          6,
          0,
          1,
          2,
          3,
          4,
          5,
          6,
          0,
          1,
          2,
          3,
          4,
          5,
          6
         ],
         "xaxis": "x38",
         "y": [
          929,
          1135,
          629,
          767,
          479,
          934,
          688,
          815,
          703,
          1037,
          868,
          1122,
          780,
          645,
          418,
          475,
          570,
          502,
          402,
          672,
          619
         ],
         "yaxis": "y38"
        },
        {
         "alignmentgroup": "True",
         "hovertemplate": "year=2013<br>month_of_season=summer<br>day of week=%{x}<br>Quantity Sold (kg)=%{y}<br>month=%{marker.color}<extra></extra>",
         "legendgroup": "",
         "marker": {
          "color": [
           7,
           7,
           7,
           7,
           7,
           7,
           7,
           8,
           8,
           8,
           8,
           8,
           8,
           8,
           9,
           9,
           9,
           9,
           9,
           9,
           9
          ],
          "coloraxis": "coloraxis",
          "pattern": {
           "shape": ""
          }
         },
         "name": "",
         "offsetgroup": "",
         "orientation": "v",
         "showlegend": false,
         "textposition": "auto",
         "type": "bar",
         "x": [
          0,
          1,
          2,
          3,
          4,
          5,
          6,
          0,
          1,
          2,
          3,
          4,
          5,
          6,
          0,
          1,
          2,
          3,
          4,
          5,
          6
         ],
         "xaxis": "x39",
         "y": [
          737,
          774,
          787,
          450,
          496,
          520,
          479,
          706,
          524,
          491,
          643,
          617,
          563,
          604,
          624,
          458,
          488,
          438,
          571,
          527,
          691
         ],
         "yaxis": "y39"
        },
        {
         "alignmentgroup": "True",
         "hovertemplate": "year=2013<br>month_of_season=winter<br>day of week=%{x}<br>Quantity Sold (kg)=%{y}<br>month=%{marker.color}<extra></extra>",
         "legendgroup": "",
         "marker": {
          "color": [
           1,
           1,
           1,
           1,
           1,
           1,
           1,
           2,
           2,
           2,
           2,
           2,
           2,
           2,
           3,
           3,
           3,
           3,
           3,
           3,
           3
          ],
          "coloraxis": "coloraxis",
          "pattern": {
           "shape": ""
          }
         },
         "name": "",
         "offsetgroup": "",
         "orientation": "v",
         "showlegend": false,
         "textposition": "auto",
         "type": "bar",
         "x": [
          0,
          1,
          2,
          3,
          4,
          5,
          6,
          0,
          1,
          2,
          3,
          4,
          5,
          6,
          0,
          1,
          2,
          3,
          4,
          5,
          6
         ],
         "xaxis": "x40",
         "y": [
          921,
          958,
          1096,
          909,
          698,
          765,
          655,
          729,
          666,
          794,
          843,
          829,
          830,
          883,
          789,
          833,
          896,
          817,
          878,
          1221,
          1007
         ],
         "yaxis": "y40"
        },
        {
         "alignmentgroup": "True",
         "hovertemplate": "year=2014<br>month_of_season=fall<br>day of week=%{x}<br>Quantity Sold (kg)=%{y}<br>month=%{marker.color}<extra></extra>",
         "legendgroup": "",
         "marker": {
          "color": [
           10,
           10,
           10,
           10,
           10,
           10,
           10,
           11,
           11,
           11,
           11,
           11,
           11,
           11,
           12,
           12,
           12,
           12,
           12,
           12,
           12
          ],
          "coloraxis": "coloraxis",
          "pattern": {
           "shape": ""
          }
         },
         "name": "",
         "offsetgroup": "",
         "orientation": "v",
         "showlegend": false,
         "textposition": "auto",
         "type": "bar",
         "x": [
          0,
          1,
          2,
          3,
          4,
          5,
          6,
          0,
          1,
          2,
          3,
          4,
          5,
          6,
          0,
          1,
          2,
          3,
          4,
          5,
          6
         ],
         "xaxis": "x33",
         "y": [
          606,
          814,
          931,
          1030,
          980,
          748,
          796,
          764,
          818,
          911,
          886,
          635,
          1007,
          981,
          1036,
          1035,
          953,
          906,
          963,
          713,
          882
         ],
         "yaxis": "y33"
        },
        {
         "alignmentgroup": "True",
         "hovertemplate": "year=2014<br>month_of_season=spring<br>day of week=%{x}<br>Quantity Sold (kg)=%{y}<br>month=%{marker.color}<extra></extra>",
         "legendgroup": "",
         "marker": {
          "color": [
           4,
           4,
           4,
           4,
           4,
           4,
           4,
           5,
           5,
           5,
           5,
           5,
           5,
           5,
           6,
           6,
           6,
           6,
           6,
           6,
           6
          ],
          "coloraxis": "coloraxis",
          "pattern": {
           "shape": ""
          }
         },
         "name": "",
         "offsetgroup": "",
         "orientation": "v",
         "showlegend": false,
         "textposition": "auto",
         "type": "bar",
         "x": [
          0,
          1,
          2,
          3,
          4,
          5,
          6,
          0,
          1,
          2,
          3,
          4,
          5,
          6,
          0,
          1,
          2,
          3,
          4,
          5,
          6
         ],
         "xaxis": "x34",
         "y": [
          919,
          1146,
          1002,
          933,
          802,
          814,
          856,
          702,
          746,
          1001,
          982,
          906,
          900,
          740,
          766,
          624,
          411,
          627,
          609,
          560,
          686
         ],
         "yaxis": "y34"
        },
        {
         "alignmentgroup": "True",
         "hovertemplate": "year=2014<br>month_of_season=summer<br>day of week=%{x}<br>Quantity Sold (kg)=%{y}<br>month=%{marker.color}<extra></extra>",
         "legendgroup": "",
         "marker": {
          "color": [
           7,
           7,
           7,
           7,
           7,
           7,
           7,
           8,
           8,
           8,
           8,
           8,
           8,
           8,
           9,
           9,
           9,
           9,
           9,
           9,
           9
          ],
          "coloraxis": "coloraxis",
          "pattern": {
           "shape": ""
          }
         },
         "name": "",
         "offsetgroup": "",
         "orientation": "v",
         "showlegend": false,
         "textposition": "auto",
         "type": "bar",
         "x": [
          0,
          1,
          2,
          3,
          4,
          5,
          6,
          0,
          1,
          2,
          3,
          4,
          5,
          6,
          0,
          1,
          2,
          3,
          4,
          5,
          6
         ],
         "xaxis": "x35",
         "y": [
          309,
          653,
          647,
          791,
          467,
          523,
          528,
          383,
          446,
          561,
          527,
          655,
          617,
          639,
          657,
          439,
          395,
          390,
          570,
          443,
          446
         ],
         "yaxis": "y35"
        },
        {
         "alignmentgroup": "True",
         "hovertemplate": "year=2014<br>month_of_season=winter<br>day of week=%{x}<br>Quantity Sold (kg)=%{y}<br>month=%{marker.color}<extra></extra>",
         "legendgroup": "",
         "marker": {
          "color": [
           1,
           1,
           1,
           1,
           1,
           1,
           1,
           2,
           2,
           2,
           2,
           2,
           2,
           2,
           3,
           3,
           3,
           3,
           3,
           3,
           3
          ],
          "coloraxis": "coloraxis",
          "pattern": {
           "shape": ""
          }
         },
         "name": "",
         "offsetgroup": "",
         "orientation": "v",
         "showlegend": false,
         "textposition": "auto",
         "type": "bar",
         "x": [
          0,
          1,
          2,
          3,
          4,
          5,
          6,
          0,
          1,
          2,
          3,
          4,
          5,
          6,
          0,
          1,
          2,
          3,
          4,
          5,
          6
         ],
         "xaxis": "x36",
         "y": [
          781,
          1036,
          1144,
          862,
          715,
          813,
          930,
          966,
          851,
          743,
          819,
          845,
          790,
          719,
          1114,
          754,
          771,
          1086,
          798,
          1155,
          809
         ],
         "yaxis": "y36"
        },
        {
         "alignmentgroup": "True",
         "hovertemplate": "year=2015<br>month_of_season=fall<br>day of week=%{x}<br>Quantity Sold (kg)=%{y}<br>month=%{marker.color}<extra></extra>",
         "legendgroup": "",
         "marker": {
          "color": [
           10,
           10,
           10,
           10,
           10,
           10,
           10,
           11,
           11,
           11,
           11,
           11,
           11,
           11,
           12,
           12,
           12,
           12,
           12,
           12,
           12
          ],
          "coloraxis": "coloraxis",
          "pattern": {
           "shape": ""
          }
         },
         "name": "",
         "offsetgroup": "",
         "orientation": "v",
         "showlegend": false,
         "textposition": "auto",
         "type": "bar",
         "x": [
          0,
          1,
          2,
          3,
          4,
          5,
          6,
          0,
          1,
          2,
          3,
          4,
          5,
          6,
          0,
          1,
          2,
          3,
          4,
          5,
          6
         ],
         "xaxis": "x29",
         "y": [
          932,
          1029,
          519,
          988,
          915,
          958,
          663,
          869,
          723,
          584,
          974,
          845,
          648,
          941,
          697,
          941,
          927,
          1047,
          756,
          973,
          1000
         ],
         "yaxis": "y29"
        },
        {
         "alignmentgroup": "True",
         "hovertemplate": "year=2015<br>month_of_season=spring<br>day of week=%{x}<br>Quantity Sold (kg)=%{y}<br>month=%{marker.color}<extra></extra>",
         "legendgroup": "",
         "marker": {
          "color": [
           4,
           4,
           4,
           4,
           4,
           4,
           4,
           5,
           5,
           5,
           5,
           5,
           5,
           5,
           6,
           6,
           6,
           6,
           6,
           6,
           6
          ],
          "coloraxis": "coloraxis",
          "pattern": {
           "shape": ""
          }
         },
         "name": "",
         "offsetgroup": "",
         "orientation": "v",
         "showlegend": false,
         "textposition": "auto",
         "type": "bar",
         "x": [
          0,
          1,
          2,
          3,
          4,
          5,
          6,
          0,
          1,
          2,
          3,
          4,
          5,
          6,
          0,
          1,
          2,
          3,
          4,
          5,
          6
         ],
         "xaxis": "x30",
         "y": [
          907,
          736,
          1105,
          1106,
          998,
          830,
          765,
          1013,
          556,
          749,
          871,
          1159,
          1196,
          945,
          609,
          707,
          522,
          509,
          427,
          527,
          600
         ],
         "yaxis": "y30"
        },
        {
         "alignmentgroup": "True",
         "hovertemplate": "year=2015<br>month_of_season=summer<br>day of week=%{x}<br>Quantity Sold (kg)=%{y}<br>month=%{marker.color}<extra></extra>",
         "legendgroup": "",
         "marker": {
          "color": [
           7,
           7,
           7,
           7,
           7,
           7,
           7,
           8,
           8,
           8,
           8,
           8,
           8,
           8,
           9,
           9,
           9,
           9,
           9,
           9,
           9
          ],
          "coloraxis": "coloraxis",
          "pattern": {
           "shape": ""
          }
         },
         "name": "",
         "offsetgroup": "",
         "orientation": "v",
         "showlegend": false,
         "textposition": "auto",
         "type": "bar",
         "x": [
          0,
          1,
          2,
          3,
          4,
          5,
          6,
          0,
          1,
          2,
          3,
          4,
          5,
          6,
          0,
          1,
          2,
          3,
          4,
          5,
          6
         ],
         "xaxis": "x31",
         "y": [
          659,
          530,
          627,
          584,
          449,
          548,
          561,
          617,
          513,
          558,
          442,
          386,
          460,
          727,
          708,
          660,
          622,
          488,
          515,
          397,
          490
         ],
         "yaxis": "y31"
        },
        {
         "alignmentgroup": "True",
         "hovertemplate": "year=2015<br>month_of_season=winter<br>day of week=%{x}<br>Quantity Sold (kg)=%{y}<br>month=%{marker.color}<extra></extra>",
         "legendgroup": "",
         "marker": {
          "color": [
           1,
           1,
           1,
           1,
           1,
           1,
           1,
           2,
           2,
           2,
           2,
           2,
           2,
           2,
           3,
           3,
           3,
           3,
           3,
           3,
           3
          ],
          "coloraxis": "coloraxis",
          "pattern": {
           "shape": ""
          }
         },
         "name": "",
         "offsetgroup": "",
         "orientation": "v",
         "showlegend": false,
         "textposition": "auto",
         "type": "bar",
         "x": [
          0,
          1,
          2,
          3,
          4,
          5,
          6,
          0,
          1,
          2,
          3,
          4,
          5,
          6,
          0,
          1,
          2,
          3,
          4,
          5,
          6
         ],
         "xaxis": "x32",
         "y": [
          832,
          778,
          951,
          985,
          907,
          1151,
          864,
          693,
          829,
          736,
          608,
          639,
          973,
          661,
          1231,
          874,
          710,
          856,
          647,
          1024,
          1083
         ],
         "yaxis": "y32"
        },
        {
         "alignmentgroup": "True",
         "hovertemplate": "year=2016<br>month_of_season=fall<br>day of week=%{x}<br>Quantity Sold (kg)=%{y}<br>month=%{marker.color}<extra></extra>",
         "legendgroup": "",
         "marker": {
          "color": [
           10,
           10,
           10,
           10,
           10,
           10,
           10,
           11,
           11,
           11,
           11,
           11,
           11,
           11,
           12,
           12,
           12,
           12,
           12,
           12,
           12
          ],
          "coloraxis": "coloraxis",
          "pattern": {
           "shape": ""
          }
         },
         "name": "",
         "offsetgroup": "",
         "orientation": "v",
         "showlegend": false,
         "textposition": "auto",
         "type": "bar",
         "x": [
          0,
          1,
          2,
          3,
          4,
          5,
          6,
          0,
          1,
          2,
          3,
          4,
          5,
          6,
          0,
          1,
          2,
          3,
          4,
          5,
          6
         ],
         "xaxis": "x25",
         "y": [
          769,
          874,
          758,
          922,
          731,
          950,
          1165,
          799,
          1333,
          847,
          958,
          753,
          710,
          851,
          751,
          671,
          784,
          972,
          1203,
          991,
          785
         ],
         "yaxis": "y25"
        },
        {
         "alignmentgroup": "True",
         "hovertemplate": "year=2016<br>month_of_season=spring<br>day of week=%{x}<br>Quantity Sold (kg)=%{y}<br>month=%{marker.color}<extra></extra>",
         "legendgroup": "",
         "marker": {
          "color": [
           4,
           4,
           4,
           4,
           4,
           4,
           4,
           5,
           5,
           5,
           5,
           5,
           5,
           5,
           6,
           6,
           6,
           6,
           6,
           6,
           6
          ],
          "coloraxis": "coloraxis",
          "pattern": {
           "shape": ""
          }
         },
         "name": "",
         "offsetgroup": "",
         "orientation": "v",
         "showlegend": false,
         "textposition": "auto",
         "type": "bar",
         "x": [
          0,
          1,
          2,
          3,
          4,
          5,
          6,
          0,
          1,
          2,
          3,
          4,
          5,
          6,
          0,
          1,
          2,
          3,
          4,
          5,
          6
         ],
         "xaxis": "x26",
         "y": [
          892,
          908,
          830,
          592,
          899,
          1248,
          747,
          1152,
          847,
          870,
          921,
          838,
          978,
          997,
          484,
          388,
          742,
          802,
          568,
          428,
          545
         ],
         "yaxis": "y26"
        },
        {
         "alignmentgroup": "True",
         "hovertemplate": "year=2016<br>month_of_season=summer<br>day of week=%{x}<br>Quantity Sold (kg)=%{y}<br>month=%{marker.color}<extra></extra>",
         "legendgroup": "",
         "marker": {
          "color": [
           7,
           7,
           7,
           7,
           7,
           7,
           7,
           8,
           8,
           8,
           8,
           8,
           8,
           8,
           9,
           9,
           9,
           9,
           9,
           9,
           9
          ],
          "coloraxis": "coloraxis",
          "pattern": {
           "shape": ""
          }
         },
         "name": "",
         "offsetgroup": "",
         "orientation": "v",
         "showlegend": false,
         "textposition": "auto",
         "type": "bar",
         "x": [
          0,
          1,
          2,
          3,
          4,
          5,
          6,
          0,
          1,
          2,
          3,
          4,
          5,
          6,
          0,
          1,
          2,
          3,
          4,
          5,
          6
         ],
         "xaxis": "x27",
         "y": [
          576,
          339,
          492,
          428,
          737,
          743,
          627,
          727,
          623,
          607,
          480,
          524,
          545,
          568,
          349,
          322,
          550,
          515,
          492,
          356,
          508
         ],
         "yaxis": "y27"
        },
        {
         "alignmentgroup": "True",
         "hovertemplate": "year=2016<br>month_of_season=winter<br>day of week=%{x}<br>Quantity Sold (kg)=%{y}<br>month=%{marker.color}<extra></extra>",
         "legendgroup": "",
         "marker": {
          "color": [
           1,
           1,
           1,
           1,
           1,
           1,
           1,
           2,
           2,
           2,
           2,
           2,
           2,
           2,
           3,
           3,
           3,
           3,
           3,
           3,
           3
          ],
          "coloraxis": "coloraxis",
          "pattern": {
           "shape": ""
          }
         },
         "name": "",
         "offsetgroup": "",
         "orientation": "v",
         "showlegend": false,
         "textposition": "auto",
         "type": "bar",
         "x": [
          0,
          1,
          2,
          3,
          4,
          5,
          6,
          0,
          1,
          2,
          3,
          4,
          5,
          6,
          0,
          1,
          2,
          3,
          4,
          5,
          6
         ],
         "xaxis": "x28",
         "y": [
          817,
          958,
          685,
          733,
          1001,
          868,
          1114,
          892,
          817,
          927,
          732,
          787,
          746,
          730,
          793,
          859,
          1036,
          794,
          846,
          891,
          746
         ],
         "yaxis": "y28"
        },
        {
         "alignmentgroup": "True",
         "hovertemplate": "year=2017<br>month_of_season=fall<br>day of week=%{x}<br>Quantity Sold (kg)=%{y}<br>month=%{marker.color}<extra></extra>",
         "legendgroup": "",
         "marker": {
          "color": [
           10,
           10,
           10,
           10,
           10,
           10,
           10,
           11,
           11,
           11,
           11,
           11,
           11,
           11,
           12,
           12,
           12,
           12,
           12,
           12,
           12
          ],
          "coloraxis": "coloraxis",
          "pattern": {
           "shape": ""
          }
         },
         "name": "",
         "offsetgroup": "",
         "orientation": "v",
         "showlegend": false,
         "textposition": "auto",
         "type": "bar",
         "x": [
          0,
          1,
          2,
          3,
          4,
          5,
          6,
          0,
          1,
          2,
          3,
          4,
          5,
          6,
          0,
          1,
          2,
          3,
          4,
          5,
          6
         ],
         "xaxis": "x21",
         "y": [
          864,
          882,
          863,
          855,
          898,
          675,
          896,
          787,
          866,
          1298,
          877,
          832,
          782,
          819,
          744,
          665,
          697,
          541,
          1071,
          1080,
          846
         ],
         "yaxis": "y21"
        },
        {
         "alignmentgroup": "True",
         "hovertemplate": "year=2017<br>month_of_season=spring<br>day of week=%{x}<br>Quantity Sold (kg)=%{y}<br>month=%{marker.color}<extra></extra>",
         "legendgroup": "",
         "marker": {
          "color": [
           4,
           4,
           4,
           4,
           4,
           4,
           4,
           5,
           5,
           5,
           5,
           5,
           5,
           5,
           6,
           6,
           6,
           6,
           6,
           6,
           6
          ],
          "coloraxis": "coloraxis",
          "pattern": {
           "shape": ""
          }
         },
         "name": "",
         "offsetgroup": "",
         "orientation": "v",
         "showlegend": false,
         "textposition": "auto",
         "type": "bar",
         "x": [
          0,
          1,
          2,
          3,
          4,
          5,
          6,
          0,
          1,
          2,
          3,
          4,
          5,
          6,
          0,
          1,
          2,
          3,
          4,
          5,
          6
         ],
         "xaxis": "x22",
         "y": [
          810,
          882,
          761,
          645,
          622,
          1000,
          896,
          1034,
          941,
          1317,
          647,
          793,
          884,
          824,
          396,
          582,
          552,
          682,
          682,
          484,
          324
         ],
         "yaxis": "y22"
        },
        {
         "alignmentgroup": "True",
         "hovertemplate": "year=2017<br>month_of_season=summer<br>day of week=%{x}<br>Quantity Sold (kg)=%{y}<br>month=%{marker.color}<extra></extra>",
         "legendgroup": "",
         "marker": {
          "color": [
           7,
           7,
           7,
           7,
           7,
           7,
           7,
           8,
           8,
           8,
           8,
           8,
           8,
           8,
           9,
           9,
           9,
           9,
           9,
           9,
           9
          ],
          "coloraxis": "coloraxis",
          "pattern": {
           "shape": ""
          }
         },
         "name": "",
         "offsetgroup": "",
         "orientation": "v",
         "showlegend": false,
         "textposition": "auto",
         "type": "bar",
         "x": [
          0,
          1,
          2,
          3,
          4,
          5,
          6,
          0,
          1,
          2,
          3,
          4,
          5,
          6,
          0,
          1,
          2,
          3,
          4,
          5,
          6
         ],
         "xaxis": "x23",
         "y": [
          611,
          542,
          462,
          572,
          620,
          754,
          539,
          363,
          621,
          485,
          466,
          476,
          350,
          439,
          374,
          492,
          409,
          460,
          610,
          480,
          518
         ],
         "yaxis": "y23"
        },
        {
         "alignmentgroup": "True",
         "hovertemplate": "year=2017<br>month_of_season=winter<br>day of week=%{x}<br>Quantity Sold (kg)=%{y}<br>month=%{marker.color}<extra></extra>",
         "legendgroup": "",
         "marker": {
          "color": [
           1,
           1,
           1,
           1,
           1,
           1,
           1,
           2,
           2,
           2,
           2,
           2,
           2,
           2,
           3,
           3,
           3,
           3,
           3,
           3,
           3
          ],
          "coloraxis": "coloraxis",
          "pattern": {
           "shape": ""
          }
         },
         "name": "",
         "offsetgroup": "",
         "orientation": "v",
         "showlegend": false,
         "textposition": "auto",
         "type": "bar",
         "x": [
          0,
          1,
          2,
          3,
          4,
          5,
          6,
          0,
          1,
          2,
          3,
          4,
          5,
          6,
          0,
          1,
          2,
          3,
          4,
          5,
          6
         ],
         "xaxis": "x24",
         "y": [
          907,
          935,
          807,
          864,
          765,
          841,
          1053,
          859,
          1007,
          953,
          1057,
          637,
          807,
          711,
          730,
          657,
          1208,
          1266,
          1219,
          746,
          795
         ],
         "yaxis": "y24"
        },
        {
         "alignmentgroup": "True",
         "hovertemplate": "year=2018<br>month_of_season=fall<br>day of week=%{x}<br>Quantity Sold (kg)=%{y}<br>month=%{marker.color}<extra></extra>",
         "legendgroup": "",
         "marker": {
          "color": [
           10,
           10,
           10,
           10,
           10,
           10,
           10,
           11,
           11,
           11,
           11,
           11,
           11,
           11,
           12,
           12,
           12,
           12,
           12,
           12,
           12
          ],
          "coloraxis": "coloraxis",
          "pattern": {
           "shape": ""
          }
         },
         "name": "",
         "offsetgroup": "",
         "orientation": "v",
         "showlegend": false,
         "textposition": "auto",
         "type": "bar",
         "x": [
          0,
          1,
          2,
          3,
          4,
          5,
          6,
          0,
          1,
          2,
          3,
          4,
          5,
          6,
          0,
          1,
          2,
          3,
          4,
          5,
          6
         ],
         "xaxis": "x17",
         "y": [
          1169,
          982,
          828,
          680,
          861,
          900,
          801,
          897,
          593,
          711,
          713,
          885,
          769,
          776,
          1099,
          742,
          805,
          772,
          763,
          1054,
          998
         ],
         "yaxis": "y17"
        },
        {
         "alignmentgroup": "True",
         "hovertemplate": "year=2018<br>month_of_season=spring<br>day of week=%{x}<br>Quantity Sold (kg)=%{y}<br>month=%{marker.color}<extra></extra>",
         "legendgroup": "",
         "marker": {
          "color": [
           4,
           4,
           4,
           4,
           4,
           4,
           4,
           5,
           5,
           5,
           5,
           5,
           5,
           5,
           6,
           6,
           6,
           6,
           6,
           6,
           6
          ],
          "coloraxis": "coloraxis",
          "pattern": {
           "shape": ""
          }
         },
         "name": "",
         "offsetgroup": "",
         "orientation": "v",
         "showlegend": false,
         "textposition": "auto",
         "type": "bar",
         "x": [
          0,
          1,
          2,
          3,
          4,
          5,
          6,
          0,
          1,
          2,
          3,
          4,
          5,
          6,
          0,
          1,
          2,
          3,
          4,
          5,
          6
         ],
         "xaxis": "x18",
         "y": [
          815,
          955,
          974,
          954,
          941,
          1006,
          1062,
          1028,
          1056,
          1152,
          978,
          990,
          585,
          760,
          545,
          497,
          375,
          410,
          703,
          595,
          639
         ],
         "yaxis": "y18"
        },
        {
         "alignmentgroup": "True",
         "hovertemplate": "year=2018<br>month_of_season=summer<br>day of week=%{x}<br>Quantity Sold (kg)=%{y}<br>month=%{marker.color}<extra></extra>",
         "legendgroup": "",
         "marker": {
          "color": [
           7,
           7,
           7,
           7,
           7,
           7,
           7,
           8,
           8,
           8,
           8,
           8,
           8,
           8,
           9,
           9,
           9,
           9,
           9,
           9,
           9
          ],
          "coloraxis": "coloraxis",
          "pattern": {
           "shape": ""
          }
         },
         "name": "",
         "offsetgroup": "",
         "orientation": "v",
         "showlegend": false,
         "textposition": "auto",
         "type": "bar",
         "x": [
          0,
          1,
          2,
          3,
          4,
          5,
          6,
          0,
          1,
          2,
          3,
          4,
          5,
          6,
          0,
          1,
          2,
          3,
          4,
          5,
          6
         ],
         "xaxis": "x19",
         "y": [
          694,
          387,
          586,
          568,
          590,
          502,
          810,
          591,
          495,
          582,
          391,
          631,
          396,
          448,
          389,
          442,
          560,
          569,
          507,
          519,
          629
         ],
         "yaxis": "y19"
        },
        {
         "alignmentgroup": "True",
         "hovertemplate": "year=2018<br>month_of_season=winter<br>day of week=%{x}<br>Quantity Sold (kg)=%{y}<br>month=%{marker.color}<extra></extra>",
         "legendgroup": "",
         "marker": {
          "color": [
           1,
           1,
           1,
           1,
           1,
           1,
           1,
           2,
           2,
           2,
           2,
           2,
           2,
           2,
           3,
           3,
           3,
           3,
           3,
           3,
           3
          ],
          "coloraxis": "coloraxis",
          "pattern": {
           "shape": ""
          }
         },
         "name": "",
         "offsetgroup": "",
         "orientation": "v",
         "showlegend": false,
         "textposition": "auto",
         "type": "bar",
         "x": [
          0,
          1,
          2,
          3,
          4,
          5,
          6,
          0,
          1,
          2,
          3,
          4,
          5,
          6,
          0,
          1,
          2,
          3,
          4,
          5,
          6
         ],
         "xaxis": "x20",
         "y": [
          1066,
          1103,
          1056,
          1026,
          741,
          909,
          836,
          636,
          809,
          693,
          747,
          737,
          798,
          1025,
          723,
          708,
          540,
          1016,
          951,
          998,
          760
         ],
         "yaxis": "y20"
        },
        {
         "alignmentgroup": "True",
         "hovertemplate": "year=2019<br>month_of_season=fall<br>day of week=%{x}<br>Quantity Sold (kg)=%{y}<br>month=%{marker.color}<extra></extra>",
         "legendgroup": "",
         "marker": {
          "color": [
           10,
           10,
           10,
           10,
           10,
           10,
           10,
           11,
           11,
           11,
           11,
           11,
           11,
           11,
           12,
           12,
           12,
           12,
           12,
           12,
           12
          ],
          "coloraxis": "coloraxis",
          "pattern": {
           "shape": ""
          }
         },
         "name": "",
         "offsetgroup": "",
         "orientation": "v",
         "showlegend": false,
         "textposition": "auto",
         "type": "bar",
         "x": [
          0,
          1,
          2,
          3,
          4,
          5,
          6,
          0,
          1,
          2,
          3,
          4,
          5,
          6,
          0,
          1,
          2,
          3,
          4,
          5,
          6
         ],
         "xaxis": "x13",
         "y": [
          799,
          920,
          822,
          1072,
          790,
          719,
          878,
          862,
          914,
          845,
          882,
          1071,
          1021,
          682,
          922,
          843,
          832,
          714,
          749,
          866,
          1054
         ],
         "yaxis": "y13"
        },
        {
         "alignmentgroup": "True",
         "hovertemplate": "year=2019<br>month_of_season=spring<br>day of week=%{x}<br>Quantity Sold (kg)=%{y}<br>month=%{marker.color}<extra></extra>",
         "legendgroup": "",
         "marker": {
          "color": [
           4,
           4,
           4,
           4,
           4,
           4,
           4,
           5,
           5,
           5,
           5,
           5,
           5,
           5,
           6,
           6,
           6,
           6,
           6,
           6,
           6
          ],
          "coloraxis": "coloraxis",
          "pattern": {
           "shape": ""
          }
         },
         "name": "",
         "offsetgroup": "",
         "orientation": "v",
         "showlegend": false,
         "textposition": "auto",
         "type": "bar",
         "x": [
          0,
          1,
          2,
          3,
          4,
          5,
          6,
          0,
          1,
          2,
          3,
          4,
          5,
          6,
          0,
          1,
          2,
          3,
          4,
          5,
          6
         ],
         "xaxis": "x14",
         "y": [
          1114,
          1032,
          835,
          819,
          679,
          915,
          623,
          1094,
          826,
          1123,
          939,
          1069,
          945,
          637,
          541,
          383,
          395,
          598,
          420,
          703,
          624
         ],
         "yaxis": "y14"
        },
        {
         "alignmentgroup": "True",
         "hovertemplate": "year=2019<br>month_of_season=summer<br>day of week=%{x}<br>Quantity Sold (kg)=%{y}<br>month=%{marker.color}<extra></extra>",
         "legendgroup": "",
         "marker": {
          "color": [
           7,
           7,
           7,
           7,
           7,
           7,
           7,
           8,
           8,
           8,
           8,
           8,
           8,
           8,
           9,
           9,
           9,
           9,
           9,
           9,
           9
          ],
          "coloraxis": "coloraxis",
          "pattern": {
           "shape": ""
          }
         },
         "name": "",
         "offsetgroup": "",
         "orientation": "v",
         "showlegend": false,
         "textposition": "auto",
         "type": "bar",
         "x": [
          0,
          1,
          2,
          3,
          4,
          5,
          6,
          0,
          1,
          2,
          3,
          4,
          5,
          6,
          0,
          1,
          2,
          3,
          4,
          5,
          6
         ],
         "xaxis": "x15",
         "y": [
          587,
          610,
          534,
          389,
          522,
          467,
          519,
          574,
          443,
          491,
          727,
          646,
          621,
          594,
          548,
          538,
          377,
          567,
          635,
          432,
          534
         ],
         "yaxis": "y15"
        },
        {
         "alignmentgroup": "True",
         "hovertemplate": "year=2019<br>month_of_season=winter<br>day of week=%{x}<br>Quantity Sold (kg)=%{y}<br>month=%{marker.color}<extra></extra>",
         "legendgroup": "",
         "marker": {
          "color": [
           1,
           1,
           1,
           1,
           1,
           1,
           1,
           2,
           2,
           2,
           2,
           2,
           2,
           2,
           3,
           3,
           3,
           3,
           3,
           3,
           3
          ],
          "coloraxis": "coloraxis",
          "pattern": {
           "shape": ""
          }
         },
         "name": "",
         "offsetgroup": "",
         "orientation": "v",
         "showlegend": false,
         "textposition": "auto",
         "type": "bar",
         "x": [
          0,
          1,
          2,
          3,
          4,
          5,
          6,
          0,
          1,
          2,
          3,
          4,
          5,
          6,
          0,
          1,
          2,
          3,
          4,
          5,
          6
         ],
         "xaxis": "x16",
         "y": [
          917,
          1064,
          1076,
          976,
          1043,
          584,
          1003,
          1021,
          533,
          765,
          671,
          971,
          784,
          712,
          649,
          659,
          779,
          807,
          973,
          1145,
          922
         ],
         "yaxis": "y16"
        },
        {
         "alignmentgroup": "True",
         "hovertemplate": "year=2020<br>month_of_season=fall<br>day of week=%{x}<br>Quantity Sold (kg)=%{y}<br>month=%{marker.color}<extra></extra>",
         "legendgroup": "",
         "marker": {
          "color": [
           10,
           10,
           10,
           10,
           10,
           10,
           10,
           11,
           11,
           11,
           11,
           11,
           11,
           11,
           12,
           12,
           12,
           12,
           12,
           12,
           12
          ],
          "coloraxis": "coloraxis",
          "pattern": {
           "shape": ""
          }
         },
         "name": "",
         "offsetgroup": "",
         "orientation": "v",
         "showlegend": false,
         "textposition": "auto",
         "type": "bar",
         "x": [
          0,
          1,
          2,
          3,
          4,
          5,
          6,
          0,
          1,
          2,
          3,
          4,
          5,
          6,
          0,
          1,
          2,
          3,
          4,
          5,
          6
         ],
         "xaxis": "x9",
         "y": [
          866,
          945,
          877,
          994,
          1123,
          989,
          820,
          948,
          708,
          975,
          850,
          656,
          996,
          940,
          845,
          868,
          964,
          1081,
          593,
          850,
          782
         ],
         "yaxis": "y9"
        },
        {
         "alignmentgroup": "True",
         "hovertemplate": "year=2020<br>month_of_season=spring<br>day of week=%{x}<br>Quantity Sold (kg)=%{y}<br>month=%{marker.color}<extra></extra>",
         "legendgroup": "",
         "marker": {
          "color": [
           4,
           4,
           4,
           4,
           4,
           4,
           4,
           5,
           5,
           5,
           5,
           5,
           5,
           5,
           6,
           6,
           6,
           6,
           6,
           6,
           6
          ],
          "coloraxis": "coloraxis",
          "pattern": {
           "shape": ""
          }
         },
         "name": "",
         "offsetgroup": "",
         "orientation": "v",
         "showlegend": false,
         "textposition": "auto",
         "type": "bar",
         "x": [
          0,
          1,
          2,
          3,
          4,
          5,
          6,
          0,
          1,
          2,
          3,
          4,
          5,
          6,
          0,
          1,
          2,
          3,
          4,
          5,
          6
         ],
         "xaxis": "x10",
         "y": [
          877,
          792,
          1198,
          862,
          689,
          695,
          846,
          814,
          743,
          817,
          896,
          893,
          983,
          1065,
          665,
          507,
          413,
          601,
          357,
          564,
          458
         ],
         "yaxis": "y10"
        },
        {
         "alignmentgroup": "True",
         "hovertemplate": "year=2020<br>month_of_season=summer<br>day of week=%{x}<br>Quantity Sold (kg)=%{y}<br>month=%{marker.color}<extra></extra>",
         "legendgroup": "",
         "marker": {
          "color": [
           7,
           7,
           7,
           7,
           7,
           7,
           7,
           8,
           8,
           8,
           8,
           8,
           8,
           8,
           9,
           9,
           9,
           9,
           9,
           9,
           9
          ],
          "coloraxis": "coloraxis",
          "pattern": {
           "shape": ""
          }
         },
         "name": "",
         "offsetgroup": "",
         "orientation": "v",
         "showlegend": false,
         "textposition": "auto",
         "type": "bar",
         "x": [
          0,
          1,
          2,
          3,
          4,
          5,
          6,
          0,
          1,
          2,
          3,
          4,
          5,
          6,
          0,
          1,
          2,
          3,
          4,
          5,
          6
         ],
         "xaxis": "x11",
         "y": [
          459,
          558,
          631,
          602,
          546,
          403,
          396,
          556,
          458,
          571,
          371,
          602,
          612,
          390,
          550,
          544,
          580,
          461,
          704,
          585,
          474
         ],
         "yaxis": "y11"
        },
        {
         "alignmentgroup": "True",
         "hovertemplate": "year=2020<br>month_of_season=winter<br>day of week=%{x}<br>Quantity Sold (kg)=%{y}<br>month=%{marker.color}<extra></extra>",
         "legendgroup": "",
         "marker": {
          "color": [
           1,
           1,
           1,
           1,
           1,
           1,
           1,
           2,
           2,
           2,
           2,
           2,
           2,
           2,
           3,
           3,
           3,
           3,
           3,
           3,
           3
          ],
          "coloraxis": "coloraxis",
          "pattern": {
           "shape": ""
          }
         },
         "name": "",
         "offsetgroup": "",
         "orientation": "v",
         "showlegend": false,
         "textposition": "auto",
         "type": "bar",
         "x": [
          0,
          1,
          2,
          3,
          4,
          5,
          6,
          0,
          1,
          2,
          3,
          4,
          5,
          6,
          0,
          1,
          2,
          3,
          4,
          5,
          6
         ],
         "xaxis": "x12",
         "y": [
          999,
          774,
          1074,
          1045,
          979,
          799,
          864,
          906,
          521,
          706,
          955,
          748,
          979,
          753,
          866,
          1098,
          806,
          946,
          801,
          827,
          983
         ],
         "yaxis": "y12"
        },
        {
         "alignmentgroup": "True",
         "hovertemplate": "year=2021<br>month_of_season=fall<br>day of week=%{x}<br>Quantity Sold (kg)=%{y}<br>month=%{marker.color}<extra></extra>",
         "legendgroup": "",
         "marker": {
          "color": [
           10,
           10,
           10,
           10,
           10,
           10,
           10,
           11,
           11,
           11,
           11,
           11,
           11,
           11,
           12,
           12,
           12,
           12,
           12,
           12,
           12
          ],
          "coloraxis": "coloraxis",
          "pattern": {
           "shape": ""
          }
         },
         "name": "",
         "offsetgroup": "",
         "orientation": "v",
         "showlegend": false,
         "textposition": "auto",
         "type": "bar",
         "x": [
          0,
          1,
          2,
          3,
          4,
          5,
          6,
          0,
          1,
          2,
          3,
          4,
          5,
          6,
          0,
          1,
          2,
          3,
          4,
          5,
          6
         ],
         "xaxis": "x5",
         "y": [
          770,
          757,
          701,
          685,
          891,
          1039,
          1068,
          1096,
          985,
          847,
          1069,
          932,
          754,
          1035,
          732,
          736,
          955,
          1220,
          1083,
          857,
          1115
         ],
         "yaxis": "y5"
        },
        {
         "alignmentgroup": "True",
         "hovertemplate": "year=2021<br>month_of_season=spring<br>day of week=%{x}<br>Quantity Sold (kg)=%{y}<br>month=%{marker.color}<extra></extra>",
         "legendgroup": "",
         "marker": {
          "color": [
           4,
           4,
           4,
           4,
           4,
           4,
           4,
           5,
           5,
           5,
           5,
           5,
           5,
           5,
           6,
           6,
           6,
           6,
           6,
           6,
           6
          ],
          "coloraxis": "coloraxis",
          "pattern": {
           "shape": ""
          }
         },
         "name": "",
         "offsetgroup": "",
         "orientation": "v",
         "showlegend": false,
         "textposition": "auto",
         "type": "bar",
         "x": [
          0,
          1,
          2,
          3,
          4,
          5,
          6,
          0,
          1,
          2,
          3,
          4,
          5,
          6,
          0,
          1,
          2,
          3,
          4,
          5,
          6
         ],
         "xaxis": "x6",
         "y": [
          797,
          670,
          640,
          871,
          1060,
          872,
          689,
          958,
          792,
          852,
          745,
          736,
          1154,
          800,
          439,
          609,
          685,
          478,
          452,
          480,
          545
         ],
         "yaxis": "y6"
        },
        {
         "alignmentgroup": "True",
         "hovertemplate": "year=2021<br>month_of_season=summer<br>day of week=%{x}<br>Quantity Sold (kg)=%{y}<br>month=%{marker.color}<extra></extra>",
         "legendgroup": "",
         "marker": {
          "color": [
           7,
           7,
           7,
           7,
           7,
           7,
           7,
           8,
           8,
           8,
           8,
           8,
           8,
           8,
           9,
           9,
           9,
           9,
           9,
           9,
           9
          ],
          "coloraxis": "coloraxis",
          "pattern": {
           "shape": ""
          }
         },
         "name": "",
         "offsetgroup": "",
         "orientation": "v",
         "showlegend": false,
         "textposition": "auto",
         "type": "bar",
         "x": [
          0,
          1,
          2,
          3,
          4,
          5,
          6,
          0,
          1,
          2,
          3,
          4,
          5,
          6,
          0,
          1,
          2,
          3,
          4,
          5,
          6
         ],
         "xaxis": "x7",
         "y": [
          723,
          401,
          718,
          649,
          799,
          641,
          416,
          790,
          753,
          387,
          382,
          501,
          465,
          688,
          396,
          400,
          621,
          779,
          425,
          464,
          468
         ],
         "yaxis": "y7"
        },
        {
         "alignmentgroup": "True",
         "hovertemplate": "year=2021<br>month_of_season=winter<br>day of week=%{x}<br>Quantity Sold (kg)=%{y}<br>month=%{marker.color}<extra></extra>",
         "legendgroup": "",
         "marker": {
          "color": [
           1,
           1,
           1,
           1,
           1,
           1,
           1,
           2,
           2,
           2,
           2,
           2,
           2,
           2,
           3,
           3,
           3,
           3,
           3,
           3,
           3
          ],
          "coloraxis": "coloraxis",
          "pattern": {
           "shape": ""
          }
         },
         "name": "",
         "offsetgroup": "",
         "orientation": "v",
         "showlegend": false,
         "textposition": "auto",
         "type": "bar",
         "x": [
          0,
          1,
          2,
          3,
          4,
          5,
          6,
          0,
          1,
          2,
          3,
          4,
          5,
          6,
          0,
          1,
          2,
          3,
          4,
          5,
          6
         ],
         "xaxis": "x8",
         "y": [
          837,
          608,
          706,
          851,
          1153,
          956,
          1089,
          726,
          975,
          678,
          774,
          552,
          764,
          889,
          1249,
          1068,
          1004,
          821,
          739,
          936,
          646
         ],
         "yaxis": "y8"
        },
        {
         "alignmentgroup": "True",
         "hovertemplate": "year=2022<br>month_of_season=fall<br>day of week=%{x}<br>Quantity Sold (kg)=%{y}<br>month=%{marker.color}<extra></extra>",
         "legendgroup": "",
         "marker": {
          "color": [
           10,
           10,
           10,
           10,
           10,
           10,
           10
          ],
          "coloraxis": "coloraxis",
          "pattern": {
           "shape": ""
          }
         },
         "name": "",
         "offsetgroup": "",
         "orientation": "v",
         "showlegend": false,
         "textposition": "auto",
         "type": "bar",
         "x": [
          0,
          1,
          2,
          3,
          4,
          5,
          6
         ],
         "xaxis": "x",
         "y": [
          1014,
          730,
          531,
          697,
          640,
          979,
          877
         ],
         "yaxis": "y"
        },
        {
         "alignmentgroup": "True",
         "hovertemplate": "year=2022<br>month_of_season=spring<br>day of week=%{x}<br>Quantity Sold (kg)=%{y}<br>month=%{marker.color}<extra></extra>",
         "legendgroup": "",
         "marker": {
          "color": [
           4,
           4,
           4,
           4,
           4,
           4,
           4,
           5,
           5,
           5,
           5,
           5,
           5,
           5,
           6,
           6,
           6,
           6,
           6,
           6,
           6
          ],
          "coloraxis": "coloraxis",
          "pattern": {
           "shape": ""
          }
         },
         "name": "",
         "offsetgroup": "",
         "orientation": "v",
         "showlegend": false,
         "textposition": "auto",
         "type": "bar",
         "x": [
          0,
          1,
          2,
          3,
          4,
          5,
          6,
          0,
          1,
          2,
          3,
          4,
          5,
          6,
          0,
          1,
          2,
          3,
          4,
          5,
          6
         ],
         "xaxis": "x2",
         "y": [
          618,
          933,
          889,
          830,
          1055,
          925,
          506,
          888,
          967,
          779,
          705,
          684,
          795,
          1004,
          448,
          487,
          830,
          565,
          423,
          504,
          378
         ],
         "yaxis": "y2"
        },
        {
         "alignmentgroup": "True",
         "hovertemplate": "year=2022<br>month_of_season=summer<br>day of week=%{x}<br>Quantity Sold (kg)=%{y}<br>month=%{marker.color}<extra></extra>",
         "legendgroup": "",
         "marker": {
          "color": [
           7,
           7,
           7,
           7,
           7,
           7,
           7,
           8,
           8,
           8,
           8,
           8,
           8,
           8,
           9,
           9,
           9,
           9,
           9,
           9,
           9
          ],
          "coloraxis": "coloraxis",
          "pattern": {
           "shape": ""
          }
         },
         "name": "",
         "offsetgroup": "",
         "orientation": "v",
         "showlegend": false,
         "textposition": "auto",
         "type": "bar",
         "x": [
          0,
          1,
          2,
          3,
          4,
          5,
          6,
          0,
          1,
          2,
          3,
          4,
          5,
          6,
          0,
          1,
          2,
          3,
          4,
          5,
          6
         ],
         "xaxis": "x3",
         "y": [
          348,
          420,
          502,
          515,
          415,
          565,
          569,
          737,
          605,
          690,
          458,
          596,
          443,
          548,
          355,
          496,
          558,
          761,
          592,
          498,
          627
         ],
         "yaxis": "y3"
        },
        {
         "alignmentgroup": "True",
         "hovertemplate": "year=2022<br>month_of_season=winter<br>day of week=%{x}<br>Quantity Sold (kg)=%{y}<br>month=%{marker.color}<extra></extra>",
         "legendgroup": "",
         "marker": {
          "color": [
           1,
           1,
           1,
           1,
           1,
           1,
           1,
           2,
           2,
           2,
           2,
           2,
           2,
           2,
           3,
           3,
           3,
           3,
           3,
           3,
           3
          ],
          "coloraxis": "coloraxis",
          "pattern": {
           "shape": ""
          }
         },
         "name": "",
         "offsetgroup": "",
         "orientation": "v",
         "showlegend": false,
         "textposition": "auto",
         "type": "bar",
         "x": [
          0,
          1,
          2,
          3,
          4,
          5,
          6,
          0,
          1,
          2,
          3,
          4,
          5,
          6,
          0,
          1,
          2,
          3,
          4,
          5,
          6
         ],
         "xaxis": "x4",
         "y": [
          811,
          936,
          774,
          784,
          806,
          1188,
          865,
          837,
          1072,
          845,
          833,
          776,
          643,
          754,
          807,
          1109,
          1190,
          950,
          841,
          696,
          967
         ],
         "yaxis": "y4"
        }
       ],
       "layout": {
        "annotations": [
         {
          "font": {},
          "showarrow": false,
          "text": "month_of_season=fall",
          "x": 0.11499999999999999,
          "xanchor": "center",
          "xref": "paper",
          "y": 1,
          "yanchor": "bottom",
          "yref": "paper"
         },
         {
          "font": {},
          "showarrow": false,
          "text": "month_of_season=spring",
          "x": 0.365,
          "xanchor": "center",
          "xref": "paper",
          "y": 1,
          "yanchor": "bottom",
          "yref": "paper"
         },
         {
          "font": {},
          "showarrow": false,
          "text": "month_of_season=summer",
          "x": 0.615,
          "xanchor": "center",
          "xref": "paper",
          "y": 1,
          "yanchor": "bottom",
          "yref": "paper"
         },
         {
          "font": {},
          "showarrow": false,
          "text": "month_of_season=winter",
          "x": 0.865,
          "xanchor": "center",
          "xref": "paper",
          "y": 1,
          "yanchor": "bottom",
          "yref": "paper"
         },
         {
          "font": {},
          "showarrow": false,
          "text": "year=2022",
          "textangle": 90,
          "x": 0.98,
          "xanchor": "left",
          "xref": "paper",
          "y": 0.021785714285714283,
          "yanchor": "middle",
          "yref": "paper"
         },
         {
          "font": {},
          "showarrow": false,
          "text": "year=2021",
          "textangle": 90,
          "x": 0.98,
          "xanchor": "left",
          "xref": "paper",
          "y": 0.09535714285714285,
          "yanchor": "middle",
          "yref": "paper"
         },
         {
          "font": {},
          "showarrow": false,
          "text": "year=2020",
          "textangle": 90,
          "x": 0.98,
          "xanchor": "left",
          "xref": "paper",
          "y": 0.16892857142857143,
          "yanchor": "middle",
          "yref": "paper"
         },
         {
          "font": {},
          "showarrow": false,
          "text": "year=2019",
          "textangle": 90,
          "x": 0.98,
          "xanchor": "left",
          "xref": "paper",
          "y": 0.24249999999999997,
          "yanchor": "middle",
          "yref": "paper"
         },
         {
          "font": {},
          "showarrow": false,
          "text": "year=2018",
          "textangle": 90,
          "x": 0.98,
          "xanchor": "left",
          "xref": "paper",
          "y": 0.31607142857142856,
          "yanchor": "middle",
          "yref": "paper"
         },
         {
          "font": {},
          "showarrow": false,
          "text": "year=2017",
          "textangle": 90,
          "x": 0.98,
          "xanchor": "left",
          "xref": "paper",
          "y": 0.38964285714285707,
          "yanchor": "middle",
          "yref": "paper"
         },
         {
          "font": {},
          "showarrow": false,
          "text": "year=2016",
          "textangle": 90,
          "x": 0.98,
          "xanchor": "left",
          "xref": "paper",
          "y": 0.4632142857142857,
          "yanchor": "middle",
          "yref": "paper"
         },
         {
          "font": {},
          "showarrow": false,
          "text": "year=2015",
          "textangle": 90,
          "x": 0.98,
          "xanchor": "left",
          "xref": "paper",
          "y": 0.5367857142857142,
          "yanchor": "middle",
          "yref": "paper"
         },
         {
          "font": {},
          "showarrow": false,
          "text": "year=2014",
          "textangle": 90,
          "x": 0.98,
          "xanchor": "left",
          "xref": "paper",
          "y": 0.6103571428571428,
          "yanchor": "middle",
          "yref": "paper"
         },
         {
          "font": {},
          "showarrow": false,
          "text": "year=2013",
          "textangle": 90,
          "x": 0.98,
          "xanchor": "left",
          "xref": "paper",
          "y": 0.6839285714285714,
          "yanchor": "middle",
          "yref": "paper"
         },
         {
          "font": {},
          "showarrow": false,
          "text": "year=2012",
          "textangle": 90,
          "x": 0.98,
          "xanchor": "left",
          "xref": "paper",
          "y": 0.7575000000000001,
          "yanchor": "middle",
          "yref": "paper"
         },
         {
          "font": {},
          "showarrow": false,
          "text": "year=2011",
          "textangle": 90,
          "x": 0.98,
          "xanchor": "left",
          "xref": "paper",
          "y": 0.8310714285714286,
          "yanchor": "middle",
          "yref": "paper"
         },
         {
          "font": {},
          "showarrow": false,
          "text": "year=2010",
          "textangle": 90,
          "x": 0.98,
          "xanchor": "left",
          "xref": "paper",
          "y": 0.9046428571428572,
          "yanchor": "middle",
          "yref": "paper"
         },
         {
          "font": {},
          "showarrow": false,
          "text": "year=2009",
          "textangle": 90,
          "x": 0.98,
          "xanchor": "left",
          "xref": "paper",
          "y": 0.9782142857142857,
          "yanchor": "middle",
          "yref": "paper"
         }
        ],
        "barmode": "relative",
        "coloraxis": {
         "colorbar": {
          "title": {
           "text": "month"
          }
         },
         "colorscale": [
          [
           0,
           "#0d0887"
          ],
          [
           0.1111111111111111,
           "#46039f"
          ],
          [
           0.2222222222222222,
           "#7201a8"
          ],
          [
           0.3333333333333333,
           "#9c179e"
          ],
          [
           0.4444444444444444,
           "#bd3786"
          ],
          [
           0.5555555555555556,
           "#d8576b"
          ],
          [
           0.6666666666666666,
           "#ed7953"
          ],
          [
           0.7777777777777778,
           "#fb9f3a"
          ],
          [
           0.8888888888888888,
           "#fdca26"
          ],
          [
           1,
           "#f0f921"
          ]
         ]
        },
        "height": 3000,
        "legend": {
         "tracegroupgap": 0
        },
        "template": {
         "data": {
          "bar": [
           {
            "error_x": {
             "color": "#2a3f5f"
            },
            "error_y": {
             "color": "#2a3f5f"
            },
            "marker": {
             "line": {
              "color": "#E5ECF6",
              "width": 0.5
             },
             "pattern": {
              "fillmode": "overlay",
              "size": 10,
              "solidity": 0.2
             }
            },
            "type": "bar"
           }
          ],
          "barpolar": [
           {
            "marker": {
             "line": {
              "color": "#E5ECF6",
              "width": 0.5
             },
             "pattern": {
              "fillmode": "overlay",
              "size": 10,
              "solidity": 0.2
             }
            },
            "type": "barpolar"
           }
          ],
          "carpet": [
           {
            "aaxis": {
             "endlinecolor": "#2a3f5f",
             "gridcolor": "white",
             "linecolor": "white",
             "minorgridcolor": "white",
             "startlinecolor": "#2a3f5f"
            },
            "baxis": {
             "endlinecolor": "#2a3f5f",
             "gridcolor": "white",
             "linecolor": "white",
             "minorgridcolor": "white",
             "startlinecolor": "#2a3f5f"
            },
            "type": "carpet"
           }
          ],
          "choropleth": [
           {
            "colorbar": {
             "outlinewidth": 0,
             "ticks": ""
            },
            "type": "choropleth"
           }
          ],
          "contour": [
           {
            "colorbar": {
             "outlinewidth": 0,
             "ticks": ""
            },
            "colorscale": [
             [
              0,
              "#0d0887"
             ],
             [
              0.1111111111111111,
              "#46039f"
             ],
             [
              0.2222222222222222,
              "#7201a8"
             ],
             [
              0.3333333333333333,
              "#9c179e"
             ],
             [
              0.4444444444444444,
              "#bd3786"
             ],
             [
              0.5555555555555556,
              "#d8576b"
             ],
             [
              0.6666666666666666,
              "#ed7953"
             ],
             [
              0.7777777777777778,
              "#fb9f3a"
             ],
             [
              0.8888888888888888,
              "#fdca26"
             ],
             [
              1,
              "#f0f921"
             ]
            ],
            "type": "contour"
           }
          ],
          "contourcarpet": [
           {
            "colorbar": {
             "outlinewidth": 0,
             "ticks": ""
            },
            "type": "contourcarpet"
           }
          ],
          "heatmap": [
           {
            "colorbar": {
             "outlinewidth": 0,
             "ticks": ""
            },
            "colorscale": [
             [
              0,
              "#0d0887"
             ],
             [
              0.1111111111111111,
              "#46039f"
             ],
             [
              0.2222222222222222,
              "#7201a8"
             ],
             [
              0.3333333333333333,
              "#9c179e"
             ],
             [
              0.4444444444444444,
              "#bd3786"
             ],
             [
              0.5555555555555556,
              "#d8576b"
             ],
             [
              0.6666666666666666,
              "#ed7953"
             ],
             [
              0.7777777777777778,
              "#fb9f3a"
             ],
             [
              0.8888888888888888,
              "#fdca26"
             ],
             [
              1,
              "#f0f921"
             ]
            ],
            "type": "heatmap"
           }
          ],
          "heatmapgl": [
           {
            "colorbar": {
             "outlinewidth": 0,
             "ticks": ""
            },
            "colorscale": [
             [
              0,
              "#0d0887"
             ],
             [
              0.1111111111111111,
              "#46039f"
             ],
             [
              0.2222222222222222,
              "#7201a8"
             ],
             [
              0.3333333333333333,
              "#9c179e"
             ],
             [
              0.4444444444444444,
              "#bd3786"
             ],
             [
              0.5555555555555556,
              "#d8576b"
             ],
             [
              0.6666666666666666,
              "#ed7953"
             ],
             [
              0.7777777777777778,
              "#fb9f3a"
             ],
             [
              0.8888888888888888,
              "#fdca26"
             ],
             [
              1,
              "#f0f921"
             ]
            ],
            "type": "heatmapgl"
           }
          ],
          "histogram": [
           {
            "marker": {
             "pattern": {
              "fillmode": "overlay",
              "size": 10,
              "solidity": 0.2
             }
            },
            "type": "histogram"
           }
          ],
          "histogram2d": [
           {
            "colorbar": {
             "outlinewidth": 0,
             "ticks": ""
            },
            "colorscale": [
             [
              0,
              "#0d0887"
             ],
             [
              0.1111111111111111,
              "#46039f"
             ],
             [
              0.2222222222222222,
              "#7201a8"
             ],
             [
              0.3333333333333333,
              "#9c179e"
             ],
             [
              0.4444444444444444,
              "#bd3786"
             ],
             [
              0.5555555555555556,
              "#d8576b"
             ],
             [
              0.6666666666666666,
              "#ed7953"
             ],
             [
              0.7777777777777778,
              "#fb9f3a"
             ],
             [
              0.8888888888888888,
              "#fdca26"
             ],
             [
              1,
              "#f0f921"
             ]
            ],
            "type": "histogram2d"
           }
          ],
          "histogram2dcontour": [
           {
            "colorbar": {
             "outlinewidth": 0,
             "ticks": ""
            },
            "colorscale": [
             [
              0,
              "#0d0887"
             ],
             [
              0.1111111111111111,
              "#46039f"
             ],
             [
              0.2222222222222222,
              "#7201a8"
             ],
             [
              0.3333333333333333,
              "#9c179e"
             ],
             [
              0.4444444444444444,
              "#bd3786"
             ],
             [
              0.5555555555555556,
              "#d8576b"
             ],
             [
              0.6666666666666666,
              "#ed7953"
             ],
             [
              0.7777777777777778,
              "#fb9f3a"
             ],
             [
              0.8888888888888888,
              "#fdca26"
             ],
             [
              1,
              "#f0f921"
             ]
            ],
            "type": "histogram2dcontour"
           }
          ],
          "mesh3d": [
           {
            "colorbar": {
             "outlinewidth": 0,
             "ticks": ""
            },
            "type": "mesh3d"
           }
          ],
          "parcoords": [
           {
            "line": {
             "colorbar": {
              "outlinewidth": 0,
              "ticks": ""
             }
            },
            "type": "parcoords"
           }
          ],
          "pie": [
           {
            "automargin": true,
            "type": "pie"
           }
          ],
          "scatter": [
           {
            "fillpattern": {
             "fillmode": "overlay",
             "size": 10,
             "solidity": 0.2
            },
            "type": "scatter"
           }
          ],
          "scatter3d": [
           {
            "line": {
             "colorbar": {
              "outlinewidth": 0,
              "ticks": ""
             }
            },
            "marker": {
             "colorbar": {
              "outlinewidth": 0,
              "ticks": ""
             }
            },
            "type": "scatter3d"
           }
          ],
          "scattercarpet": [
           {
            "marker": {
             "colorbar": {
              "outlinewidth": 0,
              "ticks": ""
             }
            },
            "type": "scattercarpet"
           }
          ],
          "scattergeo": [
           {
            "marker": {
             "colorbar": {
              "outlinewidth": 0,
              "ticks": ""
             }
            },
            "type": "scattergeo"
           }
          ],
          "scattergl": [
           {
            "marker": {
             "colorbar": {
              "outlinewidth": 0,
              "ticks": ""
             }
            },
            "type": "scattergl"
           }
          ],
          "scattermapbox": [
           {
            "marker": {
             "colorbar": {
              "outlinewidth": 0,
              "ticks": ""
             }
            },
            "type": "scattermapbox"
           }
          ],
          "scatterpolar": [
           {
            "marker": {
             "colorbar": {
              "outlinewidth": 0,
              "ticks": ""
             }
            },
            "type": "scatterpolar"
           }
          ],
          "scatterpolargl": [
           {
            "marker": {
             "colorbar": {
              "outlinewidth": 0,
              "ticks": ""
             }
            },
            "type": "scatterpolargl"
           }
          ],
          "scatterternary": [
           {
            "marker": {
             "colorbar": {
              "outlinewidth": 0,
              "ticks": ""
             }
            },
            "type": "scatterternary"
           }
          ],
          "surface": [
           {
            "colorbar": {
             "outlinewidth": 0,
             "ticks": ""
            },
            "colorscale": [
             [
              0,
              "#0d0887"
             ],
             [
              0.1111111111111111,
              "#46039f"
             ],
             [
              0.2222222222222222,
              "#7201a8"
             ],
             [
              0.3333333333333333,
              "#9c179e"
             ],
             [
              0.4444444444444444,
              "#bd3786"
             ],
             [
              0.5555555555555556,
              "#d8576b"
             ],
             [
              0.6666666666666666,
              "#ed7953"
             ],
             [
              0.7777777777777778,
              "#fb9f3a"
             ],
             [
              0.8888888888888888,
              "#fdca26"
             ],
             [
              1,
              "#f0f921"
             ]
            ],
            "type": "surface"
           }
          ],
          "table": [
           {
            "cells": {
             "fill": {
              "color": "#EBF0F8"
             },
             "line": {
              "color": "white"
             }
            },
            "header": {
             "fill": {
              "color": "#C8D4E3"
             },
             "line": {
              "color": "white"
             }
            },
            "type": "table"
           }
          ]
         },
         "layout": {
          "annotationdefaults": {
           "arrowcolor": "#2a3f5f",
           "arrowhead": 0,
           "arrowwidth": 1
          },
          "autotypenumbers": "strict",
          "coloraxis": {
           "colorbar": {
            "outlinewidth": 0,
            "ticks": ""
           }
          },
          "colorscale": {
           "diverging": [
            [
             0,
             "#8e0152"
            ],
            [
             0.1,
             "#c51b7d"
            ],
            [
             0.2,
             "#de77ae"
            ],
            [
             0.3,
             "#f1b6da"
            ],
            [
             0.4,
             "#fde0ef"
            ],
            [
             0.5,
             "#f7f7f7"
            ],
            [
             0.6,
             "#e6f5d0"
            ],
            [
             0.7,
             "#b8e186"
            ],
            [
             0.8,
             "#7fbc41"
            ],
            [
             0.9,
             "#4d9221"
            ],
            [
             1,
             "#276419"
            ]
           ],
           "sequential": [
            [
             0,
             "#0d0887"
            ],
            [
             0.1111111111111111,
             "#46039f"
            ],
            [
             0.2222222222222222,
             "#7201a8"
            ],
            [
             0.3333333333333333,
             "#9c179e"
            ],
            [
             0.4444444444444444,
             "#bd3786"
            ],
            [
             0.5555555555555556,
             "#d8576b"
            ],
            [
             0.6666666666666666,
             "#ed7953"
            ],
            [
             0.7777777777777778,
             "#fb9f3a"
            ],
            [
             0.8888888888888888,
             "#fdca26"
            ],
            [
             1,
             "#f0f921"
            ]
           ],
           "sequentialminus": [
            [
             0,
             "#0d0887"
            ],
            [
             0.1111111111111111,
             "#46039f"
            ],
            [
             0.2222222222222222,
             "#7201a8"
            ],
            [
             0.3333333333333333,
             "#9c179e"
            ],
            [
             0.4444444444444444,
             "#bd3786"
            ],
            [
             0.5555555555555556,
             "#d8576b"
            ],
            [
             0.6666666666666666,
             "#ed7953"
            ],
            [
             0.7777777777777778,
             "#fb9f3a"
            ],
            [
             0.8888888888888888,
             "#fdca26"
            ],
            [
             1,
             "#f0f921"
            ]
           ]
          },
          "colorway": [
           "#636efa",
           "#EF553B",
           "#00cc96",
           "#ab63fa",
           "#FFA15A",
           "#19d3f3",
           "#FF6692",
           "#B6E880",
           "#FF97FF",
           "#FECB52"
          ],
          "font": {
           "color": "#2a3f5f"
          },
          "geo": {
           "bgcolor": "white",
           "lakecolor": "white",
           "landcolor": "#E5ECF6",
           "showlakes": true,
           "showland": true,
           "subunitcolor": "white"
          },
          "hoverlabel": {
           "align": "left"
          },
          "hovermode": "closest",
          "mapbox": {
           "style": "light"
          },
          "paper_bgcolor": "white",
          "plot_bgcolor": "#E5ECF6",
          "polar": {
           "angularaxis": {
            "gridcolor": "white",
            "linecolor": "white",
            "ticks": ""
           },
           "bgcolor": "#E5ECF6",
           "radialaxis": {
            "gridcolor": "white",
            "linecolor": "white",
            "ticks": ""
           }
          },
          "scene": {
           "xaxis": {
            "backgroundcolor": "#E5ECF6",
            "gridcolor": "white",
            "gridwidth": 2,
            "linecolor": "white",
            "showbackground": true,
            "ticks": "",
            "zerolinecolor": "white"
           },
           "yaxis": {
            "backgroundcolor": "#E5ECF6",
            "gridcolor": "white",
            "gridwidth": 2,
            "linecolor": "white",
            "showbackground": true,
            "ticks": "",
            "zerolinecolor": "white"
           },
           "zaxis": {
            "backgroundcolor": "#E5ECF6",
            "gridcolor": "white",
            "gridwidth": 2,
            "linecolor": "white",
            "showbackground": true,
            "ticks": "",
            "zerolinecolor": "white"
           }
          },
          "shapedefaults": {
           "line": {
            "color": "#2a3f5f"
           }
          },
          "ternary": {
           "aaxis": {
            "gridcolor": "white",
            "linecolor": "white",
            "ticks": ""
           },
           "baxis": {
            "gridcolor": "white",
            "linecolor": "white",
            "ticks": ""
           },
           "bgcolor": "#E5ECF6",
           "caxis": {
            "gridcolor": "white",
            "linecolor": "white",
            "ticks": ""
           }
          },
          "title": {
           "x": 0.05
          },
          "xaxis": {
           "automargin": true,
           "gridcolor": "white",
           "linecolor": "white",
           "ticks": "",
           "title": {
            "standoff": 15
           },
           "zerolinecolor": "white",
           "zerolinewidth": 2
          },
          "yaxis": {
           "automargin": true,
           "gridcolor": "white",
           "linecolor": "white",
           "ticks": "",
           "title": {
            "standoff": 15
           },
           "zerolinecolor": "white",
           "zerolinewidth": 2
          }
         }
        },
        "title": {
         "text": "Total Sales by day of the week and Season"
        },
        "xaxis": {
         "anchor": "y",
         "domain": [
          0,
          0.22999999999999998
         ],
         "title": {
          "text": "day of week"
         }
        },
        "xaxis10": {
         "anchor": "y10",
         "domain": [
          0.24999999999999997,
          0.48
         ],
         "matches": "x",
         "showticklabels": false
        },
        "xaxis11": {
         "anchor": "y11",
         "domain": [
          0.49999999999999994,
          0.73
         ],
         "matches": "x",
         "showticklabels": false
        },
        "xaxis12": {
         "anchor": "y12",
         "domain": [
          0.75,
          0.98
         ],
         "matches": "x",
         "showticklabels": false
        },
        "xaxis13": {
         "anchor": "y13",
         "domain": [
          0,
          0.22999999999999998
         ],
         "matches": "x",
         "showticklabels": false
        },
        "xaxis14": {
         "anchor": "y14",
         "domain": [
          0.24999999999999997,
          0.48
         ],
         "matches": "x",
         "showticklabels": false
        },
        "xaxis15": {
         "anchor": "y15",
         "domain": [
          0.49999999999999994,
          0.73
         ],
         "matches": "x",
         "showticklabels": false
        },
        "xaxis16": {
         "anchor": "y16",
         "domain": [
          0.75,
          0.98
         ],
         "matches": "x",
         "showticklabels": false
        },
        "xaxis17": {
         "anchor": "y17",
         "domain": [
          0,
          0.22999999999999998
         ],
         "matches": "x",
         "showticklabels": false
        },
        "xaxis18": {
         "anchor": "y18",
         "domain": [
          0.24999999999999997,
          0.48
         ],
         "matches": "x",
         "showticklabels": false
        },
        "xaxis19": {
         "anchor": "y19",
         "domain": [
          0.49999999999999994,
          0.73
         ],
         "matches": "x",
         "showticklabels": false
        },
        "xaxis2": {
         "anchor": "y2",
         "domain": [
          0.24999999999999997,
          0.48
         ],
         "matches": "x",
         "title": {
          "text": "day of week"
         }
        },
        "xaxis20": {
         "anchor": "y20",
         "domain": [
          0.75,
          0.98
         ],
         "matches": "x",
         "showticklabels": false
        },
        "xaxis21": {
         "anchor": "y21",
         "domain": [
          0,
          0.22999999999999998
         ],
         "matches": "x",
         "showticklabels": false
        },
        "xaxis22": {
         "anchor": "y22",
         "domain": [
          0.24999999999999997,
          0.48
         ],
         "matches": "x",
         "showticklabels": false
        },
        "xaxis23": {
         "anchor": "y23",
         "domain": [
          0.49999999999999994,
          0.73
         ],
         "matches": "x",
         "showticklabels": false
        },
        "xaxis24": {
         "anchor": "y24",
         "domain": [
          0.75,
          0.98
         ],
         "matches": "x",
         "showticklabels": false
        },
        "xaxis25": {
         "anchor": "y25",
         "domain": [
          0,
          0.22999999999999998
         ],
         "matches": "x",
         "showticklabels": false
        },
        "xaxis26": {
         "anchor": "y26",
         "domain": [
          0.24999999999999997,
          0.48
         ],
         "matches": "x",
         "showticklabels": false
        },
        "xaxis27": {
         "anchor": "y27",
         "domain": [
          0.49999999999999994,
          0.73
         ],
         "matches": "x",
         "showticklabels": false
        },
        "xaxis28": {
         "anchor": "y28",
         "domain": [
          0.75,
          0.98
         ],
         "matches": "x",
         "showticklabels": false
        },
        "xaxis29": {
         "anchor": "y29",
         "domain": [
          0,
          0.22999999999999998
         ],
         "matches": "x",
         "showticklabels": false
        },
        "xaxis3": {
         "anchor": "y3",
         "domain": [
          0.49999999999999994,
          0.73
         ],
         "matches": "x",
         "title": {
          "text": "day of week"
         }
        },
        "xaxis30": {
         "anchor": "y30",
         "domain": [
          0.24999999999999997,
          0.48
         ],
         "matches": "x",
         "showticklabels": false
        },
        "xaxis31": {
         "anchor": "y31",
         "domain": [
          0.49999999999999994,
          0.73
         ],
         "matches": "x",
         "showticklabels": false
        },
        "xaxis32": {
         "anchor": "y32",
         "domain": [
          0.75,
          0.98
         ],
         "matches": "x",
         "showticklabels": false
        },
        "xaxis33": {
         "anchor": "y33",
         "domain": [
          0,
          0.22999999999999998
         ],
         "matches": "x",
         "showticklabels": false
        },
        "xaxis34": {
         "anchor": "y34",
         "domain": [
          0.24999999999999997,
          0.48
         ],
         "matches": "x",
         "showticklabels": false
        },
        "xaxis35": {
         "anchor": "y35",
         "domain": [
          0.49999999999999994,
          0.73
         ],
         "matches": "x",
         "showticklabels": false
        },
        "xaxis36": {
         "anchor": "y36",
         "domain": [
          0.75,
          0.98
         ],
         "matches": "x",
         "showticklabels": false
        },
        "xaxis37": {
         "anchor": "y37",
         "domain": [
          0,
          0.22999999999999998
         ],
         "matches": "x",
         "showticklabels": false
        },
        "xaxis38": {
         "anchor": "y38",
         "domain": [
          0.24999999999999997,
          0.48
         ],
         "matches": "x",
         "showticklabels": false
        },
        "xaxis39": {
         "anchor": "y39",
         "domain": [
          0.49999999999999994,
          0.73
         ],
         "matches": "x",
         "showticklabels": false
        },
        "xaxis4": {
         "anchor": "y4",
         "domain": [
          0.75,
          0.98
         ],
         "matches": "x",
         "title": {
          "text": "day of week"
         }
        },
        "xaxis40": {
         "anchor": "y40",
         "domain": [
          0.75,
          0.98
         ],
         "matches": "x",
         "showticklabels": false
        },
        "xaxis41": {
         "anchor": "y41",
         "domain": [
          0,
          0.22999999999999998
         ],
         "matches": "x",
         "showticklabels": false
        },
        "xaxis42": {
         "anchor": "y42",
         "domain": [
          0.24999999999999997,
          0.48
         ],
         "matches": "x",
         "showticklabels": false
        },
        "xaxis43": {
         "anchor": "y43",
         "domain": [
          0.49999999999999994,
          0.73
         ],
         "matches": "x",
         "showticklabels": false
        },
        "xaxis44": {
         "anchor": "y44",
         "domain": [
          0.75,
          0.98
         ],
         "matches": "x",
         "showticklabels": false
        },
        "xaxis45": {
         "anchor": "y45",
         "domain": [
          0,
          0.22999999999999998
         ],
         "matches": "x",
         "showticklabels": false
        },
        "xaxis46": {
         "anchor": "y46",
         "domain": [
          0.24999999999999997,
          0.48
         ],
         "matches": "x",
         "showticklabels": false
        },
        "xaxis47": {
         "anchor": "y47",
         "domain": [
          0.49999999999999994,
          0.73
         ],
         "matches": "x",
         "showticklabels": false
        },
        "xaxis48": {
         "anchor": "y48",
         "domain": [
          0.75,
          0.98
         ],
         "matches": "x",
         "showticklabels": false
        },
        "xaxis49": {
         "anchor": "y49",
         "domain": [
          0,
          0.22999999999999998
         ],
         "matches": "x",
         "showticklabels": false
        },
        "xaxis5": {
         "anchor": "y5",
         "domain": [
          0,
          0.22999999999999998
         ],
         "matches": "x",
         "showticklabels": false
        },
        "xaxis50": {
         "anchor": "y50",
         "domain": [
          0.24999999999999997,
          0.48
         ],
         "matches": "x",
         "showticklabels": false
        },
        "xaxis51": {
         "anchor": "y51",
         "domain": [
          0.49999999999999994,
          0.73
         ],
         "matches": "x",
         "showticklabels": false
        },
        "xaxis52": {
         "anchor": "y52",
         "domain": [
          0.75,
          0.98
         ],
         "matches": "x",
         "showticklabels": false
        },
        "xaxis53": {
         "anchor": "y53",
         "domain": [
          0,
          0.22999999999999998
         ],
         "matches": "x",
         "showticklabels": false
        },
        "xaxis54": {
         "anchor": "y54",
         "domain": [
          0.24999999999999997,
          0.48
         ],
         "matches": "x",
         "showticklabels": false
        },
        "xaxis55": {
         "anchor": "y55",
         "domain": [
          0.49999999999999994,
          0.73
         ],
         "matches": "x",
         "showticklabels": false
        },
        "xaxis56": {
         "anchor": "y56",
         "domain": [
          0.75,
          0.98
         ],
         "matches": "x",
         "showticklabels": false
        },
        "xaxis6": {
         "anchor": "y6",
         "domain": [
          0.24999999999999997,
          0.48
         ],
         "matches": "x",
         "showticklabels": false
        },
        "xaxis7": {
         "anchor": "y7",
         "domain": [
          0.49999999999999994,
          0.73
         ],
         "matches": "x",
         "showticklabels": false
        },
        "xaxis8": {
         "anchor": "y8",
         "domain": [
          0.75,
          0.98
         ],
         "matches": "x",
         "showticklabels": false
        },
        "xaxis9": {
         "anchor": "y9",
         "domain": [
          0,
          0.22999999999999998
         ],
         "matches": "x",
         "showticklabels": false
        },
        "yaxis": {
         "anchor": "x",
         "domain": [
          0,
          0.043571428571428567
         ],
         "title": {
          "text": "Quantity Sold (kg)"
         }
        },
        "yaxis10": {
         "anchor": "x10",
         "domain": [
          0.14714285714285713,
          0.1907142857142857
         ],
         "matches": "y",
         "showticklabels": false
        },
        "yaxis11": {
         "anchor": "x11",
         "domain": [
          0.14714285714285713,
          0.1907142857142857
         ],
         "matches": "y",
         "showticklabels": false
        },
        "yaxis12": {
         "anchor": "x12",
         "domain": [
          0.14714285714285713,
          0.1907142857142857
         ],
         "matches": "y",
         "showticklabels": false
        },
        "yaxis13": {
         "anchor": "x13",
         "domain": [
          0.2207142857142857,
          0.26428571428571423
         ],
         "matches": "y",
         "title": {
          "text": "Quantity Sold (kg)"
         }
        },
        "yaxis14": {
         "anchor": "x14",
         "domain": [
          0.2207142857142857,
          0.26428571428571423
         ],
         "matches": "y",
         "showticklabels": false
        },
        "yaxis15": {
         "anchor": "x15",
         "domain": [
          0.2207142857142857,
          0.26428571428571423
         ],
         "matches": "y",
         "showticklabels": false
        },
        "yaxis16": {
         "anchor": "x16",
         "domain": [
          0.2207142857142857,
          0.26428571428571423
         ],
         "matches": "y",
         "showticklabels": false
        },
        "yaxis17": {
         "anchor": "x17",
         "domain": [
          0.29428571428571426,
          0.33785714285714286
         ],
         "matches": "y",
         "title": {
          "text": "Quantity Sold (kg)"
         }
        },
        "yaxis18": {
         "anchor": "x18",
         "domain": [
          0.29428571428571426,
          0.33785714285714286
         ],
         "matches": "y",
         "showticklabels": false
        },
        "yaxis19": {
         "anchor": "x19",
         "domain": [
          0.29428571428571426,
          0.33785714285714286
         ],
         "matches": "y",
         "showticklabels": false
        },
        "yaxis2": {
         "anchor": "x2",
         "domain": [
          0,
          0.043571428571428567
         ],
         "matches": "y",
         "showticklabels": false
        },
        "yaxis20": {
         "anchor": "x20",
         "domain": [
          0.29428571428571426,
          0.33785714285714286
         ],
         "matches": "y",
         "showticklabels": false
        },
        "yaxis21": {
         "anchor": "x21",
         "domain": [
          0.3678571428571428,
          0.41142857142857137
         ],
         "matches": "y",
         "title": {
          "text": "Quantity Sold (kg)"
         }
        },
        "yaxis22": {
         "anchor": "x22",
         "domain": [
          0.3678571428571428,
          0.41142857142857137
         ],
         "matches": "y",
         "showticklabels": false
        },
        "yaxis23": {
         "anchor": "x23",
         "domain": [
          0.3678571428571428,
          0.41142857142857137
         ],
         "matches": "y",
         "showticklabels": false
        },
        "yaxis24": {
         "anchor": "x24",
         "domain": [
          0.3678571428571428,
          0.41142857142857137
         ],
         "matches": "y",
         "showticklabels": false
        },
        "yaxis25": {
         "anchor": "x25",
         "domain": [
          0.4414285714285714,
          0.485
         ],
         "matches": "y",
         "title": {
          "text": "Quantity Sold (kg)"
         }
        },
        "yaxis26": {
         "anchor": "x26",
         "domain": [
          0.4414285714285714,
          0.485
         ],
         "matches": "y",
         "showticklabels": false
        },
        "yaxis27": {
         "anchor": "x27",
         "domain": [
          0.4414285714285714,
          0.485
         ],
         "matches": "y",
         "showticklabels": false
        },
        "yaxis28": {
         "anchor": "x28",
         "domain": [
          0.4414285714285714,
          0.485
         ],
         "matches": "y",
         "showticklabels": false
        },
        "yaxis29": {
         "anchor": "x29",
         "domain": [
          0.5149999999999999,
          0.5585714285714285
         ],
         "matches": "y",
         "title": {
          "text": "Quantity Sold (kg)"
         }
        },
        "yaxis3": {
         "anchor": "x3",
         "domain": [
          0,
          0.043571428571428567
         ],
         "matches": "y",
         "showticklabels": false
        },
        "yaxis30": {
         "anchor": "x30",
         "domain": [
          0.5149999999999999,
          0.5585714285714285
         ],
         "matches": "y",
         "showticklabels": false
        },
        "yaxis31": {
         "anchor": "x31",
         "domain": [
          0.5149999999999999,
          0.5585714285714285
         ],
         "matches": "y",
         "showticklabels": false
        },
        "yaxis32": {
         "anchor": "x32",
         "domain": [
          0.5149999999999999,
          0.5585714285714285
         ],
         "matches": "y",
         "showticklabels": false
        },
        "yaxis33": {
         "anchor": "x33",
         "domain": [
          0.5885714285714285,
          0.6321428571428571
         ],
         "matches": "y",
         "title": {
          "text": "Quantity Sold (kg)"
         }
        },
        "yaxis34": {
         "anchor": "x34",
         "domain": [
          0.5885714285714285,
          0.6321428571428571
         ],
         "matches": "y",
         "showticklabels": false
        },
        "yaxis35": {
         "anchor": "x35",
         "domain": [
          0.5885714285714285,
          0.6321428571428571
         ],
         "matches": "y",
         "showticklabels": false
        },
        "yaxis36": {
         "anchor": "x36",
         "domain": [
          0.5885714285714285,
          0.6321428571428571
         ],
         "matches": "y",
         "showticklabels": false
        },
        "yaxis37": {
         "anchor": "x37",
         "domain": [
          0.6621428571428571,
          0.7057142857142857
         ],
         "matches": "y",
         "title": {
          "text": "Quantity Sold (kg)"
         }
        },
        "yaxis38": {
         "anchor": "x38",
         "domain": [
          0.6621428571428571,
          0.7057142857142857
         ],
         "matches": "y",
         "showticklabels": false
        },
        "yaxis39": {
         "anchor": "x39",
         "domain": [
          0.6621428571428571,
          0.7057142857142857
         ],
         "matches": "y",
         "showticklabels": false
        },
        "yaxis4": {
         "anchor": "x4",
         "domain": [
          0,
          0.043571428571428567
         ],
         "matches": "y",
         "showticklabels": false
        },
        "yaxis40": {
         "anchor": "x40",
         "domain": [
          0.6621428571428571,
          0.7057142857142857
         ],
         "matches": "y",
         "showticklabels": false
        },
        "yaxis41": {
         "anchor": "x41",
         "domain": [
          0.7357142857142858,
          0.7792857142857144
         ],
         "matches": "y",
         "title": {
          "text": "Quantity Sold (kg)"
         }
        },
        "yaxis42": {
         "anchor": "x42",
         "domain": [
          0.7357142857142858,
          0.7792857142857144
         ],
         "matches": "y",
         "showticklabels": false
        },
        "yaxis43": {
         "anchor": "x43",
         "domain": [
          0.7357142857142858,
          0.7792857142857144
         ],
         "matches": "y",
         "showticklabels": false
        },
        "yaxis44": {
         "anchor": "x44",
         "domain": [
          0.7357142857142858,
          0.7792857142857144
         ],
         "matches": "y",
         "showticklabels": false
        },
        "yaxis45": {
         "anchor": "x45",
         "domain": [
          0.8092857142857143,
          0.8528571428571429
         ],
         "matches": "y",
         "title": {
          "text": "Quantity Sold (kg)"
         }
        },
        "yaxis46": {
         "anchor": "x46",
         "domain": [
          0.8092857142857143,
          0.8528571428571429
         ],
         "matches": "y",
         "showticklabels": false
        },
        "yaxis47": {
         "anchor": "x47",
         "domain": [
          0.8092857142857143,
          0.8528571428571429
         ],
         "matches": "y",
         "showticklabels": false
        },
        "yaxis48": {
         "anchor": "x48",
         "domain": [
          0.8092857142857143,
          0.8528571428571429
         ],
         "matches": "y",
         "showticklabels": false
        },
        "yaxis49": {
         "anchor": "x49",
         "domain": [
          0.8828571428571429,
          0.9264285714285715
         ],
         "matches": "y",
         "title": {
          "text": "Quantity Sold (kg)"
         }
        },
        "yaxis5": {
         "anchor": "x5",
         "domain": [
          0.07357142857142857,
          0.11714285714285713
         ],
         "matches": "y",
         "title": {
          "text": "Quantity Sold (kg)"
         }
        },
        "yaxis50": {
         "anchor": "x50",
         "domain": [
          0.8828571428571429,
          0.9264285714285715
         ],
         "matches": "y",
         "showticklabels": false
        },
        "yaxis51": {
         "anchor": "x51",
         "domain": [
          0.8828571428571429,
          0.9264285714285715
         ],
         "matches": "y",
         "showticklabels": false
        },
        "yaxis52": {
         "anchor": "x52",
         "domain": [
          0.8828571428571429,
          0.9264285714285715
         ],
         "matches": "y",
         "showticklabels": false
        },
        "yaxis53": {
         "anchor": "x53",
         "domain": [
          0.9564285714285715,
          1
         ],
         "matches": "y",
         "title": {
          "text": "Quantity Sold (kg)"
         }
        },
        "yaxis54": {
         "anchor": "x54",
         "domain": [
          0.9564285714285715,
          1
         ],
         "matches": "y",
         "showticklabels": false
        },
        "yaxis55": {
         "anchor": "x55",
         "domain": [
          0.9564285714285715,
          1
         ],
         "matches": "y",
         "showticklabels": false
        },
        "yaxis56": {
         "anchor": "x56",
         "domain": [
          0.9564285714285715,
          1
         ],
         "matches": "y",
         "showticklabels": false
        },
        "yaxis6": {
         "anchor": "x6",
         "domain": [
          0.07357142857142857,
          0.11714285714285713
         ],
         "matches": "y",
         "showticklabels": false
        },
        "yaxis7": {
         "anchor": "x7",
         "domain": [
          0.07357142857142857,
          0.11714285714285713
         ],
         "matches": "y",
         "showticklabels": false
        },
        "yaxis8": {
         "anchor": "x8",
         "domain": [
          0.07357142857142857,
          0.11714285714285713
         ],
         "matches": "y",
         "showticklabels": false
        },
        "yaxis9": {
         "anchor": "x9",
         "domain": [
          0.14714285714285713,
          0.1907142857142857
         ],
         "matches": "y",
         "title": {
          "text": "Quantity Sold (kg)"
         }
        }
       }
      }
     },
     "metadata": {},
     "output_type": "display_data"
    }
   ],
   "source": [
    "sales_category = df.groupby([\"year\" , \"month_of_season\" , \"month\" , \"Season\" , \"day of week\"])[[\"Quantity Sold (kg)\"]].sum().reset_index()\n",
    "\n",
    "fig = px.bar(sales_category , x = \"day of week\" , y =\"Quantity Sold (kg)\" , color = \"month\" , facet_col = \"month_of_season\"\n",
    "             , facet_row = \"year\" , height = 3000 , title = \"Total Sales by day of the week and Season\"  )\n",
    "\n",
    "fig.show()"
   ]
  },
  {
   "cell_type": "code",
   "execution_count": null,
   "metadata": {},
   "outputs": [],
   "source": []
  }
 ],
 "metadata": {
  "kernelspec": {
   "display_name": "Python 3",
   "language": "python",
   "name": "python3"
  },
  "language_info": {
   "codemirror_mode": {
    "name": "ipython",
    "version": 3
   },
   "file_extension": ".py",
   "mimetype": "text/x-python",
   "name": "python",
   "nbconvert_exporter": "python",
   "pygments_lexer": "ipython3",
   "version": "3.11.7"
  }
 },
 "nbformat": 4,
 "nbformat_minor": 2
}
